{
  "nbformat": 4,
  "nbformat_minor": 0,
  "metadata": {
    "colab": {
      "name": "Questions2.ipynb",
      "provenance": [],
      "collapsed_sections": [],
      "authorship_tag": "ABX9TyNoJCBbvCTvNtCEL5W1xa9W",
      "include_colab_link": true
    },
    "kernelspec": {
      "name": "python3",
      "display_name": "Python 3"
    },
    "language_info": {
      "name": "python"
    }
  },
  "cells": [
    {
      "cell_type": "markdown",
      "metadata": {
        "id": "view-in-github",
        "colab_type": "text"
      },
      "source": [
        "<a href=\"https://colab.research.google.com/github/Farazulhaque/PythonCoding/blob/main/Questions2.ipynb\" target=\"_parent\"><img src=\"https://colab.research.google.com/assets/colab-badge.svg\" alt=\"Open In Colab\"/></a>"
      ]
    },
    {
      "cell_type": "code",
      "metadata": {
        "colab": {
          "base_uri": "https://localhost:8080/"
        },
        "id": "wGSixCG8Awdj",
        "outputId": "3b38ff40-bf8a-40de-c3b7-3d1232138a99"
      },
      "source": [
        "fah = [89.8, 67.0, 92, 99]\n",
        "count = 0\n",
        "cen = []\n",
        "for i in fah:\n",
        "    ce = ((i - 32) * 5 / 9)\n",
        "    cen.append(round(ce,2))\n",
        "\n",
        "print(cen)"
      ],
      "execution_count": null,
      "outputs": [
        {
          "output_type": "stream",
          "name": "stdout",
          "text": [
            "[32.11, 19.44, 33.33, 37.22]\n"
          ]
        }
      ]
    },
    {
      "cell_type": "code",
      "metadata": {
        "id": "7optqduG_Cge",
        "colab": {
          "base_uri": "https://localhost:8080/"
        },
        "outputId": "444ebd63-108e-48fd-9a3f-b25cebdb4322"
      },
      "source": [
        "items = [23, 555, 666, 123, 128, 4242, 990]\n",
        "summa = 0\n",
        "n = 0\n",
        "while n < len(items):\n",
        "    num = items[n]\n",
        "    if num % 2 != 0:\n",
        "        summa += num\n",
        "    n += 1\n",
        "print(summa)"
      ],
      "execution_count": null,
      "outputs": [
        {
          "output_type": "stream",
          "name": "stdout",
          "text": [
            "701\n"
          ]
        }
      ]
    },
    {
      "cell_type": "code",
      "metadata": {
        "id": "3gtJJXkkGqhp",
        "colab": {
          "base_uri": "https://localhost:8080/"
        },
        "outputId": "80ab4a89-c65f-4dc7-bec6-ae0e6280fbea"
      },
      "source": [
        "# Loop 5 times\n",
        "# start from 1 and and at 6-1=5\n",
        "for i in range(1,6):\n",
        "    # to calculate total\n",
        "    sum = 0\n",
        "    # loop 3 times\n",
        "    for j in range(1,4):\n",
        "        print(f\"Enter group {i} member {j} weight:\")\n",
        "        weight = int(input(\"Weight in kg: \"))\n",
        "        # add weight to sum\n",
        "        sum += weight\n",
        "    # calculate average\n",
        "    avg = sum / 3\n",
        "    if avg > 100:\n",
        "        print(\"Some or all members of this group are overweight, need to exercise!\\n\")\n",
        "    else:\n",
        "        print(\"Some or all members of this group are healthy, Great job!\\n\")"
      ],
      "execution_count": null,
      "outputs": [
        {
          "output_type": "stream",
          "name": "stdout",
          "text": [
            "Enter group 1 member 1 weight:\n",
            "Weight in kg: 90\n",
            "Enter group 1 member 2 weight:\n",
            "Weight in kg: 80\n",
            "Enter group 1 member 3 weight:\n",
            "Weight in kg: 25\n",
            "Some or all members of this group are healthy, Great job!\n",
            "\n",
            "Enter group 2 member 1 weight:\n",
            "Weight in kg: 75\n",
            "Enter group 2 member 2 weight:\n",
            "Weight in kg: 105\n",
            "Enter group 2 member 3 weight:\n",
            "Weight in kg: 98\n",
            "Some or all members of this group are healthy, Great job!\n",
            "\n",
            "Enter group 3 member 1 weight:\n",
            "Weight in kg: 50\n",
            "Enter group 3 member 2 weight:\n",
            "Weight in kg: 45\n",
            "Enter group 3 member 3 weight:\n",
            "Weight in kg: 60\n",
            "Some or all members of this group are healthy, Great job!\n",
            "\n",
            "Enter group 4 member 1 weight:\n",
            "Weight in kg: 105\n",
            "Enter group 4 member 2 weight:\n",
            "Weight in kg: 110\n",
            "Enter group 4 member 3 weight:\n",
            "Weight in kg: 95\n",
            "Some or all members of this group are overweight, need to exercise!\n",
            "\n",
            "Enter group 5 member 1 weight:\n",
            "Weight in kg: 85\n",
            "Enter group 5 member 2 weight:\n",
            "Weight in kg: 95\n",
            "Enter group 5 member 3 weight:\n",
            "Weight in kg: 150\n",
            "Some or all members of this group are overweight, need to exercise!\n",
            "\n"
          ]
        }
      ]
    },
    {
      "cell_type": "code",
      "metadata": {
        "id": "WFDoTMWORwNq",
        "colab": {
          "base_uri": "https://localhost:8080/"
        },
        "outputId": "0563770b-fad6-4d6c-ec90-37e8455a933d"
      },
      "source": [
        "def cal_value(n1, n2, n3):\n",
        "    # check if number is less than both\n",
        "    # two remaining numbers\n",
        "    if n1 < n2 and n1 < n3:\n",
        "        product = n2 * n3\n",
        "    elif n2 < n1 and n2 < n3:\n",
        "        product = n1 * n3\n",
        "    else:\n",
        "        product = n1 * n2\n",
        "    # return value\n",
        "    return product\n",
        "\n",
        "\n",
        "print(\"1.\", cal_value(1, 2, 3))\n",
        "print(\"2.\", cal_value(11, 12, 3))\n",
        "print(\"3.\", cal_value(6, 2, 5))\n"
      ],
      "execution_count": null,
      "outputs": [
        {
          "output_type": "stream",
          "name": "stdout",
          "text": [
            "1. 6\n",
            "2. 132\n",
            "3. 30\n"
          ]
        }
      ]
    },
    {
      "cell_type": "code",
      "metadata": {
        "id": "v850t_ARgGCd",
        "colab": {
          "base_uri": "https://localhost:8080/"
        },
        "outputId": "ffbc7e3a-9426-4c1d-a557-a27e57e00f21"
      },
      "source": [
        "Num1 = 2\n",
        "Num2 = 6\n",
        "Num3 = 3\n",
        "Num4 = 12\n",
        "Num5 = 16\n",
        "\n",
        "Largest = Num1\n",
        "if Largest < Num2:\n",
        "  Largest = Num2\n",
        "print(\"Largest# after Step2\", Largest)\n",
        "if Largest < Num3:\n",
        "  Largest = Num3\n",
        "print(\"Largest# after Step3\", Largest)\n",
        "if Largest < Num4:\n",
        "  Largest = Num4\n",
        "print(\"Largest# after Step4\", Largest)\n",
        "if Largest < Num5:\n",
        "  Largest = Num5\n",
        "print(\"Largest# after Step5\", Largest)\n",
        "print(\"The largest number is\", Largest)\n"
      ],
      "execution_count": null,
      "outputs": [
        {
          "output_type": "stream",
          "name": "stdout",
          "text": [
            "Largest# after Step2 6\n",
            "Largest# after Step3 6\n",
            "Largest# after Step4 12\n",
            "Largest# after Step5 16\n",
            "The largest number is 16\n"
          ]
        }
      ]
    },
    {
      "cell_type": "code",
      "metadata": {
        "id": "HIqv3szIYaaS",
        "colab": {
          "base_uri": "https://localhost:8080/"
        },
        "outputId": "5da9933f-7827-4828-8812-d592744918e2"
      },
      "source": [
        "a = [2, 4, 6]\n",
        "b = [-1, 0, 1]\n",
        "\n",
        "# a + b\n",
        "sumab = []\n",
        "\n",
        "# 1.5a - 2b\n",
        "diffab = []\n",
        "\n",
        "# 0.5ab\n",
        "halfab = []\n",
        "\n",
        "for i in range(len(a)):\n",
        "  sumab.append(a[i] + b[i])\n",
        "  diffab.append(1.5*a[i] - 2*b[i])\n",
        "  halfab.append(0.5 * a[i] * b[i])\n",
        "\n",
        "\n",
        "print(f\"a + b = {sumab}\")\n",
        "print(f\"1.5a - 2b = {diffab}\")\n",
        "print(f\"0.5ab = {halfab}\")\n"
      ],
      "execution_count": null,
      "outputs": [
        {
          "output_type": "stream",
          "name": "stdout",
          "text": [
            "a + b = [1, 4, 7]\n",
            "1.5a - 2b = [5.0, 6.0, 7.0]\n",
            "0.5ab = [-1.0, 0.0, 3.0]\n"
          ]
        }
      ]
    },
    {
      "cell_type": "code",
      "metadata": {
        "colab": {
          "base_uri": "https://localhost:8080/"
        },
        "id": "DRfuzOiYkamP",
        "outputId": "ccb24f7c-ce0d-4d6d-9e8b-9704ab7fb11c"
      },
      "source": [
        "import math\n",
        "π = round(math.pi,2)\n",
        "angles = [\"0\", \"π/2\", \"π\", \"3*π/2\", \"2*π\"]\n",
        "\n",
        "for angle in angles:\n",
        "  print(f\"sin({angle}) = {round(math.sin(eval(angle)))}\")\n",
        "  print(f\"cosine({angle}) = {round(math.cos(eval(angle)))}\")\n",
        "  print(f\"Angle in degree = {eval(angle) * 180 / π}\")\n"
      ],
      "execution_count": null,
      "outputs": [
        {
          "output_type": "stream",
          "name": "stdout",
          "text": [
            "sin(0) = 0\n",
            "cosine(0) = 1\n",
            "Angle in degree = 0.0\n",
            "sin(π/2) = 1\n",
            "cosine(π/2) = 0\n",
            "Angle in degree = 90.0\n",
            "sin(π) = 0\n",
            "cosine(π) = -1\n",
            "Angle in degree = 180.0\n",
            "sin(3*π/2) = -1\n",
            "cosine(3*π/2) = 0\n",
            "Angle in degree = 270.0\n",
            "sin(2*π) = 0\n",
            "cosine(2*π) = 1\n",
            "Angle in degree = 360.0\n"
          ]
        }
      ]
    },
    {
      "cell_type": "code",
      "metadata": {
        "colab": {
          "base_uri": "https://localhost:8080/"
        },
        "id": "ZQGijE4UyeZ-",
        "outputId": "5215e82c-3b3e-4268-8301-97d25eb7139b"
      },
      "source": [
        "# Getting user input\n",
        "A = float(input(\"Enter a deposit amount: \"))\n",
        "W = float(input(\"Enter interest rate: \"))\n",
        "N = int(input(\"Enter period: \"))\n",
        "# initialise values to 0, Use it in later part\n",
        "totalDeposits = 0\n",
        "totalInterest = 0\n",
        "toDate = 0\n",
        "print(\n",
        "    f\"\\nTHE OF INTEREST MADE BY AN INVESTMENT OF ${A} EVERY MONTH AT AN INTEREST RATE OF {W}% FOR {N} MONTHS\\n\")\n",
        "# printing header\n",
        "print(\"%5s %15s %20s %25s %25s\" % (\"Month\", \"Deposit\", \"Total Deposits\",\n",
        "      \"This Month's interest\", \"Total-Interest Earned\"))\n",
        "print(\"%27s\" % (\"Total-Value To-Date\"))\n",
        "# printing data\n",
        "for month in range(1, N+1):\n",
        "    # As per formula calculate amount of money accumulated after N months\n",
        "    F = A*(1+W/1200)**month\n",
        "    # Add amount to total deposit on each iteration\n",
        "    totalDeposits += A\n",
        "    # Add F to todate value on each iteration\n",
        "    toDate += F\n",
        "    # calculae interest\n",
        "    interest = F - A\n",
        "    # calculate total interest\n",
        "    totalInterest += interest\n",
        "    # printing data\n",
        "    print(\"%5s %15s %15s %15s %25s\" % (\"{0:.2f}\".format(\n",
        "        month), A, totalDeposits, \"{0:.2f}\".format(interest), \"{0:.2f}\".format(totalInterest)))\n",
        "    print(\"%20s\" % (\"{0:.2f}\".format(toDate)))\n"
      ],
      "execution_count": null,
      "outputs": [
        {
          "output_type": "stream",
          "name": "stdout",
          "text": [
            "Enter a deposit amount: 100\n",
            "Enter interest rate: 12\n",
            "Enter period: 5\n",
            "\n",
            "THE OF INTEREST MADE BY AN INVESTMENT OF $100.0 EVERY MONTH AT AN INTEREST RATE OF 12.0% FOR 5 MONTHS\n",
            "\n",
            "Month         Deposit       Total Deposits     This Month's interest     Total-Interest Earned\n",
            "        Total-Value To-Date\n",
            " 1.00           100.0           100.0            1.00                      1.00\n",
            "              101.00\n",
            " 2.00           100.0           200.0            2.01                      3.01\n",
            "              203.01\n",
            " 3.00           100.0           300.0            3.03                      6.04\n",
            "              306.04\n",
            " 4.00           100.0           400.0            4.06                     10.10\n",
            "              410.10\n",
            " 5.00           100.0           500.0            5.10                     15.20\n",
            "              515.20\n"
          ]
        }
      ]
    },
    {
      "cell_type": "code",
      "metadata": {
        "id": "ZdpLq4Cr652Y",
        "colab": {
          "base_uri": "https://localhost:8080/",
          "height": 120
        },
        "outputId": "6b6255ef-5b11-466b-8a11-52ac3205b4e7"
      },
      "source": [
        "%matplotlib inline\n",
        "from matplotlib import pyplot as plt\n",
        "\n",
        "import numpy as np\n",
        "\n",
        "im_test = np.zeros([100, 100, 3], np.uint8)\n",
        "\n",
        "im_test_red = im_test.copy()\n",
        "im_test_red[:, :, 0] = 255\n",
        "\n",
        "im_test_green = im_test.copy()\n",
        "im_test_green[:, :, 1] = 255\n",
        "\n",
        "im_test_blue = im_test.copy()\n",
        "im_test_blue[:, :, 2] = 255\n",
        "\n",
        "plt.subplot(1, 4, 1); plt.imshow(im_test); plt.axis('off'); plt.title('image black')\n",
        "plt.subplot(1, 4, 2); plt.imshow(im_test_red); plt.axis('off'); plt.title('image red')\n",
        "plt.subplot(1, 4, 3); plt.imshow(im_test_green); plt.axis('off'); plt.title('image green')\n",
        "plt.subplot(1, 4, 4); plt.imshow(im_test_blue); plt.axis('off'); plt.title('image blue')\n",
        "\n",
        "\n",
        "plt.show()"
      ],
      "execution_count": null,
      "outputs": [
        {
          "output_type": "display_data",
          "data": {
            "image/png": "[encoded data removed]",
            "text/plain": [
              "<Figure size 432x288 with 4 Axes>"
            ]
          },
          "metadata": {
            "needs_background": "light"
          }
        }
      ]
    },
    {
      "cell_type": "code",
      "metadata": {
        "id": "uvDsy0KePMCW",
        "colab": {
          "base_uri": "https://localhost:8080/"
        },
        "outputId": "ec2ce591-2d28-404a-b17b-48b08faacdc1"
      },
      "source": [
        "nums1 = [4, 9, 5]\n",
        "nums2 = [9, 4, 9, 8, 4]\n",
        "\n",
        "# create empty list to store intersection elements\n",
        "intersection = []\n",
        "\n",
        "# loop in nums1 array\n",
        "for num in nums1:\n",
        "    # check if number of \n",
        "    # first array is in second array\n",
        "    if num in nums2:\n",
        "        # then append it into intersection array \n",
        "        intersection.append(num)\n",
        "\n",
        "# store unique elements. set() function removed duplicates elements\n",
        "# from an array and then convert it into list\n",
        "intersection = list(set(intersection))\n",
        "# print it\n",
        "print(f\"Input: nums1 = {nums1}, nums2 = {nums2}\")\n",
        "print(f\"Output: {intersection}\")"
      ],
      "execution_count": null,
      "outputs": [
        {
          "output_type": "stream",
          "name": "stdout",
          "text": [
            "Input: nums1 = [4, 9, 5], nums2 = [9, 4, 9, 8, 4]\n",
            "Output: [9, 4]\n"
          ]
        }
      ]
    },
    {
      "cell_type": "code",
      "metadata": {
        "id": "IvM0k70sPaG5"
      },
      "source": [
        "def encrypt(string):\n",
        "    words = string.split()\n",
        "    encryptedString = \"\"\n",
        "    for word in words:\n",
        "        encryptedString += word[0]\n",
        "    return encryptedString\n"
      ],
      "execution_count": null,
      "outputs": []
    },
    {
      "cell_type": "code",
      "metadata": {
        "id": "u16Sn0aoTp1G",
        "colab": {
          "base_uri": "https://localhost:8080/"
        },
        "outputId": "34147cf4-b4d0-48a7-aaf4-9979d9b42469"
      },
      "source": [
        "#Start\n",
        "\n",
        "#Get Users Input for Initial Deposit\n",
        "P = float(input('Enter the Initial Deposit : $ '))\n",
        "\n",
        "while P != 0:\n",
        "    #Get Initial Deposit Date\n",
        "    from datetime import datetime\n",
        "    date1 = str(input('Enter date(YYYY-MM-DD): ')) #date\n",
        "    initial_date = datetime.strptime(date1, \"%Y-%m-%d\") #initial date\n",
        "\n",
        "    #if-elif-else statements for interest rate\n",
        "    if P <= 100: # Initial deposit of $100.00 and below receives interest rate (r) of 2%\n",
        "        r = '2'\n",
        "    elif P <= 500: # Initial deposit over $100.00 to $500.00 receives interest rate (r) of 3%\n",
        "        r = '3'\n",
        "    elif P <= 1000: # Initial deposit of over $500.00 up to $1,000.00 receives interest rate (r) of 5%\n",
        "        r = '5'\n",
        "    else: # Initial deposit over $1000.00 receives an interest rate (r) of 6%\n",
        "        r = '6'\n",
        "\n",
        "    # Convert to interest rate P\n",
        "    i = float(r) / 100 # r is set to float data type to perform floating-point division\n",
        "\n",
        "    n = '12' #Number of times compounded\n",
        "    t = '5' #Accounts duration\n",
        "\n",
        "    # Calculate amount\n",
        "    A = P*((1+float(i)/int(n))**(int(n)*int(t)))\n",
        "\n",
        "    maturity_date = initial_date.replace(year = initial_date.year + 5) #adding 5 years\n",
        "\n",
        "    # output\n",
        "    print('\\nInitial Deposit: ${:.2f}'.format(P),'\\nDeposit Date: ' , initial_date, '\\nAnnual Interest rate: ',r, '%','\\nAmount after', t,\n",
        "    'years :', '${:,.2f}'.format(A),'\\nMaturity Date:' , maturity_date)\n",
        "\n",
        "\n",
        "    #Get Users Input for Initial Deposit\n",
        "    P = float(input('Enter the Initial Deposit : $ '))\n",
        "\n",
        "# end of program"
      ],
      "execution_count": null,
      "outputs": [
        {
          "name": "stdout",
          "output_type": "stream",
          "text": [
            "Enter the Initial Deposit : $ 200\n",
            "Enter date(YYYY-MM-DD): 2020-05-15\n",
            "\n",
            "Initial Deposit: $200.00 \n",
            "Deposit Date:  2020-05-15 00:00:00 \n",
            "Annual Interest rate:  3 % \n",
            "Amount after 5 years : $232.32 \n",
            "Maturity Date: 2025-05-15 00:00:00\n",
            "Enter the Initial Deposit : $ 500\n",
            "Enter date(YYYY-MM-DD): 2020-11-23\n",
            "\n",
            "Initial Deposit: $500.00 \n",
            "Deposit Date:  2020-11-23 00:00:00 \n",
            "Annual Interest rate:  3 % \n",
            "Amount after 5 years : $580.81 \n",
            "Maturity Date: 2025-11-23 00:00:00\n",
            "Enter the Initial Deposit : $ 1000\n",
            "Enter date(YYYY-MM-DD): 2020-06-15\n",
            "\n",
            "Initial Deposit: $1000.00 \n",
            "Deposit Date:  2020-06-15 00:00:00 \n",
            "Annual Interest rate:  5 % \n",
            "Amount after 5 years : $1,283.36 \n",
            "Maturity Date: 2025-06-15 00:00:00\n",
            "Enter the Initial Deposit : $ 1500\n",
            "Enter date(YYYY-MM-DD): 2020-10-10\n",
            "\n",
            "Initial Deposit: $1500.00 \n",
            "Deposit Date:  2020-10-10 00:00:00 \n",
            "Annual Interest rate:  6 % \n",
            "Amount after 5 years : $2,023.28 \n",
            "Maturity Date: 2025-10-10 00:00:00\n",
            "Enter the Initial Deposit : $ 0\n"
          ]
        }
      ]
    },
    {
      "cell_type": "code",
      "metadata": {
        "colab": {
          "base_uri": "https://localhost:8080/"
        },
        "id": "HwTSj1HUaNER",
        "outputId": "85a8b7bd-5dd8-4503-fb86-e683a021340c"
      },
      "source": [
        "# Taking input\n",
        "pizza = int(input(\"How many amount you want to sell Pizza?: \"))\n",
        "bread = int(input(\"How many amount you want to sell Bread?: \"))\n",
        "cookies = int(input(\"How many amount you want to sell Cookies?: \"))\n",
        "\n",
        "# initializing items\n",
        "flour = 0\n",
        "yeast = 0\n",
        "sugar = 0\n",
        "salt = 0\n",
        "oil = 0\n",
        "butter = 0\n",
        "eggs = 0\n",
        "\n",
        "# To calculate total ingredients required for pizza\n",
        "for i in range(pizza):\n",
        "    flour += 2\n",
        "    yeast += 1\n",
        "    sugar += 1.5\n",
        "    salt += 3/4\n",
        "    oil += 1/4\n",
        "\n",
        "# To calculate total ingredients required for bread\n",
        "for i in range(bread):\n",
        "    flour += 6\n",
        "    yeast += 1.5\n",
        "    sugar += 16/2        # since 1 cup sugar = 16 Tbsp. sugar \n",
        "    salt += 1.5\n",
        "    oil += 1/4\n",
        "\n",
        "# To calculate total ingredients required for cookies\n",
        "for i in range(cookies):\n",
        "    flour += 8\n",
        "    sugar += 2*16\n",
        "    butter += 2.5\n",
        "    eggs += 2\n",
        "\n",
        "# Printing output\n",
        "print(\"\\nTotal ingredients need to be ordered are: \")\n",
        "print(f\"%-10s:  {flour} cups\" %(\"Flour\"))\n",
        "print(f\"%-10s:  {yeast} packets\" %(\"Yeast\"))\n",
        "print(f\"%-10s:  %s Tbsp\" %(\"Sugar\", \"{0:.1f}\".format(sugar/16)))\n",
        "print(f\"%-10s:  {salt} Tbsp\" %(\"Salt\"))\n",
        "print(f\"%-10s:  {oil} cups\" %(\"Oil\"))\n",
        "print(f\"%-10s:  {butter} cups\" %(\"Butter\"))\n",
        "print(f\"%-10s:  {eggs} Eggs\" %(\"Eggs\"))\n"
      ],
      "execution_count": null,
      "outputs": [
        {
          "output_type": "stream",
          "name": "stdout",
          "text": [
            "How many amount you want to sell Pizza?: 1\n",
            "How many amount you want to sell Bread?: 1\n",
            "How many amount you want to sell Cookies?: 1\n",
            "\n",
            "Total ingredients need to be ordered are: \n",
            "Flour     :  16 cups\n",
            "Yeast     :  2.5 packets\n",
            "Sugar     :  2.6 Tbsp\n",
            "Salt      :  2.25 Tbsp\n",
            "Oil       :  0.5 cups\n",
            "Butter    :  2.5 cups\n",
            "Eggs      :  2 Eggs\n"
          ]
        }
      ]
    },
    {
      "cell_type": "code",
      "metadata": {
        "id": "SQteRpJY4ga2",
        "colab": {
          "base_uri": "https://localhost:8080/",
          "height": 697
        },
        "outputId": "2b83fc84-300b-4114-f932-bbd4d8fc40a0"
      },
      "source": [
        "# os allows us to clear the screen in a actual console or terminal\n",
        "import os\n",
        "import random\n",
        "\n",
        "# Create objects for balances and transaction\n",
        "accounts = {'mhardy': {'Pin': 1234, 'Name': 'Max Bri', 'C': 100.00, 'S': 750.50}, 'toto22': {'Pin': 9999, 'Name': 'Toto Momo', 'C': 1.00, 'S': 25.50}}\n",
        "\n",
        "# Allow 3 invalid pin entries\n",
        "tries = 1\n",
        "pin_tries = 1\n",
        "max_tries = 3\n",
        "pin_found = False\n",
        "\n",
        "username = input('Welcome to Cactus Bank.  Please enter your username: ')\n",
        "\n",
        "if username not in accounts:\n",
        "    # nameFound == False:\n",
        "    print(f\"{username}, Didn't find your username.\")\n",
        "    ans = input(\"Do you want to create an account (Y/N)? \").lower()\n",
        "    # if len((ans) > 0) :\n",
        "    if ans[0] != 'y':\n",
        "        print('Thank you for visiting Catcus Bank.  Come back soon.')\n",
        "        tries = max_tries + 1\n",
        "    else:\n",
        "        # Adding a new username to a dictionary\n",
        "        accounts[username] = dict()\n",
        "        # while addAccount == False & pin_tries <= max_tries:\n",
        "        ans1 = int(input('Enter 1 to create a pin yourself or 2 and the system will create a pin for you: '))\n",
        "        # print(ans1)\n",
        "        if ans1 == 1:\n",
        "            while (pin_tries <= max_tries):\n",
        "                pin = int(input('Select a number between 1 and 9999 as your pin: '))\n",
        "                print(pin)\n",
        "                if 0 < pin < 1000:\n",
        "                    accounts[username] = pin  # might have to tweak\n",
        "                    pin_found = True\n",
        "                    pin_tries = max_tries + 1\n",
        "                else:\n",
        "                    print('Invalid pin entered.')\n",
        "                    pin_tries += 1\n",
        "                    if pin_tries > max_tries:\n",
        "                        print('Please try later ....')\n",
        "                        tries = max_tries + 1\n",
        "        elif ans1 == 2:\n",
        "            pin = random.randint(1, 9999)\n",
        "            print(\"Your pin is: \", pin)\n",
        "            accounts[username] = pin  # might have to tweak\n",
        "            tries = 1\n",
        "            pin_found = True\n",
        "        else:\n",
        "            print('Invalid option! Thank you for visiting Catcus Bank.  Come back soon.')\n",
        "            tries = max_tries + 1\n",
        "\n",
        "    # Prompt to ask for name and storing it in dictionary\n",
        "    accounts['Name'] = input('Please enter your name: ')\n",
        "\n",
        "    while True:\n",
        "        try:\n",
        "            # Prompt to ask the user for the amount of money they want to add in C account\n",
        "            accounts[username]['C'] = float(input('Enter the amount you will deposit to the checking account: '))\n",
        "            if float(accounts[username]['C']) <= 0.0:\n",
        "                raise TypeError\n",
        "        except ValueError:\n",
        "            print('Invalid number entered. The current balance will be 0.0')\n",
        "        except TypeError:\n",
        "            print('A negative number was entered. The current balance will be 0.0')\n",
        "        else:\n",
        "            if pin_found == True:\n",
        "                print(\"Please remember your pin.\")\n",
        "                print(\"The system will require you to enter it again.\")\n",
        "                input(\"Press Enter to continue...\")\n",
        "                os.system('clear')\n",
        "\n",
        "while tries <= max_tries:\n",
        "    # Print bank title and menu\n",
        "    print(f'{\"Cactus Bank\":^30}\\n')\n",
        "    selection = input('Enter pin or x to exit application: ').casefold()\n",
        "\n",
        "    # determine exit, pin not found, or correct pin found\n",
        "    if selection == 'x':\n",
        "        break\n",
        "    elif int(selection) != accounts[username]['Pin']:\n",
        "\n",
        "        # clear screen\n",
        "        os.system('clear')\n",
        "\n",
        "        print(f'Invalid pin. Attempt {tries} of {max_tries}. Please Try again')\n",
        "        if tries == max_tries:\n",
        "            print('Locked out!  Exiting program')\n",
        "        # increment tries\n",
        "        tries += 1\n",
        "    else:\n",
        "        # Upgrade: successful pin entry. reset tries and save pin\n",
        "        tries = 1\n",
        "        pin = selection\n",
        "\n",
        "        # clear screen\n",
        "        os.system('clear')\n",
        "\n",
        "        # Prints Welcome message\n",
        "        print('Welcome', accounts[username]['Name'])\n",
        "\n",
        "        # Prompt to check if user enters C or S\n",
        "        while True:\n",
        "            print('\\tSelect Account')\n",
        "            selection = input('Enter C or S for (C)heckings or (S)avings: ')\n",
        "            try:\n",
        "                if selection != 'C' and selection != 'S':\n",
        "                    raise ValueError('Incorrect Selection. You must enter C or S')\n",
        "            except ValueError as ex:\n",
        "                print(ex)\n",
        "            else:\n",
        "                os.system('clear')\n",
        "                print('Opening {selection} Account...\\n')\n",
        "                break\n",
        "\n",
        "        # Upgrade: Removed slicing and w/d entry - New Instructions\n",
        "        print('Transaction instructions:')\n",
        "        print(' - Withdrawal enter a negative dollar amount: -20.00.')\n",
        "        print(' - Deposit enter a positive dollar amount: 10.50')\n",
        "\n",
        "        if selection == 'C':\n",
        "            print(f\"\\nBalance:  ${accounts[username]['C']: .2f}\")\n",
        "        else:\n",
        "            print(f\"\\nBalance:  ${accounts[username]['S']: .2f}\")\n",
        "\n",
        "        amount = float()\n",
        "        try:\n",
        "            amount = float(input(f'Enter transaction amount: '))\n",
        "        except Exception:\n",
        "            print('Bad Amount - No Transaction.')\n",
        "            amount = 0.0\n",
        "\n",
        "        if (amount + accounts[username][selection]) >= 0:\n",
        "            accounts[username][selection] += amount\n",
        "            print(f\"Transaction complete. New balance is {accounts[username][selection]: .2f}\")\n",
        "        else:\n",
        "            print('Insufficient Funds. Transaction Cancelled.')\n",
        "\n",
        "# end of application loop"
      ],
      "execution_count": null,
      "outputs": [
        {
          "output_type": "stream",
          "name": "stdout",
          "text": [
            "Welcome to Cactus Bank.  Please enter your username: ddd2\n",
            "ddd2, Didn't find your username.\n",
            "Do you want to create an account (Y/N)? y\n",
            "Enter 1 to create a pin yourself or 2 and the system will create a pin for you: 2\n",
            "Your pin is:  4307\n",
            "Please enter your name: Mary Smith\n",
            "Enter the amount you will deposit to the checking account: 100\n",
            "A negative number was entered. The current balance will be 0.0\n",
            "Enter the amount you will deposit to the checking account: 100.0\n",
            "A negative number was entered. The current balance will be 0.0\n"
          ]
        },
        {
          "output_type": "error",
          "ename": "KeyboardInterrupt",
          "evalue": "ignored",
          "traceback": [
            "\u001b[0;31m---------------------------------------------------------------------------\u001b[0m",
            "\u001b[0;31mKeyboardInterrupt\u001b[0m                         Traceback (most recent call last)",
            "\u001b[0;32m/usr/local/lib/python3.7/dist-packages/ipykernel/kernelbase.py\u001b[0m in \u001b[0;36m_input_request\u001b[0;34m(self, prompt, ident, parent, password)\u001b[0m\n\u001b[1;32m    728\u001b[0m             \u001b[0;32mtry\u001b[0m\u001b[0;34m:\u001b[0m\u001b[0;34m\u001b[0m\u001b[0;34m\u001b[0m\u001b[0m\n\u001b[0;32m--> 729\u001b[0;31m                 \u001b[0mident\u001b[0m\u001b[0;34m,\u001b[0m \u001b[0mreply\u001b[0m \u001b[0;34m=\u001b[0m \u001b[0mself\u001b[0m\u001b[0;34m.\u001b[0m\u001b[0msession\u001b[0m\u001b[0;34m.\u001b[0m\u001b[0mrecv\u001b[0m\u001b[0;34m(\u001b[0m\u001b[0mself\u001b[0m\u001b[0;34m.\u001b[0m\u001b[0mstdin_socket\u001b[0m\u001b[0;34m,\u001b[0m \u001b[0;36m0\u001b[0m\u001b[0;34m)\u001b[0m\u001b[0;34m\u001b[0m\u001b[0;34m\u001b[0m\u001b[0m\n\u001b[0m\u001b[1;32m    730\u001b[0m             \u001b[0;32mexcept\u001b[0m \u001b[0mException\u001b[0m\u001b[0;34m:\u001b[0m\u001b[0;34m\u001b[0m\u001b[0;34m\u001b[0m\u001b[0m\n",
            "\u001b[0;32m/usr/local/lib/python3.7/dist-packages/jupyter_client/session.py\u001b[0m in \u001b[0;36mrecv\u001b[0;34m(self, socket, mode, content, copy)\u001b[0m\n\u001b[1;32m    802\u001b[0m         \u001b[0;32mtry\u001b[0m\u001b[0;34m:\u001b[0m\u001b[0;34m\u001b[0m\u001b[0;34m\u001b[0m\u001b[0m\n\u001b[0;32m--> 803\u001b[0;31m             \u001b[0mmsg_list\u001b[0m \u001b[0;34m=\u001b[0m \u001b[0msocket\u001b[0m\u001b[0;34m.\u001b[0m\u001b[0mrecv_multipart\u001b[0m\u001b[0;34m(\u001b[0m\u001b[0mmode\u001b[0m\u001b[0;34m,\u001b[0m \u001b[0mcopy\u001b[0m\u001b[0;34m=\u001b[0m\u001b[0mcopy\u001b[0m\u001b[0;34m)\u001b[0m\u001b[0;34m\u001b[0m\u001b[0;34m\u001b[0m\u001b[0m\n\u001b[0m\u001b[1;32m    804\u001b[0m         \u001b[0;32mexcept\u001b[0m \u001b[0mzmq\u001b[0m\u001b[0;34m.\u001b[0m\u001b[0mZMQError\u001b[0m \u001b[0;32mas\u001b[0m \u001b[0me\u001b[0m\u001b[0;34m:\u001b[0m\u001b[0;34m\u001b[0m\u001b[0;34m\u001b[0m\u001b[0m\n",
            "\u001b[0;32m/usr/local/lib/python3.7/dist-packages/zmq/sugar/socket.py\u001b[0m in \u001b[0;36mrecv_multipart\u001b[0;34m(self, flags, copy, track)\u001b[0m\n\u001b[1;32m    618\u001b[0m         \"\"\"\n\u001b[0;32m--> 619\u001b[0;31m         \u001b[0mparts\u001b[0m \u001b[0;34m=\u001b[0m \u001b[0;34m[\u001b[0m\u001b[0mself\u001b[0m\u001b[0;34m.\u001b[0m\u001b[0mrecv\u001b[0m\u001b[0;34m(\u001b[0m\u001b[0mflags\u001b[0m\u001b[0;34m,\u001b[0m \u001b[0mcopy\u001b[0m\u001b[0;34m=\u001b[0m\u001b[0mcopy\u001b[0m\u001b[0;34m,\u001b[0m \u001b[0mtrack\u001b[0m\u001b[0;34m=\u001b[0m\u001b[0mtrack\u001b[0m\u001b[0;34m)\u001b[0m\u001b[0;34m]\u001b[0m\u001b[0;34m\u001b[0m\u001b[0;34m\u001b[0m\u001b[0m\n\u001b[0m\u001b[1;32m    620\u001b[0m         \u001b[0;31m# have first part already, only loop while more to receive\u001b[0m\u001b[0;34m\u001b[0m\u001b[0;34m\u001b[0m\u001b[0;34m\u001b[0m\u001b[0m\n",
            "\u001b[0;32mzmq/backend/cython/socket.pyx\u001b[0m in \u001b[0;36mzmq.backend.cython.socket.Socket.recv\u001b[0;34m()\u001b[0m\n",
            "\u001b[0;32mzmq/backend/cython/socket.pyx\u001b[0m in \u001b[0;36mzmq.backend.cython.socket.Socket.recv\u001b[0;34m()\u001b[0m\n",
            "\u001b[0;32mzmq/backend/cython/socket.pyx\u001b[0m in \u001b[0;36mzmq.backend.cython.socket._recv_copy\u001b[0;34m()\u001b[0m\n",
            "\u001b[0;32m/usr/local/lib/python3.7/dist-packages/zmq/backend/cython/checkrc.pxd\u001b[0m in \u001b[0;36mzmq.backend.cython.checkrc._check_rc\u001b[0;34m()\u001b[0m\n",
            "\u001b[0;31mKeyboardInterrupt\u001b[0m: ",
            "\nDuring handling of the above exception, another exception occurred:\n",
            "\u001b[0;31mKeyboardInterrupt\u001b[0m                         Traceback (most recent call last)",
            "\u001b[0;32m<ipython-input-7-fe536735f6d2>\u001b[0m in \u001b[0;36m<module>\u001b[0;34m()\u001b[0m\n\u001b[1;32m     58\u001b[0m         \u001b[0;32mtry\u001b[0m\u001b[0;34m:\u001b[0m\u001b[0;34m\u001b[0m\u001b[0;34m\u001b[0m\u001b[0m\n\u001b[1;32m     59\u001b[0m             \u001b[0;31m# Prompt to ask the user for the amount of money they want to add in C account\u001b[0m\u001b[0;34m\u001b[0m\u001b[0;34m\u001b[0m\u001b[0;34m\u001b[0m\u001b[0m\n\u001b[0;32m---> 60\u001b[0;31m             \u001b[0maccounts\u001b[0m\u001b[0;34m[\u001b[0m\u001b[0musername\u001b[0m\u001b[0;34m]\u001b[0m\u001b[0;34m[\u001b[0m\u001b[0;34m'C'\u001b[0m\u001b[0;34m]\u001b[0m \u001b[0;34m=\u001b[0m \u001b[0mfloat\u001b[0m\u001b[0;34m(\u001b[0m\u001b[0minput\u001b[0m\u001b[0;34m(\u001b[0m\u001b[0;34m'Enter the amount you will deposit to the checking account: '\u001b[0m\u001b[0;34m)\u001b[0m\u001b[0;34m)\u001b[0m\u001b[0;34m\u001b[0m\u001b[0;34m\u001b[0m\u001b[0m\n\u001b[0m\u001b[1;32m     61\u001b[0m             \u001b[0;32mif\u001b[0m \u001b[0mfloat\u001b[0m\u001b[0;34m(\u001b[0m\u001b[0maccounts\u001b[0m\u001b[0;34m[\u001b[0m\u001b[0musername\u001b[0m\u001b[0;34m]\u001b[0m\u001b[0;34m[\u001b[0m\u001b[0;34m'C'\u001b[0m\u001b[0;34m]\u001b[0m\u001b[0;34m)\u001b[0m \u001b[0;34m<=\u001b[0m \u001b[0;36m0.0\u001b[0m\u001b[0;34m:\u001b[0m\u001b[0;34m\u001b[0m\u001b[0;34m\u001b[0m\u001b[0m\n\u001b[1;32m     62\u001b[0m                 \u001b[0;32mraise\u001b[0m \u001b[0mTypeError\u001b[0m\u001b[0;34m\u001b[0m\u001b[0;34m\u001b[0m\u001b[0m\n",
            "\u001b[0;32m/usr/local/lib/python3.7/dist-packages/ipykernel/kernelbase.py\u001b[0m in \u001b[0;36mraw_input\u001b[0;34m(self, prompt)\u001b[0m\n\u001b[1;32m    702\u001b[0m             \u001b[0mself\u001b[0m\u001b[0;34m.\u001b[0m\u001b[0m_parent_ident\u001b[0m\u001b[0;34m,\u001b[0m\u001b[0;34m\u001b[0m\u001b[0;34m\u001b[0m\u001b[0m\n\u001b[1;32m    703\u001b[0m             \u001b[0mself\u001b[0m\u001b[0;34m.\u001b[0m\u001b[0m_parent_header\u001b[0m\u001b[0;34m,\u001b[0m\u001b[0;34m\u001b[0m\u001b[0;34m\u001b[0m\u001b[0m\n\u001b[0;32m--> 704\u001b[0;31m             \u001b[0mpassword\u001b[0m\u001b[0;34m=\u001b[0m\u001b[0;32mFalse\u001b[0m\u001b[0;34m,\u001b[0m\u001b[0;34m\u001b[0m\u001b[0;34m\u001b[0m\u001b[0m\n\u001b[0m\u001b[1;32m    705\u001b[0m         )\n\u001b[1;32m    706\u001b[0m \u001b[0;34m\u001b[0m\u001b[0m\n",
            "\u001b[0;32m/usr/local/lib/python3.7/dist-packages/ipykernel/kernelbase.py\u001b[0m in \u001b[0;36m_input_request\u001b[0;34m(self, prompt, ident, parent, password)\u001b[0m\n\u001b[1;32m    732\u001b[0m             \u001b[0;32mexcept\u001b[0m \u001b[0mKeyboardInterrupt\u001b[0m\u001b[0;34m:\u001b[0m\u001b[0;34m\u001b[0m\u001b[0;34m\u001b[0m\u001b[0m\n\u001b[1;32m    733\u001b[0m                 \u001b[0;31m# re-raise KeyboardInterrupt, to truncate traceback\u001b[0m\u001b[0;34m\u001b[0m\u001b[0;34m\u001b[0m\u001b[0;34m\u001b[0m\u001b[0m\n\u001b[0;32m--> 734\u001b[0;31m                 \u001b[0;32mraise\u001b[0m \u001b[0mKeyboardInterrupt\u001b[0m\u001b[0;34m\u001b[0m\u001b[0;34m\u001b[0m\u001b[0m\n\u001b[0m\u001b[1;32m    735\u001b[0m             \u001b[0;32melse\u001b[0m\u001b[0;34m:\u001b[0m\u001b[0;34m\u001b[0m\u001b[0;34m\u001b[0m\u001b[0m\n\u001b[1;32m    736\u001b[0m                 \u001b[0;32mbreak\u001b[0m\u001b[0;34m\u001b[0m\u001b[0;34m\u001b[0m\u001b[0m\n",
            "\u001b[0;31mKeyboardInterrupt\u001b[0m: "
          ]
        }
      ]
    },
    {
      "cell_type": "code",
      "metadata": {
        "id": "XvsdyoSQzsUj",
        "colab": {
          "base_uri": "https://localhost:8080/"
        },
        "outputId": "c543112c-0b2f-45b8-9494-747ea93cf70f"
      },
      "source": [
        "# 3.1\n",
        "names = ['Arisha', 'Sadia', 'Kashaf', 'Rajya']\n",
        "for i in range(len(names)):\n",
        "  print(names[i])"
      ],
      "execution_count": null,
      "outputs": [
        {
          "output_type": "stream",
          "name": "stdout",
          "text": [
            "Arisha\n",
            "Sadia\n",
            "Kashaf\n",
            "Rajya\n"
          ]
        }
      ]
    },
    {
      "cell_type": "code",
      "metadata": {
        "colab": {
          "base_uri": "https://localhost:8080/"
        },
        "id": "qNjfXrfVHy7S",
        "outputId": "8059606c-66c0-41e4-b945-08a4fedc8ef9"
      },
      "source": [
        "# 3.7\n",
        "guestList = ['Arisha', 'Kashaf', 'Rajya']\n",
        "for i in range(len(guestList)):\n",
        "  print(f\"Hello {guestList[i]}, I am inviting you to dinner. Please come.\")\n",
        "print(f\"\\n{guestList[0]} will not come.\")\n",
        "\n",
        "guestList[0] = 'Shalini'\n",
        "\n",
        "for i in range(len(guestList)):\n",
        "  print(f\"Hello {guestList[i]}, I am inviting you to dinner. Please come.\")\n",
        "\n",
        "print(\"\\nI found a bigger dinner table\")\n",
        "guestList.insert(0, 'Saem')\n",
        "guestList.insert(int(len(guestList)/2), 'Imran')\n",
        "guestList.append('Parwez')\n",
        "\n",
        "for i in range(len(guestList)):\n",
        "  print(f\"Hello {guestList[i]}, I am inviting you to dinner. Please come.\")\n",
        "\n",
        "print(\"\\nI can invite only two people for dinner\")\n",
        "\n",
        "while len(guestList) > 2:\n",
        "  print(f\"Sorry {guestList.pop()}, I can't invite you for the dinner\")\n",
        "\n",
        "for i in range(len(guestList)):\n",
        "  print(f\"{guestList[i]}, You are still invited for the dinner.\")\n",
        "\n",
        "del guestList[-1::-1]\n",
        "print(guestList)"
      ],
      "execution_count": null,
      "outputs": [
        {
          "output_type": "stream",
          "name": "stdout",
          "text": [
            "Hello Arisha, I am inviting you to dinner. Please come.\n",
            "Hello Kashaf, I am inviting you to dinner. Please come.\n",
            "Hello Rajya, I am inviting you to dinner. Please come.\n",
            "\n",
            "Arisha will not come.\n",
            "Hello Shalini, I am inviting you to dinner. Please come.\n",
            "Hello Kashaf, I am inviting you to dinner. Please come.\n",
            "Hello Rajya, I am inviting you to dinner. Please come.\n",
            "\n",
            "I found a bigger dinner table\n",
            "Hello Saem, I am inviting you to dinner. Please come.\n",
            "Hello Shalini, I am inviting you to dinner. Please come.\n",
            "Hello Imran, I am inviting you to dinner. Please come.\n",
            "Hello Kashaf, I am inviting you to dinner. Please come.\n",
            "Hello Rajya, I am inviting you to dinner. Please come.\n",
            "Hello Parwez, I am inviting you to dinner. Please come.\n",
            "\n",
            "I can invite only two people for dinner\n",
            "Sorry Parwez, I can't invite you for the dinner\n",
            "Sorry Rajya, I can't invite you for the dinner\n",
            "Sorry Kashaf, I can't invite you for the dinner\n",
            "Sorry Imran, I can't invite you for the dinner\n",
            "Saem, You are still invited for the dinner.\n",
            "Shalini, You are still invited for the dinner.\n",
            "[]\n"
          ]
        }
      ]
    },
    {
      "cell_type": "code",
      "metadata": {
        "colab": {
          "base_uri": "https://localhost:8080/"
        },
        "id": "a3WY7rZ3IcLp",
        "outputId": "10cb357b-cb0f-4617-f81f-e6776971e377"
      },
      "source": [
        "# 3.8\n",
        "places = ['London', 'Paris', 'New York', 'Malaysia', 'Japan']\n",
        "sorted(places)\n",
        "print(places)\n",
        "\n",
        "sorted(places, reverse=True)\n",
        "print(places)\n",
        "\n",
        "places.reverse()\n",
        "print(places)\n",
        "\n",
        "places.reverse()\n",
        "print(places)\n",
        "\n",
        "places.sort()\n",
        "print(places)\n",
        "\n",
        "places.sort(reverse=True)\n",
        "print(places)"
      ],
      "execution_count": null,
      "outputs": [
        {
          "output_type": "stream",
          "name": "stdout",
          "text": [
            "['London', 'Paris', 'New York', 'Malaysia', 'Japan']\n",
            "['London', 'Paris', 'New York', 'Malaysia', 'Japan']\n",
            "['Japan', 'Malaysia', 'New York', 'Paris', 'London']\n",
            "['London', 'Paris', 'New York', 'Malaysia', 'Japan']\n",
            "['Japan', 'London', 'Malaysia', 'New York', 'Paris']\n",
            "['Paris', 'New York', 'Malaysia', 'London', 'Japan']\n"
          ]
        }
      ]
    },
    {
      "cell_type": "code",
      "metadata": {
        "colab": {
          "base_uri": "https://localhost:8080/"
        },
        "id": "wnb5hHwGNOai",
        "outputId": "7041c75c-f05d-4423-afbd-44b916bf30c2"
      },
      "source": [
        "# 4.1\n",
        "pizza = ['Cheese Pizza', 'Veggie Pizza', 'Pepperoni Pizza']\n",
        "for pizzaNames in pizza:\n",
        "  print(f\"I like {pizzaNames}.\")\n",
        "print(\"I love pizza, so much that i cant even eat it anymore.\\nI’m lactose intolerant now.\\nIt makes me sad bc i cant have my favorite food anymore :(\\nI really love pizza!\")"
      ],
      "execution_count": null,
      "outputs": [
        {
          "output_type": "stream",
          "name": "stdout",
          "text": [
            "I like Cheese Pizza.\n",
            "I like Veggie Pizza.\n",
            "I like Pepperoni Pizza.\n",
            "I love pizza, so much that i cant even eat it anymore.\n",
            "I’m lactose intolerant now.\n",
            "It makes me sad bc i cant have my favorite food anymore :(\n",
            "I really love pizza!\n"
          ]
        }
      ]
    },
    {
      "cell_type": "code",
      "metadata": {
        "colab": {
          "base_uri": "https://localhost:8080/"
        },
        "id": "F2q34EEHOydd",
        "outputId": "32b9acf9-b775-4087-d353-87396c222cbb"
      },
      "source": [
        "# 4.7\n",
        "threes = [3, 6, 9, 12, 15, 18, 21, 24, 27, 30]\n",
        "for i in range(len(threes)):\n",
        "  print(threes[i], end=\" \")"
      ],
      "execution_count": null,
      "outputs": [
        {
          "output_type": "stream",
          "name": "stdout",
          "text": [
            "3 6 9 12 15 18 21 24 27 30 "
          ]
        }
      ]
    },
    {
      "cell_type": "code",
      "metadata": {
        "id": "sCdglQlNQ5gu",
        "colab": {
          "base_uri": "https://localhost:8080/"
        },
        "outputId": "3f955228-a194-406c-f5e5-b9b9f9e7ef74"
      },
      "source": [
        "if __name__ == '__main__':\n",
        "  operations = ['+', '-', '/', '*', '**', '%', '//']\n",
        "  add, sub, mul, div, pow, mod, floor = 0, 0, 0, 0, 0, 0, 0\n",
        "  log = \"\\n\"\n",
        "  op = input(\"\\nEnter an operation: \")\n",
        "  while True:\n",
        "    # input validation loop\n",
        "    while (op not in operations):\n",
        "      print('Invalid input')\n",
        "      op = input(\"\\nEnter an operation: \")\n",
        "\n",
        "    a = int(input(\"\\nEnter the first number: \"))\n",
        "    b = int(input(\"Enter the second number: \"))\n",
        "\n",
        "    if op == '+':\n",
        "      add += 1\n",
        "      result = a + b\n",
        "    elif op == '-':\n",
        "      sub += 1\n",
        "      result = a - b\n",
        "    elif op == '*':\n",
        "      mul += 1\n",
        "      result = a * b\n",
        "    elif op == '/':\n",
        "      div += 1\n",
        "      result = a / b\n",
        "    elif op == '**':\n",
        "      pow += 1\n",
        "      result = a ** b\n",
        "    elif op == '%':\n",
        "      mod += 1\n",
        "      result = a % b\n",
        "    elif op == '//':\n",
        "      floor += 1\n",
        "      result = a // b\n",
        "\n",
        "    log = log + str(a) + op + str(b) + \"=\" + str(result) + \"\\n\"\n",
        "\n",
        "    answer = input(\"Do you want enter more calculations?[Y/n]: \")\n",
        "    if answer.lower() == 'y':\n",
        "      op = input(\"\\nEnter an operation: \")\n",
        "    else:\n",
        "      break\n",
        "\n",
        "  print(\"Printing Log: \")\n",
        "  print(log)\n",
        "  print(\"\\nOperator counts: \")\n",
        "  print(\"+ = \", add)\n",
        "  print(\"- = \", sub)\n",
        "  print(\"* = \", mul)\n",
        "  print(\"/ = \", div)\n",
        "  print(\"% = \", mod)\n",
        "  print(\"** = \", pow)\n",
        "  print(\"// = \", floor)"
      ],
      "execution_count": null,
      "outputs": [
        {
          "output_type": "stream",
          "name": "stdout",
          "text": [
            "\n",
            "Enter an operation: 8\n",
            "Invalid input\n",
            "\n",
            "Enter an operation: -\n",
            "\n",
            "Enter the first number: 10\n",
            "Enter the second number: 5\n",
            "Do you want enter more calculations?[Y/n]: y\n",
            "\n",
            "Enter an operation: +\n",
            "\n",
            "Enter the first number: 20\n",
            "Enter the second number: 3\n",
            "Do you want enter more calculations?[Y/n]: y\n",
            "\n",
            "Enter an operation: *\n",
            "\n",
            "Enter the first number: 5\n",
            "Enter the second number: 2\n",
            "Do you want enter more calculations?[Y/n]: y\n",
            "\n",
            "Enter an operation: %\n",
            "\n",
            "Enter the first number: 5\n",
            "Enter the second number: 2\n",
            "Do you want enter more calculations?[Y/n]: n\n",
            "Printing Log: \n",
            "\n",
            "10-5=5\n",
            "20+3=23\n",
            "5*2=10\n",
            "5%2=1\n",
            "\n",
            "\n",
            "Operator counts: \n",
            "+ =  1\n",
            "- =  1\n",
            "* =  1\n",
            "/ =  0\n",
            "% =  1\n",
            "** =  0\n",
            "// =  0\n"
          ]
        }
      ]
    },
    {
      "cell_type": "code",
      "metadata": {
        "colab": {
          "base_uri": "https://localhost:8080/"
        },
        "id": "ITQu7p1U8gsK",
        "outputId": "b2d1ba27-60b5-438d-80bd-ceed8aa4585b"
      },
      "source": [
        "def get_non_negative_float(prompt):\n",
        "  answer = 0\n",
        "  result = float(input(prompt))\n",
        "  while result <= answer :\n",
        "    print(\"Number must be at least zero.\")\n",
        "    result = float(input(prompt))\n",
        "  return result\n",
        "\n",
        "\n",
        "count = get_non_negative_float(\"Enter traffic volume: \")\n",
        "print(f'volume = {count}')\n",
        "# Does your function return a float?\n",
        "print(isinstance(count, float))\n",
        "\n",
        "print()\n",
        "\n",
        "count = get_non_negative_float(\"Enter the number of trucks: \")\n",
        "print(f'count = {count}')\n",
        "# Does your function return a float?\n",
        "print(isinstance(count, float))\n"
      ],
      "execution_count": null,
      "outputs": [
        {
          "output_type": "stream",
          "name": "stdout",
          "text": [
            "Enter traffic volume: -1\n",
            "Number must be at least zero.\n",
            "Enter traffic volume: -100\n",
            "Number must be at least zero.\n",
            "Enter traffic volume: 225\n",
            "volume = 225.0\n",
            "True\n",
            "\n",
            "Enter the number of trucks: -100\n",
            "Number must be at least zero.\n",
            "Enter the number of trucks: -1\n",
            "Number must be at least zero.\n",
            "Enter the number of trucks: -2\n",
            "Number must be at least zero.\n",
            "Enter the number of trucks: -3\n",
            "Number must be at least zero.\n",
            "Enter the number of trucks: 20000\n",
            "count = 20000.0\n",
            "True\n"
          ]
        }
      ]
    },
    {
      "cell_type": "code",
      "metadata": {
        "id": "hLtZbzSy86j1",
        "colab": {
          "base_uri": "https://localhost:8080/",
          "height": 231
        },
        "outputId": "d2fb13f5-5e51-474d-ba0e-b3cb224f4f25"
      },
      "source": [
        "a = {1, 2, 3}\n",
        "print(a)\n",
        "a[1] = 5  #replacing element at second index by 5\n",
        "print(a)"
      ],
      "execution_count": null,
      "outputs": [
        {
          "output_type": "stream",
          "name": "stdout",
          "text": [
            "{1, 2, 3}\n"
          ]
        },
        {
          "output_type": "error",
          "ename": "TypeError",
          "evalue": "ignored",
          "traceback": [
            "\u001b[0;31m---------------------------------------------------------------------------\u001b[0m",
            "\u001b[0;31mTypeError\u001b[0m                                 Traceback (most recent call last)",
            "\u001b[0;32m<ipython-input-11-63abd5fcb04e>\u001b[0m in \u001b[0;36m<module>\u001b[0;34m()\u001b[0m\n\u001b[1;32m      1\u001b[0m \u001b[0ma\u001b[0m \u001b[0;34m=\u001b[0m \u001b[0;34m{\u001b[0m\u001b[0;36m1\u001b[0m\u001b[0;34m,\u001b[0m \u001b[0;36m2\u001b[0m\u001b[0;34m,\u001b[0m \u001b[0;36m3\u001b[0m\u001b[0;34m}\u001b[0m\u001b[0;34m\u001b[0m\u001b[0;34m\u001b[0m\u001b[0m\n\u001b[1;32m      2\u001b[0m \u001b[0mprint\u001b[0m\u001b[0;34m(\u001b[0m\u001b[0ma\u001b[0m\u001b[0;34m)\u001b[0m\u001b[0;34m\u001b[0m\u001b[0;34m\u001b[0m\u001b[0m\n\u001b[0;32m----> 3\u001b[0;31m \u001b[0ma\u001b[0m\u001b[0;34m[\u001b[0m\u001b[0;36m1\u001b[0m\u001b[0;34m]\u001b[0m \u001b[0;34m=\u001b[0m \u001b[0;36m5\u001b[0m  \u001b[0;31m#replacing element at second index by 5\u001b[0m\u001b[0;34m\u001b[0m\u001b[0;34m\u001b[0m\u001b[0m\n\u001b[0m\u001b[1;32m      4\u001b[0m \u001b[0mprint\u001b[0m\u001b[0;34m(\u001b[0m\u001b[0ma\u001b[0m\u001b[0;34m)\u001b[0m\u001b[0;34m\u001b[0m\u001b[0;34m\u001b[0m\u001b[0m\n",
            "\u001b[0;31mTypeError\u001b[0m: 'set' object does not support item assignment"
          ]
        }
      ]
    },
    {
      "cell_type": "code",
      "metadata": {
        "colab": {
          "base_uri": "https://localhost:8080/"
        },
        "id": "I7INYcB8SO9S",
        "outputId": "cc1b6895-ee46-40e0-f091-fa07e188defa"
      },
      "source": [
        "try:\n",
        "  x = int(input(\"Enter first number: \"))\n",
        "  y = int(input(\"Enter second number: \"))\n",
        "  print(x + y)\n",
        "except:\n",
        "  print(\"Invalid input.\")"
      ],
      "execution_count": null,
      "outputs": [
        {
          "output_type": "stream",
          "name": "stdout",
          "text": [
            "Enter first number: 123\n",
            "Enter second number: a\n",
            "Invalid input.\n"
          ]
        }
      ]
    },
    {
      "cell_type": "code",
      "metadata": {
        "colab": {
          "base_uri": "https://localhost:8080/"
        },
        "id": "NIRfadwPS5CX",
        "outputId": "d6da538c-fe02-4426-9261-4ab654f52339"
      },
      "source": [
        "a = {1, 2, 3}\n",
        "print(a)\n",
        "a.add(5)  # adding 5 to set\n",
        "print(a)"
      ],
      "execution_count": null,
      "outputs": [
        {
          "output_type": "stream",
          "name": "stdout",
          "text": [
            "{1, 2, 3}\n",
            "{1, 2, 3, 5}\n"
          ]
        }
      ]
    },
    {
      "cell_type": "code",
      "metadata": {
        "id": "DztpFEm2ThPO",
        "colab": {
          "base_uri": "https://localhost:8080/"
        },
        "outputId": "85445782-fd39-43e2-dd3d-36dd4b8b7962"
      },
      "source": [
        "k = int(input())      # integer input\n",
        "d = float(input())    # float input\n",
        "s = input()           # string input\n",
        "print(f\"{s} {d} {k}\") # print\n",
        "print(f\"{k} {d} {s}\") # print"
      ],
      "execution_count": null,
      "outputs": [
        {
          "output_type": "stream",
          "name": "stdout",
          "text": [
            "15\n",
            "5.5\n",
            "hello\n",
            "hello 5.5 15\n",
            "15 5.5 hello\n"
          ]
        }
      ]
    },
    {
      "cell_type": "code",
      "metadata": {
        "id": "I-MoHcnajniF",
        "colab": {
          "base_uri": "https://localhost:8080/"
        },
        "outputId": "69699090-a00f-4967-f6db-60c33188ad85"
      },
      "source": [
        "def menu():\n",
        "    print(\"1. Addition\")\n",
        "    print(\"2. Subtraction\")\n",
        "    print(\"3. Multiplication\")\n",
        "    print(\"4. Division\")\n",
        "\n",
        "def get_input():\n",
        "    a = float(input(\"Enter first number: \"))\n",
        "    b = float(input(\"Enter second number: \"))\n",
        "    return a, b\n",
        "\n",
        "def main():\n",
        "    menu()\n",
        "    choice = input(\"Enter Your Choice: \")\n",
        "    while choice != 'Y':\n",
        "        if choice == \"1\":\n",
        "            a, b = get_input()\n",
        "            print(f\"{a} + {b} = {a+b}\\n\")\n",
        "        elif choice == \"2\":\n",
        "            a, b = get_input()\n",
        "            print(f\"{a} - {b} = {a-b}\\n\")\n",
        "        elif choice == \"3\":\n",
        "            a, b = get_input()\n",
        "            print(f\"{a} * {b} = {a*b}\\n\")\n",
        "        elif choice == \"4\":\n",
        "            a, b = get_input()\n",
        "            print(f\"{a} / {b} = {a/b}\\n\")\n",
        "      \n",
        "      menu()\n",
        "      choice = input(\"Enter Your Choice: \")\n",
        "\n",
        "main()\n"
      ],
      "execution_count": null,
      "outputs": [
        {
          "name": "stdout",
          "output_type": "stream",
          "text": [
            "1. Addition\n",
            "2. Subtraction\n",
            "3. Multiplication\n",
            "4. Division\n",
            "Enter Your Choice: 1\n",
            "Enter first number: 5\n",
            "Enter second number: 10\n",
            "5.0 + 10.0 = 15.0\n",
            "\n",
            "1. Addition\n",
            "2. Subtraction\n",
            "3. Multiplication\n",
            "4. Division\n",
            "Enter Your Choice: 2\n",
            "Enter first number: 20\n",
            "Enter second number: 5\n",
            "20.0 - 5.0 = 15.0\n",
            "\n",
            "1. Addition\n",
            "2. Subtraction\n",
            "3. Multiplication\n",
            "4. Division\n",
            "Enter Your Choice: 4\n",
            "Enter first number: 10\n",
            "Enter second number: 2\n",
            "10.0 / 2.0 = 5.0\n",
            "\n",
            "1. Addition\n",
            "2. Subtraction\n",
            "3. Multiplication\n",
            "4. Division\n",
            "Enter Your Choice: Y\n"
          ]
        }
      ]
    },
    {
      "cell_type": "code",
      "metadata": {
        "id": "nCeEvLk-RyYD",
        "colab": {
          "base_uri": "https://localhost:8080/"
        },
        "outputId": "721e6d1f-7fb8-4a7a-a4d5-6ab1282f7cb4"
      },
      "source": [
        "keys = [\"Arisha\", \"Kashaf\", \"Shalini\"]\n",
        "\n",
        "for ids in keys:\n",
        "  print(ids, type(ids))\n",
        "\n",
        "print()\n",
        "\n",
        "for ids in range(len(keys)):\n",
        "  print(ids, type(ids))\n"
      ],
      "execution_count": null,
      "outputs": [
        {
          "output_type": "stream",
          "name": "stdout",
          "text": [
            "Arisha <class 'str'>\n",
            "Kashaf <class 'str'>\n",
            "Shalini <class 'str'>\n",
            "\n",
            "0 <class 'int'>\n",
            "1 <class 'int'>\n",
            "2 <class 'int'>\n"
          ]
        }
      ]
    },
    {
      "cell_type": "code",
      "metadata": {
        "colab": {
          "base_uri": "https://localhost:8080/"
        },
        "id": "aXkw2K8smQ4F",
        "outputId": "b5c5105d-e305-41db-f9c4-3e2882fed533"
      },
      "source": [
        "def flosgen(list1, list2):\n",
        "    output = []\n",
        "    for i in range(len(list1)):\n",
        "        if list1[i] not in [-1, 1] or 'p' in list2[i]:\n",
        "            print(\"No way\")\n",
        "        if i % 2 == 0:\n",
        "            if list1[i] == 1:\n",
        "                output.append(list2[i].replace('u', 'uu'))\n",
        "            else:\n",
        "                output.append('p' + list2[i])\n",
        "    print(output)\n",
        "\n",
        "flosgen([-1, -1, -1, -1, 1],['del', '', 'win', '', 'yuhu!'])"
      ],
      "execution_count": null,
      "outputs": [
        {
          "output_type": "stream",
          "name": "stdout",
          "text": [
            "['pdel', 'pwin', 'yuuhuu!']\n"
          ]
        }
      ]
    },
    {
      "cell_type": "code",
      "metadata": {
        "colab": {
          "base_uri": "https://localhost:8080/"
        },
        "id": "kUSmSslNoKpo",
        "outputId": "352a261d-876e-445b-dfbb-0362348a1767"
      },
      "source": [
        "items = [14, 12, -1, 9, 118, 5, 11]\n",
        "print(items[1:5])"
      ],
      "execution_count": null,
      "outputs": [
        {
          "output_type": "stream",
          "name": "stdout",
          "text": [
            "[12, -1, 9, 118]\n"
          ]
        }
      ]
    },
    {
      "cell_type": "code",
      "metadata": {
        "colab": {
          "base_uri": "https://localhost:8080/"
        },
        "id": "aGu0cZuXsgq_",
        "outputId": "ac4d2380-4d15-4e3b-e239-d14122390d65"
      },
      "source": [
        "info = ('Fred', 8065)\n",
        "name, postcode = info[0], info[1]\n",
        "print(\"Name: \" + name)\n",
        "print(\"Postcode: \" + str(postcode))"
      ],
      "execution_count": null,
      "outputs": [
        {
          "output_type": "stream",
          "name": "stdout",
          "text": [
            "Name: Fred\n",
            "Postcode: 8065\n"
          ]
        }
      ]
    },
    {
      "cell_type": "code",
      "metadata": {
        "id": "Vd91sP9-tCt0",
        "colab": {
          "base_uri": "https://localhost:8080/"
        },
        "outputId": "98af8410-3389-4caf-ab20-6273ca092df9"
      },
      "source": [
        "print(\"Welcome to the Pflugerville Bakery!\")\n",
        "print(\"We're ready to take your cupcake order.\")\n",
        "name = input(\"Please enter your name: \")\n",
        "red_velvet = int(input(\"Enter the number of Red Velvet cupcakes: \"))\n",
        "caramel_surprise = int(input(\"Enter the number of Caramel Surprise cupcakes: \"))\n",
        "chocolate_cupcakes = int(input(\"Enter the number of Chocolate Delight cupcakes: \"))\n",
        "day = input(\"Enter the day of the week you will pick up your order: \")\n",
        "red_velvet_price = 2.00\n",
        "caramel_surprise_price = 2.50\n",
        "chocolate_cupcakes_price = 3.00\n",
        "discount_percent = 0\n",
        "total = red_velvet + caramel_surprise + chocolate_cupcakes\n",
        "subtotal_price = red_velvet * red_velvet_price + caramel_surprise * caramel_surprise_price + chocolate_cupcakes * chocolate_cupcakes_price\n",
        "\n",
        "if total >= 12 and total <= 36:\n",
        "    discount_percent = 10/100\n",
        "    discount = subtotal_price * discount_percent\n",
        "elif total > 36:\n",
        "    discount_percent = 15/100\n",
        "    discount = subtotal_price * discount_percent\n",
        "else:\n",
        "    discount = 0\n",
        "\n",
        "tax_percent = 7.25\n",
        "tax_amt = (subtotal_price - discount) * (tax_percent/100)\n",
        "\n",
        "print(\"\\tOrder Summary\")\n",
        "if red_velvet > 0:\n",
        "    print(f\"%-30s {red_velvet} for ${(red_velvet * red_velvet_price):.2f}\" % \"Red Velvet cupcakes: \")\n",
        "if caramel_surprise > 0:\n",
        "    print(f\"%-30s {caramel_surprise} for ${(caramel_surprise * caramel_surprise_price):.2f}\" %\"Caramel Surprise cupcakes:\")\n",
        "if chocolate_cupcakes > 0:\n",
        "    print(f\"%-30s {chocolate_cupcakes} for ${(chocolate_cupcakes * chocolate_cupcakes_price):.2f}\" %\"Chocolate Delight cupcakes:\")\n",
        "print(f\"%-30s ${subtotal_price:.2f}\" % \"Subtotal:\")\n",
        "print(f\"%-30s ${(discount_percent*100):.0f}%s\" % (\"Discount percentage:\", \"%\"))\n",
        "print(f\"%-30s ${discount:.2f}\" % \"Discount amount:\")\n",
        "print(f\"%-30s ${(subtotal_price - discount):.2f}\" % \"Discount subtotal:\")\n",
        "print(f\"%-30s {tax_amt:.2f}\" % \"Tax:\")\n",
        "print(f\"%-30s ${(subtotal_price - discount + tax_amt):.2f}\" % \"Total cost:\")\n",
        "print(\"This order will be available for pickup\")\n",
        "print(f\"By: {name}\")\n",
        "print(f\"On: {day}\")"
      ],
      "execution_count": null,
      "outputs": [
        {
          "output_type": "stream",
          "name": "stdout",
          "text": [
            "Welcome to the Pflugerville Bakery!\n",
            "We're ready to take your cupcake order.\n",
            "Please enter your name: Sarah Marshall\n",
            "Enter the number of Red Velvet cupcakes: 6\n",
            "Enter the number of Caramel Surprise cupcakes: 0\n",
            "Enter the number of Chocolate Delight cupcakes: 6\n",
            "Enter the day of the week you will pick up your order: Thursday\n",
            "\tOrder Summary\n",
            "Red Velvet cupcakes:           6 for $12.00\n",
            "Chocolate Delight cupcakes:    6 for $18.00\n",
            "Subtotal:                      $30.00\n",
            "Discount percentage:           $10%\n",
            "Discount amount:               $3.00\n",
            "Discount subtotal:             $27.00\n",
            "Tax:                           1.96\n",
            "Total cost:                    $28.96\n",
            "This order will be available for pickup\n",
            "By: Sarah Marshall\n",
            "On: Thursday\n"
          ]
        }
      ]
    },
    {
      "cell_type": "code",
      "metadata": {
        "id": "Fem6os81zU45",
        "colab": {
          "base_uri": "https://localhost:8080/"
        },
        "outputId": "41d9d37b-f388-4ead-92f7-f1cab79b1d11"
      },
      "source": [
        "l1 = [\"CSE110\", \"CSE111\", \"CSE221\", \"CSE260\", \"CSE320\", \"CSE340\", \"CSE370\", \"CSE421\", \"CSE423\"]\n",
        "# creating dictionary to store final key value pair\n",
        "dictionary = {}\n",
        "# To store keys\n",
        "keys = []\n",
        "\n",
        "# Loop in l1 to get keys\n",
        "# and append to keys list (only numbers in multiple of 100)\n",
        "for item in l1:\n",
        "    keys.append(int(int(item[3: ])/100)*100)\n",
        "\n",
        "# get unique items\n",
        "keys = list(set(keys))\n",
        "# sort list in ascending order\n",
        "keys.sort()\n",
        "\n",
        "# loop in key to add key to dictionary\n",
        "for key in keys:    \n",
        "    # create empty list to store values\n",
        "    values = []\n",
        "    \n",
        "    # loop in l1 to get values\n",
        "    for value in l1:\n",
        "        # check if it is in range of 100, 200,...\n",
        "        if (int(value[3:]) > key and int(value[3:]) < key + 100):\n",
        "            # append to values list\n",
        "            values.append(value)\n",
        "\n",
        "    # and then store key - value pair\n",
        "    dictionary[str(key) + \" Level\"] = values\n",
        "\n",
        "# print\n",
        "print(dictionary)"
      ],
      "execution_count": null,
      "outputs": [
        {
          "output_type": "stream",
          "name": "stdout",
          "text": [
            "{'100 Level': ['CSE110', 'CSE111'], '200 Level': ['CSE221', 'CSE260'], '300 Level': ['CSE320', 'CSE340', 'CSE370'], '400 Level': ['CSE421', 'CSE423']}\n"
          ]
        }
      ]
    },
    {
      "cell_type": "code",
      "metadata": {
        "colab": {
          "base_uri": "https://localhost:8080/"
        },
        "id": "cv5Sv46Fe83V",
        "outputId": "59cfba18-f628-440f-be50-444f5f4895af"
      },
      "source": [
        "def doubleChar(string):\n",
        "  newChar = \"\"\n",
        "  for i in string:\n",
        "    newChar += i*2\n",
        "  return newChar\n",
        "\n",
        "def main():\n",
        "  print(doubleChar(\"The\"))\n",
        "  print(doubleChar(\"AABB\"))\n",
        "  print(doubleChar(\"Hi-There\"))\n",
        "\n",
        "main()"
      ],
      "execution_count": null,
      "outputs": [
        {
          "output_type": "stream",
          "name": "stdout",
          "text": [
            "TThhee\n",
            "AAAABBBB\n",
            "HHii--TThheerree\n"
          ]
        }
      ]
    },
    {
      "cell_type": "code",
      "metadata": {
        "id": "bLn7Of2bfgVj",
        "colab": {
          "base_uri": "https://localhost:8080/"
        },
        "outputId": "1e70471c-8027-4c8d-d192-41a0ea1834bb"
      },
      "source": [
        "alphabets = \"abcdefghijklmnopqrstuvwxyz\"\n",
        "original_string = input(\"Enter string: \")\n",
        "new_string = \"\"\n",
        "caesar_shift = int(input(\"Enter shift: \"))\n",
        "position = alphabets.index(original_string[0])\n",
        "new_position = (position + caesar_shift) % 26\n",
        "new_string += alphabets[new_position]\n",
        "\n",
        "position = alphabets.index(original_string[1])\n",
        "new_position = (position + caesar_shift) % 26\n",
        "new_string += alphabets[new_position]\n",
        "\n",
        "position = alphabets.index(original_string[2])\n",
        "new_position = (position + caesar_shift) % 26\n",
        "new_string += alphabets[new_position]\n",
        "\n",
        "print(new_string)"
      ],
      "execution_count": null,
      "outputs": [
        {
          "output_type": "stream",
          "name": "stdout",
          "text": [
            "Enter string: abc\n",
            "Enter shift: 3\n",
            "def\n"
          ]
        }
      ]
    },
    {
      "cell_type": "code",
      "metadata": {
        "id": "Ksu19UzyldNL",
        "colab": {
          "base_uri": "https://localhost:8080/"
        },
        "outputId": "4b120c70-e1f1-45b6-e6bd-b6685c212c63"
      },
      "source": [
        "print(\"Answer by only typing [Y/n]\")\n",
        "uncompressed = input(\n",
        "    \"Assignment submitted as a single uncompressed .py file? \").lower()\n",
        "namedate = input(\"Assignment include the author's name and date? \").lower()\n",
        "if namedate == \"n\":\n",
        "    exit(0)\n",
        "honorstmt = input(\"Assignment include honor statement? \").lower()\n",
        "video = input(\"Assignment include 3-minute video? \").lower()\n",
        "\n",
        "grade = 0\n",
        "if uncompressed == \"y\" and namedate == \"y\" and honorstmt == \"y\" and video == \"y\":\n",
        "    grade += int(input(\"Out of 10 points, how would you evaluate the correctness of the code? \"))\n",
        "    grade += int(input(\"Out of 10 points, how would you evaluate the elegance of the code? \"))\n",
        "    grade += int(input(\"Out of 10 points, how would you evaluate the code hygiene? \"))\n",
        "    grade += int(input(\"Out of 10 points, how would you evaluate the quality of discussion? \"))\n",
        "    late = input(\"Is assignment late subitted? \").lower()\n",
        "    if late == \"y\":\n",
        "        time = int(input(\"How late it is? \"))\n",
        "        grade = grade - (grade * time/100)\n",
        "    print(\"\\nTotal grade :\", grade)\n",
        "else:\n",
        "    print(\"\\nTotal grade :\", grade)\n"
      ],
      "execution_count": 2,
      "outputs": [
        {
          "output_type": "stream",
          "name": "stdout",
          "text": [
            "Answer by only typing [Y/n]\n",
            "Assignment submitted as a single uncompressed .py file? y\n",
            "Assignment include the author's name and date? y\n",
            "Assignment include honor statement? y\n",
            "Assignment include 3-minute video? y\n",
            "Out of 10 points, how would you evaluate the correctness of the code? 8\n",
            "Out of 10 points, how would you evaluate the elegance of the code? 9\n",
            "Out of 10 points, how would you evaluate the code hygiene? 6\n",
            "Out of 10 points, how would you evaluate the quality of discussion? 5\n",
            "Is assignment late subitted? n\n",
            "\n",
            "Total grade : 28\n"
          ]
        }
      ]
    },
    {
      "cell_type": "code",
      "metadata": {
        "id": "FdV6CQKZ8AIO"
      },
      "source": [
        "y"
      ],
      "execution_count": null,
      "outputs": []
    }
  ]
}