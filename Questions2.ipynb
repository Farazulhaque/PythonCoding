{
  "nbformat": 4,
  "nbformat_minor": 0,
  "metadata": {
    "colab": {
      "name": "Questions2.ipynb",
      "provenance": [],
      "collapsed_sections": [],
      "authorship_tag": "ABX9TyPuvvL9O69qi3s4D2CKBVhY",
      "include_colab_link": true
    },
    "kernelspec": {
      "name": "python3",
      "display_name": "Python 3"
    },
    "language_info": {
      "name": "python"
    }
  },
  "cells": [
    {
      "cell_type": "markdown",
      "metadata": {
        "id": "view-in-github",
        "colab_type": "text"
      },
      "source": [
        "<a href=\"https://colab.research.google.com/github/Farazulhaque/PythonCoding/blob/main/Questions2.ipynb\" target=\"_parent\"><img src=\"https://colab.research.google.com/assets/colab-badge.svg\" alt=\"Open In Colab\"/></a>"
      ]
    },
    {
      "cell_type": "code",
      "metadata": {
        "colab": {
          "base_uri": "https://localhost:8080/"
        },
        "id": "wGSixCG8Awdj",
        "outputId": "3b38ff40-bf8a-40de-c3b7-3d1232138a99"
      },
      "source": [
        "fah = [89.8, 67.0, 92, 99]\n",
        "count = 0\n",
        "cen = []\n",
        "for i in fah:\n",
        "    ce = ((i - 32) * 5 / 9)\n",
        "    cen.append(round(ce,2))\n",
        "\n",
        "print(cen)"
      ],
      "execution_count": null,
      "outputs": [
        {
          "output_type": "stream",
          "name": "stdout",
          "text": [
            "[32.11, 19.44, 33.33, 37.22]\n"
          ]
        }
      ]
    },
    {
      "cell_type": "code",
      "metadata": {
        "id": "7optqduG_Cge",
        "colab": {
          "base_uri": "https://localhost:8080/"
        },
        "outputId": "444ebd63-108e-48fd-9a3f-b25cebdb4322"
      },
      "source": [
        "items = [23, 555, 666, 123, 128, 4242, 990]\n",
        "summa = 0\n",
        "n = 0\n",
        "while n < len(items):\n",
        "    num = items[n]\n",
        "    if num % 2 != 0:\n",
        "        summa += num\n",
        "    n += 1\n",
        "print(summa)"
      ],
      "execution_count": null,
      "outputs": [
        {
          "output_type": "stream",
          "name": "stdout",
          "text": [
            "701\n"
          ]
        }
      ]
    },
    {
      "cell_type": "code",
      "metadata": {
        "id": "3gtJJXkkGqhp",
        "colab": {
          "base_uri": "https://localhost:8080/"
        },
        "outputId": "80ab4a89-c65f-4dc7-bec6-ae0e6280fbea"
      },
      "source": [
        "# Loop 5 times\n",
        "# start from 1 and and at 6-1=5\n",
        "for i in range(1,6):\n",
        "    # to calculate total\n",
        "    sum = 0\n",
        "    # loop 3 times\n",
        "    for j in range(1,4):\n",
        "        print(f\"Enter group {i} member {j} weight:\")\n",
        "        weight = int(input(\"Weight in kg: \"))\n",
        "        # add weight to sum\n",
        "        sum += weight\n",
        "    # calculate average\n",
        "    avg = sum / 3\n",
        "    if avg > 100:\n",
        "        print(\"Some or all members of this group are overweight, need to exercise!\\n\")\n",
        "    else:\n",
        "        print(\"Some or all members of this group are healthy, Great job!\\n\")"
      ],
      "execution_count": null,
      "outputs": [
        {
          "output_type": "stream",
          "name": "stdout",
          "text": [
            "Enter group 1 member 1 weight:\n",
            "Weight in kg: 90\n",
            "Enter group 1 member 2 weight:\n",
            "Weight in kg: 80\n",
            "Enter group 1 member 3 weight:\n",
            "Weight in kg: 25\n",
            "Some or all members of this group are healthy, Great job!\n",
            "\n",
            "Enter group 2 member 1 weight:\n",
            "Weight in kg: 75\n",
            "Enter group 2 member 2 weight:\n",
            "Weight in kg: 105\n",
            "Enter group 2 member 3 weight:\n",
            "Weight in kg: 98\n",
            "Some or all members of this group are healthy, Great job!\n",
            "\n",
            "Enter group 3 member 1 weight:\n",
            "Weight in kg: 50\n",
            "Enter group 3 member 2 weight:\n",
            "Weight in kg: 45\n",
            "Enter group 3 member 3 weight:\n",
            "Weight in kg: 60\n",
            "Some or all members of this group are healthy, Great job!\n",
            "\n",
            "Enter group 4 member 1 weight:\n",
            "Weight in kg: 105\n",
            "Enter group 4 member 2 weight:\n",
            "Weight in kg: 110\n",
            "Enter group 4 member 3 weight:\n",
            "Weight in kg: 95\n",
            "Some or all members of this group are overweight, need to exercise!\n",
            "\n",
            "Enter group 5 member 1 weight:\n",
            "Weight in kg: 85\n",
            "Enter group 5 member 2 weight:\n",
            "Weight in kg: 95\n",
            "Enter group 5 member 3 weight:\n",
            "Weight in kg: 150\n",
            "Some or all members of this group are overweight, need to exercise!\n",
            "\n"
          ]
        }
      ]
    },
    {
      "cell_type": "code",
      "metadata": {
        "id": "WFDoTMWORwNq",
        "colab": {
          "base_uri": "https://localhost:8080/"
        },
        "outputId": "0563770b-fad6-4d6c-ec90-37e8455a933d"
      },
      "source": [
        "def cal_value(n1, n2, n3):\n",
        "    # check if number is less than both\n",
        "    # two remaining numbers\n",
        "    if n1 < n2 and n1 < n3:\n",
        "        product = n2 * n3\n",
        "    elif n2 < n1 and n2 < n3:\n",
        "        product = n1 * n3\n",
        "    else:\n",
        "        product = n1 * n2\n",
        "    # return value\n",
        "    return product\n",
        "\n",
        "\n",
        "print(\"1.\", cal_value(1, 2, 3))\n",
        "print(\"2.\", cal_value(11, 12, 3))\n",
        "print(\"3.\", cal_value(6, 2, 5))\n"
      ],
      "execution_count": null,
      "outputs": [
        {
          "output_type": "stream",
          "name": "stdout",
          "text": [
            "1. 6\n",
            "2. 132\n",
            "3. 30\n"
          ]
        }
      ]
    },
    {
      "cell_type": "code",
      "metadata": {
        "id": "v850t_ARgGCd",
        "colab": {
          "base_uri": "https://localhost:8080/"
        },
        "outputId": "ffbc7e3a-9426-4c1d-a557-a27e57e00f21"
      },
      "source": [
        "Num1 = 2\n",
        "Num2 = 6\n",
        "Num3 = 3\n",
        "Num4 = 12\n",
        "Num5 = 16\n",
        "\n",
        "Largest = Num1\n",
        "if Largest < Num2:\n",
        "  Largest = Num2\n",
        "print(\"Largest# after Step2\", Largest)\n",
        "if Largest < Num3:\n",
        "  Largest = Num3\n",
        "print(\"Largest# after Step3\", Largest)\n",
        "if Largest < Num4:\n",
        "  Largest = Num4\n",
        "print(\"Largest# after Step4\", Largest)\n",
        "if Largest < Num5:\n",
        "  Largest = Num5\n",
        "print(\"Largest# after Step5\", Largest)\n",
        "print(\"The largest number is\", Largest)\n"
      ],
      "execution_count": null,
      "outputs": [
        {
          "output_type": "stream",
          "name": "stdout",
          "text": [
            "Largest# after Step2 6\n",
            "Largest# after Step3 6\n",
            "Largest# after Step4 12\n",
            "Largest# after Step5 16\n",
            "The largest number is 16\n"
          ]
        }
      ]
    },
    {
      "cell_type": "code",
      "metadata": {
        "id": "HIqv3szIYaaS",
        "colab": {
          "base_uri": "https://localhost:8080/"
        },
        "outputId": "5da9933f-7827-4828-8812-d592744918e2"
      },
      "source": [
        "a = [2, 4, 6]\n",
        "b = [-1, 0, 1]\n",
        "\n",
        "# a + b\n",
        "sumab = []\n",
        "\n",
        "# 1.5a - 2b\n",
        "diffab = []\n",
        "\n",
        "# 0.5ab\n",
        "halfab = []\n",
        "\n",
        "for i in range(len(a)):\n",
        "  sumab.append(a[i] + b[i])\n",
        "  diffab.append(1.5*a[i] - 2*b[i])\n",
        "  halfab.append(0.5 * a[i] * b[i])\n",
        "\n",
        "\n",
        "print(f\"a + b = {sumab}\")\n",
        "print(f\"1.5a - 2b = {diffab}\")\n",
        "print(f\"0.5ab = {halfab}\")\n"
      ],
      "execution_count": null,
      "outputs": [
        {
          "output_type": "stream",
          "name": "stdout",
          "text": [
            "a + b = [1, 4, 7]\n",
            "1.5a - 2b = [5.0, 6.0, 7.0]\n",
            "0.5ab = [-1.0, 0.0, 3.0]\n"
          ]
        }
      ]
    },
    {
      "cell_type": "code",
      "metadata": {
        "colab": {
          "base_uri": "https://localhost:8080/"
        },
        "id": "DRfuzOiYkamP",
        "outputId": "ccb24f7c-ce0d-4d6d-9e8b-9704ab7fb11c"
      },
      "source": [
        "import math\n",
        "π = round(math.pi,2)\n",
        "angles = [\"0\", \"π/2\", \"π\", \"3*π/2\", \"2*π\"]\n",
        "\n",
        "for angle in angles:\n",
        "  print(f\"sin({angle}) = {round(math.sin(eval(angle)))}\")\n",
        "  print(f\"cosine({angle}) = {round(math.cos(eval(angle)))}\")\n",
        "  print(f\"Angle in degree = {eval(angle) * 180 / π}\")\n"
      ],
      "execution_count": null,
      "outputs": [
        {
          "output_type": "stream",
          "name": "stdout",
          "text": [
            "sin(0) = 0\n",
            "cosine(0) = 1\n",
            "Angle in degree = 0.0\n",
            "sin(π/2) = 1\n",
            "cosine(π/2) = 0\n",
            "Angle in degree = 90.0\n",
            "sin(π) = 0\n",
            "cosine(π) = -1\n",
            "Angle in degree = 180.0\n",
            "sin(3*π/2) = -1\n",
            "cosine(3*π/2) = 0\n",
            "Angle in degree = 270.0\n",
            "sin(2*π) = 0\n",
            "cosine(2*π) = 1\n",
            "Angle in degree = 360.0\n"
          ]
        }
      ]
    },
    {
      "cell_type": "code",
      "metadata": {
        "colab": {
          "base_uri": "https://localhost:8080/"
        },
        "id": "ZQGijE4UyeZ-",
        "outputId": "5215e82c-3b3e-4268-8301-97d25eb7139b"
      },
      "source": [
        "# Getting user input\n",
        "A = float(input(\"Enter a deposit amount: \"))\n",
        "W = float(input(\"Enter interest rate: \"))\n",
        "N = int(input(\"Enter period: \"))\n",
        "# initialise values to 0, Use it in later part\n",
        "totalDeposits = 0\n",
        "totalInterest = 0\n",
        "toDate = 0\n",
        "print(\n",
        "    f\"\\nTHE OF INTEREST MADE BY AN INVESTMENT OF ${A} EVERY MONTH AT AN INTEREST RATE OF {W}% FOR {N} MONTHS\\n\")\n",
        "# printing header\n",
        "print(\"%5s %15s %20s %25s %25s\" % (\"Month\", \"Deposit\", \"Total Deposits\",\n",
        "      \"This Month's interest\", \"Total-Interest Earned\"))\n",
        "print(\"%27s\" % (\"Total-Value To-Date\"))\n",
        "# printing data\n",
        "for month in range(1, N+1):\n",
        "    # As per formula calculate amount of money accumulated after N months\n",
        "    F = A*(1+W/1200)**month\n",
        "    # Add amount to total deposit on each iteration\n",
        "    totalDeposits += A\n",
        "    # Add F to todate value on each iteration\n",
        "    toDate += F\n",
        "    # calculae interest\n",
        "    interest = F - A\n",
        "    # calculate total interest\n",
        "    totalInterest += interest\n",
        "    # printing data\n",
        "    print(\"%5s %15s %15s %15s %25s\" % (\"{0:.2f}\".format(\n",
        "        month), A, totalDeposits, \"{0:.2f}\".format(interest), \"{0:.2f}\".format(totalInterest)))\n",
        "    print(\"%20s\" % (\"{0:.2f}\".format(toDate)))\n"
      ],
      "execution_count": null,
      "outputs": [
        {
          "output_type": "stream",
          "name": "stdout",
          "text": [
            "Enter a deposit amount: 100\n",
            "Enter interest rate: 12\n",
            "Enter period: 5\n",
            "\n",
            "THE OF INTEREST MADE BY AN INVESTMENT OF $100.0 EVERY MONTH AT AN INTEREST RATE OF 12.0% FOR 5 MONTHS\n",
            "\n",
            "Month         Deposit       Total Deposits     This Month's interest     Total-Interest Earned\n",
            "        Total-Value To-Date\n",
            " 1.00           100.0           100.0            1.00                      1.00\n",
            "              101.00\n",
            " 2.00           100.0           200.0            2.01                      3.01\n",
            "              203.01\n",
            " 3.00           100.0           300.0            3.03                      6.04\n",
            "              306.04\n",
            " 4.00           100.0           400.0            4.06                     10.10\n",
            "              410.10\n",
            " 5.00           100.0           500.0            5.10                     15.20\n",
            "              515.20\n"
          ]
        }
      ]
    },
    {
      "cell_type": "code",
      "metadata": {
        "id": "ZdpLq4Cr652Y",
        "colab": {
          "base_uri": "https://localhost:8080/",
          "height": 120
        },
        "outputId": "6b6255ef-5b11-466b-8a11-52ac3205b4e7"
      },
      "source": [
        "%matplotlib inline\n",
        "from matplotlib import pyplot as plt\n",
        "\n",
        "import numpy as np\n",
        "\n",
        "im_test = np.zeros([100, 100, 3], np.uint8)\n",
        "\n",
        "im_test_red = im_test.copy()\n",
        "im_test_red[:, :, 0] = 255\n",
        "\n",
        "im_test_green = im_test.copy()\n",
        "im_test_green[:, :, 1] = 255\n",
        "\n",
        "im_test_blue = im_test.copy()\n",
        "im_test_blue[:, :, 2] = 255\n",
        "\n",
        "plt.subplot(1, 4, 1); plt.imshow(im_test); plt.axis('off'); plt.title('image black')\n",
        "plt.subplot(1, 4, 2); plt.imshow(im_test_red); plt.axis('off'); plt.title('image red')\n",
        "plt.subplot(1, 4, 3); plt.imshow(im_test_green); plt.axis('off'); plt.title('image green')\n",
        "plt.subplot(1, 4, 4); plt.imshow(im_test_blue); plt.axis('off'); plt.title('image blue')\n",
        "\n",
        "\n",
        "plt.show()"
      ],
      "execution_count": null,
      "outputs": [
        {
          "output_type": "display_data",
          "data": {
            "image/png": "[encoded data removed]",
            "text/plain": [
              "<Figure size 432x288 with 4 Axes>"
            ]
          },
          "metadata": {
            "needs_background": "light"
          }
        }
      ]
    },
    {
      "cell_type": "code",
      "metadata": {
        "id": "uvDsy0KePMCW",
        "colab": {
          "base_uri": "https://localhost:8080/"
        },
        "outputId": "ec2ce591-2d28-404a-b17b-48b08faacdc1"
      },
      "source": [
        "nums1 = [4, 9, 5]\n",
        "nums2 = [9, 4, 9, 8, 4]\n",
        "\n",
        "# create empty list to store intersection elements\n",
        "intersection = []\n",
        "\n",
        "# loop in nums1 array\n",
        "for num in nums1:\n",
        "    # check if number of \n",
        "    # first array is in second array\n",
        "    if num in nums2:\n",
        "        # then append it into intersection array \n",
        "        intersection.append(num)\n",
        "\n",
        "# store unique elements. set() function removed duplicates elements\n",
        "# from an array and then convert it into list\n",
        "intersection = list(set(intersection))\n",
        "# print it\n",
        "print(f\"Input: nums1 = {nums1}, nums2 = {nums2}\")\n",
        "print(f\"Output: {intersection}\")"
      ],
      "execution_count": null,
      "outputs": [
        {
          "output_type": "stream",
          "name": "stdout",
          "text": [
            "Input: nums1 = [4, 9, 5], nums2 = [9, 4, 9, 8, 4]\n",
            "Output: [9, 4]\n"
          ]
        }
      ]
    },
    {
      "cell_type": "code",
      "metadata": {
        "id": "IvM0k70sPaG5"
      },
      "source": [
        "def encrypt(string):\n",
        "    words = string.split()\n",
        "    encryptedString = \"\"\n",
        "    for word in words:\n",
        "        encryptedString += word[0]\n",
        "    return encryptedString\n"
      ],
      "execution_count": null,
      "outputs": []
    },
    {
      "cell_type": "code",
      "metadata": {
        "id": "u16Sn0aoTp1G",
        "colab": {
          "base_uri": "https://localhost:8080/"
        },
        "outputId": "34147cf4-b4d0-48a7-aaf4-9979d9b42469"
      },
      "source": [
        "#Start\n",
        "\n",
        "#Get Users Input for Initial Deposit\n",
        "P = float(input('Enter the Initial Deposit : $ '))\n",
        "\n",
        "while P != 0:\n",
        "    #Get Initial Deposit Date\n",
        "    from datetime import datetime\n",
        "    date1 = str(input('Enter date(YYYY-MM-DD): ')) #date\n",
        "    initial_date = datetime.strptime(date1, \"%Y-%m-%d\") #initial date\n",
        "\n",
        "    #if-elif-else statements for interest rate\n",
        "    if P <= 100: # Initial deposit of $100.00 and below receives interest rate (r) of 2%\n",
        "        r = '2'\n",
        "    elif P <= 500: # Initial deposit over $100.00 to $500.00 receives interest rate (r) of 3%\n",
        "        r = '3'\n",
        "    elif P <= 1000: # Initial deposit of over $500.00 up to $1,000.00 receives interest rate (r) of 5%\n",
        "        r = '5'\n",
        "    else: # Initial deposit over $1000.00 receives an interest rate (r) of 6%\n",
        "        r = '6'\n",
        "\n",
        "    # Convert to interest rate P\n",
        "    i = float(r) / 100 # r is set to float data type to perform floating-point division\n",
        "\n",
        "    n = '12' #Number of times compounded\n",
        "    t = '5' #Accounts duration\n",
        "\n",
        "    # Calculate amount\n",
        "    A = P*((1+float(i)/int(n))**(int(n)*int(t)))\n",
        "\n",
        "    maturity_date = initial_date.replace(year = initial_date.year + 5) #adding 5 years\n",
        "\n",
        "    # output\n",
        "    print('\\nInitial Deposit: ${:.2f}'.format(P),'\\nDeposit Date: ' , initial_date, '\\nAnnual Interest rate: ',r, '%','\\nAmount after', t,\n",
        "    'years :', '${:,.2f}'.format(A),'\\nMaturity Date:' , maturity_date)\n",
        "\n",
        "\n",
        "    #Get Users Input for Initial Deposit\n",
        "    P = float(input('Enter the Initial Deposit : $ '))\n",
        "\n",
        "# end of program"
      ],
      "execution_count": null,
      "outputs": [
        {
          "name": "stdout",
          "output_type": "stream",
          "text": [
            "Enter the Initial Deposit : $ 200\n",
            "Enter date(YYYY-MM-DD): 2020-05-15\n",
            "\n",
            "Initial Deposit: $200.00 \n",
            "Deposit Date:  2020-05-15 00:00:00 \n",
            "Annual Interest rate:  3 % \n",
            "Amount after 5 years : $232.32 \n",
            "Maturity Date: 2025-05-15 00:00:00\n",
            "Enter the Initial Deposit : $ 500\n",
            "Enter date(YYYY-MM-DD): 2020-11-23\n",
            "\n",
            "Initial Deposit: $500.00 \n",
            "Deposit Date:  2020-11-23 00:00:00 \n",
            "Annual Interest rate:  3 % \n",
            "Amount after 5 years : $580.81 \n",
            "Maturity Date: 2025-11-23 00:00:00\n",
            "Enter the Initial Deposit : $ 1000\n",
            "Enter date(YYYY-MM-DD): 2020-06-15\n",
            "\n",
            "Initial Deposit: $1000.00 \n",
            "Deposit Date:  2020-06-15 00:00:00 \n",
            "Annual Interest rate:  5 % \n",
            "Amount after 5 years : $1,283.36 \n",
            "Maturity Date: 2025-06-15 00:00:00\n",
            "Enter the Initial Deposit : $ 1500\n",
            "Enter date(YYYY-MM-DD): 2020-10-10\n",
            "\n",
            "Initial Deposit: $1500.00 \n",
            "Deposit Date:  2020-10-10 00:00:00 \n",
            "Annual Interest rate:  6 % \n",
            "Amount after 5 years : $2,023.28 \n",
            "Maturity Date: 2025-10-10 00:00:00\n",
            "Enter the Initial Deposit : $ 0\n"
          ]
        }
      ]
    },
    {
      "cell_type": "code",
      "metadata": {
        "colab": {
          "base_uri": "https://localhost:8080/"
        },
        "id": "HwTSj1HUaNER",
        "outputId": "85a8b7bd-5dd8-4503-fb86-e683a021340c"
      },
      "source": [
        "# Taking input\n",
        "pizza = int(input(\"How many amount you want to sell Pizza?: \"))\n",
        "bread = int(input(\"How many amount you want to sell Bread?: \"))\n",
        "cookies = int(input(\"How many amount you want to sell Cookies?: \"))\n",
        "\n",
        "# initializing items\n",
        "flour = 0\n",
        "yeast = 0\n",
        "sugar = 0\n",
        "salt = 0\n",
        "oil = 0\n",
        "butter = 0\n",
        "eggs = 0\n",
        "\n",
        "# To calculate total ingredients required for pizza\n",
        "for i in range(pizza):\n",
        "    flour += 2\n",
        "    yeast += 1\n",
        "    sugar += 1.5\n",
        "    salt += 3/4\n",
        "    oil += 1/4\n",
        "\n",
        "# To calculate total ingredients required for bread\n",
        "for i in range(bread):\n",
        "    flour += 6\n",
        "    yeast += 1.5\n",
        "    sugar += 16/2        # since 1 cup sugar = 16 Tbsp. sugar \n",
        "    salt += 1.5\n",
        "    oil += 1/4\n",
        "\n",
        "# To calculate total ingredients required for cookies\n",
        "for i in range(cookies):\n",
        "    flour += 8\n",
        "    sugar += 2*16\n",
        "    butter += 2.5\n",
        "    eggs += 2\n",
        "\n",
        "# Printing output\n",
        "print(\"\\nTotal ingredients need to be ordered are: \")\n",
        "print(f\"%-10s:  {flour} cups\" %(\"Flour\"))\n",
        "print(f\"%-10s:  {yeast} packets\" %(\"Yeast\"))\n",
        "print(f\"%-10s:  %s Tbsp\" %(\"Sugar\", \"{0:.1f}\".format(sugar/16)))\n",
        "print(f\"%-10s:  {salt} Tbsp\" %(\"Salt\"))\n",
        "print(f\"%-10s:  {oil} cups\" %(\"Oil\"))\n",
        "print(f\"%-10s:  {butter} cups\" %(\"Butter\"))\n",
        "print(f\"%-10s:  {eggs} Eggs\" %(\"Eggs\"))\n"
      ],
      "execution_count": null,
      "outputs": [
        {
          "output_type": "stream",
          "name": "stdout",
          "text": [
            "How many amount you want to sell Pizza?: 1\n",
            "How many amount you want to sell Bread?: 1\n",
            "How many amount you want to sell Cookies?: 1\n",
            "\n",
            "Total ingredients need to be ordered are: \n",
            "Flour     :  16 cups\n",
            "Yeast     :  2.5 packets\n",
            "Sugar     :  2.6 Tbsp\n",
            "Salt      :  2.25 Tbsp\n",
            "Oil       :  0.5 cups\n",
            "Butter    :  2.5 cups\n",
            "Eggs      :  2 Eggs\n"
          ]
        }
      ]
    },
    {
      "cell_type": "code",
      "metadata": {
        "id": "SQteRpJY4ga2",
        "colab": {
          "base_uri": "https://localhost:8080/",
          "height": 697
        },
        "outputId": "2b83fc84-300b-4114-f932-bbd4d8fc40a0"
      },
      "source": [
        "# os allows us to clear the screen in a actual console or terminal\n",
        "import os\n",
        "import random\n",
        "\n",
        "# Create objects for balances and transaction\n",
        "accounts = {'mhardy': {'Pin': 1234, 'Name': 'Max Bri', 'C': 100.00, 'S': 750.50}, 'toto22': {'Pin': 9999, 'Name': 'Toto Momo', 'C': 1.00, 'S': 25.50}}\n",
        "\n",
        "# Allow 3 invalid pin entries\n",
        "tries = 1\n",
        "pin_tries = 1\n",
        "max_tries = 3\n",
        "pin_found = False\n",
        "\n",
        "username = input('Welcome to Cactus Bank.  Please enter your username: ')\n",
        "\n",
        "if username not in accounts:\n",
        "    # nameFound == False:\n",
        "    print(f\"{username}, Didn't find your username.\")\n",
        "    ans = input(\"Do you want to create an account (Y/N)? \").lower()\n",
        "    # if len((ans) > 0) :\n",
        "    if ans[0] != 'y':\n",
        "        print('Thank you for visiting Catcus Bank.  Come back soon.')\n",
        "        tries = max_tries + 1\n",
        "    else:\n",
        "        # Adding a new username to a dictionary\n",
        "        accounts[username] = dict()\n",
        "        # while addAccount == False & pin_tries <= max_tries:\n",
        "        ans1 = int(input('Enter 1 to create a pin yourself or 2 and the system will create a pin for you: '))\n",
        "        # print(ans1)\n",
        "        if ans1 == 1:\n",
        "            while (pin_tries <= max_tries):\n",
        "                pin = int(input('Select a number between 1 and 9999 as your pin: '))\n",
        "                print(pin)\n",
        "                if 0 < pin < 1000:\n",
        "                    accounts[username] = pin  # might have to tweak\n",
        "                    pin_found = True\n",
        "                    pin_tries = max_tries + 1\n",
        "                else:\n",
        "                    print('Invalid pin entered.')\n",
        "                    pin_tries += 1\n",
        "                    if pin_tries > max_tries:\n",
        "                        print('Please try later ....')\n",
        "                        tries = max_tries + 1\n",
        "        elif ans1 == 2:\n",
        "            pin = random.randint(1, 9999)\n",
        "            print(\"Your pin is: \", pin)\n",
        "            accounts[username] = pin  # might have to tweak\n",
        "            tries = 1\n",
        "            pin_found = True\n",
        "        else:\n",
        "            print('Invalid option! Thank you for visiting Catcus Bank.  Come back soon.')\n",
        "            tries = max_tries + 1\n",
        "\n",
        "    # Prompt to ask for name and storing it in dictionary\n",
        "    accounts['Name'] = input('Please enter your name: ')\n",
        "\n",
        "    while True:\n",
        "        try:\n",
        "            # Prompt to ask the user for the amount of money they want to add in C account\n",
        "            accounts[username]['C'] = float(input('Enter the amount you will deposit to the checking account: '))\n",
        "            if float(accounts[username]['C']) <= 0.0:\n",
        "                raise TypeError\n",
        "        except ValueError:\n",
        "            print('Invalid number entered. The current balance will be 0.0')\n",
        "        except TypeError:\n",
        "            print('A negative number was entered. The current balance will be 0.0')\n",
        "        else:\n",
        "            if pin_found == True:\n",
        "                print(\"Please remember your pin.\")\n",
        "                print(\"The system will require you to enter it again.\")\n",
        "                input(\"Press Enter to continue...\")\n",
        "                os.system('clear')\n",
        "\n",
        "while tries <= max_tries:\n",
        "    # Print bank title and menu\n",
        "    print(f'{\"Cactus Bank\":^30}\\n')\n",
        "    selection = input('Enter pin or x to exit application: ').casefold()\n",
        "\n",
        "    # determine exit, pin not found, or correct pin found\n",
        "    if selection == 'x':\n",
        "        break\n",
        "    elif int(selection) != accounts[username]['Pin']:\n",
        "\n",
        "        # clear screen\n",
        "        os.system('clear')\n",
        "\n",
        "        print(f'Invalid pin. Attempt {tries} of {max_tries}. Please Try again')\n",
        "        if tries == max_tries:\n",
        "            print('Locked out!  Exiting program')\n",
        "        # increment tries\n",
        "        tries += 1\n",
        "    else:\n",
        "        # Upgrade: successful pin entry. reset tries and save pin\n",
        "        tries = 1\n",
        "        pin = selection\n",
        "\n",
        "        # clear screen\n",
        "        os.system('clear')\n",
        "\n",
        "        # Prints Welcome message\n",
        "        print('Welcome', accounts[username]['Name'])\n",
        "\n",
        "        # Prompt to check if user enters C or S\n",
        "        while True:\n",
        "            print('\\tSelect Account')\n",
        "            selection = input('Enter C or S for (C)heckings or (S)avings: ')\n",
        "            try:\n",
        "                if selection != 'C' and selection != 'S':\n",
        "                    raise ValueError('Incorrect Selection. You must enter C or S')\n",
        "            except ValueError as ex:\n",
        "                print(ex)\n",
        "            else:\n",
        "                os.system('clear')\n",
        "                print('Opening {selection} Account...\\n')\n",
        "                break\n",
        "\n",
        "        # Upgrade: Removed slicing and w/d entry - New Instructions\n",
        "        print('Transaction instructions:')\n",
        "        print(' - Withdrawal enter a negative dollar amount: -20.00.')\n",
        "        print(' - Deposit enter a positive dollar amount: 10.50')\n",
        "\n",
        "        if selection == 'C':\n",
        "            print(f\"\\nBalance:  ${accounts[username]['C']: .2f}\")\n",
        "        else:\n",
        "            print(f\"\\nBalance:  ${accounts[username]['S']: .2f}\")\n",
        "\n",
        "        amount = float()\n",
        "        try:\n",
        "            amount = float(input(f'Enter transaction amount: '))\n",
        "        except Exception:\n",
        "            print('Bad Amount - No Transaction.')\n",
        "            amount = 0.0\n",
        "\n",
        "        if (amount + accounts[username][selection]) >= 0:\n",
        "            accounts[username][selection] += amount\n",
        "            print(f\"Transaction complete. New balance is {accounts[username][selection]: .2f}\")\n",
        "        else:\n",
        "            print('Insufficient Funds. Transaction Cancelled.')\n",
        "\n",
        "# end of application loop"
      ],
      "execution_count": null,
      "outputs": [
        {
          "output_type": "stream",
          "name": "stdout",
          "text": [
            "Welcome to Cactus Bank.  Please enter your username: ddd2\n",
            "ddd2, Didn't find your username.\n",
            "Do you want to create an account (Y/N)? y\n",
            "Enter 1 to create a pin yourself or 2 and the system will create a pin for you: 2\n",
            "Your pin is:  4307\n",
            "Please enter your name: Mary Smith\n",
            "Enter the amount you will deposit to the checking account: 100\n",
            "A negative number was entered. The current balance will be 0.0\n",
            "Enter the amount you will deposit to the checking account: 100.0\n",
            "A negative number was entered. The current balance will be 0.0\n"
          ]
        },
        {
          "output_type": "error",
          "ename": "KeyboardInterrupt",
          "evalue": "ignored",
          "traceback": [
            "\u001b[0;31m---------------------------------------------------------------------------\u001b[0m",
            "\u001b[0;31mKeyboardInterrupt\u001b[0m                         Traceback (most recent call last)",
            "\u001b[0;32m/usr/local/lib/python3.7/dist-packages/ipykernel/kernelbase.py\u001b[0m in \u001b[0;36m_input_request\u001b[0;34m(self, prompt, ident, parent, password)\u001b[0m\n\u001b[1;32m    728\u001b[0m             \u001b[0;32mtry\u001b[0m\u001b[0;34m:\u001b[0m\u001b[0;34m\u001b[0m\u001b[0;34m\u001b[0m\u001b[0m\n\u001b[0;32m--> 729\u001b[0;31m                 \u001b[0mident\u001b[0m\u001b[0;34m,\u001b[0m \u001b[0mreply\u001b[0m \u001b[0;34m=\u001b[0m \u001b[0mself\u001b[0m\u001b[0;34m.\u001b[0m\u001b[0msession\u001b[0m\u001b[0;34m.\u001b[0m\u001b[0mrecv\u001b[0m\u001b[0;34m(\u001b[0m\u001b[0mself\u001b[0m\u001b[0;34m.\u001b[0m\u001b[0mstdin_socket\u001b[0m\u001b[0;34m,\u001b[0m \u001b[0;36m0\u001b[0m\u001b[0;34m)\u001b[0m\u001b[0;34m\u001b[0m\u001b[0;34m\u001b[0m\u001b[0m\n\u001b[0m\u001b[1;32m    730\u001b[0m             \u001b[0;32mexcept\u001b[0m \u001b[0mException\u001b[0m\u001b[0;34m:\u001b[0m\u001b[0;34m\u001b[0m\u001b[0;34m\u001b[0m\u001b[0m\n",
            "\u001b[0;32m/usr/local/lib/python3.7/dist-packages/jupyter_client/session.py\u001b[0m in \u001b[0;36mrecv\u001b[0;34m(self, socket, mode, content, copy)\u001b[0m\n\u001b[1;32m    802\u001b[0m         \u001b[0;32mtry\u001b[0m\u001b[0;34m:\u001b[0m\u001b[0;34m\u001b[0m\u001b[0;34m\u001b[0m\u001b[0m\n\u001b[0;32m--> 803\u001b[0;31m             \u001b[0mmsg_list\u001b[0m \u001b[0;34m=\u001b[0m \u001b[0msocket\u001b[0m\u001b[0;34m.\u001b[0m\u001b[0mrecv_multipart\u001b[0m\u001b[0;34m(\u001b[0m\u001b[0mmode\u001b[0m\u001b[0;34m,\u001b[0m \u001b[0mcopy\u001b[0m\u001b[0;34m=\u001b[0m\u001b[0mcopy\u001b[0m\u001b[0;34m)\u001b[0m\u001b[0;34m\u001b[0m\u001b[0;34m\u001b[0m\u001b[0m\n\u001b[0m\u001b[1;32m    804\u001b[0m         \u001b[0;32mexcept\u001b[0m \u001b[0mzmq\u001b[0m\u001b[0;34m.\u001b[0m\u001b[0mZMQError\u001b[0m \u001b[0;32mas\u001b[0m \u001b[0me\u001b[0m\u001b[0;34m:\u001b[0m\u001b[0;34m\u001b[0m\u001b[0;34m\u001b[0m\u001b[0m\n",
            "\u001b[0;32m/usr/local/lib/python3.7/dist-packages/zmq/sugar/socket.py\u001b[0m in \u001b[0;36mrecv_multipart\u001b[0;34m(self, flags, copy, track)\u001b[0m\n\u001b[1;32m    618\u001b[0m         \"\"\"\n\u001b[0;32m--> 619\u001b[0;31m         \u001b[0mparts\u001b[0m \u001b[0;34m=\u001b[0m \u001b[0;34m[\u001b[0m\u001b[0mself\u001b[0m\u001b[0;34m.\u001b[0m\u001b[0mrecv\u001b[0m\u001b[0;34m(\u001b[0m\u001b[0mflags\u001b[0m\u001b[0;34m,\u001b[0m \u001b[0mcopy\u001b[0m\u001b[0;34m=\u001b[0m\u001b[0mcopy\u001b[0m\u001b[0;34m,\u001b[0m \u001b[0mtrack\u001b[0m\u001b[0;34m=\u001b[0m\u001b[0mtrack\u001b[0m\u001b[0;34m)\u001b[0m\u001b[0;34m]\u001b[0m\u001b[0;34m\u001b[0m\u001b[0;34m\u001b[0m\u001b[0m\n\u001b[0m\u001b[1;32m    620\u001b[0m         \u001b[0;31m# have first part already, only loop while more to receive\u001b[0m\u001b[0;34m\u001b[0m\u001b[0;34m\u001b[0m\u001b[0;34m\u001b[0m\u001b[0m\n",
            "\u001b[0;32mzmq/backend/cython/socket.pyx\u001b[0m in \u001b[0;36mzmq.backend.cython.socket.Socket.recv\u001b[0;34m()\u001b[0m\n",
            "\u001b[0;32mzmq/backend/cython/socket.pyx\u001b[0m in \u001b[0;36mzmq.backend.cython.socket.Socket.recv\u001b[0;34m()\u001b[0m\n",
            "\u001b[0;32mzmq/backend/cython/socket.pyx\u001b[0m in \u001b[0;36mzmq.backend.cython.socket._recv_copy\u001b[0;34m()\u001b[0m\n",
            "\u001b[0;32m/usr/local/lib/python3.7/dist-packages/zmq/backend/cython/checkrc.pxd\u001b[0m in \u001b[0;36mzmq.backend.cython.checkrc._check_rc\u001b[0;34m()\u001b[0m\n",
            "\u001b[0;31mKeyboardInterrupt\u001b[0m: ",
            "\nDuring handling of the above exception, another exception occurred:\n",
            "\u001b[0;31mKeyboardInterrupt\u001b[0m                         Traceback (most recent call last)",
            "\u001b[0;32m<ipython-input-7-fe536735f6d2>\u001b[0m in \u001b[0;36m<module>\u001b[0;34m()\u001b[0m\n\u001b[1;32m     58\u001b[0m         \u001b[0;32mtry\u001b[0m\u001b[0;34m:\u001b[0m\u001b[0;34m\u001b[0m\u001b[0;34m\u001b[0m\u001b[0m\n\u001b[1;32m     59\u001b[0m             \u001b[0;31m# Prompt to ask the user for the amount of money they want to add in C account\u001b[0m\u001b[0;34m\u001b[0m\u001b[0;34m\u001b[0m\u001b[0;34m\u001b[0m\u001b[0m\n\u001b[0;32m---> 60\u001b[0;31m             \u001b[0maccounts\u001b[0m\u001b[0;34m[\u001b[0m\u001b[0musername\u001b[0m\u001b[0;34m]\u001b[0m\u001b[0;34m[\u001b[0m\u001b[0;34m'C'\u001b[0m\u001b[0;34m]\u001b[0m \u001b[0;34m=\u001b[0m \u001b[0mfloat\u001b[0m\u001b[0;34m(\u001b[0m\u001b[0minput\u001b[0m\u001b[0;34m(\u001b[0m\u001b[0;34m'Enter the amount you will deposit to the checking account: '\u001b[0m\u001b[0;34m)\u001b[0m\u001b[0;34m)\u001b[0m\u001b[0;34m\u001b[0m\u001b[0;34m\u001b[0m\u001b[0m\n\u001b[0m\u001b[1;32m     61\u001b[0m             \u001b[0;32mif\u001b[0m \u001b[0mfloat\u001b[0m\u001b[0;34m(\u001b[0m\u001b[0maccounts\u001b[0m\u001b[0;34m[\u001b[0m\u001b[0musername\u001b[0m\u001b[0;34m]\u001b[0m\u001b[0;34m[\u001b[0m\u001b[0;34m'C'\u001b[0m\u001b[0;34m]\u001b[0m\u001b[0;34m)\u001b[0m \u001b[0;34m<=\u001b[0m \u001b[0;36m0.0\u001b[0m\u001b[0;34m:\u001b[0m\u001b[0;34m\u001b[0m\u001b[0;34m\u001b[0m\u001b[0m\n\u001b[1;32m     62\u001b[0m                 \u001b[0;32mraise\u001b[0m \u001b[0mTypeError\u001b[0m\u001b[0;34m\u001b[0m\u001b[0;34m\u001b[0m\u001b[0m\n",
            "\u001b[0;32m/usr/local/lib/python3.7/dist-packages/ipykernel/kernelbase.py\u001b[0m in \u001b[0;36mraw_input\u001b[0;34m(self, prompt)\u001b[0m\n\u001b[1;32m    702\u001b[0m             \u001b[0mself\u001b[0m\u001b[0;34m.\u001b[0m\u001b[0m_parent_ident\u001b[0m\u001b[0;34m,\u001b[0m\u001b[0;34m\u001b[0m\u001b[0;34m\u001b[0m\u001b[0m\n\u001b[1;32m    703\u001b[0m             \u001b[0mself\u001b[0m\u001b[0;34m.\u001b[0m\u001b[0m_parent_header\u001b[0m\u001b[0;34m,\u001b[0m\u001b[0;34m\u001b[0m\u001b[0;34m\u001b[0m\u001b[0m\n\u001b[0;32m--> 704\u001b[0;31m             \u001b[0mpassword\u001b[0m\u001b[0;34m=\u001b[0m\u001b[0;32mFalse\u001b[0m\u001b[0;34m,\u001b[0m\u001b[0;34m\u001b[0m\u001b[0;34m\u001b[0m\u001b[0m\n\u001b[0m\u001b[1;32m    705\u001b[0m         )\n\u001b[1;32m    706\u001b[0m \u001b[0;34m\u001b[0m\u001b[0m\n",
            "\u001b[0;32m/usr/local/lib/python3.7/dist-packages/ipykernel/kernelbase.py\u001b[0m in \u001b[0;36m_input_request\u001b[0;34m(self, prompt, ident, parent, password)\u001b[0m\n\u001b[1;32m    732\u001b[0m             \u001b[0;32mexcept\u001b[0m \u001b[0mKeyboardInterrupt\u001b[0m\u001b[0;34m:\u001b[0m\u001b[0;34m\u001b[0m\u001b[0;34m\u001b[0m\u001b[0m\n\u001b[1;32m    733\u001b[0m                 \u001b[0;31m# re-raise KeyboardInterrupt, to truncate traceback\u001b[0m\u001b[0;34m\u001b[0m\u001b[0;34m\u001b[0m\u001b[0;34m\u001b[0m\u001b[0m\n\u001b[0;32m--> 734\u001b[0;31m                 \u001b[0;32mraise\u001b[0m \u001b[0mKeyboardInterrupt\u001b[0m\u001b[0;34m\u001b[0m\u001b[0;34m\u001b[0m\u001b[0m\n\u001b[0m\u001b[1;32m    735\u001b[0m             \u001b[0;32melse\u001b[0m\u001b[0;34m:\u001b[0m\u001b[0;34m\u001b[0m\u001b[0;34m\u001b[0m\u001b[0m\n\u001b[1;32m    736\u001b[0m                 \u001b[0;32mbreak\u001b[0m\u001b[0;34m\u001b[0m\u001b[0;34m\u001b[0m\u001b[0m\n",
            "\u001b[0;31mKeyboardInterrupt\u001b[0m: "
          ]
        }
      ]
    },
    {
      "cell_type": "code",
      "metadata": {
        "id": "XvsdyoSQzsUj",
        "colab": {
          "base_uri": "https://localhost:8080/"
        },
        "outputId": "c543112c-0b2f-45b8-9494-747ea93cf70f"
      },
      "source": [
        "# 3.1\n",
        "names = ['Arisha', 'Sadia', 'Kashaf', 'Rajya']\n",
        "for i in range(len(names)):\n",
        "  print(names[i])"
      ],
      "execution_count": null,
      "outputs": [
        {
          "output_type": "stream",
          "name": "stdout",
          "text": [
            "Arisha\n",
            "Sadia\n",
            "Kashaf\n",
            "Rajya\n"
          ]
        }
      ]
    },
    {
      "cell_type": "code",
      "metadata": {
        "colab": {
          "base_uri": "https://localhost:8080/"
        },
        "id": "qNjfXrfVHy7S",
        "outputId": "8059606c-66c0-41e4-b945-08a4fedc8ef9"
      },
      "source": [
        "# 3.7\n",
        "guestList = ['Arisha', 'Kashaf', 'Rajya']\n",
        "for i in range(len(guestList)):\n",
        "  print(f\"Hello {guestList[i]}, I am inviting you to dinner. Please come.\")\n",
        "print(f\"\\n{guestList[0]} will not come.\")\n",
        "\n",
        "guestList[0] = 'Shalini'\n",
        "\n",
        "for i in range(len(guestList)):\n",
        "  print(f\"Hello {guestList[i]}, I am inviting you to dinner. Please come.\")\n",
        "\n",
        "print(\"\\nI found a bigger dinner table\")\n",
        "guestList.insert(0, 'Saem')\n",
        "guestList.insert(int(len(guestList)/2), 'Imran')\n",
        "guestList.append('Parwez')\n",
        "\n",
        "for i in range(len(guestList)):\n",
        "  print(f\"Hello {guestList[i]}, I am inviting you to dinner. Please come.\")\n",
        "\n",
        "print(\"\\nI can invite only two people for dinner\")\n",
        "\n",
        "while len(guestList) > 2:\n",
        "  print(f\"Sorry {guestList.pop()}, I can't invite you for the dinner\")\n",
        "\n",
        "for i in range(len(guestList)):\n",
        "  print(f\"{guestList[i]}, You are still invited for the dinner.\")\n",
        "\n",
        "del guestList[-1::-1]\n",
        "print(guestList)"
      ],
      "execution_count": null,
      "outputs": [
        {
          "output_type": "stream",
          "name": "stdout",
          "text": [
            "Hello Arisha, I am inviting you to dinner. Please come.\n",
            "Hello Kashaf, I am inviting you to dinner. Please come.\n",
            "Hello Rajya, I am inviting you to dinner. Please come.\n",
            "\n",
            "Arisha will not come.\n",
            "Hello Shalini, I am inviting you to dinner. Please come.\n",
            "Hello Kashaf, I am inviting you to dinner. Please come.\n",
            "Hello Rajya, I am inviting you to dinner. Please come.\n",
            "\n",
            "I found a bigger dinner table\n",
            "Hello Saem, I am inviting you to dinner. Please come.\n",
            "Hello Shalini, I am inviting you to dinner. Please come.\n",
            "Hello Imran, I am inviting you to dinner. Please come.\n",
            "Hello Kashaf, I am inviting you to dinner. Please come.\n",
            "Hello Rajya, I am inviting you to dinner. Please come.\n",
            "Hello Parwez, I am inviting you to dinner. Please come.\n",
            "\n",
            "I can invite only two people for dinner\n",
            "Sorry Parwez, I can't invite you for the dinner\n",
            "Sorry Rajya, I can't invite you for the dinner\n",
            "Sorry Kashaf, I can't invite you for the dinner\n",
            "Sorry Imran, I can't invite you for the dinner\n",
            "Saem, You are still invited for the dinner.\n",
            "Shalini, You are still invited for the dinner.\n",
            "[]\n"
          ]
        }
      ]
    },
    {
      "cell_type": "code",
      "metadata": {
        "colab": {
          "base_uri": "https://localhost:8080/"
        },
        "id": "a3WY7rZ3IcLp",
        "outputId": "10cb357b-cb0f-4617-f81f-e6776971e377"
      },
      "source": [
        "# 3.8\n",
        "places = ['London', 'Paris', 'New York', 'Malaysia', 'Japan']\n",
        "sorted(places)\n",
        "print(places)\n",
        "\n",
        "sorted(places, reverse=True)\n",
        "print(places)\n",
        "\n",
        "places.reverse()\n",
        "print(places)\n",
        "\n",
        "places.reverse()\n",
        "print(places)\n",
        "\n",
        "places.sort()\n",
        "print(places)\n",
        "\n",
        "places.sort(reverse=True)\n",
        "print(places)"
      ],
      "execution_count": null,
      "outputs": [
        {
          "output_type": "stream",
          "name": "stdout",
          "text": [
            "['London', 'Paris', 'New York', 'Malaysia', 'Japan']\n",
            "['London', 'Paris', 'New York', 'Malaysia', 'Japan']\n",
            "['Japan', 'Malaysia', 'New York', 'Paris', 'London']\n",
            "['London', 'Paris', 'New York', 'Malaysia', 'Japan']\n",
            "['Japan', 'London', 'Malaysia', 'New York', 'Paris']\n",
            "['Paris', 'New York', 'Malaysia', 'London', 'Japan']\n"
          ]
        }
      ]
    },
    {
      "cell_type": "code",
      "metadata": {
        "colab": {
          "base_uri": "https://localhost:8080/"
        },
        "id": "wnb5hHwGNOai",
        "outputId": "7041c75c-f05d-4423-afbd-44b916bf30c2"
      },
      "source": [
        "# 4.1\n",
        "pizza = ['Cheese Pizza', 'Veggie Pizza', 'Pepperoni Pizza']\n",
        "for pizzaNames in pizza:\n",
        "  print(f\"I like {pizzaNames}.\")\n",
        "print(\"I love pizza, so much that i cant even eat it anymore.\\nI’m lactose intolerant now.\\nIt makes me sad bc i cant have my favorite food anymore :(\\nI really love pizza!\")"
      ],
      "execution_count": null,
      "outputs": [
        {
          "output_type": "stream",
          "name": "stdout",
          "text": [
            "I like Cheese Pizza.\n",
            "I like Veggie Pizza.\n",
            "I like Pepperoni Pizza.\n",
            "I love pizza, so much that i cant even eat it anymore.\n",
            "I’m lactose intolerant now.\n",
            "It makes me sad bc i cant have my favorite food anymore :(\n",
            "I really love pizza!\n"
          ]
        }
      ]
    },
    {
      "cell_type": "code",
      "metadata": {
        "colab": {
          "base_uri": "https://localhost:8080/"
        },
        "id": "F2q34EEHOydd",
        "outputId": "32b9acf9-b775-4087-d353-87396c222cbb"
      },
      "source": [
        "# 4.7\n",
        "threes = [3, 6, 9, 12, 15, 18, 21, 24, 27, 30]\n",
        "for i in range(len(threes)):\n",
        "  print(threes[i], end=\" \")"
      ],
      "execution_count": null,
      "outputs": [
        {
          "output_type": "stream",
          "name": "stdout",
          "text": [
            "3 6 9 12 15 18 21 24 27 30 "
          ]
        }
      ]
    },
    {
      "cell_type": "code",
      "metadata": {
        "id": "sCdglQlNQ5gu",
        "colab": {
          "base_uri": "https://localhost:8080/"
        },
        "outputId": "3f955228-a194-406c-f5e5-b9b9f9e7ef74"
      },
      "source": [
        "if __name__ == '__main__':\n",
        "  operations = ['+', '-', '/', '*', '**', '%', '//']\n",
        "  add, sub, mul, div, pow, mod, floor = 0, 0, 0, 0, 0, 0, 0\n",
        "  log = \"\\n\"\n",
        "  op = input(\"\\nEnter an operation: \")\n",
        "  while True:\n",
        "    # input validation loop\n",
        "    while (op not in operations):\n",
        "      print('Invalid input')\n",
        "      op = input(\"\\nEnter an operation: \")\n",
        "\n",
        "    a = int(input(\"\\nEnter the first number: \"))\n",
        "    b = int(input(\"Enter the second number: \"))\n",
        "\n",
        "    if op == '+':\n",
        "      add += 1\n",
        "      result = a + b\n",
        "    elif op == '-':\n",
        "      sub += 1\n",
        "      result = a - b\n",
        "    elif op == '*':\n",
        "      mul += 1\n",
        "      result = a * b\n",
        "    elif op == '/':\n",
        "      div += 1\n",
        "      result = a / b\n",
        "    elif op == '**':\n",
        "      pow += 1\n",
        "      result = a ** b\n",
        "    elif op == '%':\n",
        "      mod += 1\n",
        "      result = a % b\n",
        "    elif op == '//':\n",
        "      floor += 1\n",
        "      result = a // b\n",
        "\n",
        "    log = log + str(a) + op + str(b) + \"=\" + str(result) + \"\\n\"\n",
        "\n",
        "    answer = input(\"Do you want enter more calculations?[Y/n]: \")\n",
        "    if answer.lower() == 'y':\n",
        "      op = input(\"\\nEnter an operation: \")\n",
        "    else:\n",
        "      break\n",
        "\n",
        "  print(\"Printing Log: \")\n",
        "  print(log)\n",
        "  print(\"\\nOperator counts: \")\n",
        "  print(\"+ = \", add)\n",
        "  print(\"- = \", sub)\n",
        "  print(\"* = \", mul)\n",
        "  print(\"/ = \", div)\n",
        "  print(\"% = \", mod)\n",
        "  print(\"** = \", pow)\n",
        "  print(\"// = \", floor)"
      ],
      "execution_count": null,
      "outputs": [
        {
          "output_type": "stream",
          "name": "stdout",
          "text": [
            "\n",
            "Enter an operation: 8\n",
            "Invalid input\n",
            "\n",
            "Enter an operation: -\n",
            "\n",
            "Enter the first number: 10\n",
            "Enter the second number: 5\n",
            "Do you want enter more calculations?[Y/n]: y\n",
            "\n",
            "Enter an operation: +\n",
            "\n",
            "Enter the first number: 20\n",
            "Enter the second number: 3\n",
            "Do you want enter more calculations?[Y/n]: y\n",
            "\n",
            "Enter an operation: *\n",
            "\n",
            "Enter the first number: 5\n",
            "Enter the second number: 2\n",
            "Do you want enter more calculations?[Y/n]: y\n",
            "\n",
            "Enter an operation: %\n",
            "\n",
            "Enter the first number: 5\n",
            "Enter the second number: 2\n",
            "Do you want enter more calculations?[Y/n]: n\n",
            "Printing Log: \n",
            "\n",
            "10-5=5\n",
            "20+3=23\n",
            "5*2=10\n",
            "5%2=1\n",
            "\n",
            "\n",
            "Operator counts: \n",
            "+ =  1\n",
            "- =  1\n",
            "* =  1\n",
            "/ =  0\n",
            "% =  1\n",
            "** =  0\n",
            "// =  0\n"
          ]
        }
      ]
    },
    {
      "cell_type": "code",
      "metadata": {
        "colab": {
          "base_uri": "https://localhost:8080/"
        },
        "id": "ITQu7p1U8gsK",
        "outputId": "b2d1ba27-60b5-438d-80bd-ceed8aa4585b"
      },
      "source": [
        "def get_non_negative_float(prompt):\n",
        "  answer = 0\n",
        "  result = float(input(prompt))\n",
        "  while result <= answer :\n",
        "    print(\"Number must be at least zero.\")\n",
        "    result = float(input(prompt))\n",
        "  return result\n",
        "\n",
        "\n",
        "count = get_non_negative_float(\"Enter traffic volume: \")\n",
        "print(f'volume = {count}')\n",
        "# Does your function return a float?\n",
        "print(isinstance(count, float))\n",
        "\n",
        "print()\n",
        "\n",
        "count = get_non_negative_float(\"Enter the number of trucks: \")\n",
        "print(f'count = {count}')\n",
        "# Does your function return a float?\n",
        "print(isinstance(count, float))\n"
      ],
      "execution_count": null,
      "outputs": [
        {
          "output_type": "stream",
          "name": "stdout",
          "text": [
            "Enter traffic volume: -1\n",
            "Number must be at least zero.\n",
            "Enter traffic volume: -100\n",
            "Number must be at least zero.\n",
            "Enter traffic volume: 225\n",
            "volume = 225.0\n",
            "True\n",
            "\n",
            "Enter the number of trucks: -100\n",
            "Number must be at least zero.\n",
            "Enter the number of trucks: -1\n",
            "Number must be at least zero.\n",
            "Enter the number of trucks: -2\n",
            "Number must be at least zero.\n",
            "Enter the number of trucks: -3\n",
            "Number must be at least zero.\n",
            "Enter the number of trucks: 20000\n",
            "count = 20000.0\n",
            "True\n"
          ]
        }
      ]
    },
    {
      "cell_type": "code",
      "metadata": {
        "id": "hLtZbzSy86j1",
        "colab": {
          "base_uri": "https://localhost:8080/",
          "height": 231
        },
        "outputId": "d2fb13f5-5e51-474d-ba0e-b3cb224f4f25"
      },
      "source": [
        "a = {1, 2, 3}\n",
        "print(a)\n",
        "a[1] = 5  #replacing element at second index by 5\n",
        "print(a)"
      ],
      "execution_count": null,
      "outputs": [
        {
          "output_type": "stream",
          "name": "stdout",
          "text": [
            "{1, 2, 3}\n"
          ]
        },
        {
          "output_type": "error",
          "ename": "TypeError",
          "evalue": "ignored",
          "traceback": [
            "\u001b[0;31m---------------------------------------------------------------------------\u001b[0m",
            "\u001b[0;31mTypeError\u001b[0m                                 Traceback (most recent call last)",
            "\u001b[0;32m<ipython-input-11-63abd5fcb04e>\u001b[0m in \u001b[0;36m<module>\u001b[0;34m()\u001b[0m\n\u001b[1;32m      1\u001b[0m \u001b[0ma\u001b[0m \u001b[0;34m=\u001b[0m \u001b[0;34m{\u001b[0m\u001b[0;36m1\u001b[0m\u001b[0;34m,\u001b[0m \u001b[0;36m2\u001b[0m\u001b[0;34m,\u001b[0m \u001b[0;36m3\u001b[0m\u001b[0;34m}\u001b[0m\u001b[0;34m\u001b[0m\u001b[0;34m\u001b[0m\u001b[0m\n\u001b[1;32m      2\u001b[0m \u001b[0mprint\u001b[0m\u001b[0;34m(\u001b[0m\u001b[0ma\u001b[0m\u001b[0;34m)\u001b[0m\u001b[0;34m\u001b[0m\u001b[0;34m\u001b[0m\u001b[0m\n\u001b[0;32m----> 3\u001b[0;31m \u001b[0ma\u001b[0m\u001b[0;34m[\u001b[0m\u001b[0;36m1\u001b[0m\u001b[0;34m]\u001b[0m \u001b[0;34m=\u001b[0m \u001b[0;36m5\u001b[0m  \u001b[0;31m#replacing element at second index by 5\u001b[0m\u001b[0;34m\u001b[0m\u001b[0;34m\u001b[0m\u001b[0m\n\u001b[0m\u001b[1;32m      4\u001b[0m \u001b[0mprint\u001b[0m\u001b[0;34m(\u001b[0m\u001b[0ma\u001b[0m\u001b[0;34m)\u001b[0m\u001b[0;34m\u001b[0m\u001b[0;34m\u001b[0m\u001b[0m\n",
            "\u001b[0;31mTypeError\u001b[0m: 'set' object does not support item assignment"
          ]
        }
      ]
    },
    {
      "cell_type": "code",
      "metadata": {
        "colab": {
          "base_uri": "https://localhost:8080/"
        },
        "id": "I7INYcB8SO9S",
        "outputId": "cc1b6895-ee46-40e0-f091-fa07e188defa"
      },
      "source": [
        "try:\n",
        "  x = int(input(\"Enter first number: \"))\n",
        "  y = int(input(\"Enter second number: \"))\n",
        "  print(x + y)\n",
        "except:\n",
        "  print(\"Invalid input.\")"
      ],
      "execution_count": null,
      "outputs": [
        {
          "output_type": "stream",
          "name": "stdout",
          "text": [
            "Enter first number: 123\n",
            "Enter second number: a\n",
            "Invalid input.\n"
          ]
        }
      ]
    },
    {
      "cell_type": "code",
      "metadata": {
        "colab": {
          "base_uri": "https://localhost:8080/"
        },
        "id": "NIRfadwPS5CX",
        "outputId": "d6da538c-fe02-4426-9261-4ab654f52339"
      },
      "source": [
        "a = {1, 2, 3}\n",
        "print(a)\n",
        "a.add(5)  # adding 5 to set\n",
        "print(a)"
      ],
      "execution_count": null,
      "outputs": [
        {
          "output_type": "stream",
          "name": "stdout",
          "text": [
            "{1, 2, 3}\n",
            "{1, 2, 3, 5}\n"
          ]
        }
      ]
    },
    {
      "cell_type": "code",
      "metadata": {
        "id": "DztpFEm2ThPO",
        "colab": {
          "base_uri": "https://localhost:8080/"
        },
        "outputId": "85445782-fd39-43e2-dd3d-36dd4b8b7962"
      },
      "source": [
        "k = int(input())      # integer input\n",
        "d = float(input())    # float input\n",
        "s = input()           # string input\n",
        "print(f\"{s} {d} {k}\") # print\n",
        "print(f\"{k} {d} {s}\") # print"
      ],
      "execution_count": null,
      "outputs": [
        {
          "output_type": "stream",
          "name": "stdout",
          "text": [
            "15\n",
            "5.5\n",
            "hello\n",
            "hello 5.5 15\n",
            "15 5.5 hello\n"
          ]
        }
      ]
    },
    {
      "cell_type": "code",
      "metadata": {
        "id": "I-MoHcnajniF",
        "colab": {
          "base_uri": "https://localhost:8080/"
        },
        "outputId": "69699090-a00f-4967-f6db-60c33188ad85"
      },
      "source": [
        "def menu():\n",
        "    print(\"1. Addition\")\n",
        "    print(\"2. Subtraction\")\n",
        "    print(\"3. Multiplication\")\n",
        "    print(\"4. Division\")\n",
        "\n",
        "def get_input():\n",
        "    a = float(input(\"Enter first number: \"))\n",
        "    b = float(input(\"Enter second number: \"))\n",
        "    return a, b\n",
        "\n",
        "def main():\n",
        "    menu()\n",
        "    choice = input(\"Enter Your Choice: \")\n",
        "    while choice != 'Y':\n",
        "        if choice == \"1\":\n",
        "            a, b = get_input()\n",
        "            print(f\"{a} + {b} = {a+b}\\n\")\n",
        "        elif choice == \"2\":\n",
        "            a, b = get_input()\n",
        "            print(f\"{a} - {b} = {a-b}\\n\")\n",
        "        elif choice == \"3\":\n",
        "            a, b = get_input()\n",
        "            print(f\"{a} * {b} = {a*b}\\n\")\n",
        "        elif choice == \"4\":\n",
        "            a, b = get_input()\n",
        "            print(f\"{a} / {b} = {a/b}\\n\")\n",
        "      \n",
        "      menu()\n",
        "      choice = input(\"Enter Your Choice: \")\n",
        "\n",
        "main()\n"
      ],
      "execution_count": null,
      "outputs": [
        {
          "name": "stdout",
          "output_type": "stream",
          "text": [
            "1. Addition\n",
            "2. Subtraction\n",
            "3. Multiplication\n",
            "4. Division\n",
            "Enter Your Choice: 1\n",
            "Enter first number: 5\n",
            "Enter second number: 10\n",
            "5.0 + 10.0 = 15.0\n",
            "\n",
            "1. Addition\n",
            "2. Subtraction\n",
            "3. Multiplication\n",
            "4. Division\n",
            "Enter Your Choice: 2\n",
            "Enter first number: 20\n",
            "Enter second number: 5\n",
            "20.0 - 5.0 = 15.0\n",
            "\n",
            "1. Addition\n",
            "2. Subtraction\n",
            "3. Multiplication\n",
            "4. Division\n",
            "Enter Your Choice: 4\n",
            "Enter first number: 10\n",
            "Enter second number: 2\n",
            "10.0 / 2.0 = 5.0\n",
            "\n",
            "1. Addition\n",
            "2. Subtraction\n",
            "3. Multiplication\n",
            "4. Division\n",
            "Enter Your Choice: Y\n"
          ]
        }
      ]
    },
    {
      "cell_type": "code",
      "metadata": {
        "id": "nCeEvLk-RyYD",
        "colab": {
          "base_uri": "https://localhost:8080/"
        },
        "outputId": "721e6d1f-7fb8-4a7a-a4d5-6ab1282f7cb4"
      },
      "source": [
        "keys = [\"Arisha\", \"Kashaf\", \"Shalini\"]\n",
        "\n",
        "for ids in keys:\n",
        "  print(ids, type(ids))\n",
        "\n",
        "print()\n",
        "\n",
        "for ids in range(len(keys)):\n",
        "  print(ids, type(ids))\n"
      ],
      "execution_count": null,
      "outputs": [
        {
          "output_type": "stream",
          "name": "stdout",
          "text": [
            "Arisha <class 'str'>\n",
            "Kashaf <class 'str'>\n",
            "Shalini <class 'str'>\n",
            "\n",
            "0 <class 'int'>\n",
            "1 <class 'int'>\n",
            "2 <class 'int'>\n"
          ]
        }
      ]
    },
    {
      "cell_type": "code",
      "metadata": {
        "colab": {
          "base_uri": "https://localhost:8080/"
        },
        "id": "aXkw2K8smQ4F",
        "outputId": "b5c5105d-e305-41db-f9c4-3e2882fed533"
      },
      "source": [
        "def flosgen(list1, list2):\n",
        "    output = []\n",
        "    for i in range(len(list1)):\n",
        "        if list1[i] not in [-1, 1] or 'p' in list2[i]:\n",
        "            print(\"No way\")\n",
        "        if i % 2 == 0:\n",
        "            if list1[i] == 1:\n",
        "                output.append(list2[i].replace('u', 'uu'))\n",
        "            else:\n",
        "                output.append('p' + list2[i])\n",
        "    print(output)\n",
        "\n",
        "flosgen([-1, -1, -1, -1, 1],['del', '', 'win', '', 'yuhu!'])"
      ],
      "execution_count": null,
      "outputs": [
        {
          "output_type": "stream",
          "name": "stdout",
          "text": [
            "['pdel', 'pwin', 'yuuhuu!']\n"
          ]
        }
      ]
    },
    {
      "cell_type": "code",
      "metadata": {
        "colab": {
          "base_uri": "https://localhost:8080/"
        },
        "id": "kUSmSslNoKpo",
        "outputId": "352a261d-876e-445b-dfbb-0362348a1767"
      },
      "source": [
        "items = [14, 12, -1, 9, 118, 5, 11]\n",
        "print(items[1:5])"
      ],
      "execution_count": null,
      "outputs": [
        {
          "output_type": "stream",
          "name": "stdout",
          "text": [
            "[12, -1, 9, 118]\n"
          ]
        }
      ]
    },
    {
      "cell_type": "code",
      "metadata": {
        "colab": {
          "base_uri": "https://localhost:8080/"
        },
        "id": "aGu0cZuXsgq_",
        "outputId": "ac4d2380-4d15-4e3b-e239-d14122390d65"
      },
      "source": [
        "info = ('Fred', 8065)\n",
        "name, postcode = info[0], info[1]\n",
        "print(\"Name: \" + name)\n",
        "print(\"Postcode: \" + str(postcode))"
      ],
      "execution_count": null,
      "outputs": [
        {
          "output_type": "stream",
          "name": "stdout",
          "text": [
            "Name: Fred\n",
            "Postcode: 8065\n"
          ]
        }
      ]
    },
    {
      "cell_type": "code",
      "metadata": {
        "id": "Vd91sP9-tCt0",
        "colab": {
          "base_uri": "https://localhost:8080/"
        },
        "outputId": "98af8410-3389-4caf-ab20-6273ca092df9"
      },
      "source": [
        "print(\"Welcome to the Pflugerville Bakery!\")\n",
        "print(\"We're ready to take your cupcake order.\")\n",
        "name = input(\"Please enter your name: \")\n",
        "red_velvet = int(input(\"Enter the number of Red Velvet cupcakes: \"))\n",
        "caramel_surprise = int(input(\"Enter the number of Caramel Surprise cupcakes: \"))\n",
        "chocolate_cupcakes = int(input(\"Enter the number of Chocolate Delight cupcakes: \"))\n",
        "day = input(\"Enter the day of the week you will pick up your order: \")\n",
        "red_velvet_price = 2.00\n",
        "caramel_surprise_price = 2.50\n",
        "chocolate_cupcakes_price = 3.00\n",
        "discount_percent = 0\n",
        "total = red_velvet + caramel_surprise + chocolate_cupcakes\n",
        "subtotal_price = red_velvet * red_velvet_price + caramel_surprise * caramel_surprise_price + chocolate_cupcakes * chocolate_cupcakes_price\n",
        "\n",
        "if total >= 12 and total <= 36:\n",
        "    discount_percent = 10/100\n",
        "    discount = subtotal_price * discount_percent\n",
        "elif total > 36:\n",
        "    discount_percent = 15/100\n",
        "    discount = subtotal_price * discount_percent\n",
        "else:\n",
        "    discount = 0\n",
        "\n",
        "tax_percent = 7.25\n",
        "tax_amt = (subtotal_price - discount) * (tax_percent/100)\n",
        "\n",
        "print(\"\\tOrder Summary\")\n",
        "if red_velvet > 0:\n",
        "    print(f\"%-30s {red_velvet} for ${(red_velvet * red_velvet_price):.2f}\" % \"Red Velvet cupcakes: \")\n",
        "if caramel_surprise > 0:\n",
        "    print(f\"%-30s {caramel_surprise} for ${(caramel_surprise * caramel_surprise_price):.2f}\" %\"Caramel Surprise cupcakes:\")\n",
        "if chocolate_cupcakes > 0:\n",
        "    print(f\"%-30s {chocolate_cupcakes} for ${(chocolate_cupcakes * chocolate_cupcakes_price):.2f}\" %\"Chocolate Delight cupcakes:\")\n",
        "print(f\"%-30s ${subtotal_price:.2f}\" % \"Subtotal:\")\n",
        "print(f\"%-30s ${(discount_percent*100):.0f}%s\" % (\"Discount percentage:\", \"%\"))\n",
        "print(f\"%-30s ${discount:.2f}\" % \"Discount amount:\")\n",
        "print(f\"%-30s ${(subtotal_price - discount):.2f}\" % \"Discount subtotal:\")\n",
        "print(f\"%-30s {tax_amt:.2f}\" % \"Tax:\")\n",
        "print(f\"%-30s ${(subtotal_price - discount + tax_amt):.2f}\" % \"Total cost:\")\n",
        "print(\"This order will be available for pickup\")\n",
        "print(f\"By: {name}\")\n",
        "print(f\"On: {day}\")"
      ],
      "execution_count": null,
      "outputs": [
        {
          "output_type": "stream",
          "name": "stdout",
          "text": [
            "Welcome to the Pflugerville Bakery!\n",
            "We're ready to take your cupcake order.\n",
            "Please enter your name: Sarah Marshall\n",
            "Enter the number of Red Velvet cupcakes: 6\n",
            "Enter the number of Caramel Surprise cupcakes: 0\n",
            "Enter the number of Chocolate Delight cupcakes: 6\n",
            "Enter the day of the week you will pick up your order: Thursday\n",
            "\tOrder Summary\n",
            "Red Velvet cupcakes:           6 for $12.00\n",
            "Chocolate Delight cupcakes:    6 for $18.00\n",
            "Subtotal:                      $30.00\n",
            "Discount percentage:           $10%\n",
            "Discount amount:               $3.00\n",
            "Discount subtotal:             $27.00\n",
            "Tax:                           1.96\n",
            "Total cost:                    $28.96\n",
            "This order will be available for pickup\n",
            "By: Sarah Marshall\n",
            "On: Thursday\n"
          ]
        }
      ]
    },
    {
      "cell_type": "code",
      "metadata": {
        "id": "Fem6os81zU45",
        "colab": {
          "base_uri": "https://localhost:8080/"
        },
        "outputId": "41d9d37b-f388-4ead-92f7-f1cab79b1d11"
      },
      "source": [
        "l1 = [\"CSE110\", \"CSE111\", \"CSE221\", \"CSE260\", \"CSE320\", \"CSE340\", \"CSE370\", \"CSE421\", \"CSE423\"]\n",
        "# creating dictionary to store final key value pair\n",
        "dictionary = {}\n",
        "# To store keys\n",
        "keys = []\n",
        "\n",
        "# Loop in l1 to get keys\n",
        "# and append to keys list (only numbers in multiple of 100)\n",
        "for item in l1:\n",
        "    keys.append(int(int(item[3: ])/100)*100)\n",
        "\n",
        "# get unique items\n",
        "keys = list(set(keys))\n",
        "# sort list in ascending order\n",
        "keys.sort()\n",
        "\n",
        "# loop in key to add key to dictionary\n",
        "for key in keys:    \n",
        "    # create empty list to store values\n",
        "    values = []\n",
        "    \n",
        "    # loop in l1 to get values\n",
        "    for value in l1:\n",
        "        # check if it is in range of 100, 200,...\n",
        "        if (int(value[3:]) > key and int(value[3:]) < key + 100):\n",
        "            # append to values list\n",
        "            values.append(value)\n",
        "\n",
        "    # and then store key - value pair\n",
        "    dictionary[str(key) + \" Level\"] = values\n",
        "\n",
        "# print\n",
        "print(dictionary)"
      ],
      "execution_count": null,
      "outputs": [
        {
          "output_type": "stream",
          "name": "stdout",
          "text": [
            "{'100 Level': ['CSE110', 'CSE111'], '200 Level': ['CSE221', 'CSE260'], '300 Level': ['CSE320', 'CSE340', 'CSE370'], '400 Level': ['CSE421', 'CSE423']}\n"
          ]
        }
      ]
    },
    {
      "cell_type": "code",
      "metadata": {
        "colab": {
          "base_uri": "https://localhost:8080/"
        },
        "id": "cv5Sv46Fe83V",
        "outputId": "59cfba18-f628-440f-be50-444f5f4895af"
      },
      "source": [
        "def doubleChar(string):\n",
        "  newChar = \"\"\n",
        "  for i in string:\n",
        "    newChar += i*2\n",
        "  return newChar\n",
        "\n",
        "def main():\n",
        "  print(doubleChar(\"The\"))\n",
        "  print(doubleChar(\"AABB\"))\n",
        "  print(doubleChar(\"Hi-There\"))\n",
        "\n",
        "main()"
      ],
      "execution_count": null,
      "outputs": [
        {
          "output_type": "stream",
          "name": "stdout",
          "text": [
            "TThhee\n",
            "AAAABBBB\n",
            "HHii--TThheerree\n"
          ]
        }
      ]
    },
    {
      "cell_type": "code",
      "metadata": {
        "id": "bLn7Of2bfgVj",
        "colab": {
          "base_uri": "https://localhost:8080/"
        },
        "outputId": "1e70471c-8027-4c8d-d192-41a0ea1834bb"
      },
      "source": [
        "alphabets = \"abcdefghijklmnopqrstuvwxyz\"\n",
        "original_string = input(\"Enter string: \")\n",
        "new_string = \"\"\n",
        "caesar_shift = int(input(\"Enter shift: \"))\n",
        "position = alphabets.index(original_string[0])\n",
        "new_position = (position + caesar_shift) % 26\n",
        "new_string += alphabets[new_position]\n",
        "\n",
        "position = alphabets.index(original_string[1])\n",
        "new_position = (position + caesar_shift) % 26\n",
        "new_string += alphabets[new_position]\n",
        "\n",
        "position = alphabets.index(original_string[2])\n",
        "new_position = (position + caesar_shift) % 26\n",
        "new_string += alphabets[new_position]\n",
        "\n",
        "print(new_string)"
      ],
      "execution_count": null,
      "outputs": [
        {
          "output_type": "stream",
          "name": "stdout",
          "text": [
            "Enter string: abc\n",
            "Enter shift: 3\n",
            "def\n"
          ]
        }
      ]
    },
    {
      "cell_type": "code",
      "metadata": {
        "id": "Ksu19UzyldNL",
        "colab": {
          "base_uri": "https://localhost:8080/"
        },
        "outputId": "4b120c70-e1f1-45b6-e6bd-b6685c212c63"
      },
      "source": [
        "print(\"Answer by only typing [Y/n]\")\n",
        "uncompressed = input(\n",
        "    \"Assignment submitted as a single uncompressed .py file? \").lower()\n",
        "namedate = input(\"Assignment include the author's name and date? \").lower()\n",
        "if namedate == \"n\":\n",
        "    exit(0)\n",
        "honorstmt = input(\"Assignment include honor statement? \").lower()\n",
        "video = input(\"Assignment include 3-minute video? \").lower()\n",
        "\n",
        "grade = 0\n",
        "if uncompressed == \"y\" and namedate == \"y\" and honorstmt == \"y\" and video == \"y\":\n",
        "    grade += int(input(\"Out of 10 points, how would you evaluate the correctness of the code? \"))\n",
        "    grade += int(input(\"Out of 10 points, how would you evaluate the elegance of the code? \"))\n",
        "    grade += int(input(\"Out of 10 points, how would you evaluate the code hygiene? \"))\n",
        "    grade += int(input(\"Out of 10 points, how would you evaluate the quality of discussion? \"))\n",
        "    late = input(\"Is assignment late subitted? \").lower()\n",
        "    if late == \"y\":\n",
        "        time = int(input(\"How late it is? \"))\n",
        "        grade = grade - (grade * time/100)\n",
        "    print(\"\\nTotal grade :\", grade)\n",
        "else:\n",
        "    print(\"\\nTotal grade :\", grade)\n"
      ],
      "execution_count": null,
      "outputs": [
        {
          "output_type": "stream",
          "name": "stdout",
          "text": [
            "Answer by only typing [Y/n]\n",
            "Assignment submitted as a single uncompressed .py file? y\n",
            "Assignment include the author's name and date? y\n",
            "Assignment include honor statement? y\n",
            "Assignment include 3-minute video? y\n",
            "Out of 10 points, how would you evaluate the correctness of the code? 8\n",
            "Out of 10 points, how would you evaluate the elegance of the code? 9\n",
            "Out of 10 points, how would you evaluate the code hygiene? 6\n",
            "Out of 10 points, how would you evaluate the quality of discussion? 5\n",
            "Is assignment late subitted? n\n",
            "\n",
            "Total grade : 28\n"
          ]
        }
      ]
    },
    {
      "cell_type": "code",
      "metadata": {
        "colab": {
          "base_uri": "https://localhost:8080/"
        },
        "id": "FdV6CQKZ8AIO",
        "outputId": "497b77b0-2723-4db4-a7e4-caec1696d93c"
      },
      "source": [
        "#A) Name:\n",
        "#B) Program status :\n",
        "#C) Description: display the amount that the user is over or under budget.\n",
        "\n",
        "BUDGET = float(input(\"Enter amount budgeted for the month: \"))\n",
        "totalSpent = 0\n",
        "spent = float(input(\"Enter an amount spent(0 to quit): \"))\n",
        "while int(spent) != 0:\n",
        "    totalSpent += spent\n",
        "    spent = float(input(\"Enter an amount spent(0 to quit): \"))\n",
        "print(f\"Budgeted: $ {BUDGET:.2f}\")\n",
        "print(f\"Spent: $ {totalSpent:.2f}\")\n",
        "if totalSpent > BUDGET:\n",
        "    print(f\"You are $ {(totalSpent-BUDGET):.2f} over budget. PLAN BETTER NEXT TIME!\")\n",
        "else:\n",
        "    print(f\"You are $ {(BUDGET - totalSpent):.2f} in budget. TOO GOOD!\")\n"
      ],
      "execution_count": null,
      "outputs": [
        {
          "output_type": "stream",
          "name": "stdout",
          "text": [
            "Enter amount budgeted for the month: 500\n",
            "Enter an amount spent(0 to quit): 50\n",
            "Enter an amount spent(0 to quit): 75\n",
            "Enter an amount spent(0 to quit): 800\n",
            "Enter an amount spent(0 to quit): 23.5\n",
            "Enter an amount spent(0 to quit): 0\n",
            "Budgeted: $ 500.00\n",
            "Spent: $ 948.50\n",
            "You are $ 448.50 over budget. PLAN BETTER NEXT TIME!\n"
          ]
        }
      ]
    },
    {
      "cell_type": "code",
      "metadata": {
        "colab": {
          "base_uri": "https://localhost:8080/"
        },
        "id": "Y41_I6oLN_lM",
        "outputId": "6622a94c-7184-4b0a-e325-4539d61dafd9"
      },
      "source": [
        "INITIAL_OCEAN_LEVEL = 1.8\n",
        "print(\"Year \\t Rise (in millimeters)\")\n",
        "print(\"-\"*30)\n",
        "for year in range(1,25+1):\n",
        "  print(f\"{year} \\t {(INITIAL_OCEAN_LEVEL * year):.2f}\")"
      ],
      "execution_count": null,
      "outputs": [
        {
          "output_type": "stream",
          "name": "stdout",
          "text": [
            "Year \t Rise (in millimeters)\n",
            "------------------------------\n",
            "1 \t 1.80\n",
            "2 \t 3.60\n",
            "3 \t 5.40\n",
            "4 \t 7.20\n",
            "5 \t 9.00\n",
            "6 \t 10.80\n",
            "7 \t 12.60\n",
            "8 \t 14.40\n",
            "9 \t 16.20\n",
            "10 \t 18.00\n",
            "11 \t 19.80\n",
            "12 \t 21.60\n",
            "13 \t 23.40\n",
            "14 \t 25.20\n",
            "15 \t 27.00\n",
            "16 \t 28.80\n",
            "17 \t 30.60\n",
            "18 \t 32.40\n",
            "19 \t 34.20\n",
            "20 \t 36.00\n",
            "21 \t 37.80\n",
            "22 \t 39.60\n",
            "23 \t 41.40\n",
            "24 \t 43.20\n",
            "25 \t 45.00\n"
          ]
        }
      ]
    },
    {
      "cell_type": "code",
      "metadata": {
        "id": "06lfTAE2QEva",
        "colab": {
          "base_uri": "https://localhost:8080/"
        },
        "outputId": "1750e27a-c274-4f3a-b6ca-0d9d2b47f959"
      },
      "source": [
        "# TODO: Import the random module\n",
        "import random\n",
        "\n",
        "\n",
        "def number_guess(num):\n",
        "    # TODO: Get a random number between 1-100\n",
        "    random_num = random.randint(1, 100)\n",
        "    # TODO: Read numbers and compare to random number\n",
        "    if num > random_num:\n",
        "        print(f\"{num} is too high. Random number was {random_num}.\")\n",
        "    elif num < random_num:\n",
        "        print(f\"{num} is too low. Random number was {random_num}.\")\n",
        "    else:\n",
        "        print(f\"{num} is correct!\")\n",
        "\n",
        "\n",
        "if __name__ == \"__main__\":\n",
        "    # Use the seed 900 to get the same pseudo random numbers every time\n",
        "    random.seed(900)\n",
        "    # Convert the string tokens into integers\n",
        "    user_input = input()\n",
        "    tokens = user_input.split()\n",
        "    for token in tokens:\n",
        "        num = int(token)\n",
        "        number_guess(num)\n"
      ],
      "execution_count": null,
      "outputs": [
        {
          "output_type": "stream",
          "name": "stdout",
          "text": [
            "32 45 48 80\n",
            "32 is too low. Random number was 80.\n",
            "45 is too high. Random number was 30.\n",
            "48 is correct!\n",
            "80 is too low. Random number was 97.\n"
          ]
        }
      ]
    },
    {
      "cell_type": "code",
      "metadata": {
        "id": "f6CoydPEa46B",
        "colab": {
          "base_uri": "https://localhost:8080/"
        },
        "outputId": "6bb84c4d-e6c1-4ff8-e2e1-e37be51b8a63"
      },
      "source": [
        "import random\n",
        "import math\n",
        "\n",
        "# Taking range\n",
        "lower = int(input(\"Enter Lower Bound: \"))\n",
        "upper = int(input(\"Enter Upper Bound: \"))\n",
        "\n",
        "# generating random number between the lower and upper limit\n",
        "x = random.randint(lower, upper)\n",
        "\n",
        "# loop until player guesses the number\n",
        "while True:\n",
        "    # taking guessing number as input\n",
        "    guess = int(input(\"Take a guess: \"))\n",
        "\n",
        "    def rand_call(guess):\n",
        "        # Comparing the guessed number with the random number generated b/w 1-20\n",
        "        if x == guess:\n",
        "            print(\"Congratulations you guessed the number correctly.\")\n",
        "        elif x > guess:\n",
        "            print(\"Your guess is too low.\")\n",
        "        elif x < guess:\n",
        "            print(\"Your Guess too high.\")\n",
        "\n",
        "    rand_call(guess)  # calling the function rand_call with argument guess\n",
        "\n",
        "    if x == guess:\n",
        "        break         # Once guessed, loop will break\n"
      ],
      "execution_count": null,
      "outputs": [
        {
          "output_type": "stream",
          "name": "stdout",
          "text": [
            "Enter Lower Bound: 1\n",
            "Enter Upper Bound: 100\n",
            "Take a guess: 100\n",
            "Your Guess too high.\n",
            "Take a guess: 50\n",
            "Your guess is too low.\n",
            "Take a guess: 70\n",
            "Your guess is too low.\n",
            "Take a guess: 80\n",
            "Your Guess too high.\n",
            "Take a guess: 75\n",
            "Your Guess too high.\n",
            "Take a guess: 72\n",
            "Congratulations you guessed the number correctly.\n"
          ]
        }
      ]
    },
    {
      "cell_type": "code",
      "metadata": {
        "id": "NtvIm-nAO5F0",
        "colab": {
          "base_uri": "https://localhost:8080/"
        },
        "outputId": "a0fd49fc-bff0-43d0-f689-6e153aae97d0"
      },
      "source": [
        "# Three variables num1, num2, num3 \n",
        "# have three different values each\n",
        "num1 = 20\n",
        "num2 = 15\n",
        "num3 = 50\n",
        "\n",
        "# Calculate total of three numbers\n",
        "total = num1 + num2 + num3\n",
        "\n",
        "# Calculate average\n",
        "avg = total / 3\n",
        "\n",
        "# Print Total of three numbers\n",
        "print(f\"Total: {total}\")\n",
        "\n",
        "# Print average of three numbers\n",
        "print(f\"Average: {avg:.2f}\")"
      ],
      "execution_count": null,
      "outputs": [
        {
          "output_type": "stream",
          "name": "stdout",
          "text": [
            "Total: 85\n",
            "Average: 28.33\n"
          ]
        }
      ]
    },
    {
      "cell_type": "code",
      "metadata": {
        "id": "ZdQUKhW2F7Lp",
        "colab": {
          "base_uri": "https://localhost:8080/",
          "height": 69
        },
        "outputId": "999b034a-62f8-411a-fa51-579b0d527ed5"
      },
      "source": [
        "# Property Tax Code:\n",
        "def askForActualValue():\n",
        "  homeCost = float(input('Enter The Home Value Price (as a whole number):'))\n",
        "  return homeCost\n",
        "\n",
        "def TaxRate( homeCost ):\n",
        "  propertyTax = (homeCost) * 0.75\n",
        "  return propertyTax\n",
        "    \n",
        "def calculateSurchargeValue( propertyTax ):\n",
        "  Bedrooms = float(input('Enter Amount Of Bedrooms:'))\n",
        "  SurchargeValue = Bedrooms * .0025 * (propertyTax)\n",
        "  return Bedrooms\n",
        "\n",
        "def printReport (homeCost, propertyTax, SurchargeValue):\n",
        "  print(\"Actual Value of Property: $\" + \\\n",
        "  format(homeCost, \",.2f\") + \"\\nAssessment\" + \\\n",
        "  \" Value of Property: $\" + \\\n",
        "  format(propertyTax, \",.2f\") + \"\\nProperty tax: $\" + \\\n",
        "  format(SurchargeValue, \",.2f\"))\n",
        "\n",
        "def main():\n",
        "  homeCost = askForActualValue()\n",
        "  propertyTax = TaxRate ( homeCost )\n",
        "  SurchargeValue = calculateSurchargeValue (propertyTax)\n",
        "  printReport(homeCost, propertyTax, SurchargeValue)\n",
        "# main()\n",
        "\n",
        "input(\"Press Enter To Close\\n\")"
      ],
      "execution_count": null,
      "outputs": [
        {
          "name": "stdout",
          "output_type": "stream",
          "text": [
            "Press Enter To Close\n",
            "\n"
          ]
        },
        {
          "output_type": "execute_result",
          "data": {
            "application/vnd.google.colaboratory.intrinsic+json": {
              "type": "string"
            },
            "text/plain": [
              "''"
            ]
          },
          "metadata": {},
          "execution_count": 24
        }
      ]
    },
    {
      "cell_type": "code",
      "metadata": {
        "colab": {
          "base_uri": "https://localhost:8080/"
        },
        "id": "mDAQ-VtU_Jct",
        "outputId": "59b9617f-855b-40f9-a5e2-d81f2d7fc9f6"
      },
      "source": [
        "import random\n",
        "\n",
        "# store fruits in list\n",
        "fruits = [\"apple\", \"grape\", \"guava\", \"lemon\",\n",
        "          \"nance\", \"peach\", \"prune\", \"salak\"]\n",
        "\n",
        "# get random fruit\n",
        "word = random.choice(fruits)\n",
        "# print(word)\n",
        "print(\"Guess This Five-Letter Fruit!\")\n",
        "\n",
        "# max attempt is 5\n",
        "turns = 5\n",
        "# to store guesses\n",
        "guesses = ''\n",
        "\n",
        "# loop until turns is greater than 0\n",
        "while turns > 0:\n",
        "    # get user input\n",
        "    print()\n",
        "    guess = input(\"Guess a Character: \")\n",
        "    # add to guesses string\n",
        "    guesses += guess\n",
        "    # check if guessed character is in word or not\n",
        "    if guess not in word:\n",
        "        print(f\"Wrong! {turns-1} guess(es) left.\")\n",
        "\n",
        "    # check if all characters are guessed\n",
        "    new = \"\"\n",
        "    for char in word:  # This will enter letter in word\n",
        "        if char in guesses:\n",
        "            print(char, \" \", end=\"\")\n",
        "            new += char\n",
        "        else:\n",
        "            print(\"_ \", end=\"\")\n",
        "    print()\n",
        "    # compare both new and random fruit\n",
        "    if new == word:\n",
        "        print(\"\\nYou Won!\")\n",
        "        print(f\"The word is {word}\")\n",
        "        break\n",
        "\n",
        "    turns -= 1\n",
        "\n",
        "# if no turns left\n",
        "if turns == 0:\n",
        "    print(\"\\nYou Lose!\")\n",
        "    print(f\"The word is {word}\")\n"
      ],
      "execution_count": null,
      "outputs": [
        {
          "output_type": "stream",
          "name": "stdout",
          "text": [
            "Guess This Five-Letter Fruit!\n",
            "\n",
            "Guess a Character: a\n",
            "_ a  _ _ _ \n",
            "\n",
            "Guess a Character: p\n",
            "Wrong! 3 guess(es) left.\n",
            "_ a  _ _ _ \n",
            "\n",
            "Guess a Character: g\n",
            "Wrong! 2 guess(es) left.\n",
            "_ a  _ _ _ \n",
            "\n",
            "Guess a Character: n\n",
            "n  a  n  _ _ \n",
            "\n",
            "Guess a Character: c\n",
            "n  a  n  c  _ \n",
            "\n",
            "You Lose!\n",
            "The word is nance\n"
          ]
        }
      ]
    },
    {
      "cell_type": "code",
      "metadata": {
        "id": "_bXkstqjOJ4N",
        "colab": {
          "base_uri": "https://localhost:8080/"
        },
        "outputId": "293491e9-49dd-4e00-9c72-8d9c94420031"
      },
      "source": [
        "# Open file in read mode\n",
        "file1 = open('menu.txt','r')\n",
        "# read file and store in lines variable\n",
        "lines = file1.readlines()\n",
        "\n",
        "# Create empty lists\n",
        "menu_item = []\n",
        "menu_price = []\n",
        "# loop to store item and price in list\n",
        "for line in lines:\n",
        "  # Create empty string\n",
        "  item = \"\"\n",
        "  # split by space each line\n",
        "  words = line.split()\n",
        "  index = 0\n",
        "  # loop to check word is item name or price\n",
        "  while index < len(words):\n",
        "    # Add to item string until $ not found in words\n",
        "    if words[index][0] != \"$\":\n",
        "      item += words[index] + \" \"\n",
        "    # else break\n",
        "    else:\n",
        "      break\n",
        "    # increment index value\n",
        "    index += 1\n",
        "  # Add to price after $ sign\n",
        "  price = words[index][1:] +\"\\n\"\n",
        "  # add to both list\n",
        "  menu_item.append(item)\n",
        "  menu_price.append(price)\n",
        "  \n",
        "# print lists\n",
        "print(menu_item)\n",
        "print(menu_price)\n",
        "\n",
        "# loop until user enter 4\n",
        "doContinue = 1\n",
        "while doContinue == 1:\n",
        "  print(\"1. Add item\")\n",
        "  print(\"2. Delete item\")\n",
        "  print(\"3. Update price\")\n",
        "  print(\"4. Exit\")\n",
        "  # get user input\n",
        "  choice = int(input(\"Enter choice: \"))\n",
        "  if choice == 1:\n",
        "    # add item\n",
        "    item = input(\"Enter item name: \")\n",
        "    price = input(\"Enter item's price: \")\n",
        "    item += \" \"\n",
        "    menu_item.append(item)\n",
        "    price += \"\\n\"\n",
        "    menu_price.append(price)\n",
        "  elif choice == 2:\n",
        "    # delete item\n",
        "    for index in range(len(menu_item)):\n",
        "      print(str(index+1)+ \" \"+ menu_item[index]+\" $\"+menu_price[index])\n",
        "    item_no = int(input(\"Enter item number to be deleted: \"))\n",
        "    # delete item name and price from list\n",
        "    menu_price.pop(item_no-1)\n",
        "    menu_item.pop(item_no-1)\n",
        "  elif choice == 3:\n",
        "    # update price\n",
        "    for index in range(len(menu_item)):\n",
        "      print(str(index+1)+ \" \"+ menu_item[index]+\" $\"+menu_price[index])\n",
        "    item_no = int(input(\"Enter item number to be updated: \"))\n",
        "    new_price = input(\"Enter the item's new price: \")\n",
        "    new_price += \"\\n\"\n",
        "    # Update item price\n",
        "    menu_price[item_no-1] = new_price\n",
        "  elif choice == 4:\n",
        "    # Exit\n",
        "    doContinue = 0\n",
        "  else:\n",
        "    print(\"Invalid choice.\")\n",
        "  \n",
        "# close the file\n",
        "file1.close()\n",
        "\n",
        "# Create new file and write the end result\n",
        "file_write = open('new_menu.txt','w')\n",
        "for index in range(len(menu_item)):\n",
        "  file_write.write(menu_item[index]+ \" \"+menu_price[index])\n",
        "# close the file\n",
        "file_write.close()\n",
        "############"
      ],
      "execution_count": null,
      "outputs": [
        {
          "name": "stdout",
          "output_type": "stream",
          "text": [
            "['Ham and Egg Sandwich ', 'Bacon and Cheese Plate ', 'Tuna Salad ', 'Beef Soup ', 'Spicy Beef Barbeque ', 'Pork Barbeque ', 'Oven Chicken Barbeque ', 'Pulled Beef Barbeque Burger ', 'House Salad ', 'Pellegrino ', 'White Wine ', 'Red Wine ']\n",
            "['15.75\\n', '9.50\\n', '12.30\\n', '9.00\\n', '20.00\\n', '18.00\\n', '15.00\\n', '25.00\\n', '5.00\\n', '5.40\\n', '7.50\\n', '11.00\\n']\n",
            "1. Add item\n",
            "2. Delete item\n",
            "3. Update price\n",
            "4. Exit\n",
            "Enter choice: 1\n",
            "Enter item name: apple\n",
            "Enter item's price: 100\n",
            "1. Add item\n",
            "2. Delete item\n",
            "3. Update price\n",
            "4. Exit\n",
            "Enter choice: 4\n"
          ]
        }
      ]
    },
    {
      "cell_type": "code",
      "metadata": {
        "id": "VK11UGlbzyZY",
        "colab": {
          "base_uri": "https://localhost:8080/"
        },
        "outputId": "948fb3f3-0dd7-4733-d38b-8e3ceb56d518"
      },
      "source": [
        "l1 = [17, 13, 11, 10, 10, 4, 1, 11, 21, 10, 4, 9, 1, 8, 9, 8, 18, 19, 2, 1]\n",
        "print(f\"Elements Before Sorting: {l1}\")\n",
        "\n",
        "# loop until elements is not sorted\n",
        "sorted = False\n",
        "while sorted != True:\n",
        "    # nested loop to compare 2 elements\n",
        "    for i in range(len(l1)):\n",
        "        for j in range(0,len(l1)-i-1):\n",
        "            # set flag to false evrytime\n",
        "            flag = False\n",
        "\n",
        "            # check if first element is greter than second element\n",
        "            if l1[j] > l1[j+1]:\n",
        "                # if yes then swap it\n",
        "                l1[j], l1[j+1] = l1[j+1], l1[j]\n",
        "                # and set flag to true\n",
        "                flag = True\n",
        "\n",
        "            # if no elements is swapped then flag remains false\n",
        "            if flag == False:\n",
        "                # And break the loop by setting sorted to true\n",
        "                sorted = True\n",
        "  \n",
        "print(f\"Elements After Sorting: {l1}\")"
      ],
      "execution_count": null,
      "outputs": [
        {
          "output_type": "stream",
          "name": "stdout",
          "text": [
            "Elements Before Sorting: [17, 13, 11, 10, 10, 4, 1, 11, 21, 10, 4, 9, 1, 8, 9, 8, 18, 19, 2, 1]\n",
            "Elements After Sorting: [1, 1, 1, 2, 4, 4, 8, 8, 9, 9, 10, 10, 10, 11, 11, 13, 17, 18, 19, 21]\n"
          ]
        }
      ]
    },
    {
      "cell_type": "code",
      "metadata": {
        "id": "fngllsXPb6uV",
        "colab": {
          "base_uri": "https://localhost:8080/"
        },
        "outputId": "fe2f6402-bc0c-4b83-b027-da0de753e27a"
      },
      "source": [
        "def fahrenheit(celsius):\n",
        "    return (9 / 5) * celsius + 32;\n",
        "\n",
        "def main():\n",
        "    print(\"%8s %12s\" %(\"Celsius\", \"Fahrenheit\"))\n",
        "    for i in range(101):\n",
        "        C = i\n",
        "        F = fahrenheit(C)\n",
        "        print(\"%6s %3s %6s\" %(\"{:.1f}\".format(C),\":\", \"{:.1f}\".format(F)))\n",
        "\n",
        "main()"
      ],
      "execution_count": null,
      "outputs": [
        {
          "output_type": "stream",
          "name": "stdout",
          "text": [
            " Celsius   Fahrenheit\n",
            "   0.0   :   32.0\n",
            "   1.0   :   33.8\n",
            "   2.0   :   35.6\n",
            "   3.0   :   37.4\n",
            "   4.0   :   39.2\n",
            "   5.0   :   41.0\n",
            "   6.0   :   42.8\n",
            "   7.0   :   44.6\n",
            "   8.0   :   46.4\n",
            "   9.0   :   48.2\n",
            "  10.0   :   50.0\n",
            "  11.0   :   51.8\n",
            "  12.0   :   53.6\n",
            "  13.0   :   55.4\n",
            "  14.0   :   57.2\n",
            "  15.0   :   59.0\n",
            "  16.0   :   60.8\n",
            "  17.0   :   62.6\n",
            "  18.0   :   64.4\n",
            "  19.0   :   66.2\n",
            "  20.0   :   68.0\n",
            "  21.0   :   69.8\n",
            "  22.0   :   71.6\n",
            "  23.0   :   73.4\n",
            "  24.0   :   75.2\n",
            "  25.0   :   77.0\n",
            "  26.0   :   78.8\n",
            "  27.0   :   80.6\n",
            "  28.0   :   82.4\n",
            "  29.0   :   84.2\n",
            "  30.0   :   86.0\n",
            "  31.0   :   87.8\n",
            "  32.0   :   89.6\n",
            "  33.0   :   91.4\n",
            "  34.0   :   93.2\n",
            "  35.0   :   95.0\n",
            "  36.0   :   96.8\n",
            "  37.0   :   98.6\n",
            "  38.0   :  100.4\n",
            "  39.0   :  102.2\n",
            "  40.0   :  104.0\n",
            "  41.0   :  105.8\n",
            "  42.0   :  107.6\n",
            "  43.0   :  109.4\n",
            "  44.0   :  111.2\n",
            "  45.0   :  113.0\n",
            "  46.0   :  114.8\n",
            "  47.0   :  116.6\n",
            "  48.0   :  118.4\n",
            "  49.0   :  120.2\n",
            "  50.0   :  122.0\n",
            "  51.0   :  123.8\n",
            "  52.0   :  125.6\n",
            "  53.0   :  127.4\n",
            "  54.0   :  129.2\n",
            "  55.0   :  131.0\n",
            "  56.0   :  132.8\n",
            "  57.0   :  134.6\n",
            "  58.0   :  136.4\n",
            "  59.0   :  138.2\n",
            "  60.0   :  140.0\n",
            "  61.0   :  141.8\n",
            "  62.0   :  143.6\n",
            "  63.0   :  145.4\n",
            "  64.0   :  147.2\n",
            "  65.0   :  149.0\n",
            "  66.0   :  150.8\n",
            "  67.0   :  152.6\n",
            "  68.0   :  154.4\n",
            "  69.0   :  156.2\n",
            "  70.0   :  158.0\n",
            "  71.0   :  159.8\n",
            "  72.0   :  161.6\n",
            "  73.0   :  163.4\n",
            "  74.0   :  165.2\n",
            "  75.0   :  167.0\n",
            "  76.0   :  168.8\n",
            "  77.0   :  170.6\n",
            "  78.0   :  172.4\n",
            "  79.0   :  174.2\n",
            "  80.0   :  176.0\n",
            "  81.0   :  177.8\n",
            "  82.0   :  179.6\n",
            "  83.0   :  181.4\n",
            "  84.0   :  183.2\n",
            "  85.0   :  185.0\n",
            "  86.0   :  186.8\n",
            "  87.0   :  188.6\n",
            "  88.0   :  190.4\n",
            "  89.0   :  192.2\n",
            "  90.0   :  194.0\n",
            "  91.0   :  195.8\n",
            "  92.0   :  197.6\n",
            "  93.0   :  199.4\n",
            "  94.0   :  201.2\n",
            "  95.0   :  203.0\n",
            "  96.0   :  204.8\n",
            "  97.0   :  206.6\n",
            "  98.0   :  208.4\n",
            "  99.0   :  210.2\n",
            " 100.0   :  212.0\n"
          ]
        }
      ]
    },
    {
      "cell_type": "code",
      "metadata": {
        "id": "QkQetj7i8SWQ",
        "colab": {
          "base_uri": "https://localhost:8080/"
        },
        "outputId": "74dec0a0-5124-47fb-bd13-d06df5b61513"
      },
      "source": [
        "# find factorial of 7 \n",
        "num = 7\n",
        "\n",
        "# using for loop\n",
        "# initialise fact as 1\n",
        "fact = 1\n",
        "# loop starts from 1 to 7\n",
        "for i in range(1,8):\n",
        "  # multiply fact variable with i \n",
        "  # and assign to variable fact\n",
        "  fact *= i\n",
        "# print factorial of 7\n",
        "print(f\"Factorial of {num} using for loop is   : {fact}\")\n",
        "\n",
        "# using while loop\n",
        "# initialise fact as 1\n",
        "fact = 1\n",
        "# loop until num is greater than 0\n",
        "# and assign num to i\n",
        "i = num\n",
        "while i > 0:\n",
        "  # multiply fact with i \n",
        "  # and assign it to fact\n",
        "  fact *= i\n",
        "  # decrement i by 1 on each iteration\n",
        "  i-=1\n",
        "# print factorial of 7\n",
        "print(f\"Factorial of {num} using while loop is : {fact}\")\n"
      ],
      "execution_count": null,
      "outputs": [
        {
          "output_type": "stream",
          "name": "stdout",
          "text": [
            "Factorial of 7 using for loop is   : 5040\n",
            "Factorial of 7 using while loop is : 5040\n"
          ]
        }
      ]
    },
    {
      "cell_type": "code",
      "metadata": {
        "colab": {
          "base_uri": "https://localhost:8080/"
        },
        "id": "NRUC8O4TAZ9s",
        "outputId": "5a2430fe-7beb-4ef3-90b8-c7831316f83b"
      },
      "source": [
        "from math import sqrt\n",
        "def distance(city_a, city_b):\n",
        "  x1 = city_a[0]\n",
        "  y1 = city_a[1]\n",
        "  x2 = city_b[0]\n",
        "  y2 = city_b[1]\n",
        "  \n",
        "  distance = sqrt(((x1 - x2) ** 2) + ((y1 - y2) ** 2))\n",
        "  print(distance)\n",
        "\n",
        "\n",
        "def make_city(city, x, y):\n",
        "  return x, y\n",
        "\n",
        "city_a = make_city('city_a', 0, 1)\n",
        "city_b = make_city('city_b', 0, 2)\n",
        "distance(city_a, city_b)\n",
        "\n",
        "city_c = make_city('city_c', 6.5, 12)\n",
        "city_d = make_city('city_d', 2.5, 15)\n",
        "distance(city_c, city_d)\n"
      ],
      "execution_count": null,
      "outputs": [
        {
          "output_type": "stream",
          "name": "stdout",
          "text": [
            "1.0\n",
            "5.0\n"
          ]
        }
      ]
    },
    {
      "cell_type": "code",
      "metadata": {
        "id": "dia8J9a7AkFC",
        "colab": {
          "base_uri": "https://localhost:8080/"
        },
        "outputId": "cef6f964-5b08-4949-8c37-567dda2247ce"
      },
      "source": [
        "def main():\n",
        "  m = float(input(\"Enter object's mass in klograms: \"))\n",
        "  v = float(input(\"Enter object's velocity in meters per second: \"))\n",
        "  print(f\"Object's Kinetic Energy is: {kinetic_energy(m, v):.2f}\")\n",
        "\n",
        "\n",
        "def kinetic_energy(mass, velocity):\n",
        "  KE = (mass * (velocity ** 2) )/ 2\n",
        "  return KE\n",
        "\n",
        "\n",
        "main()"
      ],
      "execution_count": null,
      "outputs": [
        {
          "output_type": "stream",
          "name": "stdout",
          "text": [
            "Enter object's mass in klograms: 1.87\n",
            "Enter object's velocity in meters per second: 40\n",
            "Object's Kinetic Energy is: 1496.00\n"
          ]
        }
      ]
    },
    {
      "cell_type": "code",
      "metadata": {
        "colab": {
          "base_uri": "https://localhost:8080/"
        },
        "id": "Ywews2hRvAEC",
        "outputId": "3681c8fa-a8af-4250-d94e-82ffc3192486"
      },
      "source": [
        "txt = \"Welcome to Vaccination Center\"\n",
        "x = txt.center(50)\n",
        "print(x)\n",
        "\n",
        "fname = input(\"Enter First name: \")\n",
        "lname = input(\"Enter Last Name: \")\n",
        "\n",
        "day = int(input(\"Enter Day of Birth: \"))\n",
        "while day > 31 or day < 1:\n",
        "    day = int(input(\"Enter Day of Birth: \"))\n",
        "\n",
        "month = int(input(\"Enter Month of Birth: \"))\n",
        "while month > 12 or month < 1:\n",
        "    month = int(input(\"Enter Month of Birth: \"))\n",
        "\n",
        "year = int(input(\"Enter Year of Birth: \"))\n",
        "while year > 2006 or year < 1920:\n",
        "    year = int(input(\"Enter Year of Birth: \"))\n",
        "\n",
        "\n",
        "vday = int(input(\"Enter Day of Vaccination: \"))\n",
        "while vday > 31 or vday < 1:\n",
        "    vday = int(input(\"Enter Day of Vaccination: \"))\n",
        "\n",
        "vmonth = int(input(\"Enter Month of Vaccination: \"))\n",
        "while vmonth > 12 or vmonth < 1:\n",
        "    vmonth = int(input(\"Enter Month of Vaccination: \"))\n",
        "\n",
        "vyear = int(input(\"Enter Year of Vaccination: \"))\n",
        "while vyear > 2021 or vyear < 2020:\n",
        "    vyear = int(input(\"Enter Year of Vaccination: \"))\n",
        "\n",
        "vname = input(\"Enter name of Vaccination: \")\n",
        "centerOfVaccination = input(\"Enter center of the Vaccination: \").capitalize()\n",
        "lotOfVaccination = input(\"Enter lot of Vaccination: \")\n",
        "\n",
        "\n",
        "# ----------------------------------------------------------------------------\n",
        "# Generating Report\n",
        "print()\n",
        "print(f\"%-30s: {fname} {lname}\" % (\"Name\"))\n",
        "print(f\"%-30s: {day}/{month}/{year}\" % (\"Date Of Birth\"))\n",
        "print(f\"%-30s: {vday}/{vmonth}/{vyear}\" % (\"Date Of Vaccination\"))\n",
        "print(f\"%-30s: {vname}\" % (\"Name Of Vaccination\"))\n",
        "print(f\"%-30s: {centerOfVaccination}\" % (\"Center Of Vaccination\"))\n",
        "print(f\"%-30s: {lotOfVaccination}\" % (\"Lot Of Vaccination\"))\n",
        "print(\"-----------------------------------------------\")\n",
        "print(\"\\nThank you for choosing our services.\")\n",
        "print(\"Report generated successfully.\")\n"
      ],
      "execution_count": null,
      "outputs": [
        {
          "output_type": "stream",
          "name": "stdout",
          "text": [
            "          Welcome to Vaccination Center           \n",
            "Enter First name: Arisha\n",
            "Enter Last Name: Aftab\n",
            "Enter Day of Birth: 15\n",
            "Enter Month of Birth: 05\n",
            "Enter Year of Birth: 1995\n",
            "Enter Day of Vaccination: 15\n",
            "Enter Month of Vaccination: 05\n",
            "Enter Year of Vaccination: 2021\n",
            "Enter name of Vaccination: Pfizer\n",
            "Enter center of the Vaccination: Montreal\n",
            "Enter lot of Vaccination: CW012\n",
            "\n",
            "Name                          : Arisha Aftab\n",
            "Date Of Birth                 : 15/5/1995\n",
            "Date Of Vaccination           : 15/5/2021\n",
            "Name Of Vaccination           : Pfizer\n",
            "Center Of Vaccination         : Montreal\n",
            "Lot Of Vaccination            : CW012\n",
            "-----------------------------------------------\n",
            "\n",
            "Thank you for choosing our services.\n",
            "Report generated successfully.\n"
          ]
        }
      ]
    },
    {
      "cell_type": "code",
      "metadata": {
        "colab": {
          "base_uri": "https://localhost:8080/"
        },
        "id": "wj7lX4l45IZP",
        "outputId": "e7add329-9216-41c6-8319-8f4bd20bcde0"
      },
      "source": [
        "s1 = input(\"Enter a string s1: \")\n",
        "s2 = input(\"Enter a string s2: \")\n",
        "\n",
        "# get length of string\n",
        "s1length = len(s1)\n",
        "s2length = len(s2)\n",
        "# loop in first string\n",
        "for i in range(s1length - s2length):\n",
        "    # using slicing to check \n",
        "    if s1[i:i+s2length] == s2:\n",
        "       print(f\"Matched at index {i}\")"
      ],
      "execution_count": 6,
      "outputs": [
        {
          "output_type": "stream",
          "name": "stdout",
          "text": [
            "Enter a string s1: Welcome to python\n",
            "Enter a string s2: come\n",
            "Matched at index 3\n"
          ]
        }
      ]
    },
    {
      "cell_type": "code",
      "metadata": {
        "id": "xOvI5Y7c7GPy"
      },
      "source": [
        ""
      ],
      "execution_count": null,
      "outputs": []
    }
  ]
}