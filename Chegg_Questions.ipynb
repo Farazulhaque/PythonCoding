{
  "nbformat": 4,
  "nbformat_minor": 0,
  "metadata": {
    "colab": {
      "name": "Chegg_Questions.ipynb",
      "provenance": [],
      "collapsed_sections": [],
      "mount_file_id": "1AU7ADTSaxhhfUz-sIfA1Q6Gv0eHgGH2A",
      "authorship_tag": "ABX9TyO00B0oPEoOQBODc3F0rSsI",
      "include_colab_link": true
    },
    "kernelspec": {
      "display_name": "Python 3",
      "name": "python3"
    }
  },
  "cells": [
    {
      "cell_type": "markdown",
      "metadata": {
        "id": "view-in-github",
        "colab_type": "text"
      },
      "source": [
        "<a href=\"https://colab.research.google.com/github/Farazulhaque/PythonCoding/blob/main/Chegg_Questions.ipynb\" target=\"_parent\"><img src=\"https://colab.research.google.com/assets/colab-badge.svg\" alt=\"Open In Colab\"/></a>"
      ]
    },
    {
      "cell_type": "code",
      "metadata": {
        "colab": {
          "base_uri": "https://localhost:8080/"
        },
        "id": "7vQnwl9cErcJ",
        "outputId": "c4c1a11e-e1ac-4e55-f8f5-23fca4e4dda5"
      },
      "source": [
        "# first_name = input(\"Enter first name: \")\n",
        "first_name = \"Faraz\"\n",
        "# last_name = input(\"Enter last name: \")\n",
        "last_name = \"Haque\"\n",
        "print(\"Name: \" + first_name + \" \" + last_name)"
      ],
      "execution_count": null,
      "outputs": [
        {
          "output_type": "stream",
          "text": [
            "Name: Faraz Haque\n"
          ],
          "name": "stdout"
        }
      ]
    },
    {
      "cell_type": "code",
      "metadata": {
        "colab": {
          "base_uri": "https://localhost:8080/"
        },
        "id": "7XDTkcuMlhHv",
        "outputId": "667896c9-1f5e-4ddf-a455-725c27eb08bf"
      },
      "source": [
        "x = \"Python\"\n",
        "y = \"python\"\n",
        "print(\"x =\",x)\n",
        "print(\"y =\",y)\n",
        "print(\"{} == {} => {}\".format(x,y,x==y))\n",
        "print(\"{} != {} => {}\".format(x,y,x!=y))\n",
        "print(\"{} > {} => {}\".format(x,y,x>y))\n",
        "print(\"{} < {} => {}\".format(x,y,x<y))\n",
        "print(\"{} >= {} => {}\".format(x,y,x>=y))\n",
        "print(\"{} <= {} => {}\".format(x,y,x<=y))"
      ],
      "execution_count": null,
      "outputs": [
        {
          "output_type": "stream",
          "text": [
            "x = Python\n",
            "y = python\n",
            "Python == python => False\n",
            "Python != python => True\n",
            "Python > python => False\n",
            "Python < python => True\n",
            "Python >= python => False\n",
            "Python <= python => True\n"
          ],
          "name": "stdout"
        }
      ]
    },
    {
      "cell_type": "code",
      "metadata": {
        "colab": {
          "base_uri": "https://localhost:8080/"
        },
        "id": "2GbqAdRvmRo1",
        "outputId": "eb53261d-71fe-412a-ce1a-eb2a1a274d0c"
      },
      "source": [
        "x = \"Hi!\"\n",
        "y = []\n",
        "print(\"The decimal encoding of Hi! in ASCII is: \")\n",
        "for i in x:\n",
        "    print(i, \"=\", ord(i))"
      ],
      "execution_count": null,
      "outputs": [
        {
          "output_type": "stream",
          "text": [
            "The decimal encoding of Hi! in ASCII is: \n",
            "H = 72\n",
            "i = 105\n",
            "! = 33\n"
          ],
          "name": "stdout"
        }
      ]
    },
    {
      "cell_type": "code",
      "metadata": {
        "colab": {
          "base_uri": "https://localhost:8080/"
        },
        "id": "UD-REZ_ZHPxC",
        "outputId": "07b0f132-5d5c-4193-e529-1140d4105832"
      },
      "source": [
        "str = \"Tell ME and I forget. Teach Me and I remember. Involve me and I learn.\"\n",
        "l1 = str.split(\" \")\n",
        "print(\"List by splitting the text into words: \", l1)\n",
        "print(\"Count of 'I' in the list: \", l1.count('I'))\n",
        "l1.sort()\n",
        "print(\"The sorted list are: \", l1)\n",
        "print(\"Index of word 'Involve': \", l1.index('Involve'))\n",
        "l1.clear()\n",
        "print(l1)"
      ],
      "execution_count": null,
      "outputs": [
        {
          "output_type": "stream",
          "text": [
            "List by splitting the text into words:  ['Tell', 'ME', 'and', 'I', 'forget.', 'Teach', 'Me', 'and', 'I', 'remember.', 'Involve', 'me', 'and', 'I', 'learn.']\n",
            "Count of 'I' in the list:  3\n",
            "The sorted list are:  ['I', 'I', 'I', 'Involve', 'ME', 'Me', 'Teach', 'Tell', 'and', 'and', 'and', 'forget.', 'learn.', 'me', 'remember.']\n",
            "Index of word 'Involve':  3\n",
            "[]\n"
          ],
          "name": "stdout"
        }
      ]
    },
    {
      "cell_type": "code",
      "metadata": {
        "colab": {
          "base_uri": "https://localhost:8080/"
        },
        "id": "FBzEpiPVDIUM",
        "outputId": "42f58b6b-eb5f-4d45-d04d-60ac964fb67a"
      },
      "source": [
        "str = \"Tell ME and I forget. Teach Me and I remember. involve me and I learn.\"\n",
        "print(\"The occurence of \\\"me\\\" are: \", str.lower().count(\"me\"))\n",
        "print(\"The length of the string are: \", len(str))"
      ],
      "execution_count": null,
      "outputs": [
        {
          "output_type": "stream",
          "text": [
            "The occurence of \"me\" are:  4\n",
            "The length of the string are:  70\n"
          ],
          "name": "stdout"
        }
      ]
    },
    {
      "cell_type": "code",
      "metadata": {
        "colab": {
          "base_uri": "https://localhost:8080/"
        },
        "id": "2S67sIHUGPIo",
        "outputId": "9a544084-2547-4989-a6e0-072360bba10c"
      },
      "source": [
        "fruits = ['apple', 'banana', 'cherry']\n",
        "ext = ['banana', 'orange', 'cherry']\n",
        "fruits.extend(ext)\n",
        "print(\"The extended list are: \", fruits)\n",
        "print(\"The length of the list are: \", len(fruits))\n",
        "fruits.sort()\n",
        "print(\"The sorted list are: \", fruits)\n",
        "print(\"How many 'banana' items list have? \", fruits.count(\"banana\"))\n",
        "rem = \"cherry\"\n",
        "for i in range(fruits.count(rem)):\n",
        "    if i < fruits.count(rem):\n",
        "        fruits.remove(rem)\n",
        "print(\"Removed one 'cherry' item: \", fruits)\n"
      ],
      "execution_count": null,
      "outputs": [
        {
          "output_type": "stream",
          "text": [
            "The extended list are:  ['apple', 'banana', 'cherry', 'banana', 'orange', 'cherry']\n",
            "The length of the list are:  6\n",
            "The sorted list are:  ['apple', 'banana', 'banana', 'cherry', 'cherry', 'orange']\n",
            "How many 'banana' items list have?  2\n",
            "Removed one 'cherry' item:  ['apple', 'banana', 'banana', 'cherry', 'orange']\n"
          ],
          "name": "stdout"
        }
      ]
    },
    {
      "cell_type": "code",
      "metadata": {
        "colab": {
          "base_uri": "https://localhost:8080/"
        },
        "id": "a9uGk5zM-zac",
        "outputId": "302530d8-4ad6-45d4-d5d0-9cd11ea87e10"
      },
      "source": [
        "myString = \"Hello World\"\n",
        "rev = \"\"\n",
        "\n",
        "for i in myString:\n",
        "    rev = i + rev  # appending chars in reverse order\n",
        "print(rev)\n"
      ],
      "execution_count": null,
      "outputs": [
        {
          "output_type": "stream",
          "text": [
            "dlroW olleH\n"
          ],
          "name": "stdout"
        }
      ]
    },
    {
      "cell_type": "code",
      "metadata": {
        "colab": {
          "base_uri": "https://localhost:8080/"
        },
        "id": "byUmYm2thU64",
        "outputId": "ac7fa026-f5fe-4eb2-8464-f42b56d8bdc4"
      },
      "source": [
        "names = [\"Arisha\",\"Aftab\",\"Aman\",\"Kashaf\",\"Sumaiya\"]\n",
        "for i in names:\n",
        "  print(\"Hi \",i)"
      ],
      "execution_count": null,
      "outputs": [
        {
          "output_type": "stream",
          "text": [
            "Hi  Arisha\n",
            "Hi  Aftab\n",
            "Hi  Aman\n",
            "Hi  Kashaf\n",
            "Hi  Sumaiya\n"
          ],
          "name": "stdout"
        }
      ]
    },
    {
      "cell_type": "code",
      "metadata": {
        "colab": {
          "base_uri": "https://localhost:8080/"
        },
        "id": "yxRzoPoUKT7q",
        "outputId": "d0b95da4-d002-4c7e-f8b1-2c4813820715"
      },
      "source": [
        "from math import *\n",
        "x = [0, -4, -1, 1]\n",
        "n = len(x)\n",
        "prod = 1\n",
        "for i in range(0,n):\n",
        "  prod*=x[i]\n",
        "print(prod)"
      ],
      "execution_count": null,
      "outputs": [
        {
          "output_type": "stream",
          "text": [
            "0\n"
          ],
          "name": "stdout"
        }
      ]
    },
    {
      "cell_type": "code",
      "metadata": {
        "id": "hw6T3W1BWnm7",
        "colab": {
          "base_uri": "https://localhost:8080/"
        },
        "outputId": "4430473c-8d18-40bc-8abd-05a30b5783dc"
      },
      "source": [
        "l1 = [1, 2, 3]\n",
        "for items in l1:\n",
        "    print(items)"
      ],
      "execution_count": null,
      "outputs": [
        {
          "output_type": "stream",
          "text": [
            "1\n",
            "2\n",
            "3\n"
          ],
          "name": "stdout"
        }
      ]
    },
    {
      "cell_type": "code",
      "metadata": {
        "id": "WZwy2k2NEI3N",
        "colab": {
          "base_uri": "https://localhost:8080/"
        },
        "outputId": "99fbb800-0254-4cdc-f113-183dd38324ac"
      },
      "source": [
        "set1 = {\"apple\", \"banana\", \"cherry\"}\n",
        "set2 = {\"banana\", \"apple\",  \"cherry\"}\n",
        "set1 == set2"
      ],
      "execution_count": null,
      "outputs": [
        {
          "output_type": "execute_result",
          "data": {
            "text/plain": [
              "True"
            ]
          },
          "metadata": {
            "tags": []
          },
          "execution_count": 17
        }
      ]
    },
    {
      "cell_type": "code",
      "metadata": {
        "id": "o-X2eInELdAd",
        "colab": {
          "base_uri": "https://localhost:8080/"
        },
        "outputId": "161743eb-be91-4132-9c7d-9a4e242d86c0"
      },
      "source": [
        "numbers = (1, 2, 3, 4)\n",
        "# Add each number with self and then assign value to result\n",
        "result = map(lambda x: x + x, numbers)\n",
        "print(list(result))"
      ],
      "execution_count": null,
      "outputs": [
        {
          "output_type": "stream",
          "text": [
            "[2, 4, 6, 8]\n"
          ],
          "name": "stdout"
        }
      ]
    },
    {
      "cell_type": "code",
      "metadata": {
        "id": "XfHzUY6C2HtY",
        "colab": {
          "base_uri": "https://localhost:8080/"
        },
        "outputId": "c28a60c0-a0a6-4906-d33d-2b815d4a7eb2"
      },
      "source": [
        "set1 = {1, 2, 3}\n",
        "set1.add(4)\n",
        "set1.discard(2)\n",
        "print(set1)"
      ],
      "execution_count": null,
      "outputs": [
        {
          "output_type": "stream",
          "text": [
            "{1, 3, 4}\n"
          ],
          "name": "stdout"
        }
      ]
    },
    {
      "cell_type": "code",
      "metadata": {
        "id": "Wun8LbC5NH3O",
        "colab": {
          "base_uri": "https://localhost:8080/"
        },
        "outputId": "4b25ad9f-3bf1-46d9-f1ab-86c1df3f7637"
      },
      "source": [
        "sequence_of_int = [1, 2, 4, 5, 7, 8, 9, 10, 13]\n",
        "# It returns all even numbers from the list\n",
        "filter_function = filter(lambda x: x % 2 == 0, sequence_of_int)\n",
        "print(list(filter_function))"
      ],
      "execution_count": null,
      "outputs": [
        {
          "output_type": "stream",
          "text": [
            "[2, 4, 8, 10]\n"
          ],
          "name": "stdout"
        }
      ]
    },
    {
      "cell_type": "code",
      "metadata": {
        "id": "Kiz8rSBY4_eq",
        "colab": {
          "base_uri": "https://localhost:8080/"
        },
        "outputId": "dbfaaedb-6d1d-499e-9755-75913061f91b"
      },
      "source": [
        "# cents = int(input(\"Enter number of cents \"))\n",
        "cents = 100\n",
        "d = int(cents / 100)  # here d is for dollars\n",
        "c = cents % 100  # here c is for cents\n",
        "print(str(cents) + \" cents = \" + str(d) + \" dollars and \" + str(c) + \" cents \")"
      ],
      "execution_count": null,
      "outputs": [
        {
          "output_type": "stream",
          "text": [
            "100 cents = 1 dollars and 0 cents \n"
          ],
          "name": "stdout"
        }
      ]
    },
    {
      "cell_type": "code",
      "metadata": {
        "id": "9cCd51bJi_Yc"
      },
      "source": [
        "# radius = int(input())\n",
        "radius = 10\n",
        "\n",
        "diameter = radius * 2\n",
        "area = 3.14159 * radius * radius\n",
        "\n",
        "print(\"Diameter of the circle: \" + str(diameter))\n",
        "print(\"Aea of the circle: \" + str(area))"
      ],
      "execution_count": null,
      "outputs": []
    },
    {
      "cell_type": "code",
      "metadata": {
        "id": "xvwUqbd4y39T",
        "colab": {
          "base_uri": "https://localhost:8080/"
        },
        "outputId": "31666ff0-4de6-45a8-d211-942101132f79"
      },
      "source": [
        "def factorial(n):\n",
        "    if n == 1:\n",
        "        return n\n",
        "    else:\n",
        "        return n*factorial(n-1)\n",
        "\n",
        "\n",
        "# num = int(input(\"Enter number for Factorial : \"))\n",
        "num = 5\n",
        "\n",
        "# check if the number is negative\n",
        "if num < 0:\n",
        "    print(\"Factorial does not exist for negative numbers\")\n",
        "elif num == 0:\n",
        "    print(\"The Factorial of 0 is 1\")\n",
        "else:\n",
        "    print(\"The Factorial of\", num, \"is\", factorial(num))\n"
      ],
      "execution_count": null,
      "outputs": [
        {
          "output_type": "stream",
          "text": [
            "The Factorial of 5 is 120\n"
          ],
          "name": "stdout"
        }
      ]
    },
    {
      "cell_type": "code",
      "metadata": {
        "colab": {
          "base_uri": "https://localhost:8080/"
        },
        "id": "cNHmYHtYMHC4",
        "outputId": "0640bcbc-b935-4708-c800-22bf71ed43ad"
      },
      "source": [
        "def cal_factorial(n):\n",
        "    if n == 1:\n",
        "        return n\n",
        "    else:\n",
        "        return n*cal_factorial(n-1)\n",
        "\n",
        "\n",
        "number = 6\n",
        "result = cal_factorial(number)\n",
        "print(\"The factorial of {} is {}\".format(number, result))"
      ],
      "execution_count": null,
      "outputs": [
        {
          "output_type": "stream",
          "text": [
            "The factorial of 6 is 720\n"
          ],
          "name": "stdout"
        }
      ]
    },
    {
      "cell_type": "code",
      "metadata": {
        "id": "D2H1MsNz1y6F",
        "colab": {
          "base_uri": "https://localhost:8080/"
        },
        "outputId": "0c1c003b-baf7-4683-d781-78591c63f778"
      },
      "source": [
        "i = 2\n",
        "x = 1\n",
        "for i in range(5):\n",
        "    print(i, end=' ')\n",
        "    x += 2\n",
        "print(x, end=' ')"
      ],
      "execution_count": null,
      "outputs": [
        {
          "output_type": "stream",
          "text": [
            "0 1 2 3 4 11 "
          ],
          "name": "stdout"
        }
      ]
    },
    {
      "cell_type": "code",
      "metadata": {
        "colab": {
          "base_uri": "https://localhost:8080/"
        },
        "id": "h-Mzgx-8qpnQ",
        "outputId": "f49cb788-67f0-4708-f190-537613db398e"
      },
      "source": [
        "a = 1\n",
        "b = 2\n",
        "c = 3\n",
        "if a > b:\n",
        "  x = a + 5;\n",
        "else:\n",
        "  x = b + 4;\n",
        "c = x + 1;\n",
        "print(c)"
      ],
      "execution_count": null,
      "outputs": [
        {
          "output_type": "stream",
          "text": [
            "7\n"
          ],
          "name": "stdout"
        }
      ]
    },
    {
      "cell_type": "code",
      "metadata": {
        "colab": {
          "base_uri": "https://localhost:8080/"
        },
        "id": "ZfdxwjpL_Gmh",
        "outputId": "e4fd4432-365c-4cda-cb67-091d835a2938"
      },
      "source": [
        "s = \"Yes\"\n",
        "for i in iter(int, 1):\n",
        "    if s.lower() == 'y' or s.lower() == 'yes':\n",
        "        n, m = map(int, input(\"Enter 2 numbers: \").split())\n",
        "        print(\"Sum = \", n+m)\n",
        "        s = input(\"Wanna continue? \")\n",
        "    else:\n",
        "        break"
      ],
      "execution_count": null,
      "outputs": [
        {
          "output_type": "stream",
          "text": [
            "Enter 2 numbers: 5 4\n",
            "Sum =  9\n",
            "Wanna continue? y\n",
            "Enter 2 numbers: 10 8\n",
            "Sum =  18\n",
            "Wanna continue? n\n"
          ],
          "name": "stdout"
        }
      ]
    },
    {
      "cell_type": "code",
      "metadata": {
        "colab": {
          "base_uri": "https://localhost:8080/"
        },
        "id": "yKhwZQU6qpCB",
        "outputId": "be1b1133-dcec-433e-b573-c91a77fb38e5"
      },
      "source": [
        "#Python 3\n",
        "\n",
        "myStr = \"myprogram.exe\"\n",
        "\n",
        "#start from index of g i.e 5 and end upto index of . - 1\n",
        "extract = myStr[5:9]\n",
        "print(extract)\n",
        "\n",
        "#start from 0 and end to length of string - 4 (since .exe has 4 characters)\n",
        "truncate = myStr[:len(myStr) - 4] \n",
        "print(truncate)"
      ],
      "execution_count": null,
      "outputs": [
        {
          "output_type": "stream",
          "text": [
            "gram\n",
            "myprogram\n"
          ],
          "name": "stdout"
        }
      ]
    },
    {
      "cell_type": "code",
      "metadata": {
        "id": "zsU_QjwZCg2D",
        "colab": {
          "base_uri": "https://localhost:8080/"
        },
        "outputId": "4acf851e-81ca-4b6e-af76-a00a039a43fa"
      },
      "source": [
        "def a_mod_b(a, b):\n",
        "    result = a % b  # assign the result of a mod b to the variable result\n",
        "    print(\"{} mod {} = {}\".format(a,b,result))\n",
        "\n",
        "\n",
        "a_mod_b(20, 3)  # fuction calling"
      ],
      "execution_count": null,
      "outputs": [
        {
          "output_type": "stream",
          "text": [
            "20 mod 3 = 2\n"
          ],
          "name": "stdout"
        }
      ]
    },
    {
      "cell_type": "code",
      "metadata": {
        "id": "cccYWy3S8Ckv",
        "colab": {
          "base_uri": "https://localhost:8080/"
        },
        "outputId": "ffb41be4-196b-48bf-aa17-bb233bb7e0d5"
      },
      "source": [
        "s1 = \"hello! how are you?\"\n",
        "print(\"Capitalize =\",s1.capitalize())   #capitalize() function returns a string with only first letter capitalized and rest untouched.\n",
        "print(\"Upper =\",s1.upper())             #upper() function converts the whole string in uppercase and print it\n",
        "print(\"Lower =\",s1.lower())             #lower() function converts the whole string in lowercase and print it\n",
        "print(\"Count of 'o' is\",s1.count(\"o\"))  #count() function counts the number of times the substring appear in string\n",
        "print(\"Index of 'w' is\",s1.index(\"w\"))  #index() function returns the index of the string that appears first"
      ],
      "execution_count": null,
      "outputs": [
        {
          "output_type": "stream",
          "text": [
            "Capitalize = Hello! how are you?\n",
            "Upper = HELLO! HOW ARE YOU?\n",
            "Lower = hello! how are you?\n",
            "Count of 'o' is 3\n",
            "Index of 'w' is 9\n"
          ],
          "name": "stdout"
        }
      ]
    },
    {
      "cell_type": "code",
      "metadata": {
        "colab": {
          "base_uri": "https://localhost:8080/"
        },
        "id": "KHPW65qpwfLR",
        "outputId": "b7e106c7-2b2f-44bc-f533-6c3e36481501"
      },
      "source": [
        "name = \"ISM3232!\"\n",
        "numOfDigits = 0\n",
        "numOfLetters = 0\n",
        "for i in name:       # i holds each character in String name for every iteration of loop\n",
        "    if(i.isdigit()):\n",
        "        numOfDigits = numOfDigits + 1     # Increment Count by 1\n",
        "    elif(i.isalpha()):\n",
        "        numOfLetters = numOfLetters + 1   # Increment Count by 1\n",
        "print(\"numOfDigits = \", numOfDigits)\n",
        "print(\"numOfLetters = \", numOfLetters)\n"
      ],
      "execution_count": null,
      "outputs": [
        {
          "output_type": "stream",
          "text": [
            "numOfDigits =  4\n",
            "numOfLetters =  3\n"
          ],
          "name": "stdout"
        }
      ]
    },
    {
      "cell_type": "code",
      "metadata": {
        "colab": {
          "base_uri": "https://localhost:8080/"
        },
        "id": "NlsgUc08Fk8z",
        "outputId": "c57257f6-81f2-4567-be0f-6127c960bc0e"
      },
      "source": [
        "# i = int(input())  # here you can enter the kilogram you want to convert to pound\n",
        "i = 500\n",
        "print(\"Kilograms\\tPounds\")\n",
        "print(\"-----------------------\")\n",
        "pounds = round(i*2.2, 1)\n",
        "print(\"  \" + str(i) + \"\\t\\t\" + str(pounds))"
      ],
      "execution_count": null,
      "outputs": [
        {
          "output_type": "stream",
          "text": [
            "Kilograms\tPounds\n",
            "-----------------------\n",
            "  500\t\t1100.0\n"
          ],
          "name": "stdout"
        }
      ]
    },
    {
      "cell_type": "code",
      "metadata": {
        "id": "mgkm2MPPkyt7",
        "colab": {
          "base_uri": "https://localhost:8080/"
        },
        "outputId": "8c64773c-3077-48ce-c142-1d1e20030f5d"
      },
      "source": [
        "import numpy as np\n",
        "# Initialise list\n",
        "l1 = [1, 2, 3, 4, 5, 6, 7]\n",
        "# convert list into array\n",
        "arr = np.array(l1)\n",
        "# Loop through the array in reverse order\n",
        "for i in range(len(arr)-1, -1, -1):\n",
        "    print(arr[i], end=\" \")\n",
        "\n",
        "print()\n",
        "print(type(arr))"
      ],
      "execution_count": null,
      "outputs": [
        {
          "output_type": "stream",
          "text": [
            "7 6 5 4 3 2 1 \n",
            "<class 'numpy.ndarray'>\n"
          ],
          "name": "stdout"
        }
      ]
    },
    {
      "cell_type": "code",
      "metadata": {
        "colab": {
          "base_uri": "https://localhost:8080/"
        },
        "id": "N_HEQ2Nzmc_l",
        "outputId": "4f9a41b0-fb0b-4031-8c9f-518a6e5d55fd"
      },
      "source": [
        "def maxOfThree():  # function definition\n",
        "    try:\n",
        "        # x, y, z = map(int, input(\"Enter three numbers separated by space: \").split())\n",
        "        x = 10\n",
        "        y = 8\n",
        "        z = 15\n",
        "\n",
        "        if x > y and x > z:\n",
        "            print(\"Max of {}, {} and {} is {}\".format(x,y,z,x))\n",
        "        elif y > x and y > z:\n",
        "            print(\"Max of {}, {} and {} is {}\".format(x,y,z,y))\n",
        "        else:\n",
        "            print(\"Max of {}, {} and {} is {}\".format(x,y,z,z))\n",
        "    except ValueError:\n",
        "        print(\"Enter only three numbers separated by space\")\n",
        "\n",
        "\n",
        "maxOfThree()  # function calling"
      ],
      "execution_count": null,
      "outputs": [
        {
          "output_type": "stream",
          "text": [
            "Max of 10, 8 and 15 is 15\n"
          ],
          "name": "stdout"
        }
      ]
    },
    {
      "cell_type": "code",
      "metadata": {
        "colab": {
          "base_uri": "https://localhost:8080/"
        },
        "id": "jL5ph03W63Ir",
        "outputId": "41c4465b-ff14-4109-d7ec-75118f57567e"
      },
      "source": [
        "again = True\n",
        "\n",
        "while(again):\n",
        "    first = int(input(\"Enter first integer: \"))\n",
        "    second = int(input(\"Enter second integer: \"))\n",
        "    sum = first + second\n",
        "    print(\"Sum: \" + str(sum))\n",
        "    again = input(\"Perform the operation again? \")\n",
        "    again = again.lower()\n",
        "    if(again != \"yes\"):\n",
        "        again = False"
      ],
      "execution_count": null,
      "outputs": [
        {
          "output_type": "stream",
          "text": [
            "Enter first integer: 8\n",
            "Enter second integer: 2\n",
            "Sum: 10\n",
            "Perform the operation again? yes\n",
            "Enter first integer: 7\n",
            "Enter second integer: 4\n",
            "Sum: 11\n",
            "Perform the operation again? n\n"
          ],
          "name": "stdout"
        }
      ]
    },
    {
      "cell_type": "code",
      "metadata": {
        "id": "mdk9w9tm2R81",
        "colab": {
          "base_uri": "https://localhost:8080/"
        },
        "outputId": "48fc034f-4637-49f4-87e5-75f969572a8c"
      },
      "source": [
        "# product of each digit e.g: 1234 = 1*2*3*4 = 24\n",
        "try:\n",
        "    # number = int(input(\"Type in a number with four digits: \"))\n",
        "    number = 1234\n",
        "except ValueError:\n",
        "    print(\"sorry, i did not understand that! \")\n",
        "if number > 9999:\n",
        "    print(\"The number is to big\")\n",
        "elif number < 0:\n",
        "    print(\"No negative numbers please!\")\n",
        "else:\n",
        "    product_of_digits = 1\n",
        "    for digit in str(number):\n",
        "        product_of_digits *= int(digit)\n",
        "    print(\"Product of digit {} is {}\".format(number, product_of_digits))"
      ],
      "execution_count": null,
      "outputs": [
        {
          "output_type": "stream",
          "text": [
            "Product of digit 1234 is 24\n"
          ],
          "name": "stdout"
        }
      ]
    },
    {
      "cell_type": "code",
      "metadata": {
        "colab": {
          "base_uri": "https://localhost:8080/"
        },
        "id": "jq5NAX98M32w",
        "outputId": "98067ccd-fad7-4e32-ce44-a7e4395f89f5"
      },
      "source": [
        "def list_multiples(number, length):\n",
        "    a = range(number, (length * number)+1, number)\n",
        "    result = list(a)\n",
        "    return result\n",
        "\n",
        "\n",
        "number = 7\n",
        "length = 5\n",
        "result = list_multiples(7, 5)\n",
        "print(\"Multiples of {} upto {} times = {}\".format(number, length, result))"
      ],
      "execution_count": null,
      "outputs": [
        {
          "output_type": "stream",
          "text": [
            "Multiples of 7 upto 5 times = [7, 14, 21, 28, 35]\n"
          ],
          "name": "stdout"
        }
      ]
    },
    {
      "cell_type": "code",
      "metadata": {
        "id": "NLhMQa4QOA0J",
        "colab": {
          "base_uri": "https://localhost:8080/"
        },
        "outputId": "f05a7c1a-1000-42a1-b518-c602a21982c1"
      },
      "source": [
        "def isPalindrome(string):\n",
        "    if string == string[::-1]:  # using indexing we can check for palindrome\n",
        "        # [start:end:step] here start and end is not mentioned\n",
        "        # so start from beginning and end till end\n",
        "        # step is -1, that is start - step = -1\n",
        "        # so it starts from -1 and end untill the start\n",
        "        # and lastly compare the previous string and new string\n",
        "        # [::-1] will reverse the string\n",
        "        return True\n",
        "    else:\n",
        "        return False\n",
        "\n",
        "\n",
        "def main(inputStr):\n",
        "    # inputStr = input(\"Enter a string: \")\n",
        "    if isPalindrome(inputStr):\n",
        "        print(\"{} is a palindrome\".format(inputStr))\n",
        "    else:\n",
        "        print(\"{} is not a palindrome\".format(inputStr))\n",
        "\n",
        "\n",
        "main(\"deeds\")\n",
        "main(\"deed\")\n"
      ],
      "execution_count": null,
      "outputs": [
        {
          "output_type": "stream",
          "text": [
            "deeds is not a palindrome\n",
            "deed is a palindrome\n"
          ],
          "name": "stdout"
        }
      ]
    },
    {
      "cell_type": "code",
      "metadata": {
        "colab": {
          "base_uri": "https://localhost:8080/"
        },
        "id": "MRcD1kkRs5hZ",
        "outputId": "4c9c4c61-1861-4d72-89c2-817c1178bab0"
      },
      "source": [
        "from random import randint\n",
        "\n",
        "# create a list of play options\n",
        "t = [\"Rock\", \"Paper\", \"Scissors\"]\n",
        "\n",
        "# assign a random play to the computer\n",
        "computer = t[randint(0, 2)]\n",
        "computer = computer.capitalize()\n",
        "\n",
        "play = True\n",
        "# loop until user have typed an invalid input\n",
        "while play == True:\n",
        "    player = input(\"Rock, Paper, Scissors? \")\n",
        "    player = player.capitalize()\n",
        "    if player == computer:\n",
        "        print(\"Tie!\")\n",
        "    elif player == \"Rock\":\n",
        "        print(\"You picked\", player)\n",
        "        if computer == \"Paper\":\n",
        "            print(\"Computer picked\", computer)\n",
        "            print(\"You lose!\", computer, \"covers\", player)\n",
        "        else:\n",
        "            print(\"Computer picked\", computer)\n",
        "            print(\"You win!\", player, \"smashes\", computer)\n",
        "    elif player == \"Paper\":\n",
        "        print(\"You picked\", player)\n",
        "        if computer == \"Scissors\":\n",
        "            print(\"Computer picked\", computer)\n",
        "            print(\"You lose!\", computer, \"cut\", player)\n",
        "        else:\n",
        "            print(\"Computer picked\", computer)\n",
        "            print(\"You win!\", player, \"covers\", computer)\n",
        "    elif player == \"Scissors\":\n",
        "        print(\"You picked\", player)\n",
        "        if computer == \"Rock\":\n",
        "            print(\"You lose...\", computer, \"crushes\", player)\n",
        "        else:\n",
        "            print(\"Computer picked\", computer)\n",
        "            print(\"You win!\", player, \"cut\", computer)\n",
        "    else:\n",
        "        print(\"That's not a valid play. Check your spelling!\")\n",
        "        print(\"Exiting...\")\n",
        "        # set play to False, when user have typed an invalid input\n",
        "        play = False\n",
        "\n",
        "    computer = t[randint(0, 2)]"
      ],
      "execution_count": null,
      "outputs": [
        {
          "output_type": "stream",
          "text": [
            "Rock, Paper, Scissors? rock\n",
            "Tie!\n",
            "Rock, Paper, Scissors? paper\n",
            "You picked Paper\n",
            "Computer picked Scissors\n",
            "You lose! Scissors cut Paper\n",
            "Rock, Paper, Scissors? scissors\n",
            "You picked Scissors\n",
            "You lose... Rock crushes Scissors\n",
            "Rock, Paper, Scissors? exit\n",
            "That's not a valid play. Check your spelling!\n",
            "Exiting...\n"
          ],
          "name": "stdout"
        }
      ]
    },
    {
      "cell_type": "code",
      "metadata": {
        "colab": {
          "base_uri": "https://localhost:8080/"
        },
        "id": "G8QGraycfksQ",
        "outputId": "1c29ff3d-c092-46ef-9c43-1921d127b99b"
      },
      "source": [
        "import math\n",
        "from random import randint\n",
        "\n",
        "# assign a random play to the computer\n",
        "computer = randint(0, 2)\n",
        "\n",
        "# Initialise variable to count the number of wins by playe, computer and tie\n",
        "comp = 0\n",
        "you = 0\n",
        "tie = 0\n",
        "\n",
        "# set play to True\n",
        "play = True\n",
        "# loop untill play is True\n",
        "while play == True:\n",
        "    print(\"Let's play Rock, Paper, Scissor! Make your selection: (1 for Rock, 2 for Paper, 3 for Scissors, 0 to end)\")\n",
        "    # Storing user input in variable player\n",
        "    player = int(input(\">>>\"))\n",
        "\n",
        "    if player == 1:\n",
        "        print(\"You chose rock.\", end=\" \")\n",
        "        if computer == 1:\n",
        "            print(\"The computer chose rock. It's a tie!\")\n",
        "            tie += 1\n",
        "        elif computer == 2:\n",
        "            print(\"The computer chose paper. You lose!\")\n",
        "            comp += 1\n",
        "        else:\n",
        "            print(\"The computer choses scissors. You win!\")\n",
        "            you += 1\n",
        "        play = True\n",
        "    elif player == 2:\n",
        "        print(\"You chose paper.\", end=\" \")\n",
        "        if computer == 1:\n",
        "            print(\"The computer chose rock. You win!\")\n",
        "            you += 1\n",
        "        elif computer == 2:\n",
        "            print(\"The computer chose paper. It's a tie!\")\n",
        "            tie += 1\n",
        "        else:\n",
        "            print(\"The computer choses scissors. You lose!\")\n",
        "            comp += 1\n",
        "        play = True\n",
        "    elif player == 3:\n",
        "        print(\"You chose scissor.\", end=\" \")\n",
        "        if computer == 1:\n",
        "            print(\"The computer chose rock. You lose!\")\n",
        "            comp += 1\n",
        "        elif computer == 2:\n",
        "            print(\"The computer chose paper. You win!\")\n",
        "            you += 1\n",
        "        else:\n",
        "            print(\"The computer choses scissors. It's a tie!\")\n",
        "            tie += 1\n",
        "        play = True\n",
        "    elif player == 0:\n",
        "        print(\"You won \" + str(you) + \" time\")\n",
        "        print(\"The computer won \" + str(comp) + \" time\")\n",
        "        print(\"You tied with the computer \" + str(tie) + \" time\")\n",
        "        print(\"Thanks for playing! Goodbye\")\n",
        "        # Break the loop by assigning player = False\n",
        "        play = False\n",
        "    else:\n",
        "        print(\"Invalid selection. \")\n",
        "        play = True\n",
        "    # Assign new value to computer every time\n",
        "    computer = randint(0, 2)\n",
        "\n",
        "# Output - \n",
        "# Let's play Rock, Paper, Scissor! Make your selection: (1 for Rock, 2 for Paper, 3 for Scissors, 0 to end)\n",
        "# >>>3\n",
        "# You chose scissor. The computer choses scissors. It's a tie!\n",
        "# Let's play Rock, Paper, Scissor! Make your selection: (1 for Rock, 2 for Paper, 3 for Scissors, 0 to end)\n",
        "# >>>1\n",
        "# You chose rock. The computer choses scissors. You win!\n",
        "# Let's play Rock, Paper, Scissor! Make your selection: (1 for Rock, 2 for Paper, 3 for Scissors, 0 to end)\n",
        "# >>>2\n",
        "# You chose paper. The computer chose rock. You win!\n",
        "# Let's play Rock, Paper, Scissor! Make your selection: (1 for Rock, 2 for Paper, 3 for Scissors, 0 to end)\n",
        "# >>>4\n",
        "# Invalid selection. \n",
        "# Let's play Rock, Paper, Scissor! Make your selection: (1 for Rock, 2 for Paper, 3 for Scissors, 0 to end)\n",
        "# >>>1\n",
        "# You chose rock. The computer choses scissors. You win!\n",
        "# Let's play Rock, Paper, Scissor! Make your selection: (1 for Rock, 2 for Paper, 3 for Scissors, 0 to end)\n",
        "# >>>2\n",
        "# You chose paper. The computer choses scissors. You lose!\n",
        "# Let's play Rock, Paper, Scissor! Make your selection: (1 for Rock, 2 for Paper, 3 for Scissors, 0 to end)\n",
        "# >>>0\n",
        "# You won 3 time\n",
        "# The computer won 1 time\n",
        "# You tied with the computer 1 time\n",
        "# Thanks for playing! Goodbye"
      ],
      "execution_count": null,
      "outputs": [
        {
          "output_type": "stream",
          "text": [
            "Let's play Rock, Paper, Scissor! Make your selection: (1 for Rock, 2 for Paper, 3 for Scissors, 0 to end)\n",
            ">>>3\n",
            "You chose scissor. The computer choses scissors. It's a tie!\n",
            "Let's play Rock, Paper, Scissor! Make your selection: (1 for Rock, 2 for Paper, 3 for Scissors, 0 to end)\n",
            ">>>1\n",
            "You chose rock. The computer choses scissors. You win!\n",
            "Let's play Rock, Paper, Scissor! Make your selection: (1 for Rock, 2 for Paper, 3 for Scissors, 0 to end)\n",
            ">>>2\n",
            "You chose paper. The computer chose rock. You win!\n",
            "Let's play Rock, Paper, Scissor! Make your selection: (1 for Rock, 2 for Paper, 3 for Scissors, 0 to end)\n",
            ">>>4\n",
            "Invalid selection. \n",
            "Let's play Rock, Paper, Scissor! Make your selection: (1 for Rock, 2 for Paper, 3 for Scissors, 0 to end)\n",
            ">>>1\n",
            "You chose rock. The computer choses scissors. You win!\n",
            "Let's play Rock, Paper, Scissor! Make your selection: (1 for Rock, 2 for Paper, 3 for Scissors, 0 to end)\n",
            ">>>2\n",
            "You chose paper. The computer choses scissors. You lose!\n",
            "Let's play Rock, Paper, Scissor! Make your selection: (1 for Rock, 2 for Paper, 3 for Scissors, 0 to end)\n",
            ">>>0\n",
            "You won 3 time\n",
            "The computer won 1 time\n",
            "You tied with the computer 1 time\n",
            "Thanks for playing! Goodbye\n"
          ],
          "name": "stdout"
        }
      ]
    },
    {
      "cell_type": "code",
      "metadata": {
        "colab": {
          "base_uri": "https://localhost:8080/"
        },
        "id": "B6GwkhG1jnio",
        "outputId": "874a5760-a6e3-4e37-f7d5-8f8b74a52455"
      },
      "source": [
        "from random import randint\n",
        "\n",
        "# create a list of play options\n",
        "t = [\"Rock\", \"Paper\", \"Scissors\"]\n",
        "\n",
        "# assign a random play to the computer\n",
        "computer = t[randint(0, 2)]\n",
        "computer = computer.lower()\n",
        "\n",
        "# set player to False\n",
        "player = False\n",
        "# to play only 5 rounds initialise count = 0 and loop until count < 5\n",
        "# If you want you can remove count, but if you remove count, the game will never stop\n",
        "count = 0\n",
        "while player == False and count < 5:\n",
        "    # set player to True\n",
        "    player = input(\"Enter your choice: \")\n",
        "    print(\"Computer chooses \", computer)\n",
        "    player = player.lower()\n",
        "    if player == computer:\n",
        "        print(\"User and computer tie!\")\n",
        "    elif player == \"rock\":\n",
        "        if computer == \"paper\":\n",
        "            print(\"I, the computer win!\")\n",
        "        else:\n",
        "            print(\"You, the user, win!\")\n",
        "    elif player == \"paper\":\n",
        "        if computer == \"scissors\":\n",
        "            print(\"I, the computer win!\")\n",
        "        else:\n",
        "            print(\"You, the user, win!\")\n",
        "    elif player == \"scissors\":\n",
        "        if computer == \"rock\":\n",
        "            print(\"I, the computer win!\")\n",
        "        else:\n",
        "            print(\"You, the user, win!\")\n",
        "    else:\n",
        "        print(\"Your choice is incorrect\")\n",
        "        print(\"Choose from rock, paper and scissors\")\n",
        "\n",
        "    player = False\n",
        "    computer = t[randint(0, 2)]\n",
        "    computer = computer.lower()\n",
        "    count += 1\n"
      ],
      "execution_count": null,
      "outputs": [
        {
          "output_type": "stream",
          "text": [
            "Enter your choice: vhdsh\n",
            "Computer chooses  paper\n",
            "Incorrect choice\n",
            "Choose from rock, paper and scissors\n",
            "Enter your choice: rock\n",
            "Computer chooses  paper\n",
            "I, the computer win!\n",
            "Enter your choice: paper\n",
            "Computer chooses  rock\n",
            "You, the user, win!\n",
            "Enter your choice: scissors\n",
            "Computer chooses  rock\n",
            "I, the computer win!\n",
            "Enter your choice: paper\n",
            "Computer chooses  scissors\n",
            "I, the computer win!\n"
          ],
          "name": "stdout"
        }
      ]
    },
    {
      "cell_type": "code",
      "metadata": {
        "id": "kInpHVGP_KEc",
        "colab": {
          "base_uri": "https://localhost:8080/"
        },
        "outputId": "8fe66843-0c91-4617-af20-c949d3514103"
      },
      "source": [
        "from random import randint\n",
        "\n",
        "# create a list of play options\n",
        "t = [\"Rock\", \"Paper\", \"Scissors\"]\n",
        "\n",
        "# assign a random play to the computer\n",
        "computer = t[randint(0, 2)]\n",
        "computer = computer.lower()\n",
        "\n",
        "# set player to True\n",
        "player = True\n",
        "\n",
        "while player == True:\n",
        "    player = input(\"Rock, Paper, Scissors? \")\n",
        "    player = player.lower()\n",
        "    if player == computer:\n",
        "        print(\"Tie!\")\n",
        "    elif player == \"rock\":\n",
        "        print(\"you picked\", player)\n",
        "        if computer == \"paper\":\n",
        "            print(\"computer picked\", computer)\n",
        "            print(\"You lose!\", computer, \"covers\", player)\n",
        "        else:\n",
        "            print(\"computer picked\", computer)\n",
        "            print(\"You win!\", player, \"smashes\", computer)\n",
        "    elif player == \"paper\":\n",
        "        print(\"you picked\", player)\n",
        "        if computer == \"scissors\":\n",
        "            print(\"computer picked\", computer)\n",
        "            print(\"You lose!\", computer, \"cut\", player)\n",
        "        else:\n",
        "            print(\"computer picked\", computer)\n",
        "            print(\"You win!\", player, \"covers\", computer)\n",
        "    elif player == \"scissors\":\n",
        "        print(\"you picked\", player)\n",
        "        if computer == \"rock\":\n",
        "            print(\"You lose...\", computer, \"crushes\", player)\n",
        "        else:\n",
        "            print(\"computer picked\", computer)\n",
        "            print(\"You win!\", player, \"cut\", computer)\n",
        "    else:\n",
        "        print(\"That's not a valid play. Check your spelling!\")\n",
        "\n",
        "    again = input(\"Do you want to play again? (yes/no) \")\n",
        "    if again.lower() == \"yes\" or again.lower() == \"y\":\n",
        "        player = True\n",
        "        computer = t[randint(0, 2)]\n",
        "        computer = computer.lower()\n",
        "    elif again.lower() == \"no\" or again.lower() == \"n\":\n",
        "        player = False\n",
        "    else:\n",
        "        print(\"Please enter yes or no\")\n",
        "\n",
        "# Output - \n",
        "# Rock, Paper, Scissors?rock\n",
        "# Tie!\n",
        "# Do you want to play again? (yes/no) yes\n",
        "# Rock, Paper, Scissors?paper\n",
        "# you picked paper\n",
        "# computer picked Paper\n",
        "# You win! paper covers Paper\n",
        "# Do you want to play again? (yes/no) yes\n",
        "# Rock, Paper, Scissors?paper\n",
        "# you picked paper\n",
        "# computer picked Scissors\n",
        "# You win! paper covers Scissors\n",
        "# Do you want to play again? (yes/no) rock"
      ],
      "execution_count": null,
      "outputs": [
        {
          "output_type": "stream",
          "text": [
            "Rock, Paper, Scissors?rock\n",
            "Tie!\n",
            "Do you want to play again? (yes/no) yes\n",
            "Rock, Paper, Scissors?paper\n",
            "you picked paper\n",
            "computer picked Paper\n",
            "You win! paper covers Paper\n",
            "Do you want to play again? (yes/no) yes\n",
            "Rock, Paper, Scissors?paper\n",
            "you picked paper\n",
            "computer picked Scissors\n",
            "You win! paper covers Scissors\n",
            "Do you want to play again? (yes/no) rock\n"
          ],
          "name": "stdout"
        }
      ]
    },
    {
      "cell_type": "code",
      "metadata": {
        "colab": {
          "base_uri": "https://localhost:8080/"
        },
        "id": "YhfQIHk1rDp3",
        "outputId": "a7cf2178-ee5f-4557-fc83-70666253d783"
      },
      "source": [
        "# Rock Paper and Scissors Game\n",
        "\n",
        "import random\n",
        "\n",
        "rock = \"🗿\"\n",
        "paper = \"📜\"\n",
        "scissors = \"✂\"\n",
        "computer_option = [\"rock\" , \"paper\", \"scissors\"]\n",
        "\n",
        "computer_chooses = random.choice(computer_option)\n",
        "\n",
        "player_chooses = input(\"What do you choose ? \").lower()\n",
        "\n",
        "print(\"The computer choose :\", computer_chooses)\n",
        "\n",
        "if player_chooses == \"rock\" and computer_chooses == \"scissors\":\n",
        "    print(\"You Win\")\n",
        "elif player_chooses == \"paper\" and computer_chooses == \"rock\":\n",
        "    print(\"You Win\")\n",
        "elif player_chooses == \"scissors\" and computer_chooses == \"paper\":\n",
        "    print(\"You Win\")\n",
        "elif player_chooses == computer_chooses:\n",
        "    print(\"Draw\")\n",
        "else:\n",
        "    print(\"You Lose\")"
      ],
      "execution_count": null,
      "outputs": [
        {
          "output_type": "stream",
          "text": [
            "What do you choose ? paper\n",
            "The computer choose : scissors\n",
            "You Lose\n"
          ],
          "name": "stdout"
        }
      ]
    },
    {
      "cell_type": "code",
      "metadata": {
        "colab": {
          "base_uri": "https://localhost:8080/"
        },
        "id": "11P4eqeGuONv",
        "outputId": "2022dd59-de42-4402-f4a0-a674dd58309c"
      },
      "source": [
        "import random\n",
        "\n",
        "stonesLeft = random.randint(15, 30)\n",
        "stonesToRemove = 0\n",
        "userTurn = True\n",
        "\n",
        "print(\"There are\", stonesLeft, \"stones\")\n",
        "\n",
        "while stonesLeft > 0:\n",
        "    while userTurn == True and stonesLeft > 0:\n",
        "\n",
        "        stonesToRemove = int(input(\"How many would you like? \"))\n",
        "\n",
        "        if stonesToRemove < 1 or stonesToRemove > 3:\n",
        "            print(\"Value must be between 1 and 3.\")\n",
        "        elif stonesLeft - stonesToRemove < 0:\n",
        "            print(\"There aren't that many stones left!\")  # Give user error!\n",
        "        else:\n",
        "            stonesLeft -= stonesToRemove\n",
        "            print(\"You takes \" + str(stonesToRemove) +\n",
        "                  \" stone(s)! \\nThere are \" + str(stonesLeft) + \" stones.\")\n",
        "\n",
        "            userTurn = False\n",
        "\n",
        "    while userTurn == False and stonesLeft > 0:\n",
        "\n",
        "        # Take smaller value between 3 and the stones that are left\n",
        "        computer = random.randint(1, min(3, stonesLeft))\n",
        "        stonesLeft -= computer\n",
        "\n",
        "        print(\"The computer takes \"+str(computer) +\n",
        "              \" stone(s)! \\nThere are \" + str(stonesLeft) + \" stones.\")\n",
        "\n",
        "        userTurn = True\n",
        "\n",
        "if userTurn == True:\n",
        "    print(\"You won the game!\")\n",
        "else:\n",
        "    print(\"The computer won the game!\")\n"
      ],
      "execution_count": null,
      "outputs": [
        {
          "output_type": "stream",
          "text": [
            "There are 19 stones\n",
            "How many would you like? 5\n",
            "Value must be between 1 and 3.\n",
            "How many would you like? 3\n",
            "You takes 3 stone(s)! \n",
            "There are 16 stones.\n",
            "The computer takes 2 stone(s)! \n",
            "There are 14 stones.\n",
            "How many would you like? 2\n",
            "You takes 2 stone(s)! \n",
            "There are 12 stones.\n",
            "The computer takes 2 stone(s)! \n",
            "There are 10 stones.\n",
            "How many would you like? 3\n",
            "You takes 3 stone(s)! \n",
            "There are 7 stones.\n",
            "The computer takes 2 stone(s)! \n",
            "There are 5 stones.\n",
            "How many would you like? 3\n",
            "You takes 3 stone(s)! \n",
            "There are 2 stones.\n",
            "The computer takes 1 stone(s)! \n",
            "There are 1 stones.\n",
            "How many would you like? 1\n",
            "You takes 1 stone(s)! \n",
            "There are 0 stones.\n",
            "The computer won the game!\n"
          ],
          "name": "stdout"
        }
      ]
    },
    {
      "cell_type": "code",
      "metadata": {
        "id": "tRb_hksuj-48",
        "colab": {
          "base_uri": "https://localhost:8080/"
        },
        "outputId": "5b0b53e6-ec6e-4fbc-bd21-cff8aaa99c26"
      },
      "source": [
        "import random\n",
        "import math\n",
        "\n",
        "# Taking range\n",
        "lower = 1\n",
        "upper = 20\n",
        "\n",
        "# generating random number between the lower and upper limit\n",
        "x = random.randint(lower, upper)\n",
        "print(\"You've only 5 chances to guess the integer!\")\n",
        "print(\"Think of a number between 1 and 20\")\n",
        "# Initializing the number of guesses.\n",
        "count = 0\n",
        "\n",
        "# for calculation of minimum number of guesses depends upon range\n",
        "while count < 5:\n",
        "    # taking guessing number as input\n",
        "    guess = int(input(\"Take a guess: \"))\n",
        "\n",
        "    def rand_call(guess):\n",
        "        # Comparing the guessed number with the random number generated b/w 1-20\n",
        "        if x == guess:\n",
        "            print(\"Congratulations you guessed the number correctly.\")\n",
        "        elif x > guess:\n",
        "            print(\"Your guess is too low.\")\n",
        "        elif x < guess:\n",
        "            print(\"Your Guess too high.\")\n",
        "\n",
        "    rand_call(guess)  # calling the function rand_call with argument guess\n",
        "\n",
        "    if x == guess:\n",
        "        break         # Once guessed, loop will break\n",
        "    count += 1\n",
        "\n",
        "# If Guessing is more than required guesses shows this output.\n",
        "if count >= 5:\n",
        "    print(\"Nope. The number I was thinking of was \" + str(x))"
      ],
      "execution_count": null,
      "outputs": [
        {
          "output_type": "stream",
          "text": [
            "You've only 5 chances to guess the integer!\n",
            "Think of a number between 1 and 20\n",
            "Take a guess.10\n",
            "Your guess is too low.\n",
            "Take a guess.15\n",
            "Congratulations you guessed the number correctly.\n"
          ],
          "name": "stdout"
        }
      ]
    },
    {
      "cell_type": "code",
      "metadata": {
        "colab": {
          "base_uri": "https://localhost:8080/"
        },
        "id": "uqTj0Y969VSt",
        "outputId": "538a92d0-edb4-46fb-fec4-e8ffab182ab3"
      },
      "source": [
        "import random\n",
        "\n",
        "# Taking range\n",
        "lower = 1\n",
        "upper = 100\n",
        "\n",
        "# generating random number between the lower and upper limit\n",
        "x = random.randint(lower, upper)\n",
        "print(\"MAIN MENU\")\n",
        "print(\"----------------\\n\")\n",
        "print(\"\\t 1) Play Game\")\n",
        "print(\"\\t 2) Exit\\n\")\n",
        "\n",
        "\n",
        "loop = True\n",
        "while loop == True:\n",
        "    # taking guessing number as input\n",
        "    guess = int(input(\"Enter a number between 1 and 100 \"))\n",
        "\n",
        "    def rand_call(guess):\n",
        "        # Comparing the guessed number with the random number generated b/w 1-100\n",
        "        if x == guess:\n",
        "            print(\"Congratulations!!!\")\n",
        "        elif x > guess:\n",
        "            print(\"Too low, try again\")\n",
        "        elif x < guess:\n",
        "            print(\"Too high, try again\")\n",
        "\n",
        "    rand_call(guess)\n",
        "\n",
        "    if x == guess:\n",
        "        play_again = int(input(\"Would you like to play again? (1 - yes, 2 - no) \"))\n",
        "        # generate random number again\n",
        "        x = random.randint(lower, upper)\n",
        "        if play_again == 2:\n",
        "            loop = False\n",
        "        else:\n",
        "            loop = True\n"
      ],
      "execution_count": null,
      "outputs": [
        {
          "output_type": "stream",
          "text": [
            "MAIN MENU\n",
            "----------------\n",
            "\n",
            "\t 1) Play Game\n",
            "\t 2) Exit\n",
            "\n",
            "Enter a number between 1 and 100 50\n",
            "Too low, try again\n",
            "Enter a number between 1 and 100 60\n",
            "Too high, try again\n",
            "Enter a number between 1 and 100 55\n",
            "Too low, try again\n",
            "Enter a number between 1 and 100 57\n",
            "Too low, try again\n",
            "Enter a number between 1 and 100 59\n",
            "Too high, try again\n",
            "Enter a number between 1 and 100 8\n",
            "Too low, try again\n",
            "Enter a number between 1 and 100 58\n",
            "Congratulations!!!\n",
            "Would you like to play again? (1 - yes, 2 - no) 1\n",
            "Enter a number between 1 and 100 50\n",
            "Too high, try again\n",
            "Enter a number between 1 and 100 25\n",
            "Too low, try again\n",
            "Enter a number between 1 and 100 35\n",
            "Too high, try again\n",
            "Enter a number between 1 and 100 30\n",
            "Too low, try again\n",
            "Enter a number between 1 and 100 32\n",
            "Too high, try again\n",
            "Enter a number between 1 and 100 31\n",
            "Congratulations!!!\n",
            "Would you like to play again? (1 - yes, 2 - no) 2\n"
          ],
          "name": "stdout"
        }
      ]
    },
    {
      "cell_type": "code",
      "metadata": {
        "id": "o2xM8tKOdVOi",
        "colab": {
          "base_uri": "https://localhost:8080/"
        },
        "outputId": "b38e892f-b546-47a6-88ef-6140da578dd1"
      },
      "source": [
        "import random\n",
        " \n",
        " \n",
        "# version 1\n",
        "# 1\n",
        "# a.\n",
        "def version1():\n",
        "    # Get our secret number\n",
        "    secret_number = 5\n",
        " \n",
        "    guess = int(input(\"Guess what number I'm thinking of: \"))\n",
        " \n",
        "    if guess == secret_number:\n",
        "        print(\"You guessed the number!\")\n",
        "    else:\n",
        "        print(\"Sorry, that is not the number.\")\n",
        " \n",
        "# b. this feedback helps in telling the user that there guess is correct or not\n",
        "# c. We can use any number for testing\n",
        "# d. We can use while loop e.g while guess != secret_number\n",
        " \n",
        " \n",
        "# Version #2\n",
        "# 2\n",
        "def version2():\n",
        "    secret_number = 7\n",
        "    guess = int(input(\"Guess what number I'm thinking of: \"))\n",
        " \n",
        "    if guess == secret_number:\n",
        "        print(\"You guessed the number!\")\n",
        " \n",
        "    elif guess < secret_number:\n",
        "        print(\"Sorry, your guess is too low.\")\n",
        " \n",
        "    elif guess > secret_number:\n",
        "        print(\"Sorry, your guess is too high.\")\n",
        " \n",
        " \n",
        "# a. feedback helpful?\n",
        "# this feedback helps in guessing the number\n",
        "# b. test values?\n",
        "# We can use any number for testing\n",
        "# c. how user can guess again?\n",
        "# by using while loop e.g while guess != secret_number\n",
        " \n",
        " \n",
        "# version #3\n",
        "# 3\n",
        "def version3():\n",
        "    secret_number = random.randint(1, 25)\n",
        "    print(\"The secret number was:\", secret_number)\n",
        " \n",
        "    guess = int(input(\"Guess the secret number between 1-25: \"))\n",
        " \n",
        "    # 4\n",
        "    while guess != secret_number:\n",
        "        if guess < secret_number:\n",
        "            print(\"Sorry, your guess is too low.\")\n",
        " \n",
        "        else:\n",
        "            print(\"Sorry, your guess is too high.\")\n",
        " \n",
        "        guess = int(input(\"Guess the secret number between 1-25: \"))\n",
        " \n",
        "    print(\"You guessed the number!\")\n",
        " \n",
        "    # a. Random number impact on testing ?\n",
        "    # We can handle this by telling the user to guess between the random number\n",
        "    # generated between two number\n",
        "    # b. How is loop controlled ?\n",
        "    # loop is controlled by checking guess and secret number\n",
        "    # c. feedback helpful?\n",
        "    # yes helpful in guessing next number\n",
        "    # d. how user can guess again?\n",
        "    # by getting input from user inside while loop at end\n",
        " \n",
        " \n",
        "# # calling functions\n",
        "# version1()\n",
        "# version2()\n",
        "# version3()\n",
        " \n",
        "# Output - \n",
        "# Guess what number I'm thinking of: 7\n",
        "# Sorry, that is not the number.\n",
        "# Guess what number I'm thinking of: 5\n",
        "# Sorry, your guess is too low.\n",
        "# The secret number was: 24\n",
        "# Guess the secret number between 1-25: 20\n",
        "# Sorry, your guess is too low.\n",
        "# Guess the secret number between 1-25: 24\n",
        "# You guessed the number!"
      ],
      "execution_count": null,
      "outputs": [
        {
          "output_type": "stream",
          "text": [
            "Guess what number I'm thinking of: 7\n",
            "Sorry, that is not the number.\n",
            "Guess what number I'm thinking of: 5\n",
            "Sorry, your guess is too low.\n",
            " The secret number was: 24\n",
            "Guess the secret number between 1-25: 20\n",
            "Sorry, your guess is too low.\n",
            "Guess the secret number between 1-25: 24\n",
            "You guessed the number!\n"
          ],
          "name": "stdout"
        }
      ]
    },
    {
      "cell_type": "code",
      "metadata": {
        "colab": {
          "base_uri": "https://localhost:8080/"
        },
        "id": "4G49JS38a1BK",
        "outputId": "b21a84bb-ecc0-4c6b-f70f-f7761c782f67"
      },
      "source": [
        "import random\n",
        " \n",
        "# Assign random value between 1-100\n",
        "secret_number = random.randint(1, 100)\n",
        " \n",
        "guess = int(input(\"Guess the secret number between 1-100: \"))\n",
        " \n",
        "# Loop untill guess not equal to secret number\n",
        "while guess != secret_number:\n",
        "    if guess < secret_number:\n",
        "        print(\"Sorry, your guess is too low.\")\n",
        " \n",
        "    else:\n",
        "        print(\"Sorry, your guess is too high.\")\n",
        "    \n",
        "    # guess the number again\n",
        "    guess = int(input(\"Guess the secret number between 1-100: \"))\n",
        " \n",
        "# This statement will execute after comping out of while loop\n",
        "print(\"You guessed the number!\")"
      ],
      "execution_count": null,
      "outputs": [
        {
          "output_type": "stream",
          "text": [
            "Guess the secret number between 1-100: 8\n",
            "Sorry, your guess is too low.\n",
            "Guess the secret number between 1-100: 50\n",
            "Sorry, your guess is too low.\n",
            "Guess the secret number between 1-100: 70\n",
            "Sorry, your guess is too high.\n",
            "Guess the secret number between 1-100: 60\n",
            "Sorry, your guess is too high.\n",
            "Guess the secret number between 1-100: 55\n",
            "You guessed the number!\n"
          ],
          "name": "stdout"
        }
      ]
    },
    {
      "cell_type": "code",
      "metadata": {
        "colab": {
          "base_uri": "https://localhost:8080/"
        },
        "id": "PVGgARAIjNZb",
        "outputId": "c87b4e4e-97d8-4092-eb20-85d169f3f609"
      },
      "source": [
        "import random\n",
        "\n",
        "# Category types\n",
        "categories = {1: \"Fruits\", 2: \"Colors\"}\n",
        "\n",
        "# Words in each categoy\n",
        "words_inCat = {\"Fruits\": [\"Apple\", \"Banana\", \"Watermelon\", \"Pineapple\", \"Orange\", \"Tomato\", \"Grapefruit\", \"Dragonfruit\"], \"Colors\": [\n",
        "    \"Green\", \"Blue\", \"Yellow\", \"Orange\", \"Turquoise\", \"Lavender\", \"Magenta\", \"Chartreuse\"]}\n",
        "\n",
        "# Hangman Display Function\n",
        "\n",
        "\n",
        "def hangman(mistake):\n",
        "    print(\"|____\\n\" +\n",
        "          \"| |\\n\" +\n",
        "          \"|\\n\" +\n",
        "          \"|\\n\" +\n",
        "          \"|\\n\")\n",
        "    if(mistake == 1):\n",
        "        print(\"|____\\n\" +\n",
        "              \"| |\\n\" +\n",
        "              \"| O\\n\" +\n",
        "              \"|\\n\" +\n",
        "              \"|\\n\" +\n",
        "              \"|\\n\")\n",
        "    if(mistake == 2):\n",
        "        print(\"|____\\n\" +\n",
        "              \"| |\\n\" +\n",
        "              \"| O\\n\" +\n",
        "              \"| |\\n\" +\n",
        "              \"|\\n\" +\n",
        "              \"|\\n\")\n",
        "    if(mistake == 3):\n",
        "        print(\"|____\\n\" +\n",
        "              \"| |\\n\" +\n",
        "              \"| O\\n\" +\n",
        "              \"| \\|\\n\" +\n",
        "              \"|\\n\" +\n",
        "              \"|\\n\")\n",
        "    if(mistake == 4):\n",
        "        print(\"|____\\n\" +\n",
        "              \"| |\\n\" +\n",
        "              \"| O\\n\" +\n",
        "              \"| \\|/\\n\" +\n",
        "              \"|\\n\" +\n",
        "              \"|\\n\")\n",
        "    if(mistake == 5):\n",
        "        print(\"|____\\n\" +\n",
        "              \"| |\\n\" +\n",
        "              \"| O\\n\" +\n",
        "              \"| \\|/\\n\" +\n",
        "              \"| /\\n\" +\n",
        "              \"|\\n\")\n",
        "    if(mistake == 6):\n",
        "        print(\"|____\\n\" +\n",
        "              \"| |\\n\" +\n",
        "              \"| O\\n\" +\n",
        "              \"| \\|/\\n\" +\n",
        "              \"| / \\ \\n\" +\n",
        "              \"|\\n\")\n",
        "\n",
        "\n",
        "# Intro\n",
        "userName = input(\"Please enter your name: \")\n",
        "print(\"Hello\", userName, \"lets play a game of Hangman!\\n\")\n",
        "\n",
        "\n",
        "# Loop until get valid category\n",
        "while True:\n",
        "    try:\n",
        "        for key, value in categories.items():\n",
        "            print(\"Enter \" + str(key) + \" for \" + str(value))\n",
        "        choice = int(input(\"Enter your choice = \").strip())\n",
        "        if choice not in categories.keys():\n",
        "            raise ValueError\n",
        "        break\n",
        "    except ValueError:\n",
        "        print(\"\\nInvalid Selection\")\n",
        "\n",
        "\n",
        "# main function of the game\n",
        "def main(choice, categories):\n",
        "    # Word and difficulty selection\n",
        "    word = random.choice(words_inCat[categories[choice]])\n",
        "\n",
        "    def check_difficult():\n",
        "        difficulty = input(\n",
        "            \"\\nEnter which difficulty you want: NORMAL, HARD: \").strip().upper()\n",
        "        word = \"\"\n",
        "        while True:\n",
        "            word = random.choice(words_inCat[categories[choice]])\n",
        "            if (difficulty == \"HARD\" and len(word) > 6) or (difficulty != 'HARD' and len(word) <= 6):\n",
        "                break\n",
        "        return difficulty\n",
        "\n",
        "    # Difficulty Selection Criteria\n",
        "    diff = check_difficult()\n",
        "    if diff == \"HARD\" or diff == \"NORMAL\":\n",
        "        pass\n",
        "    else:\n",
        "        print(\"Invalid Selection\\n\")\n",
        "        check_difficult()\n",
        "\n",
        "    # Gameplay\n",
        "    empty = \"_\"\n",
        "    space = empty*len(word)\n",
        "    found = \"\"\n",
        "    mistakes = 0\n",
        "    while empty in space and mistakes < 6:\n",
        "        print(\"You have\", 6 - mistakes, \"guesses left\")\n",
        "        guess = input(\"(Guess) Enter a letter in word \" +\n",
        "                      space + '>').strip().lower()\n",
        "        if guess not in word.lower():\n",
        "            print(\"\\t\", guess, \"is not in the word\")\n",
        "            mistakes += 1\n",
        "            hangman(mistakes)\n",
        "        elif guess in space:\n",
        "            print(\"\\t\", guess, \"is already in the word\")\n",
        "        else:\n",
        "            found += guess\n",
        "            space = \"\"\n",
        "            for letter in word:\n",
        "                space += letter if letter.lower() in found else empty\n",
        "\n",
        "    # Win or lose screen\n",
        "    while True:\n",
        "        if mistakes < 6:\n",
        "            print(\"\\nThe word is\", word, \" Congratulations, you win!\")\n",
        "            break\n",
        "        else:\n",
        "            print(\"\\nThe word is\", word, \" Sorry, you lose\")\n",
        "            break\n",
        "\n",
        "    # Continue Game?\n",
        "    continueGame = input(\n",
        "        \"\\nWould you like to play again? Type Y for yes, Any other key to quit\\n\")\n",
        "    if continueGame.upper() == \"Y\":\n",
        "        # User Category Selection/Continue Game Loop\n",
        "        while True:\n",
        "            try:\n",
        "                # Category types\n",
        "                categories = {1: \"Fruits\", 2: \"Colors\"}\n",
        "                for key, value in categories.items():\n",
        "                    print(\"Enter \" + str(key) + \" for \" + str(value))\n",
        "                choice = int(input(\"Enter your choice = \").strip())\n",
        "                if choice not in categories.keys():\n",
        "                    raise ValueError\n",
        "                main(choice, categories)\n",
        "                break\n",
        "            except ValueError:\n",
        "                print(\"\\nInvalid Selection\")\n",
        "    else:\n",
        "        print(\"Thanks for playing\")\n",
        "\n",
        "\n",
        "# function call for only first time\n",
        "main(choice, categories)\n"
      ],
      "execution_count": null,
      "outputs": [
        {
          "output_type": "stream",
          "text": [
            "Please enter your name: Faraz\n",
            "Hello Faraz lets play a game of Hangman!\n",
            "\n",
            "Enter 1 for Fruits\n",
            "Enter 2 for Colors\n",
            "Enter your choice = 1\n",
            "\n",
            "Enter which difficulty you want: NORMAL, HARD: normal\n",
            "You have 6 guesses left\n",
            "(Guess) Enter a letter in word __________>y\n",
            "\t y is not in the word\n",
            "|____\n",
            "| |\n",
            "|\n",
            "|\n",
            "|\n",
            "\n",
            "|____\n",
            "| |\n",
            "| O\n",
            "|\n",
            "|\n",
            "|\n",
            "\n",
            "You have 5 guesses left\n",
            "(Guess) Enter a letter in word __________>o\n",
            "You have 5 guesses left\n",
            "(Guess) Enter a letter in word ________o_>w\n",
            "You have 5 guesses left\n",
            "(Guess) Enter a letter in word W_______o_>e\n",
            "You have 5 guesses left\n",
            "(Guess) Enter a letter in word W__e__e_o_>w\n",
            "You have 5 guesses left\n",
            "(Guess) Enter a letter in word W__e__e_o_>q\n",
            "\t q is not in the word\n",
            "|____\n",
            "| |\n",
            "|\n",
            "|\n",
            "|\n",
            "\n",
            "|____\n",
            "| |\n",
            "| O\n",
            "| |\n",
            "|\n",
            "|\n",
            "\n",
            "You have 4 guesses left\n",
            "(Guess) Enter a letter in word W__e__e_o_>z\n",
            "\t z is not in the word\n",
            "|____\n",
            "| |\n",
            "|\n",
            "|\n",
            "|\n",
            "\n",
            "|____\n",
            "| |\n",
            "| O\n",
            "| \\|\n",
            "|\n",
            "|\n",
            "\n",
            "You have 3 guesses left\n",
            "(Guess) Enter a letter in word W__e__e_o_>h\n",
            "\t h is not in the word\n",
            "|____\n",
            "| |\n",
            "|\n",
            "|\n",
            "|\n",
            "\n",
            "|____\n",
            "| |\n",
            "| O\n",
            "| \\|/\n",
            "|\n",
            "|\n",
            "\n",
            "You have 2 guesses left\n",
            "(Guess) Enter a letter in word W__e__e_o_>k\n",
            "\t k is not in the word\n",
            "|____\n",
            "| |\n",
            "|\n",
            "|\n",
            "|\n",
            "\n",
            "|____\n",
            "| |\n",
            "| O\n",
            "| \\|/\n",
            "| /\n",
            "|\n",
            "\n",
            "You have 1 guesses left\n",
            "(Guess) Enter a letter in word W__e__e_o_>i\n",
            "\t i is not in the word\n",
            "|____\n",
            "| |\n",
            "|\n",
            "|\n",
            "|\n",
            "\n",
            "|____\n",
            "| |\n",
            "| O\n",
            "| \\|/\n",
            "| / \\ \n",
            "|\n",
            "\n",
            "\n",
            "The word is Watermelon  Sorry, you lose\n",
            "\n",
            "Would you like to play again? Type Y for yes, Any other key to quit\n",
            "n\n",
            "Thanks for playing\n"
          ],
          "name": "stdout"
        }
      ]
    },
    {
      "cell_type": "code",
      "metadata": {
        "colab": {
          "base_uri": "https://localhost:8080/"
        },
        "id": "xz9wJG5KizBo",
        "outputId": "a03c7a11-7b85-4ce5-9f93-eb4399f877db"
      },
      "source": [
        "import random\n",
        "\n",
        "\n",
        "def main():\n",
        "    size = 11\n",
        "    lst_stu_names = [\"Vernon\", \"Domenic\", \"Michael\", \"Celena\",\n",
        "                     \"Odis\", \"Rufus\", \"Rose\", \"Cheryll\", \"Mignon\", \"Monte\", \"Ralph\"]\n",
        "    lst_stu_grades = [\"\"] * size\n",
        "\n",
        "    for i in range(size):\n",
        "        lst_stu_grades[i] = random.choice([\"A\", \"B\", \"C\", \"D\", \"F\"])\n",
        "\n",
        "    num_A_stu = 0\n",
        "    num_B_stu = 0\n",
        "    tot_rec = 0\n",
        "\n",
        "    print(\" #  Student\\tGrade\\n-------------------------------------\")\n",
        "\n",
        "    for i in range(size):\n",
        "        tot_rec += 1\n",
        "        grade = lst_stu_grades[i]\n",
        "        st_name = lst_stu_names[i]\n",
        "        if grade == \"A\":\n",
        "            message = \"**\"\n",
        "            num_A_stu += 1\n",
        "        elif grade == \"B\":\n",
        "            message = \"*\"\n",
        "            num_B_stu += 1\n",
        "        else:\n",
        "            message = \"\"\n",
        "\n",
        "        print(f\"{tot_rec:>2d}. {st_name:<11}\\t{grade}\\t{message}\")\n",
        "\n",
        "    print()\n",
        "    print(f\"Total Students    : {size:>2}\")\n",
        "    print(f\"'A' Students      : {num_A_stu:>2} ({num_A_stu/tot_rec:>.1%})\")\n",
        "    print(f\"'B' Students      : {num_B_stu:>2} ({num_B_stu*100/tot_rec:>.1f}%)\")\n",
        "    print(f\"'A', 'B' Students : {num_A_stu+num_B_stu:>2} ({(num_A_stu+num_B_stu)/tot_rec:>.1%})\")\n",
        "\n",
        "\n",
        "main()\n"
      ],
      "execution_count": null,
      "outputs": [
        {
          "output_type": "stream",
          "text": [
            " #  Student\tGrade\n",
            "-------------------------------------\n",
            " 1. Vernon     \tA\t**\n",
            " 2. Domenic    \tB\t*\n",
            " 3. Michael    \tF\t\n",
            " 4. Celena     \tD\t\n",
            " 5. Odis       \tF\t\n",
            " 6. Rufus      \tF\t\n",
            " 7. Rose       \tF\t\n",
            " 8. Cheryll    \tD\t\n",
            " 9. Mignon     \tB\t*\n",
            "10. Monte      \tA\t**\n",
            "11. Ralph      \tC\t\n",
            "\n",
            "Total Students    : 11\n",
            "'A' Students      :  2 (18.2%)\n",
            "'B' Students      :  2 (18.2%)\n",
            "'A', 'B' Students :  4 (36.4%)\n"
          ],
          "name": "stdout"
        }
      ]
    },
    {
      "cell_type": "code",
      "metadata": {
        "id": "0Bg90CQIVjtr",
        "colab": {
          "base_uri": "https://localhost:8080/"
        },
        "outputId": "f871b776-7262-49fd-ea3e-f7f3f97bd17a"
      },
      "source": [
        "# message = input()\n",
        "message = \"hello\"\n",
        "message = message.upper()\n",
        "alphabets = \"ABCDEFGHIJKLMNOPQRSTUVWXYZ\"\n",
        "onlyAlpha = \"\"\n",
        "for i in range(len(message)):\n",
        "    if message[i].isalpha():\n",
        "        onlyAlpha += message[i]\n",
        "cipherWord = \"\"\n",
        "for i in range(len(onlyAlpha)):\n",
        "    index_val = alphabets.index(onlyAlpha[i]) + int(key)\n",
        "    cipherWord += alphabets[index_val]\n",
        "output = \"\"\n",
        "for i in range(len(cipherWord)):\n",
        "    output += cipherWord[i]\n",
        "    if i == 0:\n",
        "        pass\n",
        "    elif (i % 5 == 0):\n",
        "        output += \" \"\n",
        "print(output)\n"
      ],
      "execution_count": null,
      "outputs": [
        {
          "output_type": "stream",
          "text": [
            "JGNNQ\n"
          ],
          "name": "stdout"
        }
      ]
    },
    {
      "cell_type": "code",
      "metadata": {
        "id": "niEyGmPlQJEj"
      },
      "source": [
        "# import turtle\n",
        "\n",
        "# turtle.colormode(255)\n",
        "# tess = turtle.Turtle()\n",
        "# tess.shape(\"turtle\")\n",
        "# tess.backward(100)\n",
        "\n",
        "# for i in range(0, 255, 10):\n",
        "#     tess.forward(10)\n",
        "#     tess.pensize(i)\n",
        "#     tess.color(i, 0, 0)"
      ],
      "execution_count": null,
      "outputs": []
    },
    {
      "cell_type": "code",
      "metadata": {
        "id": "W5zA9t2uW9-3"
      },
      "source": [
        "# import turtle\n",
        "\n",
        "# length = int(input(\"Enter size of equilateral triangle: \"))\n",
        "\n",
        "# y = turtle.Screen()\n",
        "# y.setup(width=500, height=500)\n",
        "# y.title(\"Equilateral Triangle\")\n",
        "\n",
        "\n",
        "# pen = turtle.Turtle()\n",
        "# pen.color(\"blue\", \"yellow\")\n",
        "# # first parameter is for pen color and second parameter is for fill color\n",
        "\n",
        "# # Setting the location of pen\n",
        "# pen.penup()\n",
        "# pen.goto(-100, 100)\n",
        "# pen.pendown()\n",
        "\n",
        "# # starts filling color yellow\n",
        "# pen.begin_fill()\n",
        "\n",
        "# # from here, pen starts drawing equilateral triangle of given user length\n",
        "# pen.forward(length)\n",
        "\n",
        "# pen.right(120)\n",
        "# pen.forward(length)\n",
        "\n",
        "# pen.right(120)\n",
        "# pen.forward(length)\n",
        "# # Equilateral triangle is created\n",
        "\n",
        "# pen.end_fill()\n",
        "# # end the color filling here\n",
        "\n",
        "# turtle.done()\n"
      ],
      "execution_count": null,
      "outputs": []
    },
    {
      "cell_type": "code",
      "metadata": {
        "colab": {
          "base_uri": "https://localhost:8080/"
        },
        "id": "G4u6eS2S7L2L",
        "outputId": "c1b63a92-9ffc-42c6-aa93-71655b5b4929"
      },
      "source": [
        "import re\n",
        "\n",
        "# Make a regular expression for validating an Email\n",
        "regex = '^[a-zA-Z][\\w]*@[\\w]+\\.[\\w]+$'\n",
        "# ^[a-zA-z] this is used to check for start with letters a-zA-z\n",
        "# [\\w] is used to check it contains a-zA-z0-9 or not\n",
        "# * for zero or more number of times \\w\n",
        "# @ this is used to check the third rule i.e followed by @\n",
        "# [\\w] is used to check it contains a-zA-z0-9 or not\n",
        "# +\\. followed by a period\n",
        "# [\\w] followed by a string that contain one or more letter or numbers\n",
        "# $ is used in regular expression to check for end condition\n",
        "\n",
        "# Define a function for validating an Email\n",
        "\n",
        "\n",
        "def check(email):\n",
        "    # pass the regular expression and the string in search() method\n",
        "    if(re.search(regex, email)):\n",
        "        print(\"Valid Email\")\n",
        "\n",
        "    else:\n",
        "        print(\"Invalid Email\")\n",
        "\n",
        "\n",
        "# Enter the email\n",
        "email = \"x@8.7\"\n",
        "check(email)\n",
        "\n",
        "email = \"1abc@yahoo.com\"  # invalid, as begins with a letter\n",
        "check(email)\n",
        "\n",
        "email = \"a14b@test1.com1\"\n",
        "check(email)"
      ],
      "execution_count": null,
      "outputs": [
        {
          "output_type": "stream",
          "text": [
            "Valid Email\n",
            "Invalid Email\n",
            "Valid Email\n"
          ],
          "name": "stdout"
        }
      ]
    },
    {
      "cell_type": "code",
      "metadata": {
        "id": "rDsbUXqJwv1r",
        "colab": {
          "base_uri": "https://localhost:8080/"
        },
        "outputId": "f5f7dc5f-8ce7-4c35-acc0-cd87f62ca73c"
      },
      "source": [
        "# month_sal = int(input(\"Enter Monthly Salary: \"))\n",
        "month_sal = 15000\n",
        "# no_of_years = int(input(\"Enter No of Years: \"))\n",
        "no_of_years = 10\n",
        "\n",
        "\n",
        "def calculateTotalSalary(month_sal, no_of_years):\n",
        "    if no_of_years > 5:\n",
        "        previous_salary = 5 * 12 * month_sal  # it will calculate salary for 5 years\n",
        "        # it will add salary for 5 years and (no_of_years-5) years\n",
        "        total_salary = previous_salary + \\\n",
        "            ((no_of_years - 5) * (5 * previous_salary / 100))\n",
        "        print(\"Your Total salary are: \", total_salary)\n",
        "    else:\n",
        "        # it will calculate total salary for no_of_years provided\n",
        "        total_salary = month_sal * no_of_years * 12\n",
        "        print(\"Your Total salary are: \", total_salary)\n",
        "\n",
        "\n",
        "calculateTotalSalary(month_sal, no_of_years)\n"
      ],
      "execution_count": null,
      "outputs": [
        {
          "output_type": "stream",
          "text": [
            "Your Total salary are:  1125000.0\n"
          ],
          "name": "stdout"
        }
      ]
    },
    {
      "cell_type": "code",
      "metadata": {
        "id": "_mtyqkeYV9wM",
        "colab": {
          "base_uri": "https://localhost:8080/"
        },
        "outputId": "b924f4a9-fe90-4a24-e1c4-68b6dd44cdc7"
      },
      "source": [
        "def add(num):\n",
        "    return num + 2\n",
        "\n",
        "\n",
        "# here 1,2,3 are keys and \"two\", \"three\",\"four\" are there values\n",
        "kv = {1: \"two\", 2: \"three\", 3: \"four\"}\n",
        "# {} indicates that it is dictionary data type\n",
        "one = 1  # here 1 is assigned to one(variable name)\n",
        "# it will call the add(1) and returns 1 + 2 = 3. and 3 is assigned to key(variable name)\n",
        "key = add(one)\n",
        "# it will delete the key-value pair which has key=3(See first comment)\n",
        "del kv[3]\n",
        "# it will print kv[key-1] , here key = 3(see fourth comment). so print(kv[3-1]) , print(kv[2]) i.e three\n",
        "print(kv[key - 1])"
      ],
      "execution_count": null,
      "outputs": [
        {
          "output_type": "stream",
          "text": [
            "three\n"
          ],
          "name": "stdout"
        }
      ]
    },
    {
      "cell_type": "code",
      "metadata": {
        "id": "oC0r1uxPzB77",
        "colab": {
          "base_uri": "https://localhost:8080/"
        },
        "outputId": "94969230-9b1e-42a4-b3ec-e6a2e508e05c"
      },
      "source": [
        "def convert(seconds):\n",
        "    num = seconds\n",
        "    num = num % (24 * 3600)\n",
        "    hour = num // 3600\n",
        "\n",
        "    num %= 3600\n",
        "    minutes = num // 60\n",
        "\n",
        "    num %= 60\n",
        "    seconds = num\n",
        "\n",
        "    print(hour, \"hours\",\n",
        "          minutes, \"minutes\",\n",
        "          seconds, \"seconds\")\n",
        "\n",
        "\n",
        "# num = int(input(\"Enter an integer for total seconds : \"))\n",
        "num = 3600\n",
        "convert(num)"
      ],
      "execution_count": null,
      "outputs": [
        {
          "output_type": "stream",
          "text": [
            "1 hours 0 minutes 0 seconds\n"
          ],
          "name": "stdout"
        }
      ]
    },
    {
      "cell_type": "code",
      "metadata": {
        "id": "DnGCpmuLOd8g",
        "colab": {
          "base_uri": "https://localhost:8080/"
        },
        "outputId": "f53acf87-f75b-4513-bd16-2b33745f1ca5"
      },
      "source": [
        "# fromValue = int(input(\"Enter From Value : \"))\n",
        "fromValue = 100\n",
        "# fromUnit = input(\"Enter From Unit(in,ft,yd,mi) : \")\n",
        "fromUnit = \"in\"\n",
        "# toUnit = input(\"Enter To Unit(in,ft,yd,mi) : \")\n",
        "toUnit = \"ft\"\n",
        "\n",
        "floatfromValue = float(fromValue)\n",
        "\n",
        "if fromUnit == toUnit:\n",
        "    print(str(floatfromValue) + \" \" + fromUnit +\n",
        "          \" => \" + str(floatfromValue) + \" \" + fromUnit)\n",
        "\n",
        "elif fromUnit == \"in\" and toUnit == \"ft\":\n",
        "    toValue = round(fromValue / 12, 7)\n",
        "    print(str(floatfromValue) + \" \" + fromUnit +\n",
        "          \" => \" + str(toValue) + \" \" + toUnit)\n",
        "\n",
        "elif fromUnit == \"in\" and toUnit == \"yd\":\n",
        "    toValue = round(fromValue / 36, 7)\n",
        "    print(str(floatfromValue) + \" \" + fromUnit +\n",
        "          \" => \" + str(toValue) + \" \" + toUnit)\n",
        "\n",
        "elif fromUnit == \"in\" and toUnit == \"mi\":\n",
        "    toValue = round(fromValue / 63360, 7)\n",
        "    print(str(floatfromValue) + \" \" + fromUnit +\n",
        "          \" => \" + str(toValue) + \" \" + toUnit)\n",
        "\n",
        "elif fromUnit == \"ft\" and toUnit == \"in\":\n",
        "    toValue = round(fromValue * 12, 7)\n",
        "    print(str(floatfromValue) + \" \" + fromUnit +\n",
        "          \" => \" + str(toValue) + \" \" + toUnit)\n",
        "\n",
        "elif fromUnit == \"ft\" and toUnit == \"yd\":\n",
        "    toValue = round(fromValue / 3, 7)\n",
        "    print(str(floatfromValue) + \" \" + fromUnit +\n",
        "          \" => \" + str(toValue) + \" \" + toUnit)\n",
        "\n",
        "elif fromUnit == \"ft\" and toUnit == \"mi\":\n",
        "    toValue = round(fromValue / 5280, 7)\n",
        "    print(str(floatfromValue) + \" \" + fromUnit +\n",
        "          \" => \" + str(toValue) + \" \" + toUnit)\n",
        "\n",
        "elif fromUnit == \"yd\" and toUnit == \"in\":\n",
        "    toValue = round(fromValue * 36, 7)\n",
        "    print(str(floatfromValue) + \" \" + fromUnit +\n",
        "          \" => \" + str(toValue) + \" \" + toUnit)\n",
        "\n",
        "elif fromUnit == \"yd\" and toUnit == \"ft\":\n",
        "    toValue = round(fromValue * 3, 7)\n",
        "    print(str(floatfromValue) + \" \" + fromUnit +\n",
        "          \" => \" + str(toValue) + \" \" + toUnit)\n",
        "\n",
        "elif fromUnit == \"yd\" and toUnit == \"mi\":\n",
        "    toValue = round(fromValue / 1760, 7)\n",
        "    print(str(floatfromValue) + \" \" + fromUnit +\n",
        "          \" => \" + str(toValue) + \" \" + toUnit)\n",
        "\n",
        "elif fromUnit == \"mi\" and toUnit == \"in\":\n",
        "    toValue = round(fromValue * 63360, 7)\n",
        "    print(str(floatfromValue) + \" \" + fromUnit +\n",
        "          \" => \" + str(toValue) + \" \" + toUnit)\n",
        "\n",
        "elif fromUnit == \"mi\" and toUnit == \"ft\":\n",
        "    toValue = round(fromValue * 5280, 7)\n",
        "    print(str(floatfromValue) + \" \" + fromUnit +\n",
        "          \" => \" + str(toValue) + \" \" + toUnit)\n",
        "\n",
        "elif fromUnit == \"mi\" and toUnit == \"yd\":\n",
        "    toValue = round(fromValue * 1760, 7)\n",
        "    print(str(floatfromValue) + \" \" + fromUnit +\n",
        "          \" => \" + str(toValue) + \" \" + toUnit)\n",
        "\n",
        "else:\n",
        "    if ((\"in\" not in fromUnit) and (\"ft\" not in fromUnit) and (\"yd\" not in fromUnit) and (\"mi\" not in fromUnit)):\n",
        "        print(\"FromUnit is not valid\")\n",
        "    else:\n",
        "        print(\"ToUnit is not valid\")"
      ],
      "execution_count": null,
      "outputs": [
        {
          "output_type": "stream",
          "text": [
            "100.0 in => 8.3333333 ft\n"
          ],
          "name": "stdout"
        }
      ]
    },
    {
      "cell_type": "code",
      "metadata": {
        "id": "W5Z8_bC6dPdX",
        "colab": {
          "base_uri": "https://localhost:8080/"
        },
        "outputId": "3c0d23c2-c276-4088-bf64-7f6cf73f7826"
      },
      "source": [
        "# month = int(input(\"Enter Month(1,2,3,4,5,6,7,8,9,10,11,12): \"))\n",
        "month = 5\n",
        "# day = int(input(\"Enter day: \"))\n",
        "day = 20\n",
        "Season = \"\"\n",
        "\n",
        "if month == 2 and day > 29:\n",
        "    print(\"Number of days and month doesn't match\")\n",
        "elif ((month == 1 or month == 3 or month == 5 or month == 7 or month == 8 or month == 10 or month == 12) and day > 31):\n",
        "    print(\"Number of days and month doesn't match\")\n",
        "elif month == 9 or month == 10 or month == 11:\n",
        "    Season = \"Spring\"\n",
        "    print(Season)\n",
        "elif month == 12 or month == 1 or month == 2:\n",
        "    Season = \"Summer\"\n",
        "    print(Season)\n",
        "elif month == 3 or month == 4 or month == 5:\n",
        "    Season = \"Fall\"\n",
        "    print(Season)\n",
        "elif month == 6 or month == 7 or month == 8:\n",
        "    Season = \"Winter\"\n",
        "    print(Season)"
      ],
      "execution_count": null,
      "outputs": [
        {
          "output_type": "stream",
          "text": [
            "Fall\n"
          ],
          "name": "stdout"
        }
      ]
    },
    {
      "cell_type": "code",
      "metadata": {
        "id": "nb_wC3WPetb3",
        "colab": {
          "base_uri": "https://localhost:8080/"
        },
        "outputId": "edd38672-75c3-44c8-cb8c-72e099f92087"
      },
      "source": [
        "# word = input(\"Enter simple password: \")\n",
        "word = \"faraz23\"\n",
        "word = word.lower()\n",
        "password = ''\n",
        "for i in range(len(word)):  # loop over the word\n",
        "    if 'i' in word[i]:  # check if a letter i is in word or not\n",
        "        password += '!'  # if condition is true replace ! to password variable\n",
        "    elif 'a' in word[i]:\n",
        "        password += 'A'\n",
        "    elif 'm' in word[i]:\n",
        "        password += 'M'\n",
        "    elif 'b' in word[i]:\n",
        "        password += 'ß'\n",
        "    elif 'o' in word[i]:\n",
        "        password += '0'\n",
        "    elif 's' in word[i]:\n",
        "        password += '$'\n",
        "    elif 'l' in word[i]:\n",
        "        password += 'L'\n",
        "    elif 'y' in word[i]:\n",
        "        password += 'Y'\n",
        "    elif 'h' in word[i]:\n",
        "        password += 'ĥ'\n",
        "    else:\n",
        "        # if no condition is true then the letter in word is copied to password variable\n",
        "        password += word[i]\n",
        "password += '15f*a'  # add '15f*a' at the end of the value stord in password variable\n",
        "print(\"Your strong password is: \"+password)"
      ],
      "execution_count": null,
      "outputs": [
        {
          "output_type": "stream",
          "text": [
            "Your strong password is: fArAz2315f*a\n"
          ],
          "name": "stdout"
        }
      ]
    },
    {
      "cell_type": "code",
      "metadata": {
        "id": "2wLC5flifTxQ",
        "colab": {
          "base_uri": "https://localhost:8080/"
        },
        "outputId": "86e0c627-4cd6-491d-d58e-3489fbd25b03"
      },
      "source": [
        "def find_max(lst):\n",
        "    # Assume first number in list is largest\n",
        "    # initially and assign it to variable \"max\"\n",
        "    max = lst[0]\n",
        "\n",
        "    # Now traverse through the list and compare\n",
        "    # each number with \"max\" value. Whichever is\n",
        "    # largest assign that value to \"max'.\n",
        "    for x in lst:\n",
        "        if x > max:\n",
        "            max = x\n",
        "\n",
        "    # after complete traversing the list\n",
        "    # return the \"max\" value\n",
        "    return max\n",
        "\n",
        "lst = [2,5,4,1,3,10,500,40]\n",
        "result = find_max(lst)\n",
        "print(\"The maximum number in the list {} is {}\".format(lst, result))"
      ],
      "execution_count": null,
      "outputs": [
        {
          "output_type": "stream",
          "text": [
            "The maximum number in the list [2, 5, 4, 1, 3, 10, 500, 40] is 500\n"
          ],
          "name": "stdout"
        }
      ]
    },
    {
      "cell_type": "code",
      "metadata": {
        "id": "8R9WBTJGoHLg",
        "colab": {
          "base_uri": "https://localhost:8080/"
        },
        "outputId": "60e6bdc3-8b4a-45d7-a4bb-29e4e60a8198"
      },
      "source": [
        "# name = input(\"Please enter your name\\n\")\n",
        "name = \"Farsh\"\n",
        "# id = input(\"Please enter your id number\\n\")\n",
        "id = \"1505\"\n",
        "# package = int(input(\"Please enter weight of your package without units.(the weight should be between 1 to 1000 grams)\\n\"))\n",
        "package = 500\n",
        "\n",
        "if package <= 100:\n",
        "    total = 100 * package\n",
        "    print(\"customer \" + name + \" with id number \" +\n",
        "          id + \" should pay \" + str(total) + \" AED\")\n",
        "elif (package > 100) and (package <= 250):\n",
        "    total = 80 * package\n",
        "    print(\"customer \" + name + \" with id number \" +\n",
        "          id + \" should pay \" + str(total) + \" AED\")\n",
        "elif (package > 250) and (package <= 500):\n",
        "    total = 70 * package\n",
        "    print(\"customer \" + name + \" with id number \" +\n",
        "          id + \" should pay \" + str(total) + \" AED\")\n",
        "elif (package > 500) and (package <= 1000):\n",
        "    total = 50 * package\n",
        "    print(\"customer \" + name + \" with id number \" +\n",
        "          id + \" should pay \" + str(total) + \" AED\")\n",
        "else:\n",
        "    print(\"Invalid weight\")\n"
      ],
      "execution_count": null,
      "outputs": [
        {
          "output_type": "stream",
          "text": [
            "customer Farsh with id number 1505 should pay 35000 AED\n"
          ],
          "name": "stdout"
        }
      ]
    },
    {
      "cell_type": "code",
      "metadata": {
        "id": "-hulmbaetNwP",
        "colab": {
          "base_uri": "https://localhost:8080/"
        },
        "outputId": "5405c1e7-c598-47c0-e2d6-01c81c11d1be"
      },
      "source": [
        "class Date():\n",
        "\n",
        "    def __init__(self, m, d):\n",
        "        self.month = m\n",
        "        self.day = d\n",
        "\n",
        "    def from_absolute_day(self, day):\n",
        "        if day in range(1, 32):\n",
        "            self.month = \"January\"\n",
        "            self.day = day-0\n",
        "\n",
        "        elif day in range(32, 60):\n",
        "            self.month = \"February\"\n",
        "            self.day = day-31\n",
        "\n",
        "        elif day in range(60, 91):\n",
        "            self.month = \"March\"\n",
        "            self.day = day-51\n",
        "\n",
        "        elif day in range(91, 121):\n",
        "            self.month = \"April\"\n",
        "            self.day = day - 82\n",
        "\n",
        "        elif day in range(121, 152):\n",
        "            self.month = \"May\"\n",
        "            self.day = day-112\n",
        "\n",
        "        elif day in range(152, 182):\n",
        "            self.month = \"June\"\n",
        "            self.day = day-143\n",
        "\n",
        "        elif day in range(182, 213):\n",
        "            self.month = \"July\"\n",
        "            self.day = day-173\n",
        "\n",
        "        elif day in range(213, 244):\n",
        "            self.month = \"August\"\n",
        "            self.day = day-204\n",
        "\n",
        "        elif day in range(244, 274):\n",
        "            self.month = \"September\"\n",
        "            self.day = day-235\n",
        "\n",
        "        elif day in range(274, 305):\n",
        "            self.month = \"October\"\n",
        "            self.day = day-265\n",
        "\n",
        "        elif day in range(305, 335):\n",
        "            self.month = \"November\"\n",
        "            self.day = day-296\n",
        "\n",
        "        else:\n",
        "            self.month = \"December\"\n",
        "            self.day = day - 326\n",
        "\n",
        "\n",
        "date = Date(\"January\", 13)\n",
        "date.from_absolute_day(33)\n",
        "\n",
        "print(date.month)  # Output is February\n",
        "print(date.day)  # Output is 2"
      ],
      "execution_count": null,
      "outputs": [
        {
          "output_type": "stream",
          "text": [
            "February\n",
            "2\n"
          ],
          "name": "stdout"
        }
      ]
    },
    {
      "cell_type": "code",
      "metadata": {
        "id": "znc5DbSfAPhr",
        "colab": {
          "base_uri": "https://localhost:8080/"
        },
        "outputId": "56985890-7b5b-4997-c639-c6444d3b6ad7"
      },
      "source": [
        "totalSubject = int(input(\"Total subjects taken for this trimester: \"))\n",
        "print(\"The courses in this sem are:\")\n",
        "print(\"FHSB1214, FHSC1034, FHSC1134, FHMM1024, FHSB1224, FHSC1024, FHSC1124\")\n",
        "print(\"FHEL1012, FHCT1022, FHMM1022, FHMM1014, FHSC1014, FHSC1114, FHMM1034\")\n",
        "\n",
        "gradepoint = 0\n",
        "while totalSubject > 0:\n",
        "    course = input(\"Enter course code: \")\n",
        "    grade = input(\"Expected grade: \")\n",
        "    if course == \"FHEL1012\" or course == \"FHCT1022\" or course == \"FHMM1022\":\n",
        "        creditHours = 2.0\n",
        "        if grade == \"A+\" or grade == \"A\":\n",
        "            gradepoint = 4.0000\n",
        "        elif grade == \"A-\":\n",
        "            gradepoint = 3.6667\n",
        "        elif grade == \"B+\":\n",
        "            gradepoint = 3.3333\n",
        "        elif grade == \"B\":\n",
        "            gradepoint = 3.0000\n",
        "        elif grade == \"B-\":\n",
        "            gradepoint = 2.6667\n",
        "        elif grade == \"C+\":\n",
        "            gradepoint = 2.3333\n",
        "        elif grade == \"C\":\n",
        "            gradepoint = 2.0000\n",
        "        elif grade == \"F\":\n",
        "            gradepoint = 0\n",
        "        else:\n",
        "            print(\"Enter valid grade\")\n",
        "    elif course == \"FHMM1014\" or course == \"FHSC1014\" or course == \"FHSC1114\" or course == \"FHMM1034\" or course == \"FHSB1214\" or course == \"FHSC1034\" or course == \"FHSC1134\" or course == \"FHMM1024\" or course == \"FHSB1224\" or course == \"FHSC1024\" or course == \"FHSC1124\":\n",
        "        creditHours = 4.0\n",
        "        if grade == \"A+\" or grade == \"A\":\n",
        "            gradepoint = 4.0000\n",
        "        elif grade == \"A-\":\n",
        "            gradepoint = 3.6667\n",
        "        elif grade == \"B+\":\n",
        "            gradepoint = 3.3333\n",
        "        elif grade == \"B\":\n",
        "            gradepoint = 3.0000\n",
        "        elif grade == \"B-\":\n",
        "            gradepoint = 2.6667\n",
        "        elif grade == \"C+\":\n",
        "            gradepoint = 2.3333\n",
        "        elif grade == \"C\":\n",
        "            gradepoint = 2.0000\n",
        "        elif grade == \"F\":\n",
        "            gradepoint = 0\n",
        "        else:\n",
        "            print(\"Enter valid grade\")\n",
        "    else:\n",
        "        print(\"Enter valid course code\")\n",
        "    GPA = (gradepoint + creditHours)/creditHours\n",
        "    totalSubject = totalSubject - 1\n",
        "    \n",
        "print(\"GPA expected in this trimester: \" + str(GPA))\n"
      ],
      "execution_count": null,
      "outputs": [
        {
          "output_type": "stream",
          "text": [
            "Total subjects taken for this trimester: 2\n",
            "The courses in this sem are:\n",
            "FHSB1214, FHSC1034, FHSC1134, FHMM1024, FHSB1224, FHSC1024, FHSC1124\n",
            "FHEL1012, FHCT1022, FHMM1022, FHMM1014, FHSC1014, FHSC1114, FHMM1034\n",
            "Enter course code: FHSC1134\n",
            "Expected grade: A\n",
            "Enter course code: FHSC1014\n",
            "Expected grade: B\n",
            "GPA expected in this trimester: 1.75\n"
          ],
          "name": "stdout"
        }
      ]
    },
    {
      "cell_type": "code",
      "metadata": {
        "id": "xSyJKHmibru0",
        "colab": {
          "base_uri": "https://localhost:8080/"
        },
        "outputId": "d45894d7-2e81-47ae-98b4-9f89a69a9d51"
      },
      "source": [
        "import calendar\n",
        "\n",
        "# year = int(input(\"Enter a year: \"))\n",
        "year = 1996\n",
        "# check for the year\n",
        "while True:\n",
        "    if year > 1753:\n",
        "        try:\n",
        "            # month = int(input(\"Enter a month number: \"))\n",
        "            month = 5\n",
        "            # display the calendar\n",
        "            print(calendar.month(year, month))\n",
        "            break\n",
        "        except IndexError:\n",
        "            print(\"Month must be between 1 and 12\")\n",
        "        except ValueError:\n",
        "            print(\"Month must be Integer\")\n",
        "    else:\n",
        "        print(\"Please enter year from 1753 forward\")\n"
      ],
      "execution_count": null,
      "outputs": [
        {
          "output_type": "stream",
          "text": [
            "      May 1996\n",
            "Mo Tu We Th Fr Sa Su\n",
            "       1  2  3  4  5\n",
            " 6  7  8  9 10 11 12\n",
            "13 14 15 16 17 18 19\n",
            "20 21 22 23 24 25 26\n",
            "27 28 29 30 31\n",
            "\n"
          ],
          "name": "stdout"
        }
      ]
    },
    {
      "cell_type": "code",
      "metadata": {
        "id": "czJia3U_hNsK",
        "colab": {
          "base_uri": "https://localhost:8080/"
        },
        "outputId": "402905bc-4ca8-4f6c-c6ec-1aca34eef121"
      },
      "source": [
        "def grade():\n",
        "    print(\"4+, 4, 4-, 3+, 3, 3-, 2+, 2, 2-, 1+, 1, 1-, R\")\n",
        "    # i = input(\"Enter level: \")\n",
        "    i = \"4\"\n",
        "\n",
        "    if i == \"4+\":\n",
        "        percent = (95+100)/2\n",
        "        \n",
        "    elif i == \"4\":\n",
        "        percent = (87+94)/2\n",
        "        \n",
        "    elif i == \"4-\":\n",
        "        percent = (80+86)/2\n",
        "        \n",
        "    elif i == \"3+\":\n",
        "        percent = (77+79)/2\n",
        "        \n",
        "    elif i == \"3\":\n",
        "        percent = (73+76)/2\n",
        "        \n",
        "    elif i == \"3-\":\n",
        "        percent = (70+72)/2\n",
        "        \n",
        "    elif i == \"2+\":\n",
        "        percent = (67+69)/2\n",
        "        \n",
        "    elif i == \"2\":\n",
        "        percent = (63+66)/2\n",
        "        \n",
        "    elif i == \"2-\":\n",
        "        percent = (60+62)/2\n",
        "        \n",
        "    elif i == \"1+\":\n",
        "        percent = (57+59)/2\n",
        "        \n",
        "    elif i == \"1\":\n",
        "        percent = (53+56)/2\n",
        "        \n",
        "    elif i == \"1-\":\n",
        "        percent = (50+52)/2\n",
        "        \n",
        "    elif i == \"R\":\n",
        "        percent = (0+49)/2\n",
        "        \n",
        "    else:\n",
        "        return -1\n",
        "\n",
        "    return percent\n",
        "\n",
        "\n",
        "op = grade()\n",
        "print(\"Percenatge:\", op)\n"
      ],
      "execution_count": null,
      "outputs": [
        {
          "output_type": "stream",
          "text": [
            "4+, 4, 4-, 3+, 3, 3-, 2+, 2, 2-, 1+, 1, 1-, R\n",
            "Percenatge: 90.5\n"
          ],
          "name": "stdout"
        }
      ]
    },
    {
      "cell_type": "code",
      "metadata": {
        "colab": {
          "base_uri": "https://localhost:8080/"
        },
        "id": "J2dKkRL4pUUU",
        "outputId": "1af3b6f6-a13e-4b7b-d7bc-f8ecd8779b28"
      },
      "source": [
        "# name = input(\"Enter your name: \")\n",
        "name = \"Faraz\"\n",
        "print(\"Hello, \" + name)\n",
        "print(\"Welcome to this program,\\nHere we will see some fun facts of string in python\")\n",
        "\n",
        "# sentence = input(\"Enter Sentence: \")\n",
        "sentence = \"I Love You\"\n",
        "listsentence = sentence.split()  # Store words of a sentence in a list\n",
        "\n",
        "title = sentence.title()  # convert sentence in title case\n",
        "print(\"Sentence in title case: \" + title)\n",
        "\n",
        "upper = sentence.upper()  # convert sentence in upper case\n",
        "print(\"Sentence in upper case: \" + upper)\n",
        "\n",
        "lower = sentence.lower()  # convert sentence in lower case\n",
        "print(\"Sentence in upper case: \" + lower)\n",
        "\n",
        "# number of times a particular letter shows in a sentence\n",
        "count = sentence.count('o')\n",
        "print(\"Number of times a letter 'o' shows in a sentence: \" + str(count))\n",
        "\n",
        "# new word by concatening first and last word\n",
        "new_word = listsentence[0] + listsentence[-1]\n",
        "print(\"New word by concatening first and last word: \" + new_word)\n",
        "\n",
        "# acronym formed by putting the first letter of each word togrther\n",
        "acronym = [i[0] for i in sentence.upper().split(' ')]\n",
        "print(\"Acronym formed by putting the first letter of each word togrther: \" + ''.join(acronym))\n",
        "\n",
        "# it converts the lower case letters upper case and the upper case letters lower case\n",
        "swapcase = sentence.swapcase()\n",
        "print(\"Swapcase of the string is: \" + swapcase)\n",
        "\n",
        "print(\"Thank you for using my program.\")\n"
      ],
      "execution_count": null,
      "outputs": [
        {
          "output_type": "stream",
          "text": [
            "Hello, Faraz\n",
            "Welcome to this program,\n",
            "Here we will see some fun facts of string in python\n",
            "Sentence in title case: I Love You\n",
            "Sentence in upper case: I LOVE YOU\n",
            "Sentence in upper case: i love you\n",
            "Number of times a letter 'o' shows in a sentence: 2\n",
            "New word by concatening first and last word: IYou\n",
            "Acronym formed by putting the first letter of each word togrther: ILY\n",
            "Swapcase of the string is: i lOVE yOU\n",
            "Thank you for using my program.\n"
          ],
          "name": "stdout"
        }
      ]
    },
    {
      "cell_type": "code",
      "metadata": {
        "id": "RzmvLJopA6uh"
      },
      "source": [
        "# # Create a new list of the periods of these planets. \n",
        "# # Print this new list as well. For reference, \n",
        "# # Kepler's law states that P^2 = a^3, \n",
        "# # where P is the period in years and a is the semi-major axis in AU.\n",
        "# import numpy\n",
        "# secPerYear = 3.15e7\n",
        "# u = 0\n",
        "# for u in range(0, 8):\n",
        "#     P = numpy.asarray(a_list[u])**3\n",
        "#     u = u+1\n",
        "# print('p in years = {0:.2f}'.format(P/secPerYear))"
      ],
      "execution_count": null,
      "outputs": []
    },
    {
      "cell_type": "code",
      "metadata": {
        "id": "p6ntHCepA9vj"
      },
      "source": [
        "# # Venus is the 2nd planet from the Sun. \n",
        "# # Use indexing (e.g., name_of_list[index]) to calculate Venus' period in days. \n",
        "# # Now write a formatted print statement the period of Venus in days. \n",
        "# # Give the value to two decimal places of precision. (remember one year is 365.25 days.)\n",
        "# secPerYear = 3.15e7\n",
        "# for v in range(0,2):\n",
        "#   P = numpy.asarray(a_list[v])**3\n",
        "#   v = v+1\n",
        "# days = (P*365.25)/secPerYear\n",
        "# print('p in days = {0:.2f}'.format(days))"
      ],
      "execution_count": null,
      "outputs": []
    },
    {
      "cell_type": "code",
      "metadata": {
        "colab": {
          "base_uri": "https://localhost:8080/"
        },
        "id": "qmZTl_meBbSy",
        "outputId": "08df1575-774d-43ee-cb4c-5145ea8f11d7"
      },
      "source": [
        "print(\"Select a figure from the menu\")\n",
        "print(\"1 - Square\")\n",
        "print(\"2 - Rectangle\")\n",
        "print(\"3 - triangle\")\n",
        "# selection = int(input(\"Enter your selection: \"))\n",
        "selection = 1\n",
        "if selection == 1:\n",
        "    # side = int(input(\"Enter the side lengths: \"))\n",
        "    side = 20\n",
        "    area = side * side\n",
        "    print(\"The area of the selected figure {} with side {} is: {}\" .format(\n",
        "        selection, side, area))\n",
        "elif selection == 2:\n",
        "    length = int(input(\"Enter the length of the rectangle: \"))\n",
        "    breadth = int(input(\"Enter the breadth of the rectangle: \"))\n",
        "    area = length * breadth\n",
        "    print(\"The area of the selected figure {} with length = {} and breadth = {} is: {}\" .format(\n",
        "        selection, length, breadth, area))\n",
        "elif selection == 3:\n",
        "    base = int(input(\"Enter the base of the triangle: \"))\n",
        "    height = int(input(\"Enter the height of the triangle: \"))\n",
        "    area = base * height / 2\n",
        "    print(\"The area of the selected figure {} with base = {} and height = {} is: {}\" .format(\n",
        "        selection, base, height, area))\n",
        "else:\n",
        "    print(\"Invalid option\")\n"
      ],
      "execution_count": null,
      "outputs": [
        {
          "output_type": "stream",
          "text": [
            "Select a figure from the menu\n",
            "1 - Square\n",
            "2 - Rectangle\n",
            "3 - triangle\n",
            "The area of the selected figure 1 with side 20 is: 400\n"
          ],
          "name": "stdout"
        }
      ]
    },
    {
      "cell_type": "code",
      "metadata": {
        "id": "gzCpd7jCY6c_",
        "colab": {
          "base_uri": "https://localhost:8080/"
        },
        "outputId": "2c8ce8e2-0af7-4b50-8478-37ba1caca9f1"
      },
      "source": [
        "import pytest\n",
        "\n",
        "\n",
        "def is_leap(year):\n",
        "    if ((year % 4 == 0) and (year % 100 != 0)):\n",
        "        print(\"{} is Leap Year\".format(year))\n",
        "    elif (year % 400 == 0):\n",
        "        print(\"{} is Leap Year\".format(year))\n",
        "    else:\n",
        "        print(\"{} is Not Leap Year\".format(year))\n",
        "\n",
        "\n",
        "def main():\n",
        "    is_leap(2016)\n",
        "    is_leap(1900)\n",
        "    is_leap(2000)\n",
        "main()"
      ],
      "execution_count": null,
      "outputs": [
        {
          "output_type": "stream",
          "text": [
            "2016 is Leap Year\n",
            "1900 is Not Leap Year\n",
            "2000 is Leap Year\n"
          ],
          "name": "stdout"
        }
      ]
    },
    {
      "cell_type": "code",
      "metadata": {
        "id": "eUm1UwyMMEgg",
        "colab": {
          "base_uri": "https://localhost:8080/"
        },
        "outputId": "7fabba54-7160-41d4-d024-6241d021228b"
      },
      "source": [
        "import datetime\n",
        "from datetime import date\n",
        "from calendar import monthrange\n",
        "\n",
        "\n",
        "def datestdtojd(stddate):\n",
        "    fmt = '%Y-%m-%d'\n",
        "    sdtdate = datetime.datetime.strptime(stddate, fmt)\n",
        "    sdtdate = sdtdate.timetuple()\n",
        "    day = sdtdate.tm_mday\n",
        "    month = sdtdate.tm_mon\n",
        "    year = sdtdate.tm_year\n",
        "    print(\"Entered day, month year values \", day, month, year)\n",
        "    daynum = 31 * (month - 1) + day\n",
        "    if (is_leap(year) == True):\n",
        "        print(\"Julian Day within a year = 366\")\n",
        "    else:\n",
        "        print(\"Julian Day within a year = 365\")\n",
        "\n",
        "\n",
        "datestdtojd('2021-1-31')"
      ],
      "execution_count": null,
      "outputs": [
        {
          "output_type": "stream",
          "text": [
            "Entered day, month year values  31 1 2021\n",
            "2021 is Not Leap Year\n",
            "Julian Day within a year = 365\n"
          ],
          "name": "stdout"
        }
      ]
    },
    {
      "cell_type": "code",
      "metadata": {
        "colab": {
          "base_uri": "https://localhost:8080/"
        },
        "id": "wZeawAsUSkaH",
        "outputId": "bcee1713-c9bb-4797-a035-455a426e76f0"
      },
      "source": [
        "test = True\n",
        "test_1 = int(input(f'What is the first test score: '))\n",
        "while (test):\n",
        "    if test_1 > 100:\n",
        "        print(f'Please re-enter a number between 0 and 100')\n",
        "        test_1 = int(input(f'What is the first test score: '))\n",
        "        break\n",
        "    else:\n",
        "        test = False\n",
        "\n",
        "test_2 = int(input(f'What is the second test score: '))\n",
        "while (test):\n",
        "    if test_2 > 100:\n",
        "        print(f'Please re-enter a number between 0 and 100')\n",
        "        test_2 = int(input(f'What is the second test score: '))\n",
        "        break\n",
        "    else:\n",
        "        test = False\n",
        "\n",
        "test_3 = int(input(f'What is the Third test score: '))\n",
        "while (test):\n",
        "    if test_3 > 100:\n",
        "        print(f'Please re-enter a number between 0 and 100')\n",
        "        test_3 = int(input(f'What is the Third test score: '))\n",
        "        break\n",
        "    else:\n",
        "        test = False\n",
        "\n",
        "avg = (test_1 + test_2 + test_3) / 3\n",
        "print(f'With an average score of {avg:.2f}% you are on track for an A in this course.')\n",
        "\n",
        "# Output - \n",
        "# What is the first test score: 101\n",
        "# Please re-enter a number between 0 and 100\n",
        "# What is the first test score: 100\n",
        "# What is the second test score: 110\n",
        "# Please re-enter a number between 0 and 100\n",
        "# What is the second test score: 99\n",
        "# What is the Third test score: 87\n",
        "# With an average score of 95.33% you are on track for an A in this course."
      ],
      "execution_count": null,
      "outputs": [
        {
          "output_type": "stream",
          "text": [
            "What is the first test score: 101\n",
            "Please re-enter a number between 0 and 100\n",
            "What is the first test score: 100\n",
            "What is the second test score: 110\n",
            "Please re-enter a number between 0 and 100\n",
            "What is the second test score: 99\n",
            "What is the Third test score: 87\n",
            "With an average score of 95.33% you are on track for an A in this course.\n"
          ],
          "name": "stdout"
        }
      ]
    },
    {
      "cell_type": "code",
      "metadata": {
        "id": "qVntPf0HMuQU"
      },
      "source": [
        "def foodInput():\n",
        "    foodName = input(\"Enter in a fast-food restaurant: \")\n",
        "    return foodName\n",
        "\n",
        "\n",
        "def rateInput():\n",
        "    Incorrect = \"ERROR\"\n",
        "    foodrate = int(input(\"What is the rating?: \"))\n",
        "    return foodrate\n",
        "    while (Incorrect == \"error\"):\n",
        "        try:\n",
        "            foodrate = int(foodrate)\n",
        "            return foodrate\n",
        "        except ValueError:\n",
        "            Incorrect = \"ERROR\"\n",
        "            foodrate = input(\"Invalid restaurant rate, Enter rate: \")\n",
        "            return foodrate\n",
        "        else:\n",
        "            if (foodrate <= 0):\n",
        "                Incorrect = \"ERROR\"\n",
        "                foodrate = input(\"Invalid restaurant rate, Enter rate: \")\n",
        "                return foodrate\n",
        "            else:\n",
        "                return foodrate\n",
        "        return foodrate\n",
        "\n",
        "\n",
        "def addData():\n",
        "    global rate\n",
        "    global food\n",
        "    rate = []\n",
        "    food = []\n",
        "    option = 'y'\n",
        "    while (option != 'n'):\n",
        "        foodname = foodInput()\n",
        "        food.append(foodname)\n",
        "        foodrate = rateInput()\n",
        "        rate.append(foodrate)\n",
        "        option = input(\"Would you like to enter another restaurant?: \")\n",
        "\n",
        "    return rate\n",
        "    return food\n",
        "\n",
        "\n",
        "def analyzeData():\n",
        "    max = rate[0]\n",
        "    foodMaxName = food[0]\n",
        "    min = rate[0]\n",
        "    foodMinName = food[0]\n",
        "    print(food)\n",
        "    for x in range(len(rate)):\n",
        "        print(rate[x])\n",
        "        if (max < rate[x]):\n",
        "            max = rate[x]\n",
        "            foodMaxName = food[x]\n",
        "        if (min > rate[x]):\n",
        "            min = rate[x]\n",
        "            foodMinName = food[x]\n",
        "    print(\"Highest rate is: \", max, \" and the movie name is \", foodMaxName, sep='')\n",
        "    print(\"Lowest rate is: \", min, \" and the movie name is \", foodMinName, sep='')\n",
        "    print(\"Your favourite movie from file is: \", foodMaxName)\n",
        "\n",
        "# Enter in a fast-food restaurant: royal\n",
        "# What is the rating?: 6\n",
        "# Enter in a fast-food restaurant: arsh\n",
        "# What is the rating?: 9\n",
        "# Would you like to enter another restaurant?: n\n",
        "# ['arsh']\n",
        "# 9\n",
        "# Highest rate is: 9 and the movie name is arsh\n",
        "# Lowest rate is: 9 and the movie name is arsh\n",
        "# Your favourite movie from file is:  arsh\n"
      ],
      "execution_count": null,
      "outputs": []
    },
    {
      "cell_type": "code",
      "metadata": {
        "id": "ucvGBWOnPh0M",
        "colab": {
          "base_uri": "https://localhost:8080/"
        },
        "outputId": "2c4e3eb0-304d-4432-a425-33f089ff5339"
      },
      "source": [
        "import random\n",
        "\n",
        "#randint(a, b) method of random.Random instance\n",
        "#Return random integer in range [a, b], including both end points.\n",
        "\n",
        "def lottery(n = 6):\n",
        "  for i in range(n):\n",
        "    x = random.randint(1, 40)\n",
        "    yield x\n",
        "\n",
        " # The yield statement can return a series of results to the caller in the form of a generator object.\n",
        " # The return statement returns only a single value to the caller.\n",
        " # Logically, a function should have only a return statement \n",
        " # There could be more than one yield statement inside the function.  \n",
        "g = lottery(2)\n",
        "print(type(g))\n",
        "\n",
        "x = next(g)\n",
        "print(x)\n",
        "\n",
        "a = list(lottery())\n",
        "print(a)\n",
        "\n",
        "b = tuple(lottery(n=10))\n",
        "print(b)\n",
        "\n",
        "for i in lottery(4):\n",
        "  print(\"Random number: \", i)"
      ],
      "execution_count": null,
      "outputs": [
        {
          "output_type": "stream",
          "text": [
            "<class 'generator'>\n",
            "21\n",
            "[16, 33, 37, 7, 1, 37]\n",
            "(7, 27, 39, 13, 39, 13, 33, 36, 11, 2)\n",
            "Random number:  5\n",
            "Random number:  3\n",
            "Random number:  19\n",
            "Random number:  5\n"
          ],
          "name": "stdout"
        }
      ]
    },
    {
      "cell_type": "code",
      "metadata": {
        "id": "1aL8LCAxeZCX"
      },
      "source": [
        "import sys\n",
        "\n",
        "\n",
        "def getUserInput():\n",
        "    global name\n",
        "    global quantity\n",
        "    global unitcost\n",
        "    global inkcost\n",
        "    global boolhelp\n",
        "    print(\"--Custom Print Quote--\")\n",
        "    print()\n",
        "    print(\"Enter the following information to create a quote:\")\n",
        "    name = input(\"Product name: \")\n",
        "    # create a string of valid characters for product name\n",
        "    alpha = \"abcdefghijklmnopqrstuvwxyz \"\n",
        "    for letter in name.lower():\n",
        "        if letter in alpha:\n",
        "            continue\n",
        "        else:\n",
        "            print(\"Product name must contain only letters and spaces\")\n",
        "            # exit the program\n",
        "            sys.exit(0)\n",
        "\n",
        "    quantity = input(\"Quantity: \")\n",
        "    # check if the quantity is digit and whole number\n",
        "    if quantity.isdigit() and int(quantity) > -1:\n",
        "        quantity = int(quantity)\n",
        "    else:\n",
        "        print(\"Quantity must be numeric and whole number\")\n",
        "        sys.exit(0)\n",
        "\n",
        "    unitcost = str(input(\"Our unit cost for the \"+name.upper()+\": \"))\n",
        "    # create a string of valid characters for unitcost\n",
        "    alpha = \"$.1234567890\"\n",
        "    for letter in unitcost:\n",
        "        if letter in alpha:\n",
        "            continue\n",
        "        else:\n",
        "            print(\"Cost must be numeric\")\n",
        "            sys.exit(0)\n",
        "    # remove $ for calculations\n",
        "    unitcost = float(unitcost.replace(\"$\", \"\"))\n",
        "\n",
        "    inkcost = input(\"How many colors will be printed? \")\n",
        "    if inkcost.isdigit() and int(inkcost) > -1:\n",
        "        inkcost = int(inkcost)\n",
        "    else:\n",
        "        print(\"Ink colors must be numeric and whole number\")\n",
        "        sys.exit(0)\n",
        "    help = input(\"Does customer require design help? \")\n",
        "    help = help.lower()\n",
        "    # boolean variable to store if help is required or not\n",
        "\n",
        "    boolhelp = False\n",
        "    if help == \"yes\" or help == \"y\":\n",
        "        boolhelp = True\n",
        "    elif help == \"no\" or help == \"n\":\n",
        "        pass\n",
        "    else:\n",
        "        print(\"Please answer Yes or No\")\n",
        "        sys.exit(0)\n",
        "    print(\"------------------------------------------\")\n",
        "\n",
        "\n",
        "def getDiscountCalculations():\n",
        "    # calculate the various charges\n",
        "    setupcharge = 7*inkcost\n",
        "    designcharge = inkcost*unitcost*8\n",
        "    materialcost = unitcost*quantity\n",
        "    total = 0\n",
        "    if boolhelp:\n",
        "        # multiply with 1.2 for 20% charge\n",
        "        total = (setupcharge+designcharge+materialcost)*1.2\n",
        "    else:\n",
        "        total = (setupcharge+materialcost)*1.2\n",
        "    print(\"Product type:\", name.upper())\n",
        "    print()\n",
        "    # round off the cost to 2 decimal points\n",
        "    print(\"Material cost: $\"+str(round(materialcost, 2)))\n",
        "    print(inkcost, \"color setup: $\"+str(round(setupcharge, 2)))\n",
        "    if boolhelp:\n",
        "        print(\"Custom design: $\"+str(round(designcharge, 2)))\n",
        "    print(\"Total: $\"+str(round(total, 2)))\n",
        "    if \"mug\" in name.lower():\n",
        "        # multiply with 0.9 for 10% discount\n",
        "        total = total*0.9\n",
        "    print(\"Discounted total for\", name.upper()+\": $\"+str(round(total, 2)))\n",
        "\n",
        "\n",
        "def main():\n",
        "    getUserInput()\n",
        "    getDiscountCalculations()\n",
        "\n",
        "\n",
        "# main()\n",
        "\n",
        "# Output  -\n",
        "# --Custom Print Quote--\n",
        "\n",
        "# Enter the following information to create a quote:\n",
        "# Product name: ceramic mug\n",
        "# Quantity: 100\n",
        "# Our unit cost for the CERAMIC MUG: 3.05\n",
        "# How many colors will be printed? 2\n",
        "# Does customer require design help? yes\n",
        "# ------------------------------------------\n",
        "# Product type: CERAMIC MUG\n",
        "\n",
        "# Material cost: $305.0\n",
        "# 2 color setup: $14\n",
        "# Custom design: $48.8\n",
        "# Total: $441.36\n",
        "# Discounted total for CERAMIC MUG: $397.22\n"
      ],
      "execution_count": null,
      "outputs": []
    },
    {
      "cell_type": "code",
      "metadata": {
        "colab": {
          "base_uri": "https://localhost:8080/"
        },
        "id": "ql-soen-eqf_",
        "outputId": "6feb91f0-69fc-4b17-bcb6-e03acae9db96"
      },
      "source": [
        "iteration = \"yes\"\n",
        "while(iteration == \"yes\"):\n",
        "    x = float(input(\"Enter score of first subject: \"))\n",
        "    y = float(input(\"Enter score of second subject: \"))\n",
        "    z = float(input(\"Enter score of third subject: \"))\n",
        "    total = x + y + z\n",
        "    print(\"Your total score is: \" + str(total))\n",
        "    iteration = input(\n",
        "        \"Do you want to continue enter the score for next student? (yes/no) \")\n",
        "\n",
        "# Output -\n",
        "# Enter score of first subject: 20\n",
        "# Enter score of second subject: 0\n",
        "# Enter score of third subject: 40\n",
        "# Your total score is: 60.0\n",
        "# Do you want to continue enter the score for next student? (yes/no)yes\n",
        "# Enter score of first subject: 50\n",
        "# Enter score of second subject: 80\n",
        "# Enter score of third subject: 90\n",
        "# Your total score is: 220.0\n",
        "# Do you want to continue enter the score for next student? (yes/no)no\n"
      ],
      "execution_count": null,
      "outputs": [
        {
          "output_type": "stream",
          "text": [
            "Enter score of first subject: 20\n",
            "Enter score of second subject: 0\n",
            "Enter score of third subject: 40\n",
            "Your total score is: 60.0\n",
            "Do you want to continue enter the score for next student? (yes/no)yes\n",
            "Enter score of first subject: 50\n",
            "Enter score of second subject: 80\n",
            "Enter score of third subject: 90\n",
            "Your total score is: 220.0\n",
            "Do you want to continue enter the score for next student? (yes/no)no\n"
          ],
          "name": "stdout"
        }
      ]
    },
    {
      "cell_type": "code",
      "metadata": {
        "colab": {
          "base_uri": "https://localhost:8080/"
        },
        "id": "ZZc5grN_gFIu",
        "outputId": "33317edb-c826-43e9-a2f3-73f824f05f38"
      },
      "source": [
        "sequence = [1, 2, 3, 4, 5, 6, 7, 8, 9, 10]\n",
        "\n",
        "for i in sequence:\n",
        "    if i % 2 == 0:\n",
        "        print(\"Even number: \", i)\n",
        "        print(\"Square of even number \", i*i)\n",
        "        print(\"Cube of even number \", i*i*i)\n",
        "\n",
        "print(\"End of for loop\")"
      ],
      "execution_count": null,
      "outputs": [
        {
          "output_type": "stream",
          "text": [
            "Even number:  2\n",
            "Square of even number  4\n",
            "Cube of even number  8\n",
            "Even number:  4\n",
            "Square of even number  16\n",
            "Cube of even number  64\n",
            "Even number:  6\n",
            "Square of even number  36\n",
            "Cube of even number  216\n",
            "Even number:  8\n",
            "Square of even number  64\n",
            "Cube of even number  512\n",
            "Even number:  10\n",
            "Square of even number  100\n",
            "Cube of even number  1000\n",
            "End of for loop\n"
          ],
          "name": "stdout"
        }
      ]
    },
    {
      "cell_type": "code",
      "metadata": {
        "colab": {
          "base_uri": "https://localhost:8080/"
        },
        "id": "LpZ3VPj7iTPq",
        "outputId": "784c2109-84b1-4a2e-b920-41b78c623a73"
      },
      "source": [
        "import random\n",
        "name = input(\"What is your name? \")\n",
        "\n",
        "\n",
        "def rollAgain(total):\n",
        "    choice = input(\"Do you want to roll again? \")\n",
        "    if choice.lower() == 'yes':\n",
        "        playerTurn(name, total)\n",
        "    elif choice.lower() == 'no':\n",
        "        print(\"PlayerTurn returned \", total)\n",
        "    else:\n",
        "        print(\"Whoops!\", choice, \"isn't a valid hoice. Try again.\")\n",
        "        rollAgain(total)\n",
        "\n",
        "\n",
        "def playerTurn(name, total=0):\n",
        "\n",
        "    roll = random.choice(range(1, 7))\n",
        "    if roll == 1:\n",
        "        total = 0\n",
        "        print(name, \"rolled a \", roll)\n",
        "        print(\"You pigged out!!\")\n",
        "        print(\"playerTurn returned 0\")\n",
        "    else:\n",
        "        total += roll\n",
        "        print(name, \"rolled a \", roll)\n",
        "        print(name, \"earned \", total, \"points so far this turn\")\n",
        "        rollAgain(total)\n",
        "\n",
        "\n",
        "# playerTurn(name)\n",
        "# What is your name? Charlie\n",
        "# Charlie rolled a  3\n",
        "# Charlie earned  3 points so far this turn\n",
        "# Do you want to roll again? yes\n",
        "# Charlie rolled a  5\n",
        "# Charlie earned  8 points so far this turn\n",
        "# Do you want to roll again? yes\n",
        "# Charlie rolled a  3\n",
        "# Charlie earned  11 points so far this turn\n",
        "# Do you want to roll again? yes\n",
        "# Charlie rolled a  6\n",
        "# Charlie earned  17 points so far this turn\n",
        "# Do you want to roll again? no\n",
        "# PlayerTurn returned  17\n"
      ],
      "execution_count": null,
      "outputs": [
        {
          "output_type": "stream",
          "text": [
            "What is your name? Charlie\n",
            "Charlie rolled a  3\n",
            "Charlie earned  3 points so far this turn\n",
            "Do you want to roll again? yes\n",
            "Charlie rolled a  5\n",
            "Charlie earned  8 points so far this turn\n",
            "Do you want to roll again? yes\n",
            "Charlie rolled a  3\n",
            "Charlie earned  11 points so far this turn\n",
            "Do you want to roll again? yes\n",
            "Charlie rolled a  6\n",
            "Charlie earned  17 points so far this turn\n",
            "Do you want to roll again? no\n",
            "PlayerTurn returned  17\n"
          ],
          "name": "stdout"
        }
      ]
    },
    {
      "cell_type": "code",
      "metadata": {
        "colab": {
          "base_uri": "https://localhost:8080/"
        },
        "id": "s3ceNlHNlgtC",
        "outputId": "c451f13b-c22f-4bc1-c7e9-66b4114292a5"
      },
      "source": [
        "age = int(input(\"What is your age? \"))\n",
        "\n",
        "healthWorker = str(input(\"Are you a health worker?(yes/no) \"))\n",
        "if healthWorker == \"yes\":\n",
        "    healthWorker = True\n",
        "else:\n",
        "    healthWorker = False\n",
        "\n",
        "otherCondition = str(input(\"Do you have any other condition?(yes/no) \"))\n",
        "if otherCondition == \"no\":\n",
        "    otherCondition = False\n",
        "else:\n",
        "    otherCondition = True\n",
        "\n",
        "\n",
        "def isEligible(age, healthWorker, otherCondition):\n",
        "    if (age > 80 and healthWorker == True and otherCondition == False):\n",
        "        return True\n",
        "    else:\n",
        "        return False\n",
        "\n",
        "\n",
        "if isEligible(age, healthWorker, otherCondition):\n",
        "    print(\"The person is eligible for vaccine\")\n",
        "else:\n",
        "    print(\"The person is not eligible for vaccine\")\n",
        "\n",
        "# What is your age? 89\n",
        "# Are you a health worker?(yes/no) yes\n",
        "# Do you have any other condition?(yes/no) yes\n",
        "# The person is not eligible for vaccine"
      ],
      "execution_count": null,
      "outputs": [
        {
          "output_type": "stream",
          "text": [
            "What is your age? 89\n",
            "Are you a health worker?(yes/no) yes\n",
            "Do you have any other condition?(yes/no) yes\n",
            "The person is not eligible for vaccine\n"
          ],
          "name": "stdout"
        }
      ]
    },
    {
      "cell_type": "code",
      "metadata": {
        "colab": {
          "base_uri": "https://localhost:8080/"
        },
        "id": "Er7SWCIp58nb",
        "outputId": "07f0b82a-f365-45d7-e333-4629f9a3c987"
      },
      "source": [
        "def main():                                     #6 used main function\n",
        "    # filename = input(\"Enter the name of the file to open for read: \")\n",
        "    filename = \"/content/drive/MyDrive/Colab Notebooks/data.txt\"\n",
        "    print()\n",
        "    try:                                        # Used try except block to except any error\n",
        "        file = open(filename, \"r\")              #1 Read a filename\n",
        "        print(\"The contents of the data file \" +\n",
        "              filename + \" are listed below \", end='\\n\\n')\n",
        "        print(file.read(), end='\\n\\n')          #2 Read the contents of the file using read function\n",
        "        file.close()                            #3 Close the file\n",
        "        print(\"closing \", filename)\n",
        "        print()\n",
        "        print(\"==============================\")\n",
        "        print(\"Reopening \", filename, end='\\n\\n')\n",
        "        num_lines = 1\n",
        "        with open(filename, 'r') as f:          #4 Reopen the file\n",
        "            for line in f:                      #5 Using a loop, count and print the contents of the file\n",
        "                line = line.rstrip('\\n')        # Used rstrip to strips a character from end of the string\n",
        "                print(\"Lines \", str(num_lines), line)\n",
        "                num_lines += 1\n",
        "        num_lines -= 1\n",
        "        print()\n",
        "        print(\"There are \", str(num_lines),\n",
        "              \" lines in file \", filename, end='\\n')\n",
        "    except FileNotFoundError:\n",
        "        print(\"The filename you typed is not available\")\n",
        "\n",
        "\n",
        "if __name__ == \"__main__\":\n",
        "    main()\n"
      ],
      "execution_count": null,
      "outputs": [
        {
          "output_type": "stream",
          "text": [
            "\n",
            "The contents of the data file /content/drive/MyDrive/Colab Notebooks/data.txt are listed below \n",
            "\n",
            "This is a data file\n",
            "\n",
            "When you process your data file remember to strip the end of the line character.\n",
            "rstrip method is a string method that strips a character from end of the string\n",
            "\n",
            "\n",
            "line1 = line1.rstrip('\\n')\n",
            "\n",
            "To handle any potential error use try/except/else\n",
            "\n",
            "closing  /content/drive/MyDrive/Colab Notebooks/data.txt\n",
            "\n",
            "==============================\n",
            "Reopening  /content/drive/MyDrive/Colab Notebooks/data.txt\n",
            "\n",
            "Lines  1 This is a data file\n",
            "Lines  2 \n",
            "Lines  3 When you process your data file remember to strip the end of the line character.\n",
            "Lines  4 rstrip method is a string method that strips a character from end of the string\n",
            "Lines  5 \n",
            "Lines  6 \n",
            "Lines  7 line1 = line1.rstrip('\\n')\n",
            "Lines  8 \n",
            "Lines  9 To handle any potential error use try/except/else\n",
            "\n",
            "There are  9  lines in file  /content/drive/MyDrive/Colab Notebooks/data.txt\n"
          ],
          "name": "stdout"
        }
      ]
    },
    {
      "cell_type": "code",
      "metadata": {
        "colab": {
          "base_uri": "https://localhost:8080/"
        },
        "id": "0J8AlwYXjIFd",
        "outputId": "240cfe88-6a4a-473c-dac9-951418733d48"
      },
      "source": [
        "# message = input(\"Secret message: \")\n",
        "message = \"This is a secret message\"\n",
        "\n",
        "# shift = int(input(\"Shift: \"))\n",
        "shift = 5\n",
        "length = len(message)  # get length of the message\n",
        "encrypt = \"\"  # get empty string to store encrypted message\n",
        "print(\"Each letter is shifted \" + str(shift) + \" places to the left in alphabetical order.\")\n",
        "print(\"Secret output: \", end=\"\")\n",
        "for i in range(length):\n",
        "    # ord('a') is used to get the integer/ASCII value of a character so that we can compare if it is alphabet or not.\n",
        "    if (ord(message[i]) >= ord('a') and ord(message[i]) <= ord('z')):\n",
        "        encrypt = (((ord(message[i]) - ord('a')) + shift) % 26) + ord('a')\n",
        "        # ord(message[i]) will get the integer value of a character\n",
        "        # ord('a') will get the integer value of a\n",
        "        # we have to subtract ord('a') from ord(message[i]) so that every letter matches its order\n",
        "        # i.e a=0,b=1,c=2 and so on\n",
        "        # now we have to add the value of shift variable\n",
        "        # now we have to mod by 26 so that we get the shift digit letter\n",
        "        # now to get that letter, we have to add again value of ord('a')\n",
        "        # this if for lower case letter\n",
        "        # similar rule is applied for upper case alphabets below\n",
        "        print(chr(encrypt), end=\"\")\n",
        "    elif (ord(message[i]) >= ord('A') and ord(message[i]) <= ord('Z')):\n",
        "        encrypt = (((ord(message[i]) - ord('A')) + shift) % 26) + ord('A')\n",
        "        print(chr(encrypt), end=\"\")\n",
        "    else:\n",
        "        print(message[i], end=\"\")  # if it is not alphabet print as it is\n"
      ],
      "execution_count": null,
      "outputs": [
        {
          "output_type": "stream",
          "text": [
            "Each letter is shifted 5 places to the left in alphabetical order.\n",
            "Secret output: Ymnx nx f xjhwjy rjxxflj"
          ],
          "name": "stdout"
        }
      ]
    },
    {
      "cell_type": "code",
      "metadata": {
        "id": "oewzDQGpGNb-"
      },
      "source": [
        "def isValidPasssword(password):\n",
        "    length = len(password)  # check length of password\n",
        "    lower = any(letter.islower()\n",
        "                for letter in password)  # check for lower case letter\n",
        "    upper = any(letter.isupper()\n",
        "                for letter in password)  # check for upper case letter\n",
        "    # check for number digit\n",
        "    digits = sum(1 for character in password if character.isdigit())\n",
        "\n",
        "    if length >= 8 and lower and upper and digits >= 1:\n",
        "        return True\n",
        "    else:\n",
        "        return False\n",
        "\n",
        "\n",
        "def main():\n",
        "    # read input from the user\n",
        "    password1 = input(\"Enter your password: \")\n",
        "    password2 = input(\"Re-enter your password: \")\n",
        "\n",
        "    while password1 != password2 or not isValidPasssword(password1):\n",
        "        print(\"That password didn't have the required properties. \")\n",
        "\n",
        "        # Read the next pair of passwords\n",
        "        password1 = input(\"Enter your password: \")\n",
        "        password2 = input(\"Re-enter your password: \")\n",
        "\n",
        "    # Display the final message\n",
        "    print(\"That pair of passwords will work\")\n",
        "\n",
        "\n",
        "main()\n",
        "\n",
        "# Output - \n",
        "# Enter your password: hello\n",
        "# Re-enter your password: hello\n",
        "# That password didn't have the required properties. \n",
        "# Enter your password: Hello123\n",
        "# Re-enter your password: Hello12\n",
        "# That password didn't have the required properties. \n",
        "# Enter your password: Hello123\n",
        "# Re-enter your password: Hello123\n",
        "# That pair of passwords will work"
      ],
      "execution_count": null,
      "outputs": []
    },
    {
      "cell_type": "code",
      "metadata": {
        "colab": {
          "base_uri": "https://localhost:8080/"
        },
        "id": "5zLNRqjFKUCA",
        "outputId": "02d859b6-30fc-4694-e7cb-4bfde757f991"
      },
      "source": [
        "#Example\n",
        "password = \"Hello123\"\n",
        "length = len(password)\n",
        "lower = any(letter.islower() for letter in password)\n",
        "upper = any(letter.isupper() for letter in password)\n",
        "digits = sum(1 for character in password if character.isdigit())\n",
        "print(length)\n",
        "print(lower)\n",
        "print(upper)\n",
        "print(digits)"
      ],
      "execution_count": null,
      "outputs": [
        {
          "output_type": "stream",
          "text": [
            "8\n",
            "True\n",
            "True\n",
            "3\n"
          ],
          "name": "stdout"
        }
      ]
    },
    {
      "cell_type": "code",
      "metadata": {
        "colab": {
          "base_uri": "https://localhost:8080/"
        },
        "id": "JfK9u0CA5dsv",
        "outputId": "52b11d87-c304-46d0-ab08-ae07666155b4"
      },
      "source": [
        "myList = [\"ab\", \"c\", \"df\", \"hello\", \"bye\"]\n",
        "min = myList[0]\n",
        "\n",
        "for i in range(len(myList)):\n",
        "  if myList[i] < min:\n",
        "    min = myList[i]\n",
        "print(min)"
      ],
      "execution_count": null,
      "outputs": [
        {
          "output_type": "stream",
          "text": [
            "ab\n"
          ],
          "name": "stdout"
        }
      ]
    },
    {
      "cell_type": "code",
      "metadata": {
        "colab": {
          "base_uri": "https://localhost:8080/"
        },
        "id": "mv9l7JJ_DOZ8",
        "outputId": "44eefaec-7c28-437b-8b43-f6ca1a1e5bad"
      },
      "source": [
        "# weight = int(input(\"Enter weight of our suitcase (in kg): \"))\n",
        "weight = 45\n",
        "\n",
        "if weight < 30:\n",
        "  print(\"No Extra Charge\")\n",
        "elif weight >= 30 and weight <= 35:\n",
        "  print(\"$25 Extra Charge - including tax\")\n",
        "else:\n",
        "  print(\"$50 Extra Charge - including tax\")\n"
      ],
      "execution_count": null,
      "outputs": [
        {
          "output_type": "stream",
          "text": [
            "$50 Extra Charge - including tax\n"
          ],
          "name": "stdout"
        }
      ]
    },
    {
      "cell_type": "code",
      "metadata": {
        "colab": {
          "base_uri": "https://localhost:8080/"
        },
        "id": "bmVH3VK1D4Z3",
        "outputId": "6433f175-9f2b-4f60-a7c3-e5b995cb1a0b"
      },
      "source": [
        "frnd1_age = 20\n",
        "frnd2_age = 22\n",
        "frnd3_age = 30\n",
        "\n",
        "space = True\n",
        "\n",
        "if (frnd1_age < frnd2_age) and (frnd2_age < frnd3_age):\n",
        "    if (frnd1_age - frnd2_age) == (frnd2_age - frnd3_age):\n",
        "        space = True\n",
        "    else:\n",
        "        space = False\n",
        "\n",
        "elif (frnd1_age < frnd3_age) and (frnd3_age < frnd2_age):\n",
        "    if (frnd1_age - frnd3_age) == (frnd3_age - frnd2_age):\n",
        "        space = True\n",
        "    else:\n",
        "        space = False\n",
        "\n",
        "elif (frnd2_age < frnd1_age) and (frnd1_age < frnd3_age):\n",
        "    if (frnd2_age - frnd1_age) == (frnd1_age - frnd3_age):\n",
        "        space = True\n",
        "    else:\n",
        "        space = False\n",
        "elif (frnd2_age < frnd3_age) and (frnd3_age < frnd1_age):\n",
        "    if (frnd2_age - frnd3_age) == (frnd3_age - frnd1_age):\n",
        "        space = True\n",
        "    else:\n",
        "        space = False\n",
        "elif (frnd3_age < frnd1_age) and (frnd1_age < frnd2_age):\n",
        "    if (frnd3_age - frnd1_age) == (frnd1_age - frnd2_age):\n",
        "        space = True\n",
        "    else:\n",
        "        space = False\n",
        "elif (frnd3_age < frnd2_age) and (frnd2_age < frnd1_age):\n",
        "    if (frnd3_age - frnd2_age) == (frnd2_age - frnd1_age):\n",
        "        space = True\n",
        "    else:\n",
        "        space = False\n",
        "\n",
        "print(\"Friend 1 Age: \" + str(frnd1_age))\n",
        "print(\"Friend 2 Age: \" + str(frnd2_age))\n",
        "print(\"Friend 3 Age: \" + str(frnd3_age))\n",
        "\n",
        "if space:\n",
        "    print(\"They are equally apart\")\n",
        "else:\n",
        "    print(\"They are not equally apart\")\n"
      ],
      "execution_count": null,
      "outputs": [
        {
          "output_type": "stream",
          "text": [
            "Friend 1 Age: 20\n",
            "Friend 2 Age: 22\n",
            "Friend 3 Age: 30\n",
            "They are not equally apart\n"
          ],
          "name": "stdout"
        }
      ]
    },
    {
      "cell_type": "code",
      "metadata": {
        "colab": {
          "base_uri": "https://localhost:8080/"
        },
        "id": "oWhdbfBwMDSt",
        "outputId": "97b2659c-8e01-4948-e852-a463c454ca21"
      },
      "source": [
        "from datetime import *\n",
        "import csv\n",
        "\n",
        "\n",
        "filename = 'players.csv'\n",
        "lineupList = [['Trevor', 'SS', '588', '173'], ['Garrett', '2B', '299', '74']]\n",
        "readList = []\n",
        "\n",
        "\n",
        "# writeFile(lineupList)\n",
        "def writeFile(lineupList):\n",
        "    with open(filename, mode='w+') as file:\n",
        "        writer = csv.writer(file, lineterminator='\\n')\n",
        "        for player in lineupList:\n",
        "            writer.writerow(player)\n",
        "\n",
        "\n",
        "# readFile(readList)\n",
        "def readFile(readList):\n",
        "    try:\n",
        "        file = open(filename, mode='r')\n",
        "    except:\n",
        "        print(\"File not found\")\n",
        "        return\n",
        "    reader = csv.reader(file)\n",
        "    for row in reader:\n",
        "        readList.append(row)\n",
        "    return\n",
        "\n",
        "\n",
        "# print(readList)\n",
        "lineupList = []\n",
        "readFile(lineupList)  # forming lineuplist from the csv file\n",
        "# the next bit is BETWEEN printing BASEBALL MANAGER and displaymenu()\n",
        "\n",
        "today = date.today()\n",
        "print(\"CURRENT DATE : \"+today.strftime(\"%Y-%m-%d\"))\n",
        "print(\"GAME DATE : \", end=\"\")\n",
        "date = input()\n",
        "game = datetime(*list(map(int, date.split('-')))).date()\n",
        "delta = game - today\n",
        "if(delta.days > 0):\n",
        "    print(\"DAYS UNTIL GAME : \"+str(delta.days))\n",
        "\n",
        "# displaymenu()\n",
        "# I've just put in the lines that you need to insert in your code. Also, you can delete LineupList from your program,\n",
        "# Python IO will read and make it.\n",
        "# Converting a list to dictionary:\n",
        "\n",
        "lineuplist = [['a', '1', '2', '3'], ['b', '2', '4', '6'], ['c', '3', '6', '9']]\n",
        "newlist = []\n",
        "for i in lineuplist:\n",
        "    temp = {\n",
        "        'name': i[0],\n",
        "        'position': i[1],\n",
        "        'at_bats': i[2],\n",
        "        'hits': i[3]\n",
        "    }\n",
        "    newlist.append(temp)\n",
        "print(newlist)\n",
        "\n",
        "# accessing 2nd player's name, position\n",
        "print(newlist[0]['name'])\n",
        "print(newlist[0]['position'])\n",
        "print(\"\\n\")\n",
        "\n",
        "# displaying lineup\n",
        "for i in newlist:\n",
        "    for k, v in i.items():\n",
        "        print(k + \" : \" + v)\n",
        "    print(\"\\n\")\n",
        "\n",
        "\n",
        "# Edited add_player():\n",
        "def add_player(lineuplist):\n",
        "    # after hits = input(\"Hits :\")\n",
        "    position = input(\"Enter position\")\n",
        "    print(lineuplist)\n",
        "    for i in lineuplist:\n",
        "      if position in lineuplist:\n",
        "          temp = {\n",
        "              'name': i[0],\n",
        "              'position': i[1],\n",
        "              'atBats': i[2],\n",
        "              'hits': i[3]\n",
        "          }\n",
        "          lineuplist.append(temp)\n",
        "      else:\n",
        "          print(\"Wrong position. Please enter a valid position\")\n",
        "      print(lineuplist)\n",
        "\n",
        "print(lineuplist)\n",
        "add_player(lineuplist)\n"
      ],
      "execution_count": null,
      "outputs": [
        {
          "output_type": "stream",
          "text": [
            "File not found\n",
            "CURRENT DATE : 2021-04-07\n",
            "GAME DATE : 2021-04-15\n",
            "DAYS UNTIL GAME : 8\n",
            "[{'name': 'a', 'position': '1', 'at_bats': '2', 'hits': '3'}, {'name': 'b', 'position': '2', 'at_bats': '4', 'hits': '6'}, {'name': 'c', 'position': '3', 'at_bats': '6', 'hits': '9'}]\n",
            "a\n",
            "1\n",
            "\n",
            "\n",
            "name : a\n",
            "position : 1\n",
            "at_bats : 2\n",
            "hits : 3\n",
            "\n",
            "\n",
            "name : b\n",
            "position : 2\n",
            "at_bats : 4\n",
            "hits : 6\n",
            "\n",
            "\n",
            "name : c\n",
            "position : 3\n",
            "at_bats : 6\n",
            "hits : 9\n",
            "\n",
            "\n",
            "[['a', '1', '2', '3'], ['b', '2', '4', '6'], ['c', '3', '6', '9']]\n",
            "Enter position1\n",
            "[['a', '1', '2', '3'], ['b', '2', '4', '6'], ['c', '3', '6', '9']]\n",
            "Wrong position. Please enter a valid position\n",
            "[['a', '1', '2', '3'], ['b', '2', '4', '6'], ['c', '3', '6', '9']]\n",
            "Wrong position. Please enter a valid position\n",
            "[['a', '1', '2', '3'], ['b', '2', '4', '6'], ['c', '3', '6', '9']]\n",
            "Wrong position. Please enter a valid position\n",
            "[['a', '1', '2', '3'], ['b', '2', '4', '6'], ['c', '3', '6', '9']]\n"
          ],
          "name": "stdout"
        }
      ]
    },
    {
      "cell_type": "code",
      "metadata": {
        "colab": {
          "base_uri": "https://localhost:8080/"
        },
        "id": "4rrUqPUdmnmv",
        "outputId": "eac45bb1-665e-48fc-b6c1-7633824c9ebe"
      },
      "source": [
        "import sys\n",
        "# filename = input(\"Enter name of the file that contain numbers: \")\n",
        "filename = \"/content/drive/MyDrive/Colab Notebooks/number.txt\"\n",
        "sum = 0\n",
        "try:\n",
        "    with open(filename) as input_data:\n",
        "        # Using accumulator pattern to get the number stored in each line\n",
        "        for each_line in input_data:\n",
        "            try:\n",
        "                number = float(each_line.strip())\n",
        "                print(number)\n",
        "                sum += number\n",
        "\n",
        "            # the except block will escept the line which in which there is no number\n",
        "            # i.e if it contain string , the it is excepted\n",
        "            except ValueError as e:\n",
        "                print('Warning: Unable to parse %s: %s' % (each_line, e))\n",
        "\n",
        "        # it will print the total of the numbers\n",
        "        print(\"The total of the numbers in {} is {}\".format(filename, sum))\n",
        "\n",
        "# this except block will except if something is wrong with filename e.g file not available\n",
        "except EnvironmentError as err_open:\n",
        "    print('Error accessing file %s: %s' % (filename, err_open))\n"
      ],
      "execution_count": null,
      "outputs": [
        {
          "output_type": "stream",
          "text": [
            "16.0\n",
            "15.0\n",
            "14.0\n",
            "20.0\n",
            "19.0\n",
            "16.0\n",
            "16.0\n",
            "15.0\n",
            "17.0\n",
            "18.0\n",
            "The total of the numbers in /content/drive/MyDrive/Colab Notebooks/number.txt is 166.0\n"
          ],
          "name": "stdout"
        }
      ]
    },
    {
      "cell_type": "code",
      "metadata": {
        "colab": {
          "base_uri": "https://localhost:8080/"
        },
        "id": "Ob_rJFp7pEQK",
        "outputId": "c9ccce87-c9f1-4ba4-cb3a-246467524a9b"
      },
      "source": [
        "import numpy as np\n",
        "\n",
        "u = np.array([10, 20])\n",
        "v = np.array([1,5])\n",
        "\n",
        "result = np.subtract(u, v)\n",
        "print(result)"
      ],
      "execution_count": null,
      "outputs": [
        {
          "output_type": "stream",
          "text": [
            "[ 9 15]\n"
          ],
          "name": "stdout"
        }
      ]
    },
    {
      "cell_type": "code",
      "metadata": {
        "colab": {
          "base_uri": "https://localhost:8080/"
        },
        "id": "guCJ1RDBp6lz",
        "outputId": "27358b4f-c942-45d3-e167-0be270b85c06"
      },
      "source": [
        "def equation1(x, y):\n",
        "    if(7*x + 2*y == -1):\n",
        "        return True\n",
        "    else:\n",
        "        return False\n",
        "\n",
        "\n",
        "def equation2(x, y):\n",
        "    if(5*x - 3*y == -14):\n",
        "        return True\n",
        "    else:\n",
        "        return False\n",
        "\n",
        "\n",
        "def main():\n",
        "    print(\"7x + 2y = -1\")\n",
        "    print(\"5x - 3y = -14\")\n",
        "    x = int(input(\"Enter value of x: \"))\n",
        "    y = int(input(\"Enter value of y: \"))\n",
        "\n",
        "    if (equation1(x, y) and equation2(x, y)):\n",
        "        print(\"Yes, these values satisfy both equations\")\n",
        "    else:\n",
        "        print(\"No, these values do not satisfy both equation\")\n",
        "\n",
        "\n",
        "# main()\n",
        "# Output - \n",
        "# 7x + 2y = -1\n",
        "# 5x - 3y = -14\n",
        "# Enter value of x: 5\n",
        "# Enter value of y: 4\n",
        "# No, these values do not satisfy both equation"
      ],
      "execution_count": null,
      "outputs": [
        {
          "output_type": "stream",
          "text": [
            "7x + 2y = -1\n",
            "5x - 3y = -14\n",
            "Enter value of x: 5\n",
            "Enter value of y: 4\n",
            "No, these values do not satisfy both equation\n"
          ],
          "name": "stdout"
        }
      ]
    },
    {
      "cell_type": "code",
      "metadata": {
        "colab": {
          "base_uri": "https://localhost:8080/"
        },
        "id": "N7bXkKFQ6vRC",
        "outputId": "a9a0abd8-14dd-47f6-d83a-eabfa5872e44"
      },
      "source": [
        "# height = float(input(\"Enter height in inches: \"))\n",
        "height = 70\n",
        "# weight = float(input(\"Enter weight in pounds: \"))\n",
        "weight = 145\n",
        "if (height > 65 and weight > 140 and weight < 147):\n",
        "    print(\"Eligible\")\n",
        "else:\n",
        "    print(\"Not Eligible\")\n"
      ],
      "execution_count": null,
      "outputs": [
        {
          "output_type": "stream",
          "text": [
            "Eligible\n"
          ],
          "name": "stdout"
        }
      ]
    },
    {
      "cell_type": "code",
      "metadata": {
        "colab": {
          "base_uri": "https://localhost:8080/"
        },
        "id": "-k5_M1N8rI4R",
        "outputId": "abc3b3df-da06-4a4c-8330-046ef26d659e"
      },
      "source": [
        "students = 1\n",
        "pay = 480\n",
        "while True:\n",
        "  if (students * pay >= 2000):\n",
        "    print(\"No. of students required: \", students)\n",
        "    break\n",
        "  else:\n",
        "    students += 1"
      ],
      "execution_count": null,
      "outputs": [
        {
          "output_type": "stream",
          "text": [
            "No. of students required:  5\n"
          ],
          "name": "stdout"
        }
      ]
    },
    {
      "cell_type": "code",
      "metadata": {
        "colab": {
          "base_uri": "https://localhost:8080/"
        },
        "id": "pyZM8GS0sKWo",
        "outputId": "5988512f-e90c-413f-e64c-67c17ca7c3a6"
      },
      "source": [
        "from math import factorial\n",
        "\n",
        "\n",
        "def student_answer(x, N):\n",
        "    # initialise total as 0\n",
        "    total = 0\n",
        "\n",
        "    # to loop untill N, we have to write N+1\n",
        "    for i in range(1, N+1):\n",
        "        # pow is function to get x to the power i\n",
        "        total += pow(x, i) / factorial(i)\n",
        "\n",
        "    print(\"%.2f\" % total)\n",
        "\n",
        "\n",
        "# function call\n",
        "student_answer(2, 5)\n"
      ],
      "execution_count": null,
      "outputs": [
        {
          "output_type": "stream",
          "text": [
            "6.27\n"
          ],
          "name": "stdout"
        }
      ]
    },
    {
      "cell_type": "code",
      "metadata": {
        "colab": {
          "base_uri": "https://localhost:8080/"
        },
        "id": "vFfWbQdqB9zt",
        "outputId": "39655aed-a85e-4b0b-8d79-e26d4c8f8001"
      },
      "source": [
        "def Netsal(Sal):\n",
        "    for salaries in range(len(Sal)):\n",
        "        if Sal[salaries] < 2000:\n",
        "            Sal[salaries] += 300\n",
        "        elif Sal[salaries] >= 4000:\n",
        "            Sal[salaries] += 100\n",
        "        else:\n",
        "            Sal[salaries] += 200\n",
        "    return Sal\n",
        "\n",
        "\n",
        "def main():\n",
        "    Record = [[\"Ali\", \"Mazen\", \"Fida\", \"Nader\", \"Majid\"],\n",
        "              [\"Tutor\", \"IT\", \"Manager\", \"PR\", \"Clerk\"]]\n",
        "    Sal = [2200, 1600, 4000, 2000, 1400]\n",
        "    Netsal(Sal)\n",
        "    for i in range(len(Sal)):\n",
        "        print(Record[0][i], \"-\", Record[1][i], \":\", Sal[i])\n",
        "\n",
        "\n",
        "main()"
      ],
      "execution_count": null,
      "outputs": [
        {
          "output_type": "stream",
          "text": [
            "Ali - Tutor : 2400\n",
            "Mazen - IT : 1900\n",
            "Fida - Manager : 4100\n",
            "Nader - PR : 2200\n",
            "Majid - Clerk : 1700\n"
          ],
          "name": "stdout"
        }
      ]
    },
    {
      "cell_type": "code",
      "metadata": {
        "colab": {
          "base_uri": "https://localhost:8080/"
        },
        "id": "IJ8C_Tdk85Nd",
        "outputId": "912141f7-cae2-4fc7-d06c-9fd037025e75"
      },
      "source": [
        "# # creating an empty list\n",
        "# lst = []\n",
        "\n",
        "# # number of elements as input\n",
        "# n = int(input(\"Enter number of elements : \"))\n",
        "\n",
        "# # iterating till the range\n",
        "# for i in range(0, n):\n",
        "#     ele = int(input())\n",
        "\n",
        "#     lst.append(ele)  # adding the element\n",
        "\n",
        "lst = [-1, 2, 3, -12, 2, 4, 1, 1, -12, 1, -1, 2, 1, 2, 3, 4, 2, 3, -12, 2]\n",
        "print(lst)\n",
        "# sort list in decreasing order\n",
        "lst.sort(reverse=True)\n",
        "\n",
        "# count number of occurences\n",
        "count = []\n",
        "\n",
        "# Create list of uniques numbers\n",
        "newlist = []\n",
        "\n",
        "for i in range(len(lst)):\n",
        "    if lst[i] not in newlist:\n",
        "        newlist.append(lst[i])\n",
        "        x = lst.count(lst[i])\n",
        "        count.append(x)\n",
        "\n",
        "\n",
        "newlist.sort(reverse=True)\n",
        "\n",
        "print()\n",
        "print(\"Value \\t Count\")\n",
        "for i in range(len(newlist)):\n",
        "    print(str(newlist[i]), \" \\t \", str(count[i]))\n"
      ],
      "execution_count": null,
      "outputs": [
        {
          "output_type": "stream",
          "text": [
            "[-1, 2, 3, -12, 2, 4, 1, 1, -12, 1, -1, 2, 1, 2, 3, 4, 2, 3, -12, 2]\n",
            "\n",
            "Value \t Count\n",
            "4  \t  2\n",
            "3  \t  3\n",
            "2  \t  6\n",
            "1  \t  4\n",
            "-1  \t  2\n",
            "-12  \t  3\n"
          ],
          "name": "stdout"
        }
      ]
    },
    {
      "cell_type": "code",
      "metadata": {
        "colab": {
          "base_uri": "https://localhost:8080/"
        },
        "id": "JBCD2QLJHydh",
        "outputId": "30f02465-2455-44ed-c1b7-35a02c7e2734"
      },
      "source": [
        "# word = input(\"Enter String: \")\n",
        "word = \"What a Wonderful World\"\n",
        "\n",
        "# count number of occurences\n",
        "count = []\n",
        "\n",
        "# Create list of uniques characters\n",
        "newlist = []\n",
        "\n",
        "for i in range(len(word)):\n",
        "    # Checking for duplicate characters\n",
        "    if word[i] not in newlist:\n",
        "        newlist.append(word[i])\n",
        "        x = word.count(word[i])\n",
        "        count.append(x)\n",
        "\n",
        "\n",
        "result = {}\n",
        "print()\n",
        "# Append key-value pair to a result dictionary\n",
        "for i in range(len(newlist)):\n",
        "    result[newlist[i]] = count[i]\n",
        "\n",
        "print(result)\n"
      ],
      "execution_count": null,
      "outputs": [
        {
          "output_type": "stream",
          "text": [
            "\n",
            "{'W': 3, 'h': 1, 'a': 2, 't': 1, ' ': 3, 'o': 2, 'n': 1, 'd': 2, 'e': 1, 'r': 2, 'f': 1, 'u': 1, 'l': 2}\n"
          ],
          "name": "stdout"
        }
      ]
    },
    {
      "cell_type": "code",
      "metadata": {
        "id": "GH33M3Q4FVTn"
      },
      "source": [
        "def main():\n",
        "    print(\"Enter the four angles of a quadrilateral: \")\n",
        "    # creating an empty list\n",
        "    lst = []\n",
        "    sum = 0\n",
        "    # iterating till the range\n",
        "    for i in range(0, 4):\n",
        "        ele = int(input())\n",
        "        sum += ele\n",
        "        lst.append(ele)  # adding the element\n",
        "        \n",
        "    if sum == 360:\n",
        "        if (lst[0] == lst[1] == lst[2] == lst[3] == 90):\n",
        "            print(\"Rectangle or square\")\n",
        "        elif ((lst[0] + lst[2] == 180) and (lst[1] + lst[3] == 180)):\n",
        "            print(\"A cyclic quadrilateral\")\n",
        "        elif (lst[0] == lst[2] and lst[1] == lst[3]):\n",
        "            print(\"Parallelogram\")\n",
        "        else:\n",
        "            print(\"A non-cyclic quadrilateral\")\n",
        "    else:\n",
        "        print(\"Re...enter the four angles\")\n",
        "        main()\n",
        "\n",
        "\n",
        "# main()\n",
        "# Output - \n",
        "# Enter the four angles of a quadrilateral: \n",
        "# 70\n",
        "# 80\n",
        "# 70\n",
        "# 80\n",
        "# Re...enter the four angles\n",
        "# 90\n",
        "# 90\n",
        "# 90\n",
        "# 90\n",
        "# Rectangle or square"
      ],
      "execution_count": null,
      "outputs": []
    },
    {
      "cell_type": "code",
      "metadata": {
        "colab": {
          "base_uri": "https://localhost:8080/"
        },
        "id": "IS77T8YtWNdN",
        "outputId": "65ecdb27-18b2-49c6-e1b9-48916338d138"
      },
      "source": [
        "def parse_command(line):\n",
        "  error_value = ['error']\n",
        "  userInput = line.split(' ')\n",
        "\n",
        "  if userInput[0] == 'add':\n",
        "    if len(userInput) < 3:\n",
        "      return error_value + ['add DATE START_TIME END_TIME DETAILS']\n",
        "    else:\n",
        "      event = ' '.join(userInput[4:])\n",
        "    if is_calender_date(userInput[1]):\n",
        "      return userInput[:4] + [event]\n",
        "    else:\n",
        "      return error_value + ['not a valid calender date']\n",
        "\n",
        "parse_command(\"add 2015-10-21 10 11 budget meeting\")"
      ],
      "execution_count": null,
      "outputs": [
        {
          "output_type": "execute_result",
          "data": {
            "text/plain": [
              "['add', '2015-10-21', '10', '11', 'budget meeting']"
            ]
          },
          "metadata": {
            "tags": []
          },
          "execution_count": 6
        }
      ]
    },
    {
      "cell_type": "code",
      "metadata": {
        "colab": {
          "base_uri": "https://localhost:8080/"
        },
        "id": "eymzRrXCu3ZL",
        "outputId": "bfcae00b-0a9b-4546-c706-12d4886bef07"
      },
      "source": [
        "ii = 18\n",
        "kk = 21\n",
        "\n",
        "if ii > 9:        # since, 18 > 9, below code will execute\n",
        "  ii = ii + 11    # ii = 18 + 11 => 29\n",
        "  kk = kk * 2     # kk = 21 * 2 => 42\n",
        "else:\n",
        "  kk = kk + 2\n",
        "  ii = ii + 7\n",
        "ii = ii * 2       # ii = 29 * 2 => 58\n",
        "\n",
        "if kk < 16:     \n",
        "  kk = kk + 5\n",
        "  ii = ii * 2\n",
        "else:             # since kk > 16, below code will execute\n",
        "  ii = ii * 2     # ii = 58 * 2 => 116\n",
        "  kk = kk * 2     # kk = 42 * 2 => 84\n",
        "kk = kk + 8       # kk = 84 + 8 => 92\n",
        "\n",
        "last_digit = (ii + kk) % 10   # (116 + 92) = 208 % 10 = 8\n",
        "print(last_digit)             # so the output we get is 8"
      ],
      "execution_count": null,
      "outputs": [
        {
          "output_type": "stream",
          "text": [
            "8\n"
          ],
          "name": "stdout"
        }
      ]
    },
    {
      "cell_type": "code",
      "metadata": {
        "colab": {
          "base_uri": "https://localhost:8080/"
        },
        "id": "dHQU2olG-QDc",
        "outputId": "7bae1a14-e6b7-40bc-8fc7-8638e2084ba2"
      },
      "source": [
        "MLB_team = {'Colorado': 'Rockies', 'Boston': 'Red Sox',\n",
        "            'Minnesota': 'Twins', 'Milwaukee': 'Brewers', 'Seattle': 'Mariners'}\n",
        "valuelist = list(MLB_team.values())\n",
        "keylist = list(MLB_team.keys())\n",
        "\n",
        "\n",
        "def printKey(key):\n",
        "    print(\"Mlb team given a key is\", MLB_team[key])\n",
        "\n",
        "\n",
        "def printValue(value):\n",
        "    valueposition = valuelist.index(value)\n",
        "    print(\"MLB key given the value\", keylist[valueposition])\n",
        "\n",
        "\n",
        "key = input(\"Enter Key: \")\n",
        "printKey(key)\n",
        "\n",
        "value = input(\"Enter value: \")\n",
        "printValue(value)\n",
        "\n",
        "# Output - \n",
        "# Enter Key: Colorado\n",
        "# Mlb team given a key is  Rockies\n",
        "# Enter value: Red Sox\n",
        "# MLB key given the value  Boston"
      ],
      "execution_count": null,
      "outputs": [
        {
          "output_type": "stream",
          "text": [
            "Enter Key: Colorado\n",
            "Mlb team given a key is  Rockies\n",
            "Enter value: Red Sox\n",
            "MLB key given the value  Boston\n"
          ],
          "name": "stdout"
        }
      ]
    },
    {
      "cell_type": "code",
      "metadata": {
        "id": "ezOfTpANld3i",
        "colab": {
          "base_uri": "https://localhost:8080/"
        },
        "outputId": "4eac57d6-89fd-4613-e3d7-357a74be526b"
      },
      "source": [
        "import pandas as pd\n",
        "import numpy as np\n",
        "exam_data = {'name': ['Anastasia', 'Dima', 'Katherine', 'James', 'Emily', 'Michael', 'Matthew', 'Laura', 'Kevin', 'Jonas'],\n",
        "'score': [12.5, 9, 16.5, np.nan, 9, 20, 14.5, np.nan, 8, 19],\n",
        "'attempts': [1, 3, 2, 3, 2, 3, 1, 1, 2, 1],\n",
        "'qualify': ['yes', 'no', 'yes', 'no', 'no', 'yes', 'yes', 'no', 'no', 'yes']}\n",
        "labels = ['a', 'b', 'c', 'd', 'e', 'f', 'g', 'h', 'i', 'j']\n",
        "df = pd.DataFrame(exam_data, index=labels)\n",
        "\n",
        "print(\"All records before appending a new row: \")\n",
        "print(df)\n",
        "\n",
        "df.loc['k'] = ['Suresh',15.5, 1, 'yes']\n",
        "print(\"\\nAll records after appending a new row: \")\n",
        "print(df)"
      ],
      "execution_count": null,
      "outputs": [
        {
          "output_type": "stream",
          "text": [
            "All records before appending a new row: \n",
            "        name  score  attempts qualify\n",
            "a  Anastasia   12.5         1     yes\n",
            "b       Dima    9.0         3      no\n",
            "c  Katherine   16.5         2     yes\n",
            "d      James    NaN         3      no\n",
            "e      Emily    9.0         2      no\n",
            "f    Michael   20.0         3     yes\n",
            "g    Matthew   14.5         1     yes\n",
            "h      Laura    NaN         1      no\n",
            "i      Kevin    8.0         2      no\n",
            "j      Jonas   19.0         1     yes\n",
            "\n",
            "All records after appending a new row: \n",
            "        name  score  attempts qualify\n",
            "a  Anastasia   12.5         1     yes\n",
            "b       Dima    9.0         3      no\n",
            "c  Katherine   16.5         2     yes\n",
            "d      James    NaN         3      no\n",
            "e      Emily    9.0         2      no\n",
            "f    Michael   20.0         3     yes\n",
            "g    Matthew   14.5         1     yes\n",
            "h      Laura    NaN         1      no\n",
            "i      Kevin    8.0         2      no\n",
            "j      Jonas   19.0         1     yes\n",
            "k     Suresh   15.5         1     yes\n"
          ],
          "name": "stdout"
        }
      ]
    },
    {
      "cell_type": "code",
      "metadata": {
        "id": "-bhn_R15gKsu",
        "colab": {
          "base_uri": "https://localhost:8080/",
          "height": 336
        },
        "outputId": "6b921061-5efb-42c5-a4ff-333822a7531f"
      },
      "source": [
        "import random\n",
        "import matplotlib.pyplot as plt\n",
        "\n",
        "mylist = []\n",
        "mytuple = ()\n",
        "for i in range(50):\n",
        "    x = random.randint(0, 10)\n",
        "    y = random.randint(0, 10)\n",
        "    mytuple = x, y\n",
        "    mylist.append((x, y))\n",
        "print(mylist)\n",
        "\n",
        "x = []\n",
        "y = []\n",
        "for i in range(len(mylist)):\n",
        "    x.append(mylist[i][0])\n",
        "    y.append(mylist[i][1])\n",
        "\n",
        "print(x)\n",
        "print(y)\n",
        "plt.scatter(x, y, color='blue', alpha=0.5, marker='s')\n",
        "plt.show()\n"
      ],
      "execution_count": null,
      "outputs": [
        {
          "output_type": "stream",
          "text": [
            "[(7, 6), (4, 8), (1, 0), (4, 1), (8, 7), (2, 7), (3, 8), (9, 7), (5, 5), (4, 9), (6, 0), (2, 10), (8, 3), (6, 6), (8, 10), (9, 6), (8, 8), (4, 0), (3, 10), (6, 1), (7, 2), (9, 2), (9, 7), (5, 5), (10, 10), (6, 3), (10, 8), (9, 7), (1, 7), (1, 7), (5, 10), (3, 7), (2, 5), (2, 9), (7, 0), (7, 4), (1, 10), (2, 1), (10, 8), (8, 1), (0, 0), (0, 9), (3, 0), (7, 1), (4, 3), (10, 7), (5, 9), (4, 6), (4, 3), (4, 5)]\n",
            "[7, 4, 1, 4, 8, 2, 3, 9, 5, 4, 6, 2, 8, 6, 8, 9, 8, 4, 3, 6, 7, 9, 9, 5, 10, 6, 10, 9, 1, 1, 5, 3, 2, 2, 7, 7, 1, 2, 10, 8, 0, 0, 3, 7, 4, 10, 5, 4, 4, 4]\n",
            "[6, 8, 0, 1, 7, 7, 8, 7, 5, 9, 0, 10, 3, 6, 10, 6, 8, 0, 10, 1, 2, 2, 7, 5, 10, 3, 8, 7, 7, 7, 10, 7, 5, 9, 0, 4, 10, 1, 8, 1, 0, 9, 0, 1, 3, 7, 9, 6, 3, 5]\n"
          ],
          "name": "stdout"
        },
        {
          "output_type": "display_data",
          "data": {
            "image/png": "[encoded data removed]",
            "text/plain": [
              "<Figure size 432x288 with 1 Axes>"
            ]
          },
          "metadata": {
            "tags": [],
            "needs_background": "light"
          }
        }
      ]
    },
    {
      "cell_type": "code",
      "metadata": {
        "colab": {
          "base_uri": "https://localhost:8080/"
        },
        "id": "gBy0BTYz9Mru",
        "outputId": "0f1c175e-2135-4fdc-fb7f-e3c572b89e0f"
      },
      "source": [
        "# n = int(input(\"Enter N: \"))\n",
        "n = 200\n",
        "# ask again if number entered is less than 100\n",
        "while n < 100:\n",
        "  n = int(input(\"Enter N(atleast 100): \"))\n",
        "print(\"Number divisible by 4 and 5 upto\", n ,\"are : \")\n",
        "\n",
        "# check from number 1 to n\n",
        "for i in range(1,n+1):\n",
        "  # check if the number is divisible by 4 and 5 both\n",
        "  # if yes print number\n",
        "  if (i % 4 == 0 and i % 5 == 0):\n",
        "    print(i,end=\", \")\n",
        "\n",
        "# Output - \n",
        "# Enter N: 20\n",
        "# Enter N(atleast 100): 200\n",
        "# Number divisible by 4 and 5 upto 200 are : \n",
        "# 20, 40, 60, 80, 100, 120, 140, 160, 180, 200, "
      ],
      "execution_count": null,
      "outputs": [
        {
          "output_type": "stream",
          "text": [
            "Number divisible by 4 and 5 upto 200 are : \n",
            "20, 40, 60, 80, 100, 120, 140, 160, 180, 200, "
          ],
          "name": "stdout"
        }
      ]
    },
    {
      "cell_type": "code",
      "metadata": {
        "colab": {
          "base_uri": "https://localhost:8080/"
        },
        "id": "dSIZJbLi9e-y",
        "outputId": "bb4fb0e2-4eed-420c-f5f2-e57a19fdba37"
      },
      "source": [
        "# n = int(input(\"Enter N: \"))\n",
        "n = 100\n",
        "# ask again if number entered is less than 100\n",
        "while n < 100:\n",
        "  n = int(input(\"Enter N(atleast 100): \"))\n",
        "print(\"Number divisible by 4 or 5 upto\", n ,\"are : \")\n",
        "\n",
        "# check from number 1 to n\n",
        "for i in range(1,n+1):\n",
        "  # check if the number is divisible by 4 or 5 any\n",
        "  # if yes print number\n",
        "  if (i % 4 == 0 or i % 5 == 0):\n",
        "    print(i,end=\", \")\n",
        "\n",
        "# Output - \n",
        "# Enter N: 50\n",
        "# Enter N(atleast 100): 100\n",
        "# Number divisible by 4 or 5 upto 100 are : \n",
        "# 4, 5, 8, 10, 12, 15, 16, 20, 24, 25, 28, 30, 32, 35, 36, 40, 44, 45, 48, 50, 52, 55, 56, 60, 64, 65, 68, 70, 72, 75, 76, 80, 84, 85, 88, 90, 92, 95, 96, 100,"
      ],
      "execution_count": null,
      "outputs": [
        {
          "output_type": "stream",
          "text": [
            "Number divisible by 4 or 5 upto 100 are : \n",
            "4, 5, 8, 10, 12, 15, 16, 20, 24, 25, 28, 30, 32, 35, 36, 40, 44, 45, 48, 50, 52, 55, 56, 60, 64, 65, 68, 70, 72, 75, 76, 80, 84, 85, 88, 90, 92, 95, 96, 100, "
          ],
          "name": "stdout"
        }
      ]
    },
    {
      "cell_type": "code",
      "metadata": {
        "id": "eLsJxBfAlg26",
        "colab": {
          "base_uri": "https://localhost:8080/"
        },
        "outputId": "98738bca-c552-4702-caab-29657a64eb83"
      },
      "source": [
        "def main():\n",
        "    item_name = input(\"\\nItem Name: \")\n",
        "\n",
        "    item_price = int(input(\"Item Price: \"))\n",
        "    while item_price < 0:\n",
        "        item_price = int(input(\"Item Price: \"))\n",
        "\n",
        "    item_quantity = int(input(\"Item Quantity: \"))\n",
        "    while item_quantity < 0:\n",
        "        item_quantity = int(input(\"Item Quantity: \"))\n",
        "\n",
        "    total_amount = item_quantity * item_price\n",
        "    if total_amount > 500:\n",
        "        total_amount = total_amount - total_amount/10\n",
        "    elif total_amount >= 299 and total_amount <= 499:\n",
        "        total_amount = total_amount - total_amount/5\n",
        "    else:\n",
        "        total_amount = total_amount\n",
        "\n",
        "    print(\"\\nItem Name    :\", item_name)\n",
        "    print(\"Total Amount : ${:.2f}\".format(total_amount))\n",
        "\n",
        "    ask = input(\"\\nDo you want to enter another item?(yes/no)\")\n",
        "    if ask == \"yes\":\n",
        "        main()\n",
        "\n",
        "\n",
        "# main()\n",
        "\n",
        "# Output - \n",
        "# Item Name: book\n",
        "# Item Price: 600\n",
        "# Item Quantity: 1\n",
        "\n",
        "# Item Name    : book\n",
        "# Total Amount : $540.00\n",
        "\n",
        "# Do you want to enter another item?(yes/no)yes\n",
        "\n",
        "# Item Name: pen\n",
        "# Item Price: 50\n",
        "# Item Quantity: 20\n",
        "\n",
        "# Item Name    : pen\n",
        "# Total Amount : $900.00"
      ],
      "execution_count": null,
      "outputs": [
        {
          "output_type": "stream",
          "text": [
            "\n",
            "Item Name: book\n",
            "Item Price: 600\n",
            "Item Quantity: 1\n",
            "\n",
            "Item Name    : book\n",
            "Total Amount : $540.00\n",
            "\n",
            "Do you want to enter another item?(yes/no)yes\n",
            "\n",
            "Item Name: pen\n",
            "Item Price: 50\n",
            "Item Quantity: 20\n",
            "\n",
            "Item Name    : pen\n",
            "Total Amount : $900.00\n"
          ],
          "name": "stdout"
        }
      ]
    },
    {
      "cell_type": "code",
      "metadata": {
        "id": "E1HaiUJnoOxL"
      },
      "source": [
        "# import matplotlib.pyplot as plt\n",
        "\n",
        "# with open('dd_stats.csv') as f:\n",
        "#     total_fatalities = []\n",
        "#     alcohol_fatalities = []\n",
        "#     for line in f:\n",
        "#         total, alcohol = line.split(',')\n",
        "#         total_fatalities.append(int(total))\n",
        "#         alcohol_fatalities.append(int(alcohol))\n",
        "\n",
        "# years = range(1970, 2012)\n",
        "# plt.plot(years, total_fatalities, color=\"green\", linewidth=10, label=\"Total\")\n",
        "# plt.plot(years, alcohol_fatalities, marker=\"^\",\n",
        "#          color=\"red\", linewidth=0, label=\"Alcohol-related\")\n",
        "\n",
        "# plt.xlabel('Year')\n",
        "# plt.ylabel('Number of highway fatalities')\n",
        "# plt.legend(shadow=True, loc=\"upper right\")\n",
        "\n",
        "# # Add plot title\n",
        "# plt.title(\"ALCOHOL RELATED FATALITIES ON HIGHWAYS\")\n",
        "\n",
        "# # Add text giving x,y coordinates of the plot\n",
        "# plt.text(1970.5, 11000, 'Fatalities spike\\n in 1970s',\n",
        "#          color='grey', fontsize=12)\n",
        "\n",
        "# # Add a vertical line at x-coordinate 1980\n",
        "# plt.axvline(1980, color='red')\n",
        "\n",
        "# # Add annotation\n",
        "# arrow_properties = {\n",
        "#     'facecolor': 'black',\n",
        "#     'shrink': 0.1,\n",
        "#     'headlength': 10,\n",
        "#     'width': 2\n",
        "# }\n",
        "\n",
        "# plt.annotate('Drinking age changed to 21',\n",
        "#              xy=(1984, 24762),\n",
        "#              xytext=(1986, 30000),\n",
        "#              arrowprops=arrow_properties)\n",
        "\n",
        "# # Add a horizontal line at y-coordinate 20000\n",
        "# plt.axhline(y=20000, color='green')\n",
        "\n",
        "# # Add annotation\n",
        "# arrow_properties = {\n",
        "#     'facecolor': 'brown',\n",
        "#     'shrink': 0.1,\n",
        "#     'headlength': 10,\n",
        "#     'width': 2\n",
        "# }\n",
        "\n",
        "# plt.annotate('Drinking age changed to 21',\n",
        "#              xy=(1991, 21000),\n",
        "#              xytext=(1993, 27000),\n",
        "#              arrowprops=arrow_properties)\n",
        "\n",
        "\n",
        "# plt.show()\n"
      ],
      "execution_count": null,
      "outputs": []
    },
    {
      "cell_type": "markdown",
      "metadata": {
        "id": "zUHG3QKwfPZh"
      },
      "source": [
        "Output - \n",
        "\n",
        "![image.png](data:image/png;base64,iVBORw0KGgoAAAANSUhEUgAAAZEAAAEWCAYAAACnlKo3AAAgAElEQVR4Ae1dB9gVxdk9oKKINaKisWPvXTEqiSaWaGL3V6OxG1vssUalqEizo6ICsSAoKggoFhBULAgoKKhIVaogIkXAgvM/Z5m5zLfs7t16v937vfM89+7uzOyUs7Pv2XfeKYA4QUAQEAQEAUFAEBAEBAFBQBAQBAQBQUAQEAQEAUFAEBAEBAFBQBAQBAQBQUAQEAQEAUFAEBAEBAFBQBAQBAQBQUAQEAQEAUFAEBAEBAFBQBAQBAQBQUAQiIvAEADzAKzuSuB/AO5w+ZnLegCuADAGwI8ApgHoBWA3EwHAQQDeArAQwHwA/QDsbIX/Ud9neTmnLM8Flud6AB4BMAvAYgCfATjXCufpFAB/dvl5XZ4DYBmARQAWABgN4Fgr4lYAlA5nHPP7Px0nCBOTDOP8CmAT7XGzlc5SK3+mPVbHYZ7E0eTH4/U6rAWAXzSOxPIrAA9Z6Zt87aNdT5Mm7zEuThl5b5y2wrptC+BRq34/6zqZsg0AYLBfVReSZWQ8E4dHPi/jzgfwpcblWwCvAljbBHoc+Zw/0jjPBdAdwGZWPGLGshrcTRDbNtuql/NqD171sN+jBgBuAzBOl2U6ANb/CCsDr/bM8g3VcW7S91i3YLyP32lWJLYl1vEA7bcxgO886tcVQE8d52AA7+t3+HsA7wHYz0pTTus4AmzwFKpsHKe4sPB6QUyUBwBMBHCYJp81AfwDwI06QjP98l+pX+zfaUIiWW2j44QhEb5wI7SA2BrAagCOAkChcY0pTEQSMS9ifQD/0uUkUdG5BYD2Lh2CMGGkRlqoUUj9p3TXihNbEKzwXf5iU9B6Ob74z+gA1n8XAC8AmBFAJH75MJm4ZYzbVgyJ2HWz62T83dgHYd1ct4G99M1sX2cHkMjJ+qPhDAANATQBQEFJYb2+ToOY8blRqNpklDaJ9AUwUgtytm/+2KbvN0D4tGf7mf5BC/VV9D38YGFd+KFl+xH7TXUcfvhN0nXsZOV1FuAQEHGhOxzAbAAbAlgHwA8ATtfpMg7JbncdVw6CgPNFxC+LewD0d+Hh9xJvp4lnf1d8+/JdAA/bHvqcX1xP6fMwJMKvTTZoCj7bUTPglykbOZ3Xl5sOqnGwX0QGkPz4opkvK7cgq3EzAD9MTLx/ApgKgORJLc3t3PmbcC9Ba8K8BC4FBb/KO5hIrqNfPowWt4z8eo7aVpifV9286uTGPgjr6wD0cdXZ75LC82sPDYMfEXxGrfSNBjNqzLdbiaVJItSWl7g0ICur0qlXezblYyQSD7XyffQdpwLoBuBtl9+EUorAoTpvfuyRLJmGcXz322uC5T1Ge9lXk4iJJ0dBYCUE2GAu1Q2PXSZUb43ze4kv1i+liec+UjBTu/mTO0B3Q83U/mFIhCr1kx7psMuDXUZH6jCvl87jNtgvIgXxZbrLZCMd2S3I3Gn4YWLiDQLQTuPI8pmX3ITb+Rs/Hr0ErQn3ErgMo/AbZiK5jn75MFrcMsZpK8zPq25edXJjH4T1IVogtgTAr3J3V6wNx466DNRk3Y73f6A9DWZ76u5dajd0aZLI3bpLUCfte/Bqz6Z85qbBAK7WF+yqPA/AnS4/alvGdQHwvNbmSSInmQBNavR72UXO/EijP9/Boy2tzbpVTusyAuzrJHE01iCwf9k0Snr5vcS3APgwADj2M1Nw8OV1O6rtzJOOJPKb/tKhymx+FL7GJjIQAF88L0fVnV9VdF4vnQ6qceCLyPSZF8vBr0J+xRlnBJkpiznupCP4YcLgLXR9KIToXnd1UdDPLQiWx1yOF200Jj8eDUF6CVzeRzJnP7iXs+tp0jwwQRnjthWWLQmJ0IZkys+j/UFBoUatgf7USqlNm64cGxOWnWVYw/bU5zaG9rOhsG2r45QjEXcZ+RyZn23bMTaRJyxbA5MnUbH8tBkyHePYnlknu+7UPExXLOOxXfTWN1ArZQ8B3y/bj118dPywY7mO19edNWHoS+fADyra5Ywtz4Sx7bPdEwe+O+yOsz82TTw51kEEHgfwilVvdleMsq79BGY5TYRdT0XQRNYC8ByAB606GxIxAsAKck79MGEgydUYynnNbqM5+svPpGMLKuPHo5egNeF+JNI6hiYSt4xx24pf3bzq5MY+CGuDDY/slmI/Pu16tHG5XVRNhPfzHgpdCstyJGIIwuQbVA8SE7uc3I72MLYB47w+itxth/ZIti8SEe1jdNQcaC+kH99Bo33xY4v4mC4sdm1x0ALtHsb59QyYcB6JC22UPWxPOa+bCNBAxq8ffu3wi54/Gr3ZkPfQkPi9xMYmwv5SP8cvJj+biDES+zVae3QWNRI/mwi/mtbVBfB66bzK5n4RzZegMdC6BYA7DT9MGI+jbajZGDxpoCWex1mJuPM3QVFJhIKThB/VJhKnjEnaCuvnVbc0ScRgyMEG9geB8adNhHYq96grYxMxJOB+NnzWHECSJonQKE2Nwh4VxnLGIRE+FxLBDXpkpKnvJ9qPdTbuDR3XtE0SDZ8LbXfG+b2PJtwcL9cjJM21HOsoAhxtwS8TdsFwpIr5vQOgo8aEL1Eb3Q3ArgD+zJcMX1Z2pbDh0Y9hNMaZ0VnsQqCQ5zBgjnThCBi+rFTPSUJ0fo3WJhH2dX+sR2dRwHN0Ert5+BLYo59IIuzeMOXk0UubcAsKloOC2HQBhCERL0w4Go2qPoc4Gyx55DDSF5dX1/n3yp8BXoLW3GYLXNaJ3QvUoCgQzMgbE9ccvfKJW8akbcWrbnadTJnd2AcRNomZ7Y3tiiTBQR78KjfdmyZNc+RADGoWHJ3FtsFnQ3vBNwA20JHcmPErnkOq+aHFturlvMpYrh7U/vk1z2G2fHfYps/UbcDk4fVR5C4f43LoLd8FvmfG8d2kH9se3e+1VkICs9smu4k5Ssw4r/eRmse1FultrgdXUDMVV8cReM0iCxsK2gconCis+IJQANg/0yfLF5dfMey+4ZcVx7pTsHH4qXEkEhICX0K+wHx5djWBIUmE0aktsA+XLwa/9JmnsZmY5PjS2eXkufnCNHF49HoR+VX4kx62aAQAy2z/zHBiP0w4B8ImC5MnhRvTZh3ovPKnP8vrnidy3/JbnL5v2m9YHsYheVPLo3Dwc175xC1j0rbCurmHL4clEfc8EWp3dOyO4QABXpu5M25NQ0ctHUg8wzWG/IBilwyFonFemBFnlj9NEiFxsP58jnx3qOlEnSdiyswPGpZvb+OhbXz0M117/LCzycJE5QcI25V5J71IhG2M9iG+32x7PPJdNKMiTVpyFAQEAUFAEBAEBAFBQBAQBAQBQUAQEAQEAUFAEBAEBAFBQBAQBAQBQUAQEAQEAUFAEBAEBAFBIIcIbLDBBmqfffaRX1YYrLWW2oe/rNKXdAVbaQMVbwN6OHcOJXotFInCTVyGCDRvrhR/4gQBQaBqENDzbGpBYucwSyGRjNu1kEjGAEvygkDlERASschMSCTjBigkkjHAkrwgUHkEhESERCrX6oREKoe15CQIVAgBIZFaIpEPp36obnjzBnXss8eqi/pepB7+6GE1fcH0Cj32WspGSKSWgM9Xtj/99JP6/PPP1YgRI+RXIAz4zPjs3E5IpMIksuy3ZeqmgTcptIDnr9kTzVT799qrCXMnuJ9V8a+FRIr/DFOoAYXRjBkz1LJly1JITZKoBAJ8VnxmY8aMWem5CYlUmEQue+UyT/LwIpU9HtlDtRzSUn0++/NKtJPs8xASyR7jAuRADUQIpAAPylVEPrPhw4er7t27q0WLFpVChUQqSCKPDn80NIG4SeXUXqcWv7tLSKT04tXlE5KIuGIiwGf3wAMPqH79+pUqICRSIRJ5e8rbatVWq8YmEZLKbg/vpn5Y8kPp4RXuREikcI8s7QK7P44qdZ12PepqeiSRrl27Oj+DgZBIBUhk8rzJqnG7xokIxLxstKcU1gmJFPbRpVVw044rfbTL/91336k99tjD+W288cZq0003LV27Dcf33nuv+vHHH+3bPc+bN2/udPV4BlaRJ0mkW7duqkuXLqVaCYlkTCILf1qodn9k91QIhC/eph03Vb/99lvpARbqREikUI8ri8JWmjxMfn51uf3221X79u39gtWWW26p5syZ4xtuAoRELEFal0/TnmzIkVgn9DwhNQIxL8Sk7yeZtluso5BIsZ5XBqU1bbjSR7+qGBIZOHCg2nPPPdWuu+6qzj33XLV06VJ1//33q9VWW83x++Mf/+gkcfHFFztrU+28887qtttuKyUrJFKXmcOqe1gS6T+uvxo0aZD6aNpH6os5X6hp86ep+Uvnq1+X/VpqVDy5ffDtqRMIX74XP3+xRj6FuRASKcyjyqqglSYPk59ffUgirVu3VptttpkaN26cE+2ss85S7Maic2sic+fOdfx//fVXReIYPXq0cy0kYgnSunwahkTYlVSvRT1fcljzzjXVxu03Vts+sK1vHNOw4x5vfetWp+EW7k9IpHCPLO0Cx23zSe/zqwdJpEWLFuqQQw4pRaFWcsIJJzjXbhJ55JFH1F577aV222031bhxY9WjRw8nnpBIXWYOq+5hSIQ2jqQNOun9nOVeSCckUsjHlmahk7b9uPf71SEKiUyaNEk1bdpUff/9905yZ599tmNk5oWQiCVI6/JpGBKZuXBm6iSy2T2bqVEzRwXOZLdfHsYvpBMSKeRjS7PQdjuu5LlfHUx31uabb67Gjx/vRCM53Hfffc45bSQkD7pRo0ap3Xff3ZkoOWvWLLXRRhsJiSilZHSWxZphSOSr775KlUQa3tFQjZwx0mmkXDsr7Is158fyI0acRPP0JySSp6dRK2UJ277TjudXWZIIR2d5GdZ5DyfWbb/99soY1kkw2223nTrssMOcLi8Od6UTTcQSpHX5NAyJUOCn2cCfG/NcqX3T3rJR+41Cpf/GhDdK9xXmREikMI8qq4Km+e5ESSur+tS1dGWeSBmGDEMiQyYPCSXkwzTw/w7670pt8IinjwiVfruh7Va6N/ceQiK5f0SVKCAFkbhiIiAkkgKJ9BvXL5SQL0cix/U4TnEeidtxefhy9zL89BdOd99a69dzF89VAycOVH2/7FvjR8z4+27/XdWCZnurn35deTnpWi+8FKBiCAiJVAzq1DMSEkmBRJ799NlQQj6ICHZ9eFe1YOkCzwfc47MeodLf6aGdPO+vtOfSX5aqLh93UVxxOKjODBu85fLf6q1XV9e9fp3iveLqHgJCIsV95kIiKZBI5xGdywrLIGG6+T2bq4nfT/RtRV/O+TJU+vVb1lc//lx+TR/fjBIGUOu48507VZMOTUKV1yYRg8++j+2r5i2Zl7AkcnvREBASKdoTW1FeIZEUSITdMn/t/ld1SNdD1J6P7qma3t/UMYZzlJURjl5HTlA8vufxzuz2FY9k5TPOeueERa803H7cHbHSjkuu/PvVf4cuo11mo4nYfgd1OUgt+mnF3gSVro/kV3kEhEQqj3laOQqJpEAiQQ/jl2W/OF/W3/zwjRo7e6yikH9z4ptq6NdD1YwFM4JurRHG3Q1tQet3/sjwR2rcl+UFd1rknibUgPzKU87fi0R4DwcTSNdWlk8vX2kLieTreUQpjZBIxiQS5WEExb2k/yWhBPW/+v0rKJnUwrhW2Bp3rBGqTEFE4kcivOek505SJGFx1Y9AXkikd+/enCinvvjiCwf0yZMnq1122SXWA3Avj1IuEc4vueyyy8pFCwwPk+edd94ZmIZXYFDZhEQKQiKPjXgslMDe//H9vdpAqn7cmrdcV10QcdhhQSTCeOf0OcdzxFqqFZLEah2BWCQyY4ZShx6q1MyZqZX/1FNPVQcffHBpNd48kggXevRzYUikUaNGfrf7+heJRKYA+AzAKGva/O8AvAlgvD6ur+V+PQAPAJgA4FMAe1t8cLaOz3t4btw+On3ew3uZRqALM0/EF/kUA7g6sC18/c6pHWT59f7zrz8rGr/98o/qX45EmN6VA64s7n4pKbaBak4qFolccolS9esrdemlqUCzcOFCZzMqrtzLGel0NolQeF977bWOZsLFFjlznc5vZjsFOpeG5+KMXCrFaDdc9fe4445zFmw84IADSqv+BglqCv5rrrnGWWLl3XffVU8//bTab7/9nI2zLrroImWIxSYR5rH33nsrLlHfuXNnp6w33HCDql+/vnPfGWec4fj5pcXdCjkTn/lccMEFvlpS3jQRkkhjl1RvB+BG7cdjW33+VwADNBEcCGCY9ifpTALAIwmH54Z4PgLAuCQP3nu0K6+VLvNCIot/XqxWablKKOFN20tWruWQlqHKEJZMwpAI0+IS+uKqF4HIJEItZI01uEiTUg0bpqKNPPPMM+q8885zQG7WrJlimWwSefjhh9VJJ52kfvlleRcryWDJkiWBS8YbounUqZM6//zznbQvv/xyZ5VgXgwaNMgR6DwPIhF2sT333PKVLD7//HN17LHHqp9//tlJ75JLLlFPPvmkc26TiFmifvHixQ7xcfdGOlsT8UtrxowZimuHzZ49W3Fnx4MOOqjQJDIOwCZauvPIa7rOAE7X5zyYePRjmHEmHu/90njqe+14VtCK07yQCB/+Lp12CSXAnxn9jNNY0v4bMX1E4j3h3eQSlkR43z3v35N2lSS9nCAQmUSohTRosJxEeExBGznmmGPUG28sXzqIm09R67BJ5MQTTyyFG9i4AGPQkvHTpk1zon744Yfq8MMPd8650dXEiSuG9HPfkvnz5weSyCqrrFLSNh588EG1ySabOOTDLX2pNXG9LzqbROjHxSH5W2edddQHH3zgxLFJxC8t2oa4h4pxxMPPXpM3TWQygI8BjARwkRblP6wQ6Y4GYa77AzjYChsEYF8A1wH4r+V/q/Zj2EDL/xAATCPQ5YlEznzpzFAkwkl7abslvyxRO3faOVT+bqLgNYc+c7n6Y7of4/yOfPpIZw+WKCTCdAq7+VbaD6TK0otEIrYWQk0kBW2EX+0NGzZUW2yxhSOIKdj5Jc7Veo1hPQ6JmG10hw8f7izIyMdWjkTYNWX2e7/11uX7BNmCn9rNjTfe6NkCDIkMHjxY/eEPfyjtBc/FIOlHFyatIpPI77VE3wjAaACHAjCkYYT9PH2SJYmQwEbwx0aVF9fhvQ6hhPjhTy7/4kmz3CQmL3Io5/f3Hn9X7379rqdN49Hhj5ZmrJdLx4Rv2G5DRUITV10IRCIRWwsxJJJQG6HNgLYF2x166KHq7bffLpEIN5/y6s7yWzLeCHSmaZPIv//9b9WqVSsnKwp2kgpdUHeWLfjHjh2rtt12W/Xtt98695EAp0yZ4pybPPv06eN0edGTtpjVV1+9RCLrrbdeqSvMLy12Z1H2sQuM3WYcbFAUTcQQBY8ttAZhuqnoV6e7s7j9rhGmQccN2m7gKbSdVhbj7+0pbwfu3OguC5cwuajvRYoz7cu5r/fcxiESdxpB1z0/61kuWQkvGAKRSIRC15CHfdTCOE7Vuaz7gAEDatzKLpyjjjqqRCK0hVx99dVqp512crqI2BVEF2RY99JEKPTjGNbtwvXs2dPRVmjgp/HcdFUZEuF+8Cz7jjvu6ORlayLXX3+9428M635p2Yb1Cy+8sBAk0gjA2ppFeP4+gKMAtHcZ1mlopzvGZVin0ZyOBnV2i9GYzh/P6UfnNqzTOB/o8tSdxWVFgoSrHcbJjWk4rue19X1bh86XEw/f/+b98Fk3b64m7r5F6PRZx9NeOC18+hKzEAhEIpFC1KjuFJLPjlpUly5dSpW2RtcGyte0A7fRXVjsxhoL4BadwQYAaO/gcF3aNAwhcIRVJwAT9bBd2jyMO08P/eVQ3nONp7aZjNH3PFSkIb7m6WxxbziBy1Vz03DUKGxyKnd+08CbomXbvLn6rXlzdWn/S0Pns/Zda8ts9mgo5z62kEjuH5FvAfNEIpasz89pnjQRPkXaGMoJcoZzKG5S9+pXr4bKy5Rn90d2jy7c9X4iXAI/7MAB5jdgfM2uh6R1lftrFwEhkdrFP0nuQiJl+CpvJML5EkZoBx1P6HlCknah2HW2SYdNQuXFcqzWajU1etbo6Hlam1JxIiP3ig+qlwmr1PIu0Sskd8RBgIJo2bKV99KJk5bcUzkE+MyERApGIn2+6BNKyG5131axWxK35D3l+VNC5WOEept328TLzyIRJnD5K5eHypfLzXtt4BWvEHJXbSPASW/Tp08XIqntBxEhfxIInxmN+lnaRGjY3r2MnM51cN40kSnzpoQSshTu3y/+PkKTWBG12yfdQufBfLjCMJerj+VcJMJdEA0xlTt+MHX55KlY+Vb4plEzR6mHhj3kbLz1+MjHVVoDHypcjcyy46xoftFyKCyP8isGBiQQzqSnUd3MmmcjSWpYHwJgHWuUFJcjuSfXTBFQuLyRCLWE9e9eP5SgHTx5+eSiKG/++LnjVaM7G4VKn0Ke+5x89d1XUbKoGddFIuzSClu/69+4vmZaObviBmFdP+7qudYYcWs7tK1oU9Yz4+zwe+65Rz322GOKw0vlVwwMSCAdO3ZUXNPLuKQk8omWyRcAaKnPuUBiIV3eSIQP6U//+1MoIR91mRAKcK4CXE4DsMM7fdTJtJt4RxeJMJGzXjorVBm2e2C7VOfDxKvAyneRVK957ZpQZPiPF/8h+8tbEHJiXPfu3Z3uEXaRyC//GDz11FNq6NChpWVZ+DiTkghX4eWkwDcA7KeZQ0jEelGSnlJA2YLc7/yfvf8ZKatbBt0SKl2T31+e+ktyIe5BIlzaxORR7shl6Wvb0TZDDa7HZz0Ul3MpV2Z3OHHkfBxxgkC1IJCURE7RS7M/ogmE8z9eLKQaAiCPmshTo54KJah2e3i30G0y6qz0ddusq6bOnxo6fd+IHiTCrXHDbnh11zt3+SadRQCF/TtT3lEPDntQXdj3QnXA4wdE6v5zE4i53rvz3mrmwvT2xcii7pKmIBAWgaQkUlS+8Cx3Hknks28/C0Uiq7ZaNdQ6U/OWzFNhJzEaoZfa0iMeJMKG+rdn/xaqjvs9tl/Ydp0o3uR5kxW7nsKSm8EpypErAySyLyWqodwsCKSHQFIS2V7PMOfMcDqOzrJX1dXexTjkkURou+D6VGEEFJdvD3I01P9fr/8LlZbJ7+zeZwclGS3Mh0RokDb5lTumohEFlHrMt2MizZkpV96g8MbtGqth04YFlEaCBIH8I5CURN4GsD8AY2AnWxhCKQZzWKXMI4mwCYXdXfCJkU8EtrgnRz0ZWlhT+G1z/zbp9t/7kMjsRbMV1+EKErgmLLFxPwAhammcc2PyqsSRI7e4WoA4QaCoCCQlkeFaBtskwu1uC+nySiIXvHxBKMF22SuX+bbD9755T61111qh0qHw5M6Kqc/N8CERFvrQboeGKhsN01k4amknPXdSqDKkTS4k0Iv7Xay++3H5bnRZ1E/SFASyQiApiXDb2aZ6cykSx8l6tV0hkRSfGL++wwiuP3T5w0q5zlo4S53T55xQ99t5tBqyfA+ElRJM4hFAIvd+cG+oMtL2E3diZVDRw2JsY5T2OefMcJLiL8uWb8kaVF4JEwTygkBSEuFoLK62uxjAdABDAWxVSAbJ6egsNhRqEWEEFgXseX3OUx9O/dARRPd/eL/iyKow99pxDu56cPxZ6UEtO4BEJn0/KXQ5094S+JOZn6gGrRuEzt/GKotzjrSLM3k0CHoJEwSyQiApiRi+sPcHMX6FO+a1O2vhTwsjbRRFwbbe3evFEorrtFlHcXRSJi6ARJjfHo/sEarMJz9/cmrF4zBeTmRMiww4ouvcPuc6w4LDDojwy/vUXqeqr3/4OrW6SkKCQBYIxCWRMzVDXAPA61c4AmGB80oifPDbP7h9aoLOT2jR/9lPn82inS1PswyJhF21mEu1LP55cehyLv1lqWdc2kHOePGMVHBten9T1fH9js6KyCYzbhUcl8zNM6LhPdNnYgorR0EgJgJxSeRfmiVuB+D+3VZIBsk5iUQdmmuEUJQj9/jI1JUhES5cGLa8/cb1CywqieO2t24raRkUxlzm5cY3b1RvTHhDca2rLh93CZ2fXS4awnd4cAdFTeGOt+9QQ78e6rsuFocMh13y3s7Dff7a+NcC6yuBgkBtIRCXRAxP/MGcWEcvPys4v6d51kS4gJ9bsKR5zclv85fOz7YdliERagZhh9ie//L5vmXlbPA9H90zEC/uicJfFAxJGMOnD3cIyDdzjwDObdml0y6R8nKXi0QURfvyKIZ4CQKZIJCURD72oAQvP49o+fPKM4lMmDshkRByCyX7esN2GyoalzN3ZUiE+V814KpQ9WSZvZakn7FghqMl2PVL45xDcJM4jihr3q15qLr5lbfd0HZJiiD3CgKZIBCXRJoBuBbAVJdNpIXeOz1/DBGiRHkmET59LsXhJ2Di+u/00E5q3HfjMmlcKyUagkSGTB4Suo4PfPhAjSymL5ieie2IWwGnoQVw6G7rt1urhnc0DF1H+7nSvsJdKMXlE4ElvyxRL3/5snr4o4fV06OfrjPPKi6JNNe2kJkumwiN7NuFkNe5jJJ3EqEgO/qZo2MJIFsY8ZwTDzu816GyS5OHIBEKWi4H4i6v3/Wl/S916jBt/rSS/cMvbhx/GvG/nPNlqlKLI65oT4lTnutevy7VskhiyRGgfe3Od+5caRAFh9xzojA/bqrZxSURQwJbmpNqOOadRNgQaTfg8umcyxFHCPEeGtDZ7VNxF4JEWCYOkY1St0O6HpIJgbAM/KLMynEuCOeERKkrhw3LsN9kT4QLX1KLpeDvPKKzGjljpOIadVEdu1O5M+jvO/4+8BlS87x54M3qhyU/RM2iEPHjksh9mjT6Aejr8SskpxSBROxWNXb2WMeGEHZ3QHbLcGnzWnMhSYRdAlEEa1ZxSWZZO2penKUe9hmyrlH3jsm6DkVJn1sgHPH0EZ5ti4KeKz5w/57nxzzvEDU/2PwcR/iFnddk2jnqZC0AACAASURBVOcGbTdQXJnBb8i5X155949LIvtolmC3ltdPSKSCT559sZzFzS9y02DtI/vSc7GcRkgSYbddlG177bqmdU5bEfc6qZTjKgNhy16vRT3F4dDiyiNAIhgwfkAszZ1Cf+dOOzvrup3Q8wSna+qGN2+ItRmZ/Ww5ErL7p919h4WXr1W+YsQlkUKSRLlCF00T8WpK3P2Pxtvjex6vTn/hdEdt5+q0uXAhSYRlDTtKy3450zrnrHPu41Jpx5n4YevAXRXF+SPAHShf+vwltU/nfUJjGhb7tOId+MSBiqMui+7ikgi3xeU2uH6/cvI6l+HVQCK5bpARSISjkKgNpPXCRkmn3JL6WWHMvnoaY8OWdeDEgVkVJVS6/Mqn0Zi2HdqOuNXAc2Oec0YovT7hdcXuI+6XQq2JS+lQsGfh+JHEfFiG/w76rzNogSsIhMWxNuNR2+HaeEV2cUmEBvWgXy5JolyhhEQybsoRSIQlofGfW9Km8ZJzxvrlr1zufJmyO8grTfpzeGZtOo428yqblx+32c1KMLsx4Mx7btVshPRej+4VucuRz+DvPf6uSNJcXTqsI1kxPoUty9BicAt11ktnqYO6HKQ4X8gLmyL5UfN9YewLYeHIXby4JFJOHhcyXEgk4/YZkURYGtp7oo7WcgsQ2lf4VWwctZzeX/R2SOWv3f/q2JKufu3qyky4NIXwOVJYRtn3Jct1tSi8qV2QrNyYJr0mYbM756537lIkKC4y+umsTx0t5r4P7lNXDrjSIRyOXqtt+1jSuoa5n3jQ6F5El5REDgTAjakWAfgZwDIACwrJIDlfO6uIjWulMscgEaZBYcYhmdwoK8wLacehAKrVEWkrgVDeo+WQlqHrSSNtFqN9psyborgBmI2lnCNzPEieXisxlG81tRcjKYmMALCt3h53FQDnAmgjJFJ7DzTXOcckEVOntya9pdiHHFaY8YueK+kWzfGrfOP2G4euJ7/c03LsHuNIvijaUNjnIfHCkdCJz52YygoJabWJcumkQSLkDBrYjbO3yjV+hThKd1a55pIwPCGJMHcaaMOMz6cQ5Oq6RXWPDH8kNImQWLnoZFJHw77fMHEhgHAEwCHB7AKk7ScJZs2eaKbm/Dgn6SOtyP1JSeQdAA0APAWgHYCrZe2sijy3YmaSAomw4py/EbQ0PjfWKvqIF86gjrKHzGFPHha7G4TdJ1wChwbeJIKvaPc26dDEWTGAS/snLTvTemzEYzW2NqYWTDKIm/aOD+2Y/craKUiSpCTCEVprAFhHr6F1j95zvRCah7uQoomk0KKCkkiJRJgF7ST/++R/K+3VwX589udXg+PyNlEEUKshrUJXm/iNmD5CXf/G9aGX349SljzH3eLeLVSnjzo5gzYIGHe3ZFdpm3fbOPOrNumwSWjcOeKMo8XYBenliDPnq2x+z+ah07Sx46KrTCPPLimJXOkWxAC8/Dyi5c9LSCTjppoiiZiS8oudqxBz9d/vfvzOeFfFkcIjypcsv6iJg59jelzy/6aBN6mizKOwBWrSc26D3PXjrqHWySIpsOuURMs5LxwFx8Ed3H2TQ8Wvff1aR/PgEv9hHIerc1h0nDrkfWBIUhLx2jtEbCJhWlVdjJMBiVQ7jOwSiSJ4+BU9e9HsGrBwszF+ZUfpHouSZ57jcuMxrpfV47Mesbv7aoCZ4ILEdNQzR0V6nsSWS67k2cUlkdMBcPHFea7FFwcDGJQ/HSNciUQTybipConEApijdaIIai6JwlFWHPrLuQdRltaPkg/jUvuhVsMtCtj1wqVbjn32WPXnp/7sGOn3e2w/teW9W0Yqf9QyMD7Jk5t+Xdj3Qse+0/fLvs4S/j/9+lMszLO6iZozl4ePUkfOIcnz8ihxSYS2kD8C+MC1AOPeAFYNJ7LzF0tIJKtXR6crJBILYI68ijLklwKKAj0L4U1hffe7dysK6S/mfBF6PxruycKdGbmFAYViFCHKuCQrzok5/MnD1UV9L1LcLpqzvNk9l/m2zrGemv9N7FbkVstRMLji1Sv8E6zlkLgkkhYDcG4Ju7/66wS3BjAMwAQAz+mRXwxaXV/Tn+FbWQW4SccfB+BIy/8oAPTjPTda/r6nQiIZt0YhkdgAvznxzVjCN4qgKheX+9qnsZgnu9u4Dwe7abhsiSGVjdpv5Cxzc9oLpzl2G452Yr3Hzx0fyo4RG9xaupFLuIRdK41D1vO6H0lSEkk6Y507IT5rkcjzAE7TUv5RAJfo80sB8JqO4SQYup31kGKSDAloIgASE38830YT0WgdV9/mfRASyfhtEhJJBDDXrSon6LMIp0bD/TOychxinMb2w1mVL8t0o6xOwGHYeXRJSSTJjPXNtP3kME0i9QB8Z3WHcR/317W455HXdOwuYzzGpxbCn3Emnn0vw9zxTPwaRyGRjJuokEgigLmBVaUnA3Ikkt/w1USVkZsdBKiVcbfKMOTPoclsA3lzaZAIBXGcGesvcLkqbVthd1Zj3fVkBPvmAMboCx5JOsZRy2D8hwCcaTwBdAFwsv49YfmfpeNaXqXTizQII7bYYou8PZ/qKo+QSOLnyb3koyz9EkY4ecXhRDd70crEBZcEfBHgYACvZ+Dlx10X8+aSkkjcGevHAnhYi3Ea6GuTREpsIppIxs1TSCQVgF/56pXQQsdLEPn5cYtYjq7iJMeiLQKYCrC1lAi3ufZ7Jm5/rnycN5eURLxmrHNBxnKOizROAzAFwCwAiwF0l+6svDWPlMsjJJIaoP954z+hBY9bENnX7EqhgZvzKKTbKrXHEzkhDsu2n0vQ+QdTP4icfpY3xCURMxekbTm2CBFuNBFG7eUyrNOgTneZy7BOAzzdLi7D+iRtVKfdhOc0tnNtLxrWGTfQiSaSZVNTSgmJpAYw5xvwqzRI2ASFcQLeM6OfKdzw2NQAzFlCr41/LfSzPLXXqbkqfVwS+RzAQQC+ALAXAM4PsX+BwtoVaJMIR1N9pG0jJBSOuqLj+ly85nBdhjOecbfokVgcznu08QTwVwBf6TDGKeuERDJum0IiqQLMNcLWu3u90MKHpMLdAIu4PH6qwOUwMc4d4QrAQcRvwrivztc/fJ2bWsQlERqvBwBYCOAtAJypbn68LqQTEsm4XQqJpA4wd2g0wiXoSAH18pcv534xv9QBKlCCj498PNSz5HO+7vXrclOzuCRiSOJWc1INRyGRjNulkEgmAD847EFf4cPVYzmxTwzlmUCfaqKcKxN2iZp126zrrD6cagFiJpaURKqBO0p1EBKJ2YrC3iYkEhapyPE4GZDGWS5NzhngBzx+gLPqLPeoF1ccBG5961bfDwK3pnn/h/fnomJCIiUKAYREMm6TQiIZA7w8efaviysmAlwnrUHrBqGIZJv7t8mFhikkIiRSubdNSKRyWEtOhUXg7N5nhyIRaibc8Kq2XVIS6Rhm6Kwlp3N9KppIxs1RSCRjgCX5akBg1MxRoUmES+3XtuaZlEQuAPCeXln3YgDr5polyhROSCTjV1BIJGOAJflqQeCwJw8LTSTcebE2XVISMWJ5BwB3A/har8r7JxNQpKOQSMZNUUgkY4Al+WpBoN+4fqFJhIty1qZLg0S47PpxAPoAGAngBr3rYc8iEQjLKiSScVMUEskYYEm+WhDgzpRRtjMeMnlIrVU9KYncC2A8gM4A9neRBmeQF8oJiWTcDoVEMgZYkq8mBJ4Y+URobYTbEdeWS0oi5wJo5MMUhbOPCIlk3AyFRDIGWJKvJgS4Pzz3EHHPD/G7rq2FGZOSCPljfa2FHArA/Hx4Jd/eQiIZv4JCIhkDLMlXGwKdPuoUmkSO6X5MrVQ/KYlwdNZnAObptbOW6LW08s0WPqUTEsm4DQqJZAywJF9tCHDFgU06bBKaSEbOGFlxCJKSCAmEK+yO0nJ5RwAv+cjo3HsLiWTc/oREMgZYkq9GBO55/57QJHLicydWHIKkJDJcMwNJxCzbPjb3bOFTQCGRjNufkEjGAEvy1YjAop8WhV6YkfaSMd+OqSgMSUmkN4D1ALQAwK1yXwbwqo+Mzr23kEjGbU9IJGOAJflqRaDNu21CayOnv3B6RWFISiI2MTQH8He9k6DtX5hzIZGM256QSMYAS/LVisD8pfNDb0BWv2V9Ne67cRWDIimJtAbwl4BhvoUhEBZUSCTjdickkjHAknw1I3D74NtDayPn9DmnYlAkJRHOE+mqt8nltrVckJGz1wvphEQybndCIhkDLMlXMwJzF89Va9+1digi4Ra6/cf1r8jijElJxJBFEwBXAPhGb5lr/At1FBLJ+BUUEskYYEm+2hG48c0bQ5GImZB4+JOHq6yH/SYlkScAvA+ABvZr9KTDVQvFHFZhhUQyfgWFRDIGWJKvdgRmL5qtGt7RMBKRkFDOfOlMNWXelEzgSUoiJI9hALoBOAfANpZMLtypkEgmbWxFokIiK7CQM0EgJgJXv3Z1ZBIhkazeenV1zWvXKO5XkuYeJElJxBDFTgCu0kvBTzOeRTsKicRs1WFvExIJi5TEEwR8EZi+YLpDCKbLKs5xy3u3VFe8eoUaNGmQ+vnXn33zChOQlESOBdAWwAfauE6N5LyikYcpr5BImCaTII6QSALw5FZBYAUCl/a/NJY24kU46929nvrHi/9Qz495Xi1YumBFJiHPkpLIQwD+D8CmRhAX+SgkErLVxI0mJBIXOblPEKiBwLT509Q6bdZJjUgMuTRo3UAd9cxR6pHhjyhqPGFcUhIpMmesVHYhkTBNJkEcIZEE4MmtgkBNBHqN7aVWa7Va6kRiCIVHdneVc0lJ5ES9KdV8AAv08F4eC+mERMo1F6XUjBlKHXqoUjNnhojsiiIk4gJELgWBZAh8OPVDtdvDu2VCJGvcsYbiul3lXFISmQCARvWqcEIi5ZqLUuqSS5SqX1+pSy/1jhxEMs2aKbXuuvEIyDs38RUE6jwCvy77VXX9uKvatOOmqZLJ3579Wyhsk5LIe1XBHroSQiJl2gwJYo01lAKUatjQmwyCSGbTTZff60dAZbKXYEFAEPBH4Meff1R3vH1H6FntdreV1zm35w3j4pIIu7H4ux/AcwBO19fGv5DcUiskEvTlHuYJVjIOCaJBg+VEwKObDIJIhmH16gUTUCXrInkJAlWKwLeLvlWXvXKZWrXVqrE1k3ot6qlZC2eFQiguiXAor9+Pa2kV0tUKiQR9uYd6hBWKZBMENREvbSSIZBhmSMSLgCpUDclGEKgrCHAl39NeOC0WmRzU5aDQMMUlkUKSRLlCV5xEbMHs1T3E8LhG7NBNIGREmyAMidhkYNfFhJs6BYWFzF6iCQKCQDwEuHDj06OfVic/f7Ja6661QmknbYe2DZ1ZUhJ5AID7x+XhC7mSb8VJxBbMtkA2j4/hQUZsE68Sxz33XK59GIIwR/rT2XUxYaZOQWGm7HkiTFMm61i/fn21xx57qJ133lntvvvuqkOHDmrZsmVWjBWn06dPVyeddNIKD5+zRo0arRQS9t6Vbqxlj8GDB6tjjjmmlkuxPHu/snzyySfqlVdeiVTGN954Q+29995q1113dY6DBq0Y8nrzzTerzTbbTHk9x0iZVDAy92x/9atX1b/6/Stw7/Yv53wZulRJSeQxvaPhvwHwN0R3c/UFcF+5L/+8hVeURMp9ndvh5os+9GOthYhBJBMUZoqaJ8I0ZbKOtqD49ttv1eGHH65uu+02K8by019++WUlPz8PO02/OEXx9xPctVF+v7J069ZNXXbZZZGK9PHHHysSO91nn32mNuXgEO0++OADNWPGjEKRiCk7j8t+W6aGTRumbh54s9ql0y4lDWWHB3ewo5U9T0oiHwJYxSIDruDLJVDo97nlX4jTipJIua9zO9x80Zd9nDmP4DdPpACE6Rb4EydOVL/73e+chewonP72t7+pP/3pT+rQQw9VkydPVrvssovzMBh2wgknqCOPPFJtu+226j//+U/pIZk058yZow488EDVv3//0Pc+8cQTarvttlP77befuuCCCzyF47Bhw5x099xzT9WsWTP15ZfLvy5//PFHdcopp6iddtpJHX/88Wr//fdXw4cPd8r1+uuvO/fstdde6uSTT1YLFy4sldecjB8/3iFRamSMN2HCBEXB3bx5c0cD22GHHdQZZ5xRWuSvZcuWat9993UwufDCC0v+jH/99dc7dWBd3nnnHSeLOOUbMGCAYr4sz7///e+VtKKffvpJbb755qpx48aORtmzZ081d+5cddxxx6nddttNHXDAAWr06NGmip5HLlq4/vrrq6VLl9YIN8+xhmcBLybMnaA6vt9RPTbisUilT0oi4wCsazEEz+lH94k+FuYQm0TidMUEfZ3bQtV0DRVBGynX9PxIpACE6SUo1l13XTVr1ixFovj973/vCCVC4CaRrbfeWv3www9qyZIlaosttlDffPONgxTT5P0U4uw2CXsvv4y33HJLJ7+ff/5ZHXzwwZ4kMn/+fGU0ozfffFOdeOKJTh7t27dXF110kXPOr+tVVlnFIRGS2SGHHKIWLVo+wezuu+9WJAC3Y3lfeuklx5t1otAniayzzjpq6tSpTjcfSfHdd9914lBYG3fmmWeqvn37OpckkWuuucY5ZzcTtTu6qOVjGdit9NVXXzkERYL06lpzayKXX365atGihZMnu6nYXRnkevXqVSqjHc+rbdjh1X6elETOBzBZd2H9D8AkABfo7XLbB7DHGgC4E+JoAGMBtNRxt9ZLy3MSI4cON9D+q+tr+nPp+a2stG8CQH+S15GW/1Haj2E3Wv6+p7FJJO2uGFuoGhKpBm3Ei0QKQphegsImkXPOWbEdqZtEqCkYd9RRR5WEa4MGDZyv8yFDhpjglQjI697evXurf/7zn6V77r//fk8SIVlR06BWxD59fqnT8ev7rbfeKt3Pr3dqIv369VMbbLCBI0wpUKmpnHfeeaV4PFmwYIFDmDU8lXJI5M9//nPJ++KLL1ZPP/20c/3CCy84RMkysDuoTZs2jj9JZOjQoc45ybRp06bOedTy0dZB8jPu5ZdfDkUi1NCoURpHIiLxerkxY8aobbbZxtG63OFebcMdp5qvk5IIBfIm2pBOY3rYhRjrAVhLS/PVNDEcCOB5AKdp/0cBXKLPLwXAazqGk2DodtZERJIhAU3UXWnsTuM59zchEZGsGDfQxSIRWwimpS0EaSlFbo1eJFIQwnQLCnd3lt3X7iYRO4xfyPxqp1tzzTUdMrjppptKTzXMvWFJ5Oyzz1YkGDqmS+2Fzk9IU0M47bTTnDh+f0EkYn/9s8788qeWsNFGG5W0r9tvv13xR0cSMd1o1ILili9rEqF2xe42Q3hubNxtwx1e7ddxSWRHLY33BuD1CxTWrsA1AXwM4AAA3wEwOyM2A/C6jssjr+kYzngkImoh/Bln4tn3Mswdz8SvcYxFIrYQ9NIW4nR1VWur8yKRghCmLShmz56t/vKXv5QM6+5ukjBEwEfMNH/99VfHZsKuI7ow906bNs0RuN9//73TXUU7jE1UpvlQC6EWQEfBbYR0u3btFDUFurFjx6pVV13VEeasF+0GtHnQsVtr3Lhxzrn9R/sBiYyO9gHTneVFIvPmzXNIZPHixY59hVpRORKJWj4SFctN2wwdidAui+OplIOFrcHRdtKqVSsnmMROzcTtWH7afl588UV3UOnabhslzzp0EpdEOCqLbrDH7y0dVu5AbWEUgEV6T5LGulvK3Lc5gDH6gsfNTIDWMhifS9Gfafl3AXCy/nHrXuPO0nHNtX28SIMwgv3VkZythZhuJ7c2knZXV6QC5iyyF4nkrIh+xXEP8WW/vRnim4REmB8F8RFHHKE6deoUikR4T+fOnR1DPe0TFIwcbup277//vvMFTeF4yy23lEiE5MAhyOyuotGfXVe0J9DRNkAjOI3N/LFryO0Yl4MIGM7hr9TKKIRtwW00Ed7LvNkVdNBBByl2+5UjkTjlsw3rV1xxRY2ymPLTNsO6sb5hDeutW7d2NEbeY34cnUfHQRK0hdWrV885mnqZ/OrKMS6J2EI46fl6mogOriUSKZU/siZiayGGRGxtxCYZN7nUlRZm17PAJGJXIw/nZtQUDefHHntsydAdpmzUfvj1Tsev96222kpx9FJeXN7Llxec8lKONEjkIABnAPin9SsJ5pAntwH4T+G6s8p1xdgkY5NLXp5+pcshJJIa4tdee63zZUxjObtlouyZTbsGP5jYTUNt4tVXX02tXGkklPfypVHHakojKYk8DeB9AA8DeFD/OIO9nNsQADUQuoYA3gXArXZ7uQzrNKjTXeYyrNMAT7eLy7DO0WHsJqPdhOc0thvDOuMGusiaSFBLsLUQo6XUdW1ESCSoxUiYIFBIBJKSyBfawB0onD0Cd9fzSD7Vdg9qInQcTcWhvxyWS0LhqCs6DgnmNf0ZznjG3aJtJBzie7TxBPBXAF/pMMYp61IlEVsLMSRS17URIZFCCgkptCAQhEBSEqFg5xDfqnCpkki5rq6gp1KtYTknERrKOXGPNobvvvuuWp+C1EsQSBWBuCTSDwDXx+LorHl6KC6vza+QpJIqiaT6mKoksZyTyF133eWMxFlttdWcmeVVgrpnNdyjzWRByZowuUeb1Qyt7JVfWfKyoGRcEmkOIOgnJFLZdlaM3HJMIqNGjVINGzZUABwiueGGG4qBacxS2nMbZEHJlUH0E9wrx8zex68s7qHlYUqSxYKScUmkkCRRrtCiiehmmNUEyVomEa4z5TWUlcNdOcyVBMIx/1zunXGr2dkkwnq6Z+DLgpKyoGTY9i8kYjGLkIhuNllNkKxlEunYsaMze9qsFmteEs7etrUQr1naJm61HN0kwnrZa4HJgpKyoGTYti4kIiRSs63YQ5PTHpJcyyRy5ZVXOtoGCYPzLKiVcOlzm0AeeuihmnhU6VU5EpEFJQcrWVAyXOOPSyKDtOxta8ngwp+KJuLaoTDtIcm1TCJcIpxdVsbuwYl63BOE1zSmcymPKJP2wr1i+YzlJhF3d5a9FleY9bxYS1lQsm4uKBmXRLjhFGeqc57IXh6LMBaSUOoMifjZPGwtxMxtSVMbqWUS+eMf/1giEWP/IHnw3HTl5FPkp18qm0RkQUlZUNJuYXbbsP39zuOSCBc5HABgYYIFGHNHNHWGRPxsHllPkKxlEuESHyQM949EwjBudVpXnHuIrywoKQtKxl1QMi6JGAK41ZxUw7FOkIitbbi1jKwnSCYhET/tKYLU56ZDbgIx11wOnTvzBS35HSEriRoRAVlQMiJgOYqelETIHX8H0EH/uP5VYV2dIBFb20jb5lGuYSchET/tqVyeVjhJwpCG35H9+qeffrqzR4Z1q5xmjIAsKJkxwBkmn5RE2gCgkf08/XsTwF1FZZGqJxFbC8nC5lGuocYlEbvcbu2pXJ46nAZz7iXuRx7GnyO11lprLTV69OiQKUs0QaBuI5CURLiAYn2LNLiCLv0K6QpFInG6d2wtxJBIJbWRuCRilztmedldwi4rQxbuI4mD+39ziC83RRInCAgC4RBIg0R+ZzEGz4VEwmGfLFac7p2sbR7lahSHRGwtxBBfDG3k66+/doag2uRB4zI1D+52169fv9JOheWqUaRw1nvSpElFKrKUtWAIJCWR0wF8DeB/AJ4EMBnA/1mkUqjTwmgitmD1E6hxNJWsG28cErG1EEMiMbQRrhlkbCINGjRQa6yxhjr55JMV/QNdHnEMLPCKQO4QuNsOO6hGq6+ubrnxRmc/9xWhciYIpINAUhIhSXApeBrX+WtSKNZwFbYwJGILVj+BGkdTSadN+acSh0TS0J5mzFADd9tNrVK/vmPvuO6669T06dP9y2mH5BFHu3wB5w/cd5/arXFjddtWW6nVV1tNzZkzJyC2BAkC8RBIg0Rcori4l4UgEVsLMV/mbm3EjuMOi9dO0rkrDomEybmctnDJJeq7evXUk4cdFs3ekVccQ2Aya9Ystf7aa6u2TZuq/TfcULW8/fYQd0kUQSA6AkIiFucVgkRsLcSQiFsbseO4w6K3kfTuyIpEgrSFJESQVxxDPJHTTzlF/a1JE3Xd5purrTfbTC1dujTEXRJFEIiOgJBI0UikXPeOLTQNyeRFG8mCROz6etUzLhHY6frhyDiHHqrUzJnR37wM73j77bfVRmuvrR7Zfnu1yTrrOItMZpidJF3HEUhCIhzO+6Ulgwt/WghNpFyDtYWmEX550UayIBG7vu56hiECPzztdP1wZJz69ZW69NKVU6klguE+KDtus426YrPN1ElNmqjjjzlm5bKJjyCQIgJJSISk8TKALQrPHroCVUEi5TSVFBtP5KTSJpFyJBGGCPwqUQ5HO28/DciPYPzyjOD/6aefqsObN1cjR46scVf7tm3VXhtuqDpuu61ar1EjNXXq1BrhciEIpI1AUhJ5Ry/CyFnrZn91HgvpqoJE0m4haaaXNomUI4lyRJCkbnbeQRqQF8EkyVff+8orr6jGDRuq9Rs1UhdfcIGaN2+emjZtmlp/rbVUx6ZN1d4bbqjuvuuuFHKSJASBYASSkojfPutCIsG4183QtEkkDZKI0+1kayGmq8smiyCCSenJ9+/fX+3bpIl6dPvt1V823lhtuN56av999lEnNGmirtpsM7X9VltV/Ra/KUEpySREICmJkCy2BPBnzRprAli7kAwCQDSRhK2p3O1pk0i5/MKEU+BH7XayScKQiNFGyhFMmDKFiMMZ9vs1aaK677yz82u19dbqsMaNHVKhUX3w4MEhUpEogkByBJKSyIUAhgOYqIljO70gYyF5REgkeYMKTCFvJGILfFuTCKyEUipIAwoimHLpRgjv27dvDRIxZNKhaVO1bsOG6srLL1cLFiyIkKJEFQTiIZCUREYBaADgE4s1PrPOC3UqJBKvEYW+K28kYgt8o0mEroxPxCCCsW8J6kYLCtNpvPzyy2p/SxMxU6EAFwAAGRtJREFUJMLjw9tvr/608caqyQYbqB49etSZLX9teOW8cggkJZFhmiUMiawqCzBW7uEVLqc8kYithZguqSjaSFLwg7rRgsJ0vn369FEH+JCIIRQud7JRo0bq2COPTFpauV8Q8EUgKYm0A3Czni/yFwC9AdxZKPXDKqxoIr7tJJ2APJGIrYUYEklLGymHlk1gbuIKCrPS7d27dyCJcLmTAzfayNFGunXrZt0pp4JAuggkJRHuJUK7SC8AL+jzepZcLtSpkEi6jWul1PJEImG7nVaqRAoeNoG5iSsozMr6pZdeUgd6aCL3bbut05X1u3XWcYb4Ll682LpLTgWB9BFISiIkCdpEdgewmz4vFHHYhRUSSb+B1UgxTyRSo2AVvLA1DaMBGW0kKMxVRO4F32yTTUqjs2gHOXrjjdW6jRqpm66/3pk34rpFLgWBTBBISiLHAJgKYAiAtwF8A+BoWzAX6VxIJJM2tiJRIRGlbE3DkIjRRoLCVqDonL3wwgsOiTy+ww7qxCZN1LprrqkuvegixdV7xQkClUQgKYlw7axtLaJoWuT1tIREMm56QiLBw4MjdLH16tVLbahnrJ9x6qlq8uTJGT88SV4Q8EYgKYlwjojtaA9x+9nhuT4XEvFuJKn5ComkBuUnn3yiTjv5ZDVmzJjU0pSEBIE4CMQlkRMB8PcIgFcBnAPgbAD9ATyca6YIKJyQSJwmFOEeIZEIYElUQaAYCMQlkW4Agn4Bojq/QUIiGTdaIZGMAZbkBYHKIxCXRPLLBAlKJiSScQMUEkkHYI7iyuFmWOlUTlIpGgJJSWRrAPcAeCniUvCbAxgM4HMAYwFcqWX/7wC8CWC8Pq6v/WlreQDABD0jfm+LK9iNxvj88dy4fQBwCRbew3vLzl8REsm4+QqJpAMwR3FFXTQynZwlFUFgJQSSkshoAFcA+BMAe1l4I8j9jpsAMETAVX+/ArAzAM6Av1HfxGNbff5XAAM0ERwIwCy3QtKZBIBHEg7PDfF8BIBxSR68t+zQYyGRldpHuh5CIsnxtOeSmPklyVOVFASB2AgkJREjzP3IIqw/d0jksinjAJBg6HjkNV1nAKfrcx5MPPoxzDgTj/faW/e645n4NY5rbbWWat6tufyywuDKdVVz/rJKvy6ke/Omqvm59VTzc7D8yOu6UG+pY26fc1ISOQPA7QCaac2C2oXRMGoI6ICLrfQkxXUA/GDFowZhrjnq62ArjDsp7gvgOgD/tfxv1X4MG2j5H6JHjllepdOLNAgjVv/96rl9UFUhKIREkrWvzs1U8/M0gZBE+DuvvmpOfxGygkEttYGkJNIGwDQ9W502Dv7eKonn8idrARiphwsztiENc+c8fZIliZi8ZFOq2AptyBulOyskUD7RIsxo90lBvAWB1BFISiI0WnPtrDhuNQCvA7jGutl0U9Gr4t1ZYhNJvX3VTFBIpCYeUa8izGiPmrTEFwTiIpCURPoA2MgigbCn7Kp6CsB9rhvauwzrNLTTcY0u27BOozkdDeqTtTGdBnWe04/ObVincT7QCYnEbUYh7xMSCQmURBMEioNAUhLhwovfa42irzXMN1BYa/uG0sN1uTsifxTyG+jtdTlclzYNQwgknU56G14O26XNw7jz9DBeakXnGk8dZ4y+5yEZ4puDRikkkoOHIEUQBNJFICmJ2MN67XNLlhfnVDSRdBvXSqkJiawESeoeMhExdUglwWAEkpJIcRgiREmFRIIbS+JQIZHEEJZNoNxERCGZshBKhGgIJCWRhQAW6N9SAMv0eQiRnb8oQiLRGk/k2EIikSGLdEOYiYjlSMYvw3LkUy7cL13xLzwCSUnEZgLaLY4HcLftWaRzIZGM27OQSLYA20OAzUZXdo5hSMaOb5+XI59y4XZaeTgX0kvtKaRJIoYvPjEnRTsKiaTWrrwTEhLxxiUNX5sgzI6J7mVRwpCM18KOdtruNFn2cuFp1M8rjXJEEBReNNLzqn9O/JKSiNlXhMeTtRbyQdHIw5RXSCTjVikkkh3ANkEYErG1EVvQm3A3IfgJVjttO01Tm3LhJl7aR7/ymnz8wm0s3BiYe4MIyMSRo4NAUhKx9xR5HMAtMeeNGDleq0chkYzfCiGR7AAuNxHRFvSGRGxC8BOstr+5zxa85cKzqrGdr10ek19QuI2FjYG5l0c/AmIY0/bS2Mz95cJNvCo5JiWRWhX6aWcuJJJxqxYSyRjggOSjkIwtWG2Ba0gkSjiLVE6oBoX7hdnlsstjIPALZ3prrKGUqQuPbhKy47jDmH4QwYQJN2WskmNcErkNgN+PiyAW0gmJZNyqhUQyBjhm8rbQNMLVCM9y5FMunEVKInS97g0qL/MLCrfJxdTVTUJ2HHeYnbbByIa9XLgdt0rO45LItQDcP5LK1wAWFZJBAFmAMetGLSSSNcLx0reFpp9gjZdyTYEeVej6CeRy5Q0KL0d6dp4GC7vcdtpugiFG5cLj4pjj++KSiM0T3FSKy7Fz3SpuIhVnLS07vVo7F00k45YqJJIxwDGTLydYYybr3FZOqAaF+4WVK2+58KD62HkaEjFkUY5gyoUH5VvgsCQkwnWt7tDk0cLaUbDWSCBpxkUkkcGDB6sXX3zRaYI//PCDuvPOO9WyZct8myTDv//+e9/wTANcJGKXpXfv3mrQoEGZZi+JVxiBckI1KDwoLMtqBBFQEMGwTOXCGYf1CjLKZ1m3jNKOSyJcbXcigBsAcE+QqnBpk8i9996r7rjjDkewU2Dyt2DBgsBH2a1bNzVy5MjAOHagTSK2P8+jpuW+P/VrF4nY6QuJ2GhUyXk5oRoUHhRWW/AEEQzLVC6ccViv+vWVuvTS2qpF6vnGJZHfACwBYC97wuVPzHUhSSULEpk4cWKkhxZV8AuJRIJXIlcSgXJCNSg8KKySdUgzL1u7su0sJo+CailxSaSQJFGu0JUgkcWLF6vu3burdu3aqbvvvts5nz9/vtOMBg4cqFq2bKlat27taC2vvPKK4//qq6+qe+65R911112qc+fOasqUKabZKZtE5s2bp1q0aOF0Z/mlxfC5c+c69//yyy/q9ddfd9Ju37696tevn/r555+dsB9//NEpW5s2bZxydu3aVf3222+lfM0J/QYMGODUh+V7+OGH1bfffusEU7tgmk899ZRT9m5XXaXmHXGEudUpqymLrYksXbpU/e9//1OsN9OfM2eOkwbxevDBB9WYMWNKaciJIFAYBGztythZ7MIXVEsRErGYpRIkQuE8duxYR1hTWD7//POqR48epabkpYmMHj1a8T7aOt577z1FgU8CoPMjEYZ5pWWTCIX/s88+q0hsLAvP33zzTSddHkkAv/76q/MjcXmRyPjx4x1iW7JkiRM+e/bsUpcdiYHEwntZ3lfPP191ueoqJ33+2WUxJMJ6PvbYYyX7yE8//eSQ3Mcff+zUf8aMGapt27aK+YgTBAqDgK2FGIO9rY3Y4bZ/ASooJJIxidAOwq95/myyMG1j5syZzpe+ufYS/CbMHPlFzvvo4pIICYFlM5oA0/rmm2/Ufffd56T71ltvOeW1w50A19+kSZPUAw88oKZOnboSyZAYevXqVbrjp8MOUy1vv11xAACdm0T69OmjOnXqpIYOHVq657PPPlPUgmzXt29fp962n5wLArlGwNZCDInY2ogdbvvnulLLCyckkjGJuG0i7C6iEKTRnV/p/FGYmhFVXiRC7eOhhx4qkRHjm3TjksiiRYucfA3BmSOJhY6ayWuvveaQConl3Xff9W3OH374oaONUENg3XgvHUmE3WUl17y5anfzzQ7h0M9NItSw7r///tL9jENCadWqVanuLCfLSC1JnCBQGASCbDy2FmIIpkDaiJBIhUlkyJAhTjfTwoULnfZPjcImEdoC7NFZ7Aqi/WTWrFmlL31qImFIxJ0WMzSCm5oIR44Ze0zQy0gbB8tg8vSLS2IiCZqhulE1Ed7Xv39/R/NgNxbdp59+6thD/PIUf0Gg8AjYWoghkQJpI0IiFSaRN954Qz3zzDOOjYC2iJ49e9YgEXb/0Chu3FdffaU6dOigSDq0T5CEaHw3Aj1IE3GnxTQNifCchmvaZCj86UgotHHQjRs3zunqItmw+4llYNeV202bNs3RLFg2Cv6nn35asSuMjiRCTevrr792yj6ANpGrry4lYZeFcUkizO/ll192DOvU2qjVUGsbNWpUyT7DPMUmUoJRToqOQJCWYtctp6O3hEQqTCKcJ8KvdXbJ0JYwfPjwGiRCuwT9qW1QyLObi7YCCmMKcnbvUKiGIRF3WmyPtuCmsZuExe4qps8uM3ZN0b3//vtOPixnx44dHfKy27M5Zzk4Iovx2J3FiY9GiyAxmNFZDO961VXq+yOPNLfWKIshEQaSSF566SVHA2EZOTrLjGhjHtSwjE2olJicCALVjkBOR28JiWRIItXepsvVzyYGJ27AZMNyaUm4IFCnEbDtJjmzlwiJCIlk9m4KiWQGrSRc1xCw7SY5s5cIiQiJZPY6ColkBq0kXJcQsLUQY3jPkTYiJCIkUrnXUbqzKoe15FQ9CNhaiCERtzZSi0Z3IREhkcq9bEIilcNacqoeBMKM3qpFo7uQSAVJhCOUam0Z9jy8UkIieXgKUoZqQ8Du7qqFbi4hkQqSSJK2y5ngXHyQQ3Q/+eSTGklxGCzXweIQYA4N5oQ9ztswjuRl/zjPxCzuyDgcpsu0OfmQw2e5kGMmTkgkE1gl0TqOgN3d5e7mqgA0QiIFIZFhw4Y5wp6r+LpJhBMOub4UJy9y4uDjjz9emvDnbkOcw0FCMSsBc8FDLiXClXFJRlymhPdn4oREMoFVEq3DCNhaiLGXVFgbERKpIInYE/04cokaAyfRcaIfBXe5xQ75qnTp0mUlEiGx2Mujc6kQLh3v5UhAnFzICX10I0aMUE888UQpKkmGGgkn+NGZ+Cwj7+OKwrGdkEhs6ORGQcATAVsLMSRSYW1ESKQWSYSzr7mEB2elc6a3veKtZ4MJSSIU9CQsLs/uduyuouZiHGfFuxcz5Eq6XK6ehELyMITC2fZmrxBzf6SjkEgkuCSyIFAWgTBG97KJJIsgJFKLJMI1oozjGlm0S5RzXpoI15yiP7uyuMYWtRqSiHsrXto6aA+xjftcUsXsIWLyNnmQRNjVZfY/MeGxj0IisaGTGwWBvCIgJFKLJGJWu2XjmDx5srNGVbmGYgS8HY8LFdJQzjWu2OX0zjvvOMunmy4rE/ftt9921u0y1zxSE2G3mu24FhaJg44LMnJnQpIJu96MVmLHD30uJBIaKokoCBQFASGRKiARd2Nz2zlMOBd25A6BtmNcEpNxbpuI8SdRcX8R9wZRJjzUUUgkFEwSSRAoEgJCIgUhEQ7Z5egpCnwKfp4bTYNLuLPritfcYZBG9QkTJtRoh1zRl6OyzIZRJpBdYKbLimlyqXozOotdY1988YVjG2HaXOKdKxDHdkIisaGTGwWBvCIgJFIQEqHwpp3D/rELjI7Ddbk8PEdV0a7iNYKK80y4vLqXs+eJMB8zT8QsW0+S4Y9hifbxEBLxgl/8BIHsEchwWZTaIpGuAGYDGGPJ8N8BeBPAeH1cX4fVA/AAgAkAPgWwt3XP2To+7+G5cfsA+Ezfw3uZRlm3zz77ZP8w63IOQiJ1+elL3WsTgQyXRaktEjlUk4FNIu0A3KglPY9t9flfAQzQRHAggGHan6QzCQCPJByeG+L5CADjkjx479FlGQSAkEjGrVxIJGOAJXlBwAMBe0Ki10TEhFpKbZEIZfpWLk1kHIBNtLDnkdd0nQGcrs95MPHoxzDjTDze+6Xx1Pfa8aygmqdCIh4NME0vIZE00ZS0BIFwCNgTEr0mIibUUvJEIj9YIp0ahLnuD+BgK2wQgH0BXAfgv5b/rdqPYQMt/0MAMA0/d5EGYcQWW2wR7qFIrHgICInEw03uEgTiImBrIWZGu62N2OG2f4T88koiFPjztNTPmkRK5CKaSISWEyeqkEgc1OQeQSA+ArYWYkjE1kbscNs/Qo55IhHTTUWhLt1ZER5iYaIKiRTmUUlBqwSBoGVRbC3EEEwMbSRPJNLeZVinoZ3uGJdhnUZzOhrUJ2tjOg3qPKcfnduwTuN8WSeaSMYvjpBIxgBL8oJABARsLcSQSAxtpLZIpAeAmQB+ATANwPkANgBAeweH69KmYQiB9pFOACbqYbu0eRh3nh7Gy+G/5xpPbTPhyC/e85AM8Y3QsLKMKiSSJbqStiAQDYEgLSVCSrVFIpa8z8+paCIRWk6cqEIicVCTewSBXCMgJGJxmJBIxm1VSCRjgCV5QaDyCAiJCIlUrtUJiVQOa8lJEKgQAkIiQiIVampKKSGRymEtOQkCFUJASERIpEJNTUikckBLToJA5RAQEhESqVxrE02kclhLToJAhRAQErFIBMAcDciIGMcpMe6Jk0/R7xGcgDDPUHASnMK0kyhxsmpTlJviUkCAD1NceQQEp/IYMYbgJDiFQyB8LGlT4bGqlZjygMLBLjgJTuEQCBdL2lM4nBhLsAqPVa3ElAcUDnbBSXAKh0C4WNKewuHEWIJVeKxqJSaXlBdXHgHBqTxGjCE4CU7hEAgfS9pUeKwkpiAgCAgCgoAgIAgIAoKAICAICAKCgCAgCAgCgoAgUNcQ6Apgtmsf+D0AfKCXpO8HYB0Nyj8AjLJ+vwHYU4fto+NzufoHwi5LXzCwo2C1GoAnNSZfALjJqutRALg5GbG60fKvltMoODUA0E3jNBrAHy0Qqr1NbQ5gMIDPAYwFcKWuO7eHeFNvF8Ej9xGi43YRfLfYbj4FsLf25+FsHZ9bTPC8mlxUnHbU8usnvZW4jUW1v3t2XSt2fqhujNyXxLjhAJrrC+5l0toEWMfd9D4mxsu9QdbRJqCKjlGwOgNAT133NQFwAtRWAFbRuG0DgAKUgnPnKsKIVYmC02WaRHjfRgBGAqiv8aj2NsWdTQ0RrA3gK90WuFGd+bjgsa3Gg5vODdBkciCAYdqfpDNJ701EwuG5IR4dpdCHqDixHe0H4E4XidSFd6/WHjSFm00i8y1Ngl8B/FJyu7v0Q6I/H/KXVoTTAXS2rqvpNCxWxIBa3Kp6IzIKCL7szQC8bgFCDcXWUqygQp+GxYkbsZ1l1ZQbtu1fx9qUqf7LAP6itVS+U3Q8Umul4zvFdmWc2Wrb/b6545n41XIsh5OpZwsXidSVd8/Uv6JH9wv/PoDjdQmuAbDQozTcTXFX7c9dGLlLo3GHAOhvLqrsGBYrdmdRE+FSCT9aQ1lPBvCEhQkFKHelrDYXFicOx+ylyXZrAD8AOEnv2llX2hSfPfH6RncdEwPj2IVlrvlOHWwC9A6pfPeuA/Bfy/9Wl/C0ggp/GgYnU0k3idSVd8/Uv6JH9wvPPsU3dNfC7QDmukpzgO7DNt51mUT8sPoDgO4ASCZUr/nVyC6sutKQw7Ypamr3ajsbvzBf1R8wdalNraXftRP1C2VIw7xf8/RJXSeRsDgZ3IREDBIVOLpfeDvL7QGwb9p2fOlvtjzqcneWBQNsrNzdNDQ2n1qHu7P8cLL9eU4tmDaiutKm+JHB7k1q/MaZbipeS3fWclSi4GRwdJOIdGcZZDI4ukmEX850NHA+BYDGdePoN11/VRs/Ht1GUBoBq9GFxeoGy2DcSNuVdtfdNjR8suvGGNZ3qUKgwuLEQQfEh472gHf0OQ/V3qbYVcX36z6rzjxt7zKs09BOd4zLsG4+7mhrm6yN6TSo85x+1eKi4mTq7SYRar114d0z9a/YsQeAmQB+ATANwPl6qCENwfzdbRnZWSgOwfzQo3TsfqBxnrYS9vHzwVebi4IVVW/29XPoJgcm/McCgwRLbInVLZZ/tZxGwYlkwy9vDoOmDWRLC4Rqb1O0byg9XNcMnWfb2EDbOzhcl5gYQuA7RQ2X7eYzbTcycPFDj0N/+TvXeFbJMSpOTbQsW6DtSZRrZppCtb97VfLIpRqCgCAgCAgCgoAgIAgIAoKAICAICAKCgCAgCAgCgoAgIAgIAoKAICAICAKCgCAgCAgCgoAgIAgIAoKAICAICAKCgCCQPQIcmjoUgL0o5ykAXss+a8lBEBAEBAFBoBoQ4DprnAuyBgDOoeEciKYxK8ZJY+IEAUFAEBAE6hgCnHnNtdjMkUvBcNb1JwCO01hw8uG7AD7Wv4O0Pye50r+vnqhZx6CT6goCgoAgIAhweRPOTuds6zYAztSQrKeJgeFcBoXaCt12AEboc5IIV0PmcjHiBAFBQBAQBOooAq0AXK/JgcvkmOU+uAz6TgDWBfC0JhqGLdY4kUS4C6A4QUAQEAQEgTqMgFkUjzsY7uCBA8M76MU/afv4VcchiVTrHjUeMIiXICAICAKCgBcChkS4M6a9UOdeOjK3GbhWn3MhQS5QSCckooGQgyAgCAgCdRkBQyIN9XavtI9wpWOjZdAO8qnee557iy/SYAmJ1OVWI3UXBAQBQUAQEAQEAUFAEBAEBAFBQBAQBAQBQUAQEAQEAUFAEBAEBAFBQBAQBAQBQUAQEAQEAUFAEBAEBAFBQBAQBAQBQUAQEAQEAUFAEBAEBAFBQBAQBCqAwP8DJTXBqm4dsJAAAAAASUVORK5CYII=)"
      ]
    },
    {
      "cell_type": "code",
      "metadata": {
        "id": "dDlQcLSjwAb1"
      },
      "source": [
        "import random\n",
        "\n",
        "places = []\n",
        "key = []\n",
        "value = []\n",
        "\n",
        "filename = input(\"What is the name of the question file? \")\n",
        "with open(filename, 'r') as filehandle:\n",
        "    for line in filehandle:\n",
        "        places.append(line.strip('\\n'))\n",
        "\n",
        "for i in range(len(places)):\n",
        "    items = places[i].split(\",\")\n",
        "    key.append(items[0])\n",
        "    value.append(items[1])\n",
        "\n",
        "count = 0\n",
        "for i in range(3):\n",
        "    question = random.choice(key)\n",
        "    que = input(question)\n",
        "    ind = key.index(question)\n",
        "    if value[ind] == que:\n",
        "        print(\"Correct!\")\n",
        "        count += 1\n",
        "    else:\n",
        "        print(\"Incorrect!  The answer is \", value[ind])\n",
        "\n",
        "print(\"You got \" + str(count) +\n",
        "      \" answers correct out of 3, which is \" + str(count*100/3) + \"%\")"
      ],
      "execution_count": null,
      "outputs": []
    },
    {
      "cell_type": "code",
      "metadata": {
        "colab": {
          "base_uri": "https://localhost:8080/"
        },
        "id": "EvPDMku6Rfm4",
        "outputId": "78830a96-6600-4c3a-ce4f-dd2ba07f81e7"
      },
      "source": [
        "# Part 1\n",
        "# Initialise sum as 0\n",
        "sum = 0\n",
        "# loop starts from 1 and end at 100\n",
        "for i in range(1, 101):\n",
        "    # the number divisible by 2(for even) gives 0\n",
        "    if i % 2 == 0:\n",
        "        # add the number to sum\n",
        "        sum += i\n",
        "print(\"Sum of all even numbers between 1 and 100:\", sum)\n"
      ],
      "execution_count": null,
      "outputs": [
        {
          "output_type": "stream",
          "text": [
            "Sum of all even numbers between 1 and 100: 2550\n"
          ],
          "name": "stdout"
        }
      ]
    },
    {
      "cell_type": "code",
      "metadata": {
        "colab": {
          "base_uri": "https://localhost:8080/"
        },
        "id": "s_HLlsXXRwuS",
        "outputId": "3062ac36-f06d-48d4-9efa-f7f02468a5cc"
      },
      "source": [
        "# Part 2\n",
        "# Initialise mul as 1\n",
        "mul = 1\n",
        "# loop starts from 1 and end at 50\n",
        "for i in range(1, 51):\n",
        "    # the number not divisible by 2(for odd)\n",
        "    if i % 2 != 0:\n",
        "        # add the number to sum\n",
        "        mul *= i\n",
        "print(\"Product of all odd numbers between 1 and 50:\", mul)\n"
      ],
      "execution_count": null,
      "outputs": [
        {
          "output_type": "stream",
          "text": [
            "Product of all odd numbers between 1 and 50: 58435841445947272053455474390625\n"
          ],
          "name": "stdout"
        }
      ]
    },
    {
      "cell_type": "code",
      "metadata": {
        "colab": {
          "base_uri": "https://localhost:8080/"
        },
        "id": "cTfZY3BaTfC_",
        "outputId": "607bf5c6-16e0-468d-a696-7d316102766c"
      },
      "source": [
        "# Part 3\n",
        "player1 = input(\"Player1: \")\n",
        "\n",
        "# Initializing the number of guesses.\n",
        "count = 1\n",
        "\n",
        "\n",
        "def main(count=1):\n",
        "    # player 2 guess\n",
        "    player2 = input(\"player2: Take a guess: \")\n",
        "\n",
        "    def rand_call(player2, count):\n",
        "        # Comparing the guessed color with the player1 color\n",
        "        if player1 == player2:\n",
        "            print(\"Congratulations you guessed the color correctly.\")\n",
        "            print(\"Total number of guesses: \", count)\n",
        "            loop = False\n",
        "        else:\n",
        "            count += 1\n",
        "            main(count)\n",
        "\n",
        "    # calling the function rand_call with argument player2\n",
        "    rand_call(player2, count)\n",
        "\n",
        "\n",
        "# main()\n",
        "\n",
        "# Output - \n",
        "# Player1: red\n",
        "# player2: Take a guess: orange\n",
        "# player2: Take a guess: blue\n",
        "# player2: Take a guess: green\n",
        "# player2: Take a guess: yellow\n",
        "# player2: Take a guess: red\n",
        "# Congratulations you guessed the color correctly.\n",
        "# Total number of guesses:  5"
      ],
      "execution_count": null,
      "outputs": [
        {
          "output_type": "stream",
          "text": [
            "Player1: red\n",
            "player2: Take a guess: orange\n",
            "player2: Take a guess: blue\n",
            "player2: Take a guess: green\n",
            "player2: Take a guess: yellow\n",
            "player2: Take a guess: red\n",
            "Congratulations you guessed the color correctly.\n",
            "Total number of guesses:  5\n"
          ],
          "name": "stdout"
        }
      ]
    },
    {
      "cell_type": "code",
      "metadata": {
        "id": "8aA-GPzKQ5YF",
        "colab": {
          "base_uri": "https://localhost:8080/"
        },
        "outputId": "0f4da6e4-2be4-48c2-bda7-64ef9e2aff64"
      },
      "source": [
        "def main():\n",
        "    print('                    Baseball Team Manager                       ')\n",
        "    print('Menu Options')\n",
        "    while True:\n",
        "        print('1 - display lineup')\n",
        "        print('2 – Add player')\n",
        "        print('3 – Remove player')\n",
        "        print('4 – Move player')\n",
        "        print('5 – Edit player position')\n",
        "        print('6 – Edit player stats')\n",
        "        print('7 - Exit program')\n",
        "        print('Menu option: ', end='')\n",
        "        choice = input()\n",
        "        if choice == '7':\n",
        "            print('Bye!')\n",
        "            break\n",
        "        elif choice == '1':\n",
        "            print('='*64)\n",
        "            print('   Player                             POS     AB      H      AVG')\n",
        "            print('-'*64)\n",
        "            print('1  Denard Span                         CF    545    174    0.319')\n",
        "            print('2  Brandon Belt                        1B    533    127    0.238')\n",
        "            print('3  Buster Posey                        C     535    176    0.329')\n",
        "            print('4  hunter Pence                        RF    485    174    0.359')\n",
        "            print('5  Brandon Crawford                    SS    532    125    0.235')\n",
        "            print('6  Eduardo Nunez                       3B    477    122    0.256')\n",
        "            print('7  Joe Panik                           2B    475    138    0.291')\n",
        "            print('8  Jarret Parker                       LF    215    58     0.270')\n",
        "            print('9  Madison Bumgarner                   P     103    21     0.204')\n",
        "            print('-'*64)\n",
        "        else:\n",
        "            print('Invalid choice')\n",
        "\n",
        "\n",
        "main()\n"
      ],
      "execution_count": null,
      "outputs": [
        {
          "output_type": "stream",
          "text": [
            "                    Baseball Team Manager                       \n",
            "Menu Options\n",
            "1 - display lineup\n",
            "2 – Add player\n",
            "3 – Remove player\n",
            "4 – Move player\n",
            "5 – Edit player position\n",
            "6 – Edit player stats\n",
            "7 - Exit program\n",
            "Menu option: 1\n",
            "================================================================\n",
            "   Player                             POS     AB      H      AVG\n",
            "----------------------------------------------------------------\n",
            "1  Denard Span                         CF    545    174    0.319\n",
            "2  Brandon Belt                        1B    533    127    0.238\n",
            "3  Buster Posey                        C     535    176    0.329\n",
            "4  hunter Pence                        RF    485    174    0.359\n",
            "5  Brandon Crawford                    SS    532    125    0.235\n",
            "6  Eduardo Nunez                       3B    477    122    0.256\n",
            "7  Joe Panik                           2B    475    138    0.291\n",
            "8  Jarret Parker                       LF    215    58     0.270\n",
            "9  Madison Bumgarner                   P     103    21     0.204\n",
            "----------------------------------------------------------------\n",
            "1 - display lineup\n",
            "2 – Add player\n",
            "3 – Remove player\n",
            "4 – Move player\n",
            "5 – Edit player position\n",
            "6 – Edit player stats\n",
            "7 - Exit program\n",
            "Menu option: 7\n",
            "Bye!\n"
          ],
          "name": "stdout"
        }
      ]
    },
    {
      "cell_type": "code",
      "metadata": {
        "id": "imjepgmGNnOx",
        "colab": {
          "base_uri": "https://localhost:8080/"
        },
        "outputId": "a3a71503-fefa-4189-80bb-9897b1d4f048"
      },
      "source": [
        "import sys\n",
        "\n",
        "def comb(A,n,k,p,lo):\n",
        "  \"\"\"\n",
        "    n>=1, k<=n, p: position to fill, lo: first number to pick\n",
        "    print all possible subsets of k out of n\n",
        "  \"\"\"\n",
        "\n",
        "if __name__ == \"__main__\":\n",
        "  # d = len(sys.argv)>3\n",
        "  # n = int(sys.argv[1])\n",
        "  # k = int(sys.argv[2])\n",
        "  n = 5\n",
        "  k = 3\n",
        "  A = []\n",
        "  for i in range(k):\n",
        "      A.append(i)\n",
        "  # if d: print(\"n:\",n,\"k:\",k)\n",
        "  print(A)\n",
        "\n",
        "  comb(A,n,k,0,0)\n"
      ],
      "execution_count": null,
      "outputs": [
        {
          "output_type": "stream",
          "text": [
            "[0, 1, 2]\n"
          ],
          "name": "stdout"
        }
      ]
    },
    {
      "cell_type": "code",
      "metadata": {
        "id": "e6bjJNlnTJC9",
        "colab": {
          "base_uri": "https://localhost:8080/"
        },
        "outputId": "83353f37-a08a-40b8-be42-b7cc33699c55"
      },
      "source": [
        "import datetime\n",
        "\n",
        "dateTimeObj = datetime.datetime.now()\n",
        "print(dateTimeObj)\n",
        "print(\"==========================\")\n",
        "\n",
        "import pandas as pd\n",
        "raw_data = {'row index': ['a', 'b','c','d'], \n",
        "    'col10': [1.0, 2.0, 3.0, 4.0],\n",
        "    'col11': [100, 200, 300, 400]}\n",
        "x = pd.DataFrame(raw_data, columns = ['row index', 'col10', 'col11']).set_index('row index')\n",
        "x.columns.name = 'col index'\n",
        "print(x)"
      ],
      "execution_count": null,
      "outputs": [
        {
          "output_type": "stream",
          "text": [
            "2021-05-27 11:07:53.381085\n",
            "==========================\n",
            "col index  col10  col11\n",
            "row index              \n",
            "a            1.0    100\n",
            "b            2.0    200\n",
            "c            3.0    300\n",
            "d            4.0    400\n"
          ],
          "name": "stdout"
        }
      ]
    },
    {
      "cell_type": "code",
      "metadata": {
        "id": "cKnL99EjWiy1",
        "colab": {
          "base_uri": "https://localhost:8080/"
        },
        "outputId": "47e21ab4-0745-4c5f-ac8b-dbbf0816bfac"
      },
      "source": [
        "from random import randrange\n",
        "\n",
        "l1 = [[1, 2, 3], [4, 5, 6], [7, 8, 9]]\n",
        "def board():\n",
        "  print(\"+-------+-------+-------+\")\n",
        "  for i in range(3):\n",
        "    print(\"|       |       |       |\")\n",
        "    for j in range(3):\n",
        "      print(\"|  \",l1[i][j], end=\"   \")\n",
        "    print(\"|\", end=\"\")\n",
        "    print()\n",
        "    print(\"|       |       |       |\")\n",
        "    print(\"+-------+-------+-------+\")\n",
        "board()\n",
        "# l1[1][1] = \"X\"\n",
        "# board()\n",
        "# Omove = int(input(\"Enter Your move\"))\n",
        "# compmove = "
      ],
      "execution_count": null,
      "outputs": [
        {
          "output_type": "stream",
          "text": [
            "+-------+-------+-------+\n",
            "|       |       |       |\n",
            "|   1   |   2   |   3   |\n",
            "|       |       |       |\n",
            "+-------+-------+-------+\n",
            "|       |       |       |\n",
            "|   4   |   5   |   6   |\n",
            "|       |       |       |\n",
            "+-------+-------+-------+\n",
            "|       |       |       |\n",
            "|   7   |   8   |   9   |\n",
            "|       |       |       |\n",
            "+-------+-------+-------+\n"
          ],
          "name": "stdout"
        }
      ]
    },
    {
      "cell_type": "code",
      "metadata": {
        "id": "Pw5OboubC407",
        "colab": {
          "base_uri": "https://localhost:8080/"
        },
        "outputId": "b7a5a1bd-b021-477b-91bc-a46484924577"
      },
      "source": [
        "# num = input(\"Enter three positive integer values: \")\n",
        "# [num1, num2, num3] = map(int,num.split())\n",
        "[num1, num2, num3] = [-1, 2, 3]\n",
        "\n",
        "giveme = True\n",
        "count = 1\n",
        "while giveme == True:\n",
        "  if num1 > 0 and num2 > 0 and num3 > 0:\n",
        "    giveme = False\n",
        "    if count > 1:\n",
        "      print(\"Gee, it took you \" + str(count) + \" times to give me \", num1, num2, num3)\n",
        "    else:\n",
        "      print(\"Thank you for the values\", num1, num2, num3)\n",
        "  else:\n",
        "    count += 1\n",
        "    # num = input(\"Enter three positive integer values: \")\n",
        "    # [num1, num2, num3] = map(int,num.split())\n",
        "    [num1, num2, num3] = [2, 4, 5]\n",
        "\n",
        "    \n",
        "# Output - \n",
        "# Enter three positive integer values: -1 2 3\n",
        "# Enter three positive integer values: 2 4 5\n",
        "# Gee, it took you 2 times to give me  2 4 5"
      ],
      "execution_count": null,
      "outputs": [
        {
          "output_type": "stream",
          "text": [
            "Gee, it took you 2 times to give me  2 4 5\n"
          ],
          "name": "stdout"
        }
      ]
    },
    {
      "cell_type": "code",
      "metadata": {
        "id": "rKziMK64pzTK",
        "colab": {
          "base_uri": "https://localhost:8080/"
        },
        "outputId": "f1e7aeb9-f073-46fb-97e0-94f05edccb16"
      },
      "source": [
        "from builtins import max\n",
        "team_name = input(\"Enter the name of your Team: \")\n",
        "foundation_year = int(input(\"Enter the foundation year: \"))\n",
        "if foundation_year > 1920:\n",
        "    d = {}\n",
        "    for i in range(foundation_year, 2021):\n",
        "        trophy = int(input(\"Enter the number of titles won in %d : \" % i))\n",
        "        while trophy < 0:\n",
        "            trophy = int(input(\"Enter the number of titles won in %d : \" % i))\n",
        "        d[i] = trophy\n",
        "    total_year = 2020 - foundation_year\n",
        "    trophies = d.values()\n",
        "    total_trophy = sum(trophies)\n",
        "    avg = total_trophy / total_year\n",
        "    print(\"The average of titles won is\", int(avg))\n",
        "    best_season = max(d, key=d.get)\n",
        "    max = d.get(best_season)\n",
        "    print(\"The best season was in {}. {} won {} titles\".format(\n",
        "        best_season, team_name, max))\n",
        "else:\n",
        "    print(\"Invalid Input!\")\n",
        "\n",
        "# Output - \n",
        "# Enter the name of your Team: PSG\n",
        "# Enter the foundation year: 2017\n",
        "# Enter the number of titles won in 2017 : -2\n",
        "# Enter the number of titles won in 2017 : -1\n",
        "# Enter the number of titles won in 2017 : 1\n",
        "# Enter the number of titles won in 2018 : 0\n",
        "# Enter the number of titles won in 2019 : -2\n",
        "# Enter the number of titles won in 2019 : 2\n",
        "# Enter the number of titles won in 2020 : 1\n",
        "# The average of titles won is 1\n",
        "# The best season was in 2019. PSG won 2 titles"
      ],
      "execution_count": null,
      "outputs": [
        {
          "output_type": "stream",
          "text": [
            "Enter the name of your Team: PSG\n",
            "Enter the foundation year: 2017\n",
            "Enter the number of titles won in 2017 : -2\n",
            "Enter the number of titles won in 2017 : -1\n",
            "Enter the number of titles won in 2017 : 1\n",
            "Enter the number of titles won in 2018 : 0\n",
            "Enter the number of titles won in 2019 : -2\n",
            "Enter the number of titles won in 2019 : 2\n",
            "Enter the number of titles won in 2020 : 1\n",
            "The average of titles won is 1\n",
            "The best season was in 2019. PSG won 2 titles\n"
          ],
          "name": "stdout"
        }
      ]
    },
    {
      "cell_type": "code",
      "metadata": {
        "id": "Pw93YV6yuPky",
        "colab": {
          "base_uri": "https://localhost:8080/"
        },
        "outputId": "5e9996f2-1ff9-4c4d-ff0a-3ef6939a02db"
      },
      "source": [
        "num = int(input(\"Enter a number. (-1 to exit): \"))\n",
        "\n",
        "# initialise numlist with first user input\n",
        "numlist = [num]\n",
        "# loop untill user typer -1\n",
        "while num != -1:\n",
        "    num = int(input(\"Enter a number. (-1 to exit): \"))\n",
        "    if num != -1:\n",
        "        # append number to list if num is not equal to -1\n",
        "        numlist.append(num)\n",
        "\n",
        "# using inbuilt sum function to print the sum of numbers\n",
        "# added in list\n",
        "print(\"Sum:\", sum(numlist))\n",
        "\n",
        "# Output - \n",
        "# Enter a number. (-1 to exit): 1\n",
        "# Enter a number. (-1 to exit): 2\n",
        "# Enter a number. (-1 to exit): 3\n",
        "# Enter a number. (-1 to exit): 4\n",
        "# Enter a number. (-1 to exit): 5\n",
        "# Enter a number. (-1 to exit): -1\n",
        "# Sum: 15"
      ],
      "execution_count": null,
      "outputs": [
        {
          "output_type": "stream",
          "text": [
            "Enter a number. (-1 to exit): 1\n",
            "Enter a number. (-1 to exit): 2\n",
            "Enter a number. (-1 to exit): 3\n",
            "Enter a number. (-1 to exit): 4\n",
            "Enter a number. (-1 to exit): 5\n",
            "Enter a number. (-1 to exit): -1\n",
            "Sum: 15\n"
          ],
          "name": "stdout"
        }
      ]
    },
    {
      "cell_type": "code",
      "metadata": {
        "colab": {
          "base_uri": "https://localhost:8080/"
        },
        "id": "wuH9bBJHfzTZ",
        "outputId": "3228f04b-3088-4b80-e62b-d8dce97e5694"
      },
      "source": [
        "# Creating empty list to append data\n",
        "all = []\n",
        "new = []\n",
        "\n",
        "# variable loop condition\n",
        "again = 'y'\n",
        "\n",
        "# Initially again = 'y' to start the program\n",
        "while again == 'y':\n",
        "    # Printing menu\n",
        "    print('\\n(1) New Appointment: \\n(2) Change Date: \\n(3) Vaccinated: ')\n",
        "\n",
        "    # getting user input\n",
        "    ser = input('What service do you need: ')\n",
        "\n",
        "    # if user inputted 1 i.e New Appointment\n",
        "    if ser == '1':\n",
        "        # Getting data Id, Name, and Date\n",
        "        # Using split() to split the date by a space\n",
        "        # And added in list new\n",
        "        new = input(\"Enter ID Name Date: \").split()\n",
        "        print('Added data =', new)\n",
        "\n",
        "        # Now append the new list in all list\n",
        "        all.append(new)\n",
        "        print('All data =', all)\n",
        "\n",
        "    # if user inputted 2 i.e Change Date\n",
        "    elif ser == '2':\n",
        "        # Getting ID of a person who want to change date\n",
        "        IDchangeDate = input('ID person who wants to change: ')\n",
        "        d = -1\n",
        "\n",
        "        # this loop is used to check the ID is already available in all or not\n",
        "        for i in range(len(all)):\n",
        "            # If ID is already availabe\n",
        "            if IDchangeDate == all[i][0]:\n",
        "                # Then get New date\n",
        "                newDate = input('New date: ')\n",
        "                # And change the value of previous date to new date\n",
        "                all[i][2] = newDate\n",
        "                # and change value of d\n",
        "                d = i\n",
        "                print('All data =', all)\n",
        "                break\n",
        "        # If ID is not availabe in all then the value of d is not changed\n",
        "        # So Cannot find Id\n",
        "        if d == -1:\n",
        "            print('Cannot find ID:', IDchangeDate)\n",
        "\n",
        "    # if user inputted 3 i.e Vaccinated\n",
        "    else:\n",
        "        # Getting ID of person who gets vaccinated\n",
        "        vaccinated = input('ID person who was vaccinated: ')\n",
        "        d = -1\n",
        "\n",
        "        # Again loop to check the ID is already available in all or not\n",
        "        for i in range(len(all)):\n",
        "            for j in range(len(all[i])):\n",
        "                # If ID available then change value of d\n",
        "                if vaccinated == all[i][j]:\n",
        "                    d = i\n",
        "                    break\n",
        "\n",
        "        # If ID is not availabe then value of d is not changed\n",
        "        # So, cannot find ID\n",
        "        if d == -1:\n",
        "            print('Cannot find ID:', vaccinated)\n",
        "\n",
        "        # Else delete the all[d]\n",
        "        else:\n",
        "            del all[d]\n",
        "            print('All data =', all)\n",
        "\n",
        "    # Input to loop\n",
        "    again = input('Do you want to continue? y(Yes), n(No) ')\n",
        "\n",
        "# Output - \n",
        "# (1) New Appointment: \n",
        "# (2) Change Date: \n",
        "# (3) Vaccinated: \n",
        "# What service do you need: 1\n",
        "# Enter ID Name Date: 3456 somsak 29/5/64\n",
        "# Added data = ['3456', 'somsak', '29/5/64']\n",
        "# All data = [['3456', 'somsak', '29/5/64']]\n",
        "# Do you want to continue? y(Yes), n(No) y\n",
        "\n",
        "# (1) New Appointment: \n",
        "# (2) Change Date: \n",
        "# (3) Vaccinated: \n",
        "# What service do you need: 1\n",
        "# Enter ID Name Date: 2253 somsri 16/6/64\n",
        "# Added data = ['2253', 'somsri', '16/6/64']\n",
        "# All data = [['3456', 'somsak', '29/5/64'], ['2253', 'somsri', '16/6/64']]\n",
        "# Do you want to continue? y(Yes), n(No) y\n",
        "\n",
        "# (1) New Appointment: \n",
        "# (2) Change Date: \n",
        "# (3) Vaccinated: \n",
        "# What service do you need: 2\n",
        "# ID person who wants to change: 4567\n",
        "# Cannot find ID: 4567\n",
        "# Do you want to continue? y(Yes), n(No) y\n",
        "\n",
        "# (1) New Appointment: \n",
        "# (2) Change Date: \n",
        "# (3) Vaccinated: \n",
        "# What service do you need: 2\n",
        "# ID person who wants to change: 2253\n",
        "# New date: 30/5/64\n",
        "# All data = [['3456', 'somsak', '29/5/64'], ['2253', 'somsri', '30/5/64']]\n",
        "# Do you want to continue? y(Yes), n(No) y\n",
        "\n",
        "# (1) New Appointment: \n",
        "# (2) Change Date: \n",
        "# (3) Vaccinated: \n",
        "# What service do you need: 3\n",
        "# ID person who was vaccinated: 225\n",
        "# Cannot find ID: 225\n",
        "# Do you want to continue? y(Yes), n(No) y\n",
        "\n",
        "# (1) New Appointment: \n",
        "# (2) Change Date: \n",
        "# (3) Vaccinated: \n",
        "# What service do you need: 3\n",
        "# ID person who was vaccinated: 3456\n",
        "# All data = [['2253', 'somsri', '30/5/64']]\n",
        "# Do you want to continue? y(Yes), n(No) n\n"
      ],
      "execution_count": null,
      "outputs": [
        {
          "output_type": "stream",
          "text": [
            "\n",
            "(1) New Appointment: \n",
            "(2) Change Date: \n",
            "(3) Vaccinated: \n",
            "What service do you need: 1\n",
            "Enter ID Name Date: 3456 somsak 29/5/64\n",
            "Added data = ['3456', 'somsak', '29/5/64']\n",
            "All data = [['3456', 'somsak', '29/5/64']]\n",
            "Do you want to continue? y(Yes), n(No) y\n",
            "\n",
            "(1) New Appointment: \n",
            "(2) Change Date: \n",
            "(3) Vaccinated: \n",
            "What service do you need: 1\n",
            "Enter ID Name Date: 2253 somsri 16/6/64\n",
            "Added data = ['2253', 'somsri', '16/6/64']\n",
            "All data = [['3456', 'somsak', '29/5/64'], ['2253', 'somsri', '16/6/64']]\n",
            "Do you want to continue? y(Yes), n(No) y\n",
            "\n",
            "(1) New Appointment: \n",
            "(2) Change Date: \n",
            "(3) Vaccinated: \n",
            "What service do you need: 2\n",
            "ID person who wants to change: 4567\n",
            "Cannot find ID: 4567\n",
            "Do you want to continue? y(Yes), n(No) y\n",
            "\n",
            "(1) New Appointment: \n",
            "(2) Change Date: \n",
            "(3) Vaccinated: \n",
            "What service do you need: 2\n",
            "ID person who wants to change: 2253\n",
            "New date: 30/5/64\n",
            "All data = [['3456', 'somsak', '29/5/64'], ['2253', 'somsri', '30/5/64']]\n",
            "Do you want to continue? y(Yes), n(No) y\n",
            "\n",
            "(1) New Appointment: \n",
            "(2) Change Date: \n",
            "(3) Vaccinated: \n",
            "What service do you need: 3\n",
            "ID person who was vaccinated: 225\n",
            "Cannot find ID: 225\n",
            "Do you want to continue? y(Yes), n(No) y\n",
            "\n",
            "(1) New Appointment: \n",
            "(2) Change Date: \n",
            "(3) Vaccinated: \n",
            "What service do you need: 3\n",
            "ID person who was vaccinated: 3456\n",
            "All data = [['2253', 'somsri', '30/5/64']]\n",
            "Do you want to continue? y(Yes), n(No) n\n"
          ],
          "name": "stdout"
        }
      ]
    },
    {
      "cell_type": "code",
      "metadata": {
        "id": "uQQqe38WiCMv",
        "colab": {
          "base_uri": "https://localhost:8080/"
        },
        "outputId": "400e3d5e-4afb-46ac-d637-c0099b750b7c"
      },
      "source": [
        "import random\n",
        "stones = random.randint(15,31)\n",
        "while stones > 3:\n",
        "  print(\"There are\",stones,\"stones.\",end=\"\")\n",
        "  inp = int(input(\"How many would you like? \"))\n",
        "  while inp > 3:\n",
        "    print(\"Value must be between 1 and 3\")\n",
        "    inp = int(input(\"How many would you like? \"))\n",
        "  stones = stones - inp\n",
        "  if stones < 3:\n",
        "    inp = random.randint(1,2)\n",
        "    print(\"There are\",stones,\"stones.\",end=\"\")\n",
        "    print(\"The computer takes\",inp)\n",
        "  inp = random.randint(1,3)\n",
        "  print(\"There are\",stones,\"stones.\",end=\"\")\n",
        "  print(\"The computer takes\",inp)\n",
        "  stones = stones - inp\n"
      ],
      "execution_count": null,
      "outputs": [
        {
          "output_type": "stream",
          "text": [
            "There are 30 stones.How many would you like? 3\n",
            "There are 27 stones.The computer takes 3\n",
            "There are 24 stones.How many would you like? 3\n",
            "There are 21 stones.The computer takes 2\n",
            "There are 19 stones.How many would you like? 3\n",
            "There are 16 stones.The computer takes 3\n",
            "There are 13 stones.How many would you like? 3\n",
            "There are 10 stones.The computer takes 1\n",
            "There are 9 stones.How many would you like? 2\n",
            "There are 7 stones.The computer takes 2\n",
            "There are 5 stones.How many would you like? 3\n"
          ],
          "name": "stdout"
        }
      ]
    },
    {
      "cell_type": "code",
      "metadata": {
        "id": "bQQJrN1nXa-8",
        "colab": {
          "base_uri": "https://localhost:8080/"
        },
        "outputId": "c2276cc7-8b21-4ff2-bedb-6e49558d9972"
      },
      "source": [
        "# user_input = input()\n",
        "user_input = \"89 73 96 97 99 100\"\n",
        "test_grades = list(map(int, user_input.split()))\n",
        "\n",
        "sum_extra = 0\n",
        "\n",
        "for grade in test_grades:\n",
        "  if (grade > 100):\n",
        "    sum_extra = sum_extra + (grade - 100)\n",
        "\n",
        "print('Sum extra:', sum_extra)"
      ],
      "execution_count": null,
      "outputs": [
        {
          "output_type": "stream",
          "text": [
            "Sum extra: 0\n"
          ],
          "name": "stdout"
        }
      ]
    },
    {
      "cell_type": "code",
      "metadata": {
        "id": "sB7mm3REQxe5",
        "colab": {
          "base_uri": "https://localhost:8080/"
        },
        "outputId": "a9392e56-0156-4a4c-f744-fec6702e8dfc"
      },
      "source": [
        "l1 = ['hello', 'hi', 'bye', 'hii', 'love']\n",
        "for word in l1:\n",
        "  if len(word) % 2 != 0:\n",
        "    print(word.upper(), end = \" \")"
      ],
      "execution_count": null,
      "outputs": [
        {
          "output_type": "stream",
          "text": [
            "HELLO BYE HII "
          ],
          "name": "stdout"
        }
      ]
    },
    {
      "cell_type": "code",
      "metadata": {
        "id": "h08mKH-3TagO",
        "colab": {
          "base_uri": "https://localhost:8080/"
        },
        "outputId": "62018522-abce-42f7-e0b6-0d77fe2d97ed"
      },
      "source": [
        "import random\n",
        "\n",
        "count = 0\n",
        "random_number = random.randint(1, 100)\n",
        "\n",
        "guess = int(input(\"Guess the secret number between 1-100: \"))\n",
        "\n",
        "while guess != random_number:\n",
        "    if guess < random_number:\n",
        "      print(\"Sorry, your guess is too low.\")\n",
        "    else:\n",
        "      print(\"Sorry, your guess is too high.\")\n",
        "    count+=1\n",
        "    guess = int(input(\"Guess the secret number between 1-100: \"))\n",
        "\n",
        "print(\"Congrats, You guessed the number!\")\n",
        "print(\"You guessed the number in\", count,\"times\")"
      ],
      "execution_count": null,
      "outputs": [
        {
          "output_type": "stream",
          "text": [
            "Guess the secret number between 1-100: 50\n",
            "Sorry, your guess is too high.\n",
            "Guess the secret number between 1-100: 25\n",
            "Sorry, your guess is too high.\n",
            "Guess the secret number between 1-100: 10\n",
            "Sorry, your guess is too low.\n",
            "Guess the secret number between 1-100: 15\n",
            "Sorry, your guess is too low.\n",
            "Guess the secret number between 1-100: 20\n",
            "Sorry, your guess is too low.\n",
            "Guess the secret number between 1-100: 22\n",
            "Congrats, You guessed the number!\n",
            "You guessed the number in 5 times\n"
          ],
          "name": "stdout"
        }
      ]
    },
    {
      "cell_type": "code",
      "metadata": {
        "id": "vD6lv6QLCvFD",
        "colab": {
          "base_uri": "https://localhost:8080/",
          "height": 349
        },
        "outputId": "9795c544-4fc7-4cd6-f590-62de8b90e849"
      },
      "source": [
        "import matplotlib.pyplot as plt\n",
        "\n",
        "# Part A Start\n",
        "lst_a = []\n",
        "lst_b = []\n",
        "\n",
        "# We do not need to explicitly close the file\n",
        "# By using with statement, the file get closed\n",
        "# after coming out of with block\n",
        "with open(\"/content/drive/MyDrive/Colab Notebooks/actual.txt\") as input_data:\n",
        "    # Using accumulator pattern to get the number stored in each line\n",
        "    for each_line in input_data:\n",
        "        number = float(each_line.strip())\n",
        "        lst_a.append(number)\n",
        "\n",
        "\n",
        "with open(\"/content/drive/MyDrive/Colab Notebooks/prediction.txt\") as input_data:\n",
        "    # Using accumulator pattern to get the number stored in each line\n",
        "    for each_line in input_data:\n",
        "        number = float(each_line.strip())\n",
        "        lst_b.append(number)\n",
        "\n",
        "print(lst_a)\n",
        "print(lst_b)\n",
        "# Part A End\n",
        "\n",
        "# Part C Start\n",
        "x_axis = lst_a\n",
        "y_axis = lst_b\n",
        "plt.plot(x_axis, y_axis, 'd', color=\"red\",)\n",
        "plt.xlabel('Actual Values')\n",
        "plt.ylabel('Predicted Values')\n",
        "plt.title(\"Experiment Results\")\n",
        "plt.xlim([18, 32])\n",
        "plt.ylim([18, 32])\n",
        "plt.show()\n",
        "# Part C End"
      ],
      "execution_count": null,
      "outputs": [
        {
          "output_type": "stream",
          "text": [
            "[25.1074905142831, 26.7300667904594, 23.5687412355892, 24.3240776080789, 22.5353245523249, 28.8471148367162, 20.7476802836358, 26.3117674533849, 22.3118192535301, 25.6281461318657]\n",
            "[25.4245846431261, 26.834207775439, 23.7702445104233, 24.8518026474875, 20.775177438067, 26.6681454708361, 20.270898360368, 26.807403091716, 30.9320992736843, 20.9293511000498]\n"
          ],
          "name": "stdout"
        },
        {
          "output_type": "display_data",
          "data": {
            "image/png": "[encoded data removed]",
            "text/plain": [
              "<Figure size 432x288 with 1 Axes>"
            ]
          },
          "metadata": {
            "tags": [],
            "needs_background": "light"
          }
        }
      ]
    },
    {
      "cell_type": "code",
      "metadata": {
        "colab": {
          "base_uri": "https://localhost:8080/"
        },
        "id": "iyLeEUeMMnYf",
        "outputId": "6fa02d6b-de69-44a7-8430-f9d9cf672e73"
      },
      "source": [
        "def myfunction():\n",
        "    change = input(\"Enter input: \")\n",
        "    legal_string = float(change.partition(\"$\")[-1])\n",
        "    dollar = int(legal_string / 20)\n",
        "    onedollar = int(legal_string % 20)\n",
        "    print(\"It takes {} twenty dollar bill and {} one dollar bill to make ${:.2f} in the minimum number of bills/coins\".format(dollar, onedollar, legal_string))\n",
        "\n",
        "\n",
        "# myfunction()\n",
        "# Output - \n",
        "# Enter input: $23\n",
        "# It takes 1 twenty dollar bill and 3 one dollar bill to make $23.00 in the minimum number of bills/coins\n",
        "\n"
      ],
      "execution_count": null,
      "outputs": [
        {
          "output_type": "stream",
          "text": [
            "Enter input: $23\n",
            "It takes 1 twenty dollar bill and 3 one dollar bill to make $23.00 in the minimum number of bills/coins\n"
          ],
          "name": "stdout"
        }
      ]
    },
    {
      "cell_type": "code",
      "metadata": {
        "id": "z6uywg4kPmLo",
        "colab": {
          "base_uri": "https://localhost:8080/"
        },
        "outputId": "a63dba70-fc64-48e9-fc17-8d15bbb97e3e"
      },
      "source": [
        "ord(\"z\")"
      ],
      "execution_count": null,
      "outputs": [
        {
          "output_type": "execute_result",
          "data": {
            "text/plain": [
              "122"
            ]
          },
          "metadata": {
            "tags": []
          },
          "execution_count": 6
        }
      ]
    },
    {
      "cell_type": "code",
      "metadata": {
        "colab": {
          "base_uri": "https://localhost:8080/"
        },
        "id": "Y-Fey0UBN8pb",
        "outputId": "ca623ccf-7288-4b12-c793-89a75ac71d91"
      },
      "source": [
        "inputFileName = \"/content/drive/MyDrive/Colab Notebooks/encrypt.txt\"\n",
        "outputFileName = input(\"Enter the output file name: \")\n",
        "distance = int(input(\"Enter the distance value: \"))\n",
        "\n",
        "infile = open(inputFileName, \"r\")\n",
        "outfile = open(outputFileName, \"w\")\n",
        "\n",
        "data = infile.readlines()\n",
        "for code in data:\n",
        "    plainText = \"\"\n",
        "    for ch in code:\n",
        "        ordValue = ord(ch)\n",
        "        if (ordValue >= 65 and ordValue <= 122):\n",
        "            cipherValue = ordValue + distance\n",
        "            if cipherValue < 0:\n",
        "                cipherValue = 127 - (distance - (1 - ordValue))\n",
        "            plainText += chr(cipherValue)\n",
        "        else:\n",
        "            plainText += ch\n",
        "outfile.write(plainText)\n",
        "outfile.write(\"\\n\")\n",
        "\n",
        "infile.close()\n",
        "outfile.close()\n"
      ],
      "execution_count": null,
      "outputs": [
        {
          "output_type": "stream",
          "text": [
            "Enter the output file name: decrypt.txt\n",
            "Enter the distance value: 2\n"
          ],
          "name": "stdout"
        }
      ]
    },
    {
      "cell_type": "code",
      "metadata": {
        "id": "KD3WbgaCz8pz"
      },
      "source": [
        "Underscore = \"_\"\n",
        "Lowercase = str('a' or 'b' or 'c' or 'd' or 'e' or 'f' or 'g' or 'h' or 'i' or 'j' or 'k' or 'l' or 'm' or 'n' or 'o' or 'p' or 'q' or 'r' or 's' or 't' or 'u' or 'v' or 'w' or 'x' or 'y' or 'z')\n",
        "Uppercase = str('A' or 'B' or 'C' or 'D' or 'E' or 'F' or 'G' or 'H' or 'I' or 'J' or 'K' or 'L' or 'M' or 'N' or 'O' or 'P' or 'Q' or 'R' or 'S' or 'T' or 'U' or 'V' or 'W' or 'X' or 'Y' or 'Z')\n",
        "if(UnderscoreOrLetter[0]=='_' or UnderscoreOrLetter[0]==LowercaseAlphabet or UnderscoreOrLetter[0]==UppercaseAlphabet):\n",
        "                d=+1"
      ],
      "execution_count": null,
      "outputs": []
    },
    {
      "cell_type": "code",
      "metadata": {
        "colab": {
          "base_uri": "https://localhost:8080/"
        },
        "id": "p0dQ_5wYMkif",
        "outputId": "c7c89e2c-7caf-4429-8520-be1bb2c62397"
      },
      "source": [
        "text = \"7_hello\"\n",
        "if text[0] == \"_\" or text[0].isalpha():\n",
        "    print(\"valid password\")\n",
        "else:\n",
        "    print(\"Invalid password\")"
      ],
      "execution_count": null,
      "outputs": [
        {
          "output_type": "stream",
          "text": [
            "Invalid password\n"
          ],
          "name": "stdout"
        }
      ]
    },
    {
      "cell_type": "code",
      "metadata": {
        "colab": {
          "base_uri": "https://localhost:8080/"
        },
        "id": "Cw72x3CFbL5P",
        "outputId": "9b806b11-cd82-41ad-d67c-ef2c0436861b"
      },
      "source": [
        "x = [1, -6, 4, 2, -1, 2, 0, -2, 0]\n",
        "x.sort()\n",
        "x"
      ],
      "execution_count": null,
      "outputs": [
        {
          "output_type": "execute_result",
          "data": {
            "text/plain": [
              "[-6, -2, -1, 0, 0, 1, 2, 2, 4]"
            ]
          },
          "metadata": {
            "tags": []
          },
          "execution_count": 2
        }
      ]
    },
    {
      "cell_type": "code",
      "metadata": {
        "id": "l9JlXKuTb1j4",
        "colab": {
          "base_uri": "https://localhost:8080/"
        },
        "outputId": "9ea92610-8ffb-400b-e1cd-41058d7272c7"
      },
      "source": [
        "def findagegroup(age):\n",
        "  if age >= 0 and age <= 12:\n",
        "    return \"kids\"\n",
        "  elif age >= 13 and age <= 17:\n",
        "    return \"Teens\"\n",
        "  elif age >= 18:\n",
        "    return \"adults\"\n",
        " \n",
        "print(findagegroup(5))\n",
        "print(findagegroup(15))\n",
        "print(findagegroup(25))"
      ],
      "execution_count": null,
      "outputs": [
        {
          "output_type": "stream",
          "text": [
            "kids\n",
            "Teens\n",
            "adults\n"
          ],
          "name": "stdout"
        }
      ]
    },
    {
      "cell_type": "code",
      "metadata": {
        "colab": {
          "base_uri": "https://localhost:8080/"
        },
        "id": "Y6dL4D1ONPwF",
        "outputId": "c5594eea-918e-49f8-c105-08cc05ec2214"
      },
      "source": [
        "import datetime\n",
        "dt = datetime.datetime.now().strftime(\"%c\")\n",
        "t = 0  # for counting triangle\n",
        "r = 0  # for counting rectangle\n",
        "c = 0  # for counting circle\n",
        "# Initially make it true to loop\n",
        "loop = True\n",
        "while loop == True:\n",
        "    choice = int(\n",
        "        input(\"1:Triangle, 2:Rectangle, 3: Circle, 4:Count, 5: exit \"))\n",
        "    if choice == 1:\n",
        "        sides = list(map(float, input(\"Triangle Side Length: \").split()))\n",
        "        color = input(\"Color: \")\n",
        "        x = sides[0]\n",
        "        y = sides[1]\n",
        "        z = sides[2]\n",
        "        s = (x + y + z) / 2\n",
        "        area = (s*(s-x)*(s-y)*(s-z)) ** 0.5\n",
        "        print(\"Area:\", area)\n",
        "        print(\"Generate Time:\", dt, \"Color:\", color)\n",
        "        t += 1\n",
        "    elif choice == 2:\n",
        "        sides = list(map(float, input(\"Rectangle Side Length: \").split()))\n",
        "        color = input(\"Color: \")\n",
        "        l = sides[0]\n",
        "        b = sides[1]\n",
        "        area = l * b\n",
        "        print(\"Area:\", area)\n",
        "        print(\"Generate Time:\", dt, \"Color:\", color)\n",
        "        r += 1\n",
        "    elif choice == 3:\n",
        "        rad = float(input(\"Radius of Circle: \"))\n",
        "        color = input(\"Color: \")\n",
        "        area = 3.14 * rad * rad\n",
        "        print(\"Area:\", area)\n",
        "        print(\"Generate Time:\", dt, \"Color:\", color)\n",
        "        c += 1\n",
        "    elif choice == 4:\n",
        "        print(\"Triangle:\", t, \", Rectangle:\", r, \", Circle\", c)\n",
        "    elif choice == 5:\n",
        "        loop = False\n"
      ],
      "execution_count": null,
      "outputs": [
        {
          "output_type": "stream",
          "text": [
            "1:Triangle, 2:Rectangle, 3: Circle, 4:Count, 5: exit 1\n",
            "Triangle Side Length: 2 2 2\n",
            "Color: red\n",
            "Area: 1.7320508075688772\n",
            "Generate Time: Sat May 29 18:09:59 2021 Color: red\n",
            "1:Triangle, 2:Rectangle, 3: Circle, 4:Count, 5: exit 1\n",
            "Triangle Side Length: 3 4 5\n",
            "Color: blue\n",
            "Area: 6.0\n",
            "Generate Time: Sat May 29 18:09:59 2021 Color: blue\n",
            "1:Triangle, 2:Rectangle, 3: Circle, 4:Count, 5: exit 2\n",
            "Rectangle Side Length: 5 10\n",
            "Color: white\n",
            "Area: 50.0\n",
            "Generate Time: Sat May 29 18:09:59 2021 Color: white\n",
            "1:Triangle, 2:Rectangle, 3: Circle, 4:Count, 5: exit 3\n",
            "Radius of Circle: 10\n",
            "Color: yellow\n",
            "Area: 314.0\n",
            "Generate Time: Sat May 29 18:09:59 2021 Color: yellow\n",
            "1:Triangle, 2:Rectangle, 3: Circle, 4:Count, 5: exit 4\n",
            "Triangle: 2 , Rectangle: 1 , Circle 1\n",
            "1:Triangle, 2:Rectangle, 3: Circle, 4:Count, 5: exit 5\n"
          ],
          "name": "stdout"
        }
      ]
    },
    {
      "cell_type": "code",
      "metadata": {
        "id": "qyF5-RLN7drK",
        "colab": {
          "base_uri": "https://localhost:8080/"
        },
        "outputId": "85aff50f-54ab-4fac-905a-26f9ef4a7dea"
      },
      "source": [
        "# Getting user input separated by space\n",
        "l1 = input().split()\n",
        "# Create empty list\n",
        "quarterly_sales = []\n",
        "# Loop in user input\n",
        "for i in l1:\n",
        "    try:\n",
        "        # append in quarterly_sales if the data inputted by user is number\n",
        "        quarterly_sales.append(int(i))\n",
        "    except:\n",
        "        print(\"All sales should be numeric\")\n",
        "\n",
        "# Check for correct quarters\n",
        "if len(quarterly_sales) == 4:\n",
        "    # use sum function to get sum of quarterly_sales\n",
        "    total_sales = sum(quarterly_sales)\n",
        "    # by using end=\"\", it will print the next statement in same line\n",
        "    print(\"Quarterly sales: $\", end=\"\")\n",
        "    # Python3 has sep parameter to print the content separated by \", \"\n",
        "    # * is used to print all the elements in the quarterly_sales\n",
        "    print(*quarterly_sales, sep=\", $\")\n",
        "    print(\"Total sales: ${}\".format(total_sales))\n",
        "    if(total_sales < 50000):\n",
        "        print(\"Sales: low\")\n",
        "    elif (total_sales >= 50000 or total_sales < 150000):\n",
        "        print(\"Sales: med\")\n",
        "    elif (total_sales >= 150000):\n",
        "        print(\"Sales: high\")\n",
        "    if(total_sales < 20000):\n",
        "        print(\"Warning: Need to improve sales\")\n"
      ],
      "execution_count": null,
      "outputs": [
        {
          "output_type": "stream",
          "text": [
            "10000 17500 14750 10250\n",
            "Quarterly sales: $10000, $17500, $14750, $10250\n",
            "Total sales: $52500\n",
            "Sales: med\n"
          ],
          "name": "stdout"
        }
      ]
    },
    {
      "cell_type": "code",
      "metadata": {
        "id": "dWEwUkBVexhG"
      },
      "source": [
        "kaylasimms\n",
        "julia\n",
        "myron1994\n",
        "kaylajones"
      ],
      "execution_count": null,
      "outputs": []
    },
    {
      "cell_type": "code",
      "metadata": {
        "colab": {
          "base_uri": "https://localhost:8080/"
        },
        "id": "5qBY7-hRhEQT",
        "outputId": "341cb788-61fe-468f-d686-a984dc9f738f"
      },
      "source": [
        "x = \"hello\"\n",
        "l = len(x)\n",
        "for i in range(l):\n",
        "  print(x[i])"
      ],
      "execution_count": null,
      "outputs": [
        {
          "output_type": "stream",
          "text": [
            "h\n",
            "e\n",
            "l\n",
            "l\n",
            "o\n"
          ],
          "name": "stdout"
        }
      ]
    },
    {
      "cell_type": "code",
      "metadata": {
        "id": "nPrWEBGy55dV",
        "colab": {
          "base_uri": "https://localhost:8080/"
        },
        "outputId": "f5d06797-4cc0-4ce7-b22b-4c7010a2afd6"
      },
      "source": [
        "import math\n",
        "\n",
        "cents = int(input(\"Enter cent: \"))\n",
        "dollars = 0\n",
        "quarters = 0\n",
        "dimes = 0\n",
        "nickels = 0\n",
        "pennies = 0\n",
        "print(cents, \"cents =\", end = \" \")\n",
        "dollars = int(cents/100)\n",
        "cents = cents - (dollars*100)\n",
        "\n",
        "quarters = math.trunc(cents/25)\n",
        "cents = cents - (quarters*25) \n",
        "dimes = math.trunc(cents/10)\n",
        "cents = cents - (dimes*10) \n",
        "nickels = math.trunc(cents/5)\n",
        "cents = cents - (nickels*5) \n",
        "pennies = cents\n",
        "print (\"{}Dollars {}Quarters {}Dimes {}Nickels {}Pennies\".format(dollars,quarters,dimes,nickels,pennies))"
      ],
      "execution_count": null,
      "outputs": [
        {
          "output_type": "stream",
          "text": [
            "Enter cent: 245\n",
            "245 cents = 2Dollars 1Quarters 2Dimes 0Nickels 0Pennies\n"
          ],
          "name": "stdout"
        }
      ]
    },
    {
      "cell_type": "code",
      "metadata": {
        "id": "yMhfxYVaLO1H",
        "colab": {
          "base_uri": "https://localhost:8080/"
        },
        "outputId": "bd3c7ffe-cad9-42e9-b06f-bb51836d062b"
      },
      "source": [
        "def question_1d(listobj, strobj):\n",
        "  count = 0\n",
        "  for i in listobj:\n",
        "    if (strobj in i):\n",
        "      count += 1\n",
        "  print(count)\n",
        "  \n",
        "question_1d([\"chicken rice\", \"nasi padang\", \"omu rice\", \"ice kacang\"], \"ice\")"
      ],
      "execution_count": null,
      "outputs": [
        {
          "output_type": "stream",
          "text": [
            "3\n"
          ],
          "name": "stdout"
        }
      ]
    },
    {
      "cell_type": "code",
      "metadata": {
        "colab": {
          "base_uri": "https://localhost:8080/"
        },
        "id": "RAQxPTnEQUhc",
        "outputId": "45d434ee-6509-46fc-b258-214b0865bf5d"
      },
      "source": [
        "def sum_of_power(list1, list2):\n",
        "  sum = 0\n",
        "  for i in range(len(list1)):\n",
        "    sum += list1[i] ** list2[i]\n",
        "  print(sum)\n",
        "\n",
        "yy = sum_of_power([1,2,3,4,5],[9,8,7,6,5])\n",
        "yy"
      ],
      "execution_count": null,
      "outputs": [
        {
          "output_type": "stream",
          "text": [
            "9665\n"
          ],
          "name": "stdout"
        }
      ]
    },
    {
      "cell_type": "code",
      "metadata": {
        "id": "rZnpeRtpQWE9",
        "colab": {
          "base_uri": "https://localhost:8080/"
        },
        "outputId": "61b0215c-16b5-4256-c04a-97ea18ac5fdf"
      },
      "source": [
        "T = int(input(\"Enter the number of desired test cases from 1 to 100: \"))\n",
        "\n",
        "Win = Lose = Tie = False\n",
        "for i in range(T):\n",
        "    Sheldon, Raj = input(\"Enter Sheldon's and Raj's plays: \").split(' ')\n",
        "\n",
        "    if(Sheldon == Raj):\n",
        "        Tie = True\n",
        "    elif((Sheldon == \"rock\" and (Raj in [\"scissors\",\"lizard\"])) or\n",
        "         (Sheldon == \"paper\" and (Raj in [\"rock\",\"Spock\"])) or\n",
        "         (Sheldon == \"scissors\" and (Raj in [\"paper\",\"lizard\"])) or\n",
        "         (Sheldon == \"Spock\" and (Raj in [\"rock\",\"scissors\"])) or\n",
        "         (Sheldon == \"lizard\" and (Raj in [\"paper\",\"Spock\"]))):\n",
        "        Win = True\n",
        "    else:\n",
        "        Lose = True\n",
        "\n",
        "    if(Win):\n",
        "        print(\"Case #{0}: Bazinga!\".format(i+1))\n",
        "    elif(Lose):\n",
        "        print(\"Case #{0}: Raj cheated!\".format(i+1))\n",
        "    elif(Tie):\n",
        "        print(\"Case #{0}: Again!\".format(i+1))\n",
        "\n",
        "    # Again make all false on each iteration\n",
        "    Win = Lose = Tie = False"
      ],
      "execution_count": null,
      "outputs": [
        {
          "output_type": "stream",
          "text": [
            "Enter the number of desired test cases from 1 to 100: 3\n",
            "Enter Sheldon's and Raj's plays: paper rock\n",
            "Case #1: Bazinga!\n",
            "Enter Sheldon's and Raj's plays: lizard scissors\n",
            "Case #2: Raj cheated!\n",
            "Enter Sheldon's and Raj's plays: Spock Spock\n",
            "Case #3: Again!\n"
          ],
          "name": "stdout"
        }
      ]
    },
    {
      "cell_type": "code",
      "metadata": {
        "id": "Vn3lCAc7M37g",
        "colab": {
          "base_uri": "https://localhost:8080/"
        },
        "outputId": "f7c5674f-2037-46ab-fc51-a43e5d3ef4ff"
      },
      "source": [
        "import math\n",
        "values =[1,3,5,None]\n",
        "newlist = []\n",
        "for i in values:\n",
        "  if i != None:\n",
        "    newlist.append(i)\n",
        "\n",
        "max(newlist)"
      ],
      "execution_count": null,
      "outputs": [
        {
          "output_type": "execute_result",
          "data": {
            "text/plain": [
              "5"
            ]
          },
          "metadata": {
            "tags": []
          },
          "execution_count": 5
        }
      ]
    },
    {
      "cell_type": "code",
      "metadata": {
        "id": "Z0C24l2f-7jQ",
        "colab": {
          "base_uri": "https://localhost:8080/"
        },
        "outputId": "6bcc15e9-0443-4f93-cb42-105aa7ec0c81"
      },
      "source": [
        "def main():\n",
        "    n = int(input(\"Please enter a number:\"))\n",
        "    if is_prime(n) == True:\n",
        "        print(\"prime\")\n",
        "    else:\n",
        "        print(\"not prime\")\n",
        "\n",
        "def is_prime(a):\n",
        "    for i in (2, a):\n",
        "        if a%i != 0:\n",
        "            return True\n",
        "        else:\n",
        "            return False\n",
        "        \n",
        "main()"
      ],
      "execution_count": null,
      "outputs": [
        {
          "output_type": "stream",
          "text": [
            "Please enter a number:6\n",
            "not prime\n"
          ],
          "name": "stdout"
        }
      ]
    },
    {
      "cell_type": "code",
      "metadata": {
        "id": "A91-YCFCAAzp",
        "colab": {
          "base_uri": "https://localhost:8080/"
        },
        "outputId": "4512ee88-d2ca-4b56-c845-9c02c21fb112"
      },
      "source": [
        "def FindWays(n):\n",
        "\n",
        "    # arr[i] will be storing the number of\n",
        "    # solutions for value i. We need n+1 rows\n",
        "    # as the arr is consturcted in bottom up\n",
        "    # manner using the base case (n = 0)\n",
        "    # Initialize all arr values as 0\n",
        "    arr = [0] * (n + 1)\n",
        "\n",
        "    # Base case (If given value is 0)\n",
        "    # Only 1 way to get 0 (select no integer)\n",
        "    arr[0] = 1\n",
        "\n",
        "    # Pick all integer one by one and update the\n",
        "    # arr[] values after the index greater\n",
        "    # than or equal to n\n",
        "    for i in range(1, n+1):\n",
        "        for j in range(i, n + 1):\n",
        "            arr[j] += arr[j - i]\n",
        "\n",
        "    return arr[n]\n",
        "\n",
        "# driver program\n",
        "def main():\n",
        "    n = 4\n",
        "    print(FindWays(n))\n",
        "\n",
        "if __name__ == '__main__':\n",
        "    main()\n"
      ],
      "execution_count": null,
      "outputs": [
        {
          "output_type": "stream",
          "text": [
            "5\n"
          ],
          "name": "stdout"
        }
      ]
    },
    {
      "cell_type": "code",
      "metadata": {
        "colab": {
          "base_uri": "https://localhost:8080/"
        },
        "id": "2Sht8BkZD8tj",
        "outputId": "ec0057be-9822-48dd-b25e-6630a41d77a2"
      },
      "source": [
        "def FindWays(n):\n",
        "\n",
        "    arr = [0] * (n + 1)\n",
        "    arr[0] = 1\n",
        "\n",
        "    for i in range(1, n+1):\n",
        "        for j in range(i, n + 1):\n",
        "            arr[j] += arr[j - i]\n",
        "\n",
        "    return arr[n]\n",
        "\n",
        "# driver program\n",
        "def main():\n",
        "    n = 4\n",
        "    print(FindWays(n))\n",
        "\n",
        "if __name__ == '__main__':\n",
        "    main()\n"
      ],
      "execution_count": null,
      "outputs": [
        {
          "output_type": "stream",
          "text": [
            "5\n"
          ],
          "name": "stdout"
        }
      ]
    },
    {
      "cell_type": "code",
      "metadata": {
        "id": "gqUoSf0aVNnK",
        "colab": {
          "base_uri": "https://localhost:8080/"
        },
        "outputId": "f2281468-c99b-40cc-ef24-e1cc2b19fda2"
      },
      "source": [
        "# This loop is to check input validation\n",
        "loop = True\n",
        "while loop == True:\n",
        "    # This try block will execute if the input is number and positive number\n",
        "    try:\n",
        "        # get user input\n",
        "        number = int(input(\"Enter a positive number: \"))\n",
        "        # check for positive number\n",
        "        if number > 0:\n",
        "            # Set loop to False as it is positive number\n",
        "            loop = False\n",
        "            # Initialise another loop for printing the number\n",
        "            # and counting the no. of transformation\n",
        "            innerLoop = True\n",
        "            # initialise count as 0\n",
        "            count = 0\n",
        "            while innerLoop == True:\n",
        "                # print the number and at the end attach \"->\" this\n",
        "                print(int(number), end=\"->\")\n",
        "                # Check the condition\n",
        "                if number % 2 == 0:\n",
        "                    number = number / 2\n",
        "                else:\n",
        "                    number = (number * 3) + 1\n",
        "                # Increment the count variable to 1\n",
        "                count += 1\n",
        "                if number == 1:\n",
        "                    print(int(number))\n",
        "                    print(count, \"transformations\")\n",
        "                    # Since the number is equal to 1, we have to break the loop by\n",
        "                    # giving innerLoop = False\n",
        "                    innerLoop = False\n",
        "        # If number is negative then this block will execute and continue the loop\n",
        "        else:\n",
        "            print(\"Please enter an integer value greater than zero\\n\")\n",
        "    # This except block will execute if the input is not a number and continue the loop\n",
        "    except ValueError:\n",
        "        print(\"Please enter an integer value greater than zero\\n\")\n"
      ],
      "execution_count": null,
      "outputs": [
        {
          "output_type": "stream",
          "text": [
            "Enter a positive number: 0\n",
            "Please enter an integer value greater than zero\n",
            "\n",
            "Enter a positive number: -10\n",
            "Please enter an integer value greater than zero\n",
            "\n",
            "Enter a positive number: abc\n",
            "Please enter an integer value greater than zero\n",
            "\n",
            "Enter a positive number: 18\n",
            "18->9->28->14->7->22->11->34->17->52->26->13->40->20->10->5->16->8->4->2->1\n",
            "20 transformations\n"
          ],
          "name": "stdout"
        }
      ]
    },
    {
      "cell_type": "code",
      "metadata": {
        "colab": {
          "base_uri": "https://localhost:8080/"
        },
        "id": "ktIIZEdWhhnf",
        "outputId": "23f60570-7e16-4052-93b3-3f4886104a77"
      },
      "source": [
        "max_integer = int(input(\"Enter max integer: \"))\n",
        "min_integer = int(input(\"Enter min integer: \"))\n",
        "first_letter = input(\"Enter first letter: \")\n",
        "second_letter = input(\"Enter second letter: \")\n",
        "for i in range(max_integer, min_integer - 1, -1):\n",
        "  if max_integer >= min_integer:\n",
        "    print(\"{}:{}:{}\".format(first_letter,first_letter,max_integer))\n",
        "    max_integer-=1\n",
        "    if max_integer >= min_integer:\n",
        "      print(\"{}:{}:{}\".format(second_letter,max_integer, max_integer))\n",
        "      max_integer-=1"
      ],
      "execution_count": null,
      "outputs": [
        {
          "output_type": "stream",
          "text": [
            "Enter max integer: 15\n",
            "Enter min integer: 10\n",
            "Enter first letter: a\n",
            "Enter second letter: b\n",
            "a:a:15\n",
            "b:14:14\n",
            "a:a:13\n",
            "b:12:12\n",
            "a:a:11\n",
            "b:10:10\n"
          ],
          "name": "stdout"
        }
      ]
    },
    {
      "cell_type": "code",
      "metadata": {
        "id": "xVuCHmSAiLzO",
        "colab": {
          "base_uri": "https://localhost:8080/"
        },
        "outputId": "43230262-2c01-493a-fde2-86bbd16664eb"
      },
      "source": [
        "sentence = input(\"Enter a sentence: \")\n",
        "print(\"Indexes of characters that are not vowels: \")\n",
        "count = 0\n",
        "# Loop in the range of length of sentence string \n",
        "for i in range(len(sentence)):\n",
        "    # First convert the character at sentence[i] into lower case\n",
        "    # then check if it is in ['a','e','i','o','u']. If yes \n",
        "    # then don't print and if it is not present in this then print it\n",
        "    # as in condition we have write 'not in'\n",
        "    x = sentence[i].lower()\n",
        "    if x == 'a' or x == 'e' or x == 'i' or x == 'o' or x == 'u':\n",
        "        count += 1\n",
        "    else:\n",
        "        print(i, end = \" \")\n",
        "print(\"\\nNumber of vowels:\", count)"
      ],
      "execution_count": null,
      "outputs": [
        {
          "output_type": "stream",
          "text": [
            "Enter a sentence: Today the weather is sunny\n",
            "Indexes of characters that are not vowels: \n",
            "0 2 4 5 6 7 9 10 13 14 16 17 19 20 21 23 24 25 \n",
            "Number of vowels: 8\n"
          ],
          "name": "stdout"
        }
      ]
    },
    {
      "cell_type": "code",
      "metadata": {
        "id": "f-jiPi0AaAAP",
        "colab": {
          "base_uri": "https://localhost:8080/"
        },
        "outputId": "2c5121af-89b4-45fb-dc8a-10954051a3fd"
      },
      "source": [
        "sentence = input()\n",
        "punctuation = \"!\\\"#$%&'()*+,-./:;<=>?@[\\]^`{|}~\"\n",
        "suffixes = [\"acy\",\"ance\", \"ence\", \"dom\", \"er\",\"or\", \"ism\", \"ist\", \"ty\", \"ment\", \"ness\", \"ship\", \"sion\", \"tion\", \"ate\", \"en\", \"fy\", \"ize\", \"able\", \"ible\", \"al\", \"esque\", \"ful\", \"ic\", \"ous\", \"ish\", \"ive\", \"less\", \"ed\", \"ing\", \"ly\", \"ward\", \"wise\"]\n",
        "\n",
        "def desegment(sentence):\n",
        "  print(\"_\".join(sentence))\n",
        "\n",
        "if \"_\" in sentence:\n",
        "  print(desegment(sentence))\n",
        "# else:\n",
        "  # word_list = segment(sentence)\n",
        "  # print(\" \".join(word_list))"
      ],
      "execution_count": null,
      "outputs": [
        {
          "output_type": "stream",
          "text": [
            "Priv_acy , is underrat_ed\n",
            "P_r_i_v___a_c_y_ _,_ _i_s_ _u_n_d_e_r_r_a_t___e_d\n",
            "None\n"
          ],
          "name": "stdout"
        }
      ]
    },
    {
      "cell_type": "code",
      "metadata": {
        "colab": {
          "base_uri": "https://localhost:8080/"
        },
        "id": "8WzRpaZ_hrMm",
        "outputId": "8ec53a4c-2e14-4a7a-e6cf-d252a7a0b6e9"
      },
      "source": [
        "def filter_all_num_strings(list_of_str):\n",
        "    List = []\n",
        "    # Iterate over all the elements of list\n",
        "    for i in list_of_str:\n",
        "        # Iterate over each letter of elements\n",
        "        for j in i:\n",
        "            if j in ['1', '2', '3', '4', '5', '6', '7', '8', '9', '0']:\n",
        "                List.append(i)\n",
        "                # If number in a word then append the word to a list and break this loop\n",
        "                break\n",
        "    return List\n",
        "\n",
        "\n",
        "my_los = [\"ICS3U\", \"MCV4U\", \"Visual Art\", \"VLC\",\n",
        "          \"MPM1D\", \"88Average\", \"internet\", \"Covid-19\"]\n",
        "\n",
        "filter_all_num_strings(my_los)\n"
      ],
      "execution_count": null,
      "outputs": [
        {
          "output_type": "execute_result",
          "data": {
            "text/plain": [
              "['ICS3U', 'MCV4U', 'MPM1D', '88Average', 'Covid-19']"
            ]
          },
          "metadata": {
            "tags": []
          },
          "execution_count": 11
        }
      ]
    },
    {
      "cell_type": "code",
      "metadata": {
        "id": "yGPEd1RyimwV",
        "colab": {
          "base_uri": "https://localhost:8080/"
        },
        "outputId": "71f2f6c7-080b-4283-c717-05e8c6d632af"
      },
      "source": [
        "def isConsonant(letter):\n",
        "    if letter.lower() not in ['a', 'e', 'i', 'o', 'u']:\n",
        "        return True\n",
        "    else:\n",
        "        return False\n",
        "\n",
        "print(isConsonant('a'))\n",
        "print(isConsonant('b'))\n",
        "print(isConsonant('c'))\n"
      ],
      "execution_count": null,
      "outputs": [
        {
          "output_type": "stream",
          "text": [
            "False\n",
            "True\n",
            "True\n"
          ],
          "name": "stdout"
        }
      ]
    },
    {
      "cell_type": "code",
      "metadata": {
        "id": "AO3sr-P0ONBd"
      },
      "source": [
        ""
      ],
      "execution_count": null,
      "outputs": []
    }
  ]
}